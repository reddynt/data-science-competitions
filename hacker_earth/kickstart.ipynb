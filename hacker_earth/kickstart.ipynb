{
 "cells": [
  {
   "cell_type": "code",
   "execution_count": 1,
   "id": "b92048b8",
   "metadata": {},
   "outputs": [
    {
     "data": {
      "text/html": [
       "<style>h1, h2, h3, h4, h5 {font-weight: normal !important}</style>\n"
      ],
      "text/plain": [
       "<IPython.core.display.HTML object>"
      ]
     },
     "metadata": {},
     "output_type": "display_data"
    }
   ],
   "source": [
    "%%html \n",
    "<style>h1, h2, h3, h4, h5 {font-weight: normal !important}</style>"
   ]
  },
  {
   "cell_type": "markdown",
   "id": "cee2dd19-69fd-4f38-bfe7-dcaf9800cf97",
   "metadata": {},
   "source": [
    "https://assessment.hackerearth.com/challenges/hiring/amazon-ml-engineer-hiring-challenge-may21-round-1/problems/8f7fbc2f754c4222ae917f7b05d3de4c/"
   ]
  },
  {
   "cell_type": "code",
   "execution_count": 2,
   "id": "909c1659-e37b-4e42-97f9-460decd282cb",
   "metadata": {},
   "outputs": [],
   "source": [
    "# imports\n",
    "\n",
    "import warnings\n",
    "from pathlib import Path\n",
    "import os\n",
    "\n",
    "import pandas as pd\n",
    "import numpy as np\n",
    "from matplotlib import pyplot as plt"
   ]
  },
  {
   "cell_type": "code",
   "execution_count": 3,
   "id": "8fedc038-32bd-44f8-80a6-8b652161ffb3",
   "metadata": {},
   "outputs": [],
   "source": [
    "pd.options.display.max_columns = 30"
   ]
  },
  {
   "cell_type": "markdown",
   "id": "095ee43c-6cb9-45f6-8849-061a0ee971cb",
   "metadata": {},
   "source": [
    "## Data load"
   ]
  },
  {
   "cell_type": "code",
   "execution_count": 44,
   "id": "c8d8ea9e-8180-4837-9a91-ae5071bc0f00",
   "metadata": {},
   "outputs": [
    {
     "data": {
      "text/html": [
       "<div>\n",
       "<style scoped>\n",
       "    .dataframe tbody tr th:only-of-type {\n",
       "        vertical-align: middle;\n",
       "    }\n",
       "\n",
       "    .dataframe tbody tr th {\n",
       "        vertical-align: top;\n",
       "    }\n",
       "\n",
       "    .dataframe thead th {\n",
       "        text-align: right;\n",
       "    }\n",
       "</style>\n",
       "<table border=\"1\" class=\"dataframe\">\n",
       "  <thead>\n",
       "    <tr style=\"text-align: right;\">\n",
       "      <th></th>\n",
       "      <th>EmpID</th>\n",
       "      <th>BiasInfluentialFactor</th>\n",
       "      <th>FitmentPercent</th>\n",
       "    </tr>\n",
       "  </thead>\n",
       "  <tbody>\n",
       "    <tr>\n",
       "      <th>0</th>\n",
       "      <td>5664</td>\n",
       "      <td>MaritalStatus</td>\n",
       "      <td>25.14</td>\n",
       "    </tr>\n",
       "    <tr>\n",
       "      <th>1</th>\n",
       "      <td>23568</td>\n",
       "      <td>DegreeBranch</td>\n",
       "      <td>91.44</td>\n",
       "    </tr>\n",
       "    <tr>\n",
       "      <th>2</th>\n",
       "      <td>21490</td>\n",
       "      <td>MartialStatus</td>\n",
       "      <td>76.92</td>\n",
       "    </tr>\n",
       "    <tr>\n",
       "      <th>3</th>\n",
       "      <td>8363</td>\n",
       "      <td>HighestDegree</td>\n",
       "      <td>77.92</td>\n",
       "    </tr>\n",
       "    <tr>\n",
       "      <th>4</th>\n",
       "      <td>6165</td>\n",
       "      <td>Gender</td>\n",
       "      <td>85.64</td>\n",
       "    </tr>\n",
       "  </tbody>\n",
       "</table>\n",
       "</div>"
      ],
      "text/plain": [
       "   EmpID BiasInfluentialFactor  FitmentPercent\n",
       "0   5664         MaritalStatus           25.14\n",
       "1  23568          DegreeBranch           91.44\n",
       "2  21490         MartialStatus           76.92\n",
       "3   8363         HighestDegree           77.92\n",
       "4   6165                Gender           85.64"
      ]
     },
     "execution_count": 44,
     "metadata": {},
     "output_type": "execute_result"
    }
   ],
   "source": [
    "data_path = Path('C:/Users/tharu/datasets/amazon_hacker_earth/')\n",
    "train_df = pd.read_csv(data_path/'Train.csv')\n",
    "test_df = pd.read_csv(data_path/'Test.csv')\n",
    "sample_submission = pd.read_csv(data_path/'sample submission.csv')\n",
    "\n",
    "sample_submission.head()"
   ]
  },
  {
   "cell_type": "code",
   "execution_count": 45,
   "id": "3b6a6776-9426-4346-b0fa-c87fce02ac14",
   "metadata": {},
   "outputs": [
    {
     "data": {
      "text/plain": [
       "((13645, 22), (8745, 20))"
      ]
     },
     "execution_count": 45,
     "metadata": {},
     "output_type": "execute_result"
    }
   ],
   "source": [
    "train_df.shape, test_df.shape"
   ]
  },
  {
   "cell_type": "code",
   "execution_count": 46,
   "id": "e375d65b-0cfc-4d58-862a-45d5927b9ab1",
   "metadata": {},
   "outputs": [],
   "source": [
    "# drop non important columns EmpID, EmpName\n",
    "train_df.drop(['EmpID', 'EmpName'], axis=1, inplace=True)\n",
    "test_df.drop(['EmpID', 'EmpName'], axis=1, inplace=True)"
   ]
  },
  {
   "cell_type": "code",
   "execution_count": 47,
   "id": "f796d15b-0fc5-42d5-a823-1942d6624694",
   "metadata": {},
   "outputs": [],
   "source": [
    "target = train_df.FitmentPercent\n",
    "bias_factor = train_df.BiasInfluentialFactor"
   ]
  },
  {
   "cell_type": "code",
   "execution_count": 48,
   "id": "f98dacd8-69bb-450e-8d21-5e7763af938c",
   "metadata": {},
   "outputs": [],
   "source": [
    "# train_df.drop(['FitmentPercent', 'BiasInfluentialFactor'], axis=1, inplace=True)\n",
    "# train_df.shape, test_df.shape"
   ]
  },
  {
   "cell_type": "markdown",
   "id": "ef3592b4-61e8-4b62-a514-0d83f49668c8",
   "metadata": {},
   "source": [
    "## EDA"
   ]
  },
  {
   "cell_type": "code",
   "execution_count": 49,
   "id": "75c63853-4ae2-4893-9686-27235c38c417",
   "metadata": {},
   "outputs": [
    {
     "data": {
      "image/png": "[encoded data removed]",
      "text/plain": [
       "<Figure size 576x288 with 1 Axes>"
      ]
     },
     "metadata": {
      "needs_background": "light"
     },
     "output_type": "display_data"
    }
   ],
   "source": [
    "plt.figure(figsize=(8, 4))\n",
    "plt.hist(target, bins=range(0, 100, 5), range=(0, 110), rwidth=0.95)\n",
    "plt.xticks(range(0, 105, 5))\n",
    "plt.title('Histogram plot of Fitment %')\n",
    "plt.xlim(-5, 105);"
   ]
  },
  {
   "cell_type": "markdown",
   "id": "453e8c4f",
   "metadata": {},
   "source": [
    "### Null value check"
   ]
  },
  {
   "cell_type": "code",
   "execution_count": 50,
   "id": "55472322-92a2-462d-b2c5-5b08aafb92b5",
   "metadata": {},
   "outputs": [
    {
     "data": {
      "text/plain": [
       "3336"
      ]
     },
     "execution_count": 50,
     "metadata": {},
     "output_type": "execute_result"
    }
   ],
   "source": [
    "train_df.isnull().sum().sum()"
   ]
  },
  {
   "cell_type": "code",
   "execution_count": 51,
   "id": "b286214a",
   "metadata": {},
   "outputs": [
    {
     "data": {
      "text/plain": [
       "0"
      ]
     },
     "execution_count": 51,
     "metadata": {},
     "output_type": "execute_result"
    }
   ],
   "source": [
    "test_df.isnull().sum().sum()"
   ]
  },
  {
   "cell_type": "code",
   "execution_count": 52,
   "id": "9d09ad70",
   "metadata": {},
   "outputs": [
    {
     "data": {
      "text/plain": [
       "3336"
      ]
     },
     "execution_count": 52,
     "metadata": {},
     "output_type": "execute_result"
    }
   ],
   "source": [
    "# null values in bias_influential_factor\n",
    "bias_factor.isnull().sum()"
   ]
  },
  {
   "cell_type": "markdown",
   "id": "705a235e",
   "metadata": {},
   "source": [
    "### Analyze relationship between Job type & Bias influential factor"
   ]
  },
  {
   "cell_type": "code",
   "execution_count": 62,
   "id": "755a7830",
   "metadata": {},
   "outputs": [
    {
     "data": {
      "text/plain": [
       "array(['YearsOfExperince', 'Gender', 'DegreeBranch', 'CurrentCompanyType',\n",
       "       'MartialStatus', 'HighestDegree', 'EmpScore', 'Ethinicity',\n",
       "       'LatestDegreeCGPA'], dtype=object)"
      ]
     },
     "execution_count": 62,
     "metadata": {},
     "output_type": "execute_result"
    }
   ],
   "source": [
    "bias_factors = bias_factor[bias_factor.notnull()].unique()\n",
    "bias_factors"
   ]
  },
  {
   "cell_type": "code",
   "execution_count": 64,
   "id": "e750902c",
   "metadata": {},
   "outputs": [
    {
     "data": {
      "text/plain": [
       "array(['JR85289', 'JR87525', 'JR70175', 'JR88879', 'JR88873', 'JR89890',\n",
       "       'JR81165', 'JR79193', 'JR88654'], dtype=object)"
      ]
     },
     "execution_count": 64,
     "metadata": {},
     "output_type": "execute_result"
    }
   ],
   "source": [
    "job_types = train_df[bias_factor.notnull()].JobProfileIDApplyingFor.unique()\n",
    "job_types"
   ]
  },
  {
   "cell_type": "code",
   "execution_count": 98,
   "id": "59dd6b03",
   "metadata": {},
   "outputs": [
    {
     "data": {
      "text/plain": [
       "[15.705128205128204,\n",
       " 24.67948717948718,\n",
       " 31.08974358974359,\n",
       " 9.615384615384615,\n",
       " 2.5641025641025643,\n",
       " 5.448717948717949,\n",
       " 4.8076923076923075,\n",
       " 3.8461538461538463,\n",
       " 2.2435897435897436]"
      ]
     },
     "execution_count": 98,
     "metadata": {},
     "output_type": "execute_result"
    }
   ],
   "source": [
    "bias_value_percents"
   ]
  },
  {
   "cell_type": "code",
   "execution_count": 114,
   "id": "76b011a6",
   "metadata": {},
   "outputs": [
    {
     "data": {
      "image/png": "[encoded data removed]",
      "text/plain": [
       "<Figure size 1152x576 with 1 Axes>"
      ]
     },
     "metadata": {
      "needs_background": "light"
     },
     "output_type": "display_data"
    }
   ],
   "source": [
    "plt.figure(figsize=(16, 8))\n",
    "\n",
    "not_null_train_df = train_df[bias_factor.notnull()]\n",
    "colors = ['#1f77b4', '#ff7f0e', '#2ca02c', '#d62728', '#9467bd',\n",
    "          '#8c564b', '#e377c2', '#7f7f7f', '#bcbd22', '#17becf']\n",
    "\n",
    "for ix, job_type in enumerate(job_types):\n",
    "    job_filtered = not_null_train_df[not_null_train_df.JobProfileIDApplyingFor==job_type]\n",
    "    bias_value_counts = job_filtered.BiasInfluentialFactor.value_counts()\n",
    "    bias_value_percents = [(bias_value_counts[bias_factor]*100)/len(job_filtered) for bias_factor in bias_factors]\n",
    "    bottom = 0\n",
    "    for bias_percent, color in zip(bias_value_percents, colors):\n",
    "        plt.bar(job_type, bias_percent, bottom=bottom, color=color, width=0.6)\n",
    "        bottom += bias_percent\n",
    "plt.legend(bias_factors, loc='upper left')\n",
    "plt.tight_layout()\n",
    "plt.title(\"Bias Influential factor Vs Job type\")\n",
    "plt.show()"
   ]
  },
  {
   "cell_type": "code",
   "execution_count": 53,
   "id": "afd51a91",
   "metadata": {},
   "outputs": [
    {
     "data": {
      "text/plain": [
       "Index(['LanguageOfCommunication', 'Age', 'Gender', 'JobProfileIDApplyingFor',\n",
       "       'HighestDegree', 'DegreeBranch', 'GraduatingInstitute',\n",
       "       'LatestDegreeCGPA', 'YearsOfExperince', 'GraduationYear', 'CurrentCTC',\n",
       "       'ExpectedCTC', 'MartialStatus', 'EmpScore', 'CurrentDesignation',\n",
       "       'CurrentCompanyType', 'DepartmentInCompany', 'TotalLeavesTaken',\n",
       "       'BiasInfluentialFactor', 'FitmentPercent'],\n",
       "      dtype='object')"
      ]
     },
     "execution_count": 53,
     "metadata": {},
     "output_type": "execute_result"
    }
   ],
   "source": [
    "train_df.columns"
   ]
  },
  {
   "cell_type": "code",
   "execution_count": 54,
   "id": "bdbe6855",
   "metadata": {},
   "outputs": [
    {
     "data": {
      "text/html": [
       "<div>\n",
       "<style scoped>\n",
       "    .dataframe tbody tr th:only-of-type {\n",
       "        vertical-align: middle;\n",
       "    }\n",
       "\n",
       "    .dataframe tbody tr th {\n",
       "        vertical-align: top;\n",
       "    }\n",
       "\n",
       "    .dataframe thead th {\n",
       "        text-align: right;\n",
       "    }\n",
       "</style>\n",
       "<table border=\"1\" class=\"dataframe\">\n",
       "  <thead>\n",
       "    <tr style=\"text-align: right;\">\n",
       "      <th></th>\n",
       "      <th>LanguageOfCommunication</th>\n",
       "      <th>Age</th>\n",
       "      <th>Gender</th>\n",
       "      <th>JobProfileIDApplyingFor</th>\n",
       "      <th>HighestDegree</th>\n",
       "      <th>DegreeBranch</th>\n",
       "      <th>GraduatingInstitute</th>\n",
       "      <th>LatestDegreeCGPA</th>\n",
       "      <th>YearsOfExperince</th>\n",
       "      <th>GraduationYear</th>\n",
       "      <th>CurrentCTC</th>\n",
       "      <th>ExpectedCTC</th>\n",
       "      <th>MartialStatus</th>\n",
       "      <th>EmpScore</th>\n",
       "      <th>CurrentDesignation</th>\n",
       "      <th>CurrentCompanyType</th>\n",
       "      <th>DepartmentInCompany</th>\n",
       "      <th>TotalLeavesTaken</th>\n",
       "      <th>BiasInfluentialFactor</th>\n",
       "      <th>FitmentPercent</th>\n",
       "    </tr>\n",
       "  </thead>\n",
       "  <tbody>\n",
       "    <tr>\n",
       "      <th>1</th>\n",
       "      <td>English</td>\n",
       "      <td>26</td>\n",
       "      <td>Male</td>\n",
       "      <td>JR87525</td>\n",
       "      <td>B.Tech</td>\n",
       "      <td>Artificial Intelligence</td>\n",
       "      <td>Tier 3</td>\n",
       "      <td>7</td>\n",
       "      <td>3</td>\n",
       "      <td>2018</td>\n",
       "      <td>15</td>\n",
       "      <td>19</td>\n",
       "      <td>Married</td>\n",
       "      <td>5</td>\n",
       "      <td>BA</td>\n",
       "      <td>MidSized</td>\n",
       "      <td>Engineering</td>\n",
       "      <td>6</td>\n",
       "      <td>NaN</td>\n",
       "      <td>67.09</td>\n",
       "    </tr>\n",
       "    <tr>\n",
       "      <th>10</th>\n",
       "      <td>Hindi</td>\n",
       "      <td>29</td>\n",
       "      <td>Male</td>\n",
       "      <td>JR85289</td>\n",
       "      <td>B.Tech</td>\n",
       "      <td>Artificial Intelligence</td>\n",
       "      <td>Tier 1</td>\n",
       "      <td>7</td>\n",
       "      <td>6</td>\n",
       "      <td>2015</td>\n",
       "      <td>9</td>\n",
       "      <td>16</td>\n",
       "      <td>Married</td>\n",
       "      <td>3</td>\n",
       "      <td>EM</td>\n",
       "      <td>Enterprise</td>\n",
       "      <td>Finance</td>\n",
       "      <td>6</td>\n",
       "      <td>NaN</td>\n",
       "      <td>56.85</td>\n",
       "    </tr>\n",
       "    <tr>\n",
       "      <th>13</th>\n",
       "      <td>Hindi</td>\n",
       "      <td>27</td>\n",
       "      <td>Male</td>\n",
       "      <td>JR85289</td>\n",
       "      <td>B.Tech</td>\n",
       "      <td>Computer Science</td>\n",
       "      <td>Tier 1</td>\n",
       "      <td>5</td>\n",
       "      <td>4</td>\n",
       "      <td>2017</td>\n",
       "      <td>17</td>\n",
       "      <td>26</td>\n",
       "      <td>Married</td>\n",
       "      <td>2</td>\n",
       "      <td>EM</td>\n",
       "      <td>Enterprise</td>\n",
       "      <td>Engineering</td>\n",
       "      <td>20</td>\n",
       "      <td>NaN</td>\n",
       "      <td>41.99</td>\n",
       "    </tr>\n",
       "    <tr>\n",
       "      <th>17</th>\n",
       "      <td>English</td>\n",
       "      <td>34</td>\n",
       "      <td>Male</td>\n",
       "      <td>JR81165</td>\n",
       "      <td>M.Tech</td>\n",
       "      <td>Electrical</td>\n",
       "      <td>Tier 2</td>\n",
       "      <td>7</td>\n",
       "      <td>8</td>\n",
       "      <td>2013</td>\n",
       "      <td>12</td>\n",
       "      <td>18</td>\n",
       "      <td>Married</td>\n",
       "      <td>5</td>\n",
       "      <td>SSE</td>\n",
       "      <td>Enterprise</td>\n",
       "      <td>Design</td>\n",
       "      <td>16</td>\n",
       "      <td>NaN</td>\n",
       "      <td>38.68</td>\n",
       "    </tr>\n",
       "    <tr>\n",
       "      <th>22</th>\n",
       "      <td>Native</td>\n",
       "      <td>34</td>\n",
       "      <td>Male</td>\n",
       "      <td>JR87525</td>\n",
       "      <td>B.Tech</td>\n",
       "      <td>Electronics</td>\n",
       "      <td>Tier 1</td>\n",
       "      <td>7</td>\n",
       "      <td>11</td>\n",
       "      <td>2010</td>\n",
       "      <td>9</td>\n",
       "      <td>15</td>\n",
       "      <td>Married</td>\n",
       "      <td>3</td>\n",
       "      <td>SSE</td>\n",
       "      <td>Enterprise</td>\n",
       "      <td>Finance</td>\n",
       "      <td>18</td>\n",
       "      <td>NaN</td>\n",
       "      <td>34.14</td>\n",
       "    </tr>\n",
       "    <tr>\n",
       "      <th>...</th>\n",
       "      <td>...</td>\n",
       "      <td>...</td>\n",
       "      <td>...</td>\n",
       "      <td>...</td>\n",
       "      <td>...</td>\n",
       "      <td>...</td>\n",
       "      <td>...</td>\n",
       "      <td>...</td>\n",
       "      <td>...</td>\n",
       "      <td>...</td>\n",
       "      <td>...</td>\n",
       "      <td>...</td>\n",
       "      <td>...</td>\n",
       "      <td>...</td>\n",
       "      <td>...</td>\n",
       "      <td>...</td>\n",
       "      <td>...</td>\n",
       "      <td>...</td>\n",
       "      <td>...</td>\n",
       "      <td>...</td>\n",
       "    </tr>\n",
       "    <tr>\n",
       "      <th>13630</th>\n",
       "      <td>Hindi</td>\n",
       "      <td>40</td>\n",
       "      <td>Male</td>\n",
       "      <td>JR87525</td>\n",
       "      <td>PhD</td>\n",
       "      <td>Electronics</td>\n",
       "      <td>Tier 2</td>\n",
       "      <td>8</td>\n",
       "      <td>10</td>\n",
       "      <td>2011</td>\n",
       "      <td>29</td>\n",
       "      <td>34</td>\n",
       "      <td>Single</td>\n",
       "      <td>3</td>\n",
       "      <td>EM</td>\n",
       "      <td>MidSized</td>\n",
       "      <td>Engineering</td>\n",
       "      <td>7</td>\n",
       "      <td>NaN</td>\n",
       "      <td>73.45</td>\n",
       "    </tr>\n",
       "    <tr>\n",
       "      <th>13631</th>\n",
       "      <td>English</td>\n",
       "      <td>33</td>\n",
       "      <td>Male</td>\n",
       "      <td>JR85289</td>\n",
       "      <td>PhD</td>\n",
       "      <td>Artificial Intelligence</td>\n",
       "      <td>Tier 2</td>\n",
       "      <td>8</td>\n",
       "      <td>3</td>\n",
       "      <td>2018</td>\n",
       "      <td>7</td>\n",
       "      <td>16</td>\n",
       "      <td>Single</td>\n",
       "      <td>3</td>\n",
       "      <td>EM</td>\n",
       "      <td>MidSized</td>\n",
       "      <td>Engineering</td>\n",
       "      <td>19</td>\n",
       "      <td>NaN</td>\n",
       "      <td>84.25</td>\n",
       "    </tr>\n",
       "    <tr>\n",
       "      <th>13633</th>\n",
       "      <td>English</td>\n",
       "      <td>32</td>\n",
       "      <td>Other</td>\n",
       "      <td>JR88873</td>\n",
       "      <td>B.Tech</td>\n",
       "      <td>Information Technology</td>\n",
       "      <td>Tier 1</td>\n",
       "      <td>5</td>\n",
       "      <td>9</td>\n",
       "      <td>2012</td>\n",
       "      <td>16</td>\n",
       "      <td>20</td>\n",
       "      <td>Married</td>\n",
       "      <td>3</td>\n",
       "      <td>DS</td>\n",
       "      <td>MidSized</td>\n",
       "      <td>Design</td>\n",
       "      <td>10</td>\n",
       "      <td>NaN</td>\n",
       "      <td>33.95</td>\n",
       "    </tr>\n",
       "    <tr>\n",
       "      <th>13635</th>\n",
       "      <td>English</td>\n",
       "      <td>35</td>\n",
       "      <td>Male</td>\n",
       "      <td>JR85289</td>\n",
       "      <td>PhD</td>\n",
       "      <td>Artificial Intelligence</td>\n",
       "      <td>Tier 2</td>\n",
       "      <td>5</td>\n",
       "      <td>5</td>\n",
       "      <td>2016</td>\n",
       "      <td>11</td>\n",
       "      <td>19</td>\n",
       "      <td>Married</td>\n",
       "      <td>5</td>\n",
       "      <td>SDE</td>\n",
       "      <td>MidSized</td>\n",
       "      <td>Product</td>\n",
       "      <td>10</td>\n",
       "      <td>NaN</td>\n",
       "      <td>69.49</td>\n",
       "    </tr>\n",
       "    <tr>\n",
       "      <th>13641</th>\n",
       "      <td>Native</td>\n",
       "      <td>29</td>\n",
       "      <td>Other</td>\n",
       "      <td>JR87525</td>\n",
       "      <td>Dual M.Tech</td>\n",
       "      <td>Computer Science</td>\n",
       "      <td>Tier 1</td>\n",
       "      <td>7</td>\n",
       "      <td>6</td>\n",
       "      <td>2015</td>\n",
       "      <td>22</td>\n",
       "      <td>28</td>\n",
       "      <td>Married</td>\n",
       "      <td>4</td>\n",
       "      <td>SSE</td>\n",
       "      <td>Startup</td>\n",
       "      <td>Customer Success</td>\n",
       "      <td>14</td>\n",
       "      <td>NaN</td>\n",
       "      <td>52.90</td>\n",
       "    </tr>\n",
       "  </tbody>\n",
       "</table>\n",
       "<p>3336 rows × 20 columns</p>\n",
       "</div>"
      ],
      "text/plain": [
       "      LanguageOfCommunication  Age Gender JobProfileIDApplyingFor  \\\n",
       "1                     English   26   Male                 JR87525   \n",
       "10                      Hindi   29   Male                 JR85289   \n",
       "13                      Hindi   27   Male                 JR85289   \n",
       "17                    English   34   Male                 JR81165   \n",
       "22                     Native   34   Male                 JR87525   \n",
       "...                       ...  ...    ...                     ...   \n",
       "13630                   Hindi   40   Male                 JR87525   \n",
       "13631                 English   33   Male                 JR85289   \n",
       "13633                 English   32  Other                 JR88873   \n",
       "13635                 English   35   Male                 JR85289   \n",
       "13641                  Native   29  Other                 JR87525   \n",
       "\n",
       "      HighestDegree             DegreeBranch GraduatingInstitute  \\\n",
       "1            B.Tech  Artificial Intelligence              Tier 3   \n",
       "10           B.Tech  Artificial Intelligence              Tier 1   \n",
       "13           B.Tech         Computer Science              Tier 1   \n",
       "17           M.Tech               Electrical              Tier 2   \n",
       "22           B.Tech              Electronics              Tier 1   \n",
       "...             ...                      ...                 ...   \n",
       "13630           PhD              Electronics              Tier 2   \n",
       "13631           PhD  Artificial Intelligence              Tier 2   \n",
       "13633        B.Tech   Information Technology              Tier 1   \n",
       "13635           PhD  Artificial Intelligence              Tier 2   \n",
       "13641   Dual M.Tech         Computer Science              Tier 1   \n",
       "\n",
       "       LatestDegreeCGPA  YearsOfExperince  GraduationYear  CurrentCTC  \\\n",
       "1                     7                 3            2018          15   \n",
       "10                    7                 6            2015           9   \n",
       "13                    5                 4            2017          17   \n",
       "17                    7                 8            2013          12   \n",
       "22                    7                11            2010           9   \n",
       "...                 ...               ...             ...         ...   \n",
       "13630                 8                10            2011          29   \n",
       "13631                 8                 3            2018           7   \n",
       "13633                 5                 9            2012          16   \n",
       "13635                 5                 5            2016          11   \n",
       "13641                 7                 6            2015          22   \n",
       "\n",
       "       ExpectedCTC MartialStatus  EmpScore CurrentDesignation  \\\n",
       "1               19       Married         5                 BA   \n",
       "10              16       Married         3                 EM   \n",
       "13              26       Married         2                 EM   \n",
       "17              18       Married         5                SSE   \n",
       "22              15       Married         3                SSE   \n",
       "...            ...           ...       ...                ...   \n",
       "13630           34        Single         3                 EM   \n",
       "13631           16        Single         3                 EM   \n",
       "13633           20       Married         3                 DS   \n",
       "13635           19       Married         5                SDE   \n",
       "13641           28       Married         4                SSE   \n",
       "\n",
       "      CurrentCompanyType DepartmentInCompany  TotalLeavesTaken  \\\n",
       "1               MidSized         Engineering                 6   \n",
       "10            Enterprise             Finance                 6   \n",
       "13            Enterprise         Engineering                20   \n",
       "17            Enterprise              Design                16   \n",
       "22            Enterprise             Finance                18   \n",
       "...                  ...                 ...               ...   \n",
       "13630           MidSized         Engineering                 7   \n",
       "13631           MidSized         Engineering                19   \n",
       "13633           MidSized              Design                10   \n",
       "13635           MidSized             Product                10   \n",
       "13641            Startup    Customer Success                14   \n",
       "\n",
       "      BiasInfluentialFactor  FitmentPercent  \n",
       "1                       NaN           67.09  \n",
       "10                      NaN           56.85  \n",
       "13                      NaN           41.99  \n",
       "17                      NaN           38.68  \n",
       "22                      NaN           34.14  \n",
       "...                     ...             ...  \n",
       "13630                   NaN           73.45  \n",
       "13631                   NaN           84.25  \n",
       "13633                   NaN           33.95  \n",
       "13635                   NaN           69.49  \n",
       "13641                   NaN           52.90  \n",
       "\n",
       "[3336 rows x 20 columns]"
      ]
     },
     "execution_count": 54,
     "metadata": {},
     "output_type": "execute_result"
    }
   ],
   "source": [
    "train_df[bias_factor.isnull()]"
   ]
  },
  {
   "cell_type": "code",
   "execution_count": 55,
   "id": "15b018d6",
   "metadata": {},
   "outputs": [
    {
     "data": {
      "text/plain": [
       "10309"
      ]
     },
     "execution_count": 55,
     "metadata": {},
     "output_type": "execute_result"
    }
   ],
   "source": [
    "len(train_df)-bias_factor.isnull().sum()"
   ]
  },
  {
   "cell_type": "code",
   "execution_count": 56,
   "id": "4fb8844f",
   "metadata": {},
   "outputs": [
    {
     "data": {
      "text/plain": [
       "DegreeBranch          27.723349\n",
       "Gender                25.269182\n",
       "YearsOfExperince      15.142109\n",
       "CurrentCompanyType    11.388107\n",
       "EmpScore               6.392473\n",
       "HighestDegree          5.645552\n",
       "Ethinicity             3.181686\n",
       "MartialStatus          2.716073\n",
       "LatestDegreeCGPA       2.541469\n",
       "Name: BiasInfluentialFactor, dtype: float64"
      ]
     },
     "execution_count": 56,
     "metadata": {},
     "output_type": "execute_result"
    }
   ],
   "source": [
    "bias_factor.value_counts()*100/(len(train_df) - bias_factor.isnull().sum())"
   ]
  },
  {
   "cell_type": "code",
   "execution_count": 59,
   "id": "efc94248",
   "metadata": {},
   "outputs": [
    {
     "data": {
      "text/plain": [
       "JobProfileIDApplyingFor  BiasInfluentialFactor\n",
       "JR85289                  DegreeBranch             983\n",
       "                         Gender                   926\n",
       "                         YearsOfExperince         535\n",
       "                         CurrentCompanyType       410\n",
       "                         EmpScore                 223\n",
       "                         HighestDegree            192\n",
       "                         Ethinicity                99\n",
       "                         LatestDegreeCGPA          99\n",
       "                         MartialStatus             95\n",
       "dtype: int64"
      ]
     },
     "execution_count": 59,
     "metadata": {},
     "output_type": "execute_result"
    }
   ],
   "source": [
    "train_df[train_df.JobProfileIDApplyingFor=='JR85289'].loc[:, ['JobProfileIDApplyingFor', 'BiasInfluentialFactor']].value_counts()"
   ]
  },
  {
   "cell_type": "code",
   "execution_count": 42,
   "id": "8723118f",
   "metadata": {},
   "outputs": [
    {
     "data": {
      "text/plain": [
       "JR85289    34.552333\n",
       "JR87525    24.793869\n",
       "JR88879     8.982443\n",
       "JR88873     8.381026\n",
       "JR89890     8.361626\n",
       "JR79193     5.063537\n",
       "JR81165     5.044136\n",
       "JR88654     3.026482\n",
       "JR70175     1.794548\n",
       "Name: JobProfileIDApplyingFor, dtype: float64"
      ]
     },
     "execution_count": 42,
     "metadata": {},
     "output_type": "execute_result"
    }
   ],
   "source": [
    "train_df[bias_factor.notnull()].JobProfileIDApplyingFor.value_counts()*100/(len(train_df) - bias_factor.isnull().sum())"
   ]
  },
  {
   "cell_type": "code",
   "execution_count": 31,
   "id": "9ed0bea5",
   "metadata": {},
   "outputs": [
    {
     "data": {
      "text/plain": [
       "JR85289    34.422866\n",
       "JR87525    25.034811\n",
       "JR88879     9.021620\n",
       "JR89890     8.479296\n",
       "JR88873     8.230121\n",
       "JR81165     4.990839\n",
       "JR79193     4.968853\n",
       "JR88654     3.078051\n",
       "JR70175     1.773543\n",
       "Name: JobProfileIDApplyingFor, dtype: float64"
      ]
     },
     "execution_count": 31,
     "metadata": {},
     "output_type": "execute_result"
    }
   ],
   "source": [
    "train_df.JobProfileIDApplyingFor.value_counts()*100/len(train_df)"
   ]
  }
 ],
 "metadata": {
  "kernelspec": {
   "display_name": "Python 3",
   "language": "python",
   "name": "python3"
  },
  "language_info": {
   "codemirror_mode": {
    "name": "ipython",
    "version": 3
   },
   "file_extension": ".py",
   "mimetype": "text/x-python",
   "name": "python",
   "nbconvert_exporter": "python",
   "pygments_lexer": "ipython3",
   "version": "3.8.8"
  }
 },
 "nbformat": 4,
 "nbformat_minor": 5
}
