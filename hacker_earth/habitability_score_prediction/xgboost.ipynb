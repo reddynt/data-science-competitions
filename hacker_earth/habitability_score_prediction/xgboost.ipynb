{
 "cells": [
  {
   "cell_type": "markdown",
   "id": "62b28ce4-8675-4533-aafc-59c9a5dd737c",
   "metadata": {},
   "source": [
    "https://www.hackerearth.com/challenges/competitive/get-a-room-ml-hackathon/machine-learning/identify-the-habitability-score-of-a-property-12-464aae3e/"
   ]
  },
  {
   "cell_type": "code",
   "execution_count": 1,
   "id": "5689447a-3205-4790-b470-9ead5e4a044b",
   "metadata": {},
   "outputs": [],
   "source": [
    "# imports\n",
    "\n",
    "import os\n",
    "from pathlib import Path\n",
    "\n",
    "import numpy as np\n",
    "import pandas as pd\n",
    "from matplotlib import pyplot as plt"
   ]
  },
  {
   "cell_type": "code",
   "execution_count": 2,
   "id": "59da6ae2-c77e-4e8e-8f33-faee9e3e215b",
   "metadata": {},
   "outputs": [
    {
     "name": "stdout",
     "output_type": "stream",
     "text": [
      "['train.csv', 'train_v2.csv', 'train_v1.csv', 'test_v1.csv', 'test.csv', 'sample_submission.csv']\n"
     ]
    }
   ],
   "source": [
    "dataset_path = Path(\"./dataset\")\n",
    "print([x.name for x in dataset_path.iterdir()])"
   ]
  },
  {
   "cell_type": "code",
   "execution_count": 3,
   "id": "4b76b88b-60d7-4d20-bb1e-0028cd392034",
   "metadata": {},
   "outputs": [
    {
     "data": {
      "text/plain": [
       "'results'"
      ]
     },
     "execution_count": 3,
     "metadata": {},
     "output_type": "execute_result"
    }
   ],
   "source": [
    "results_path = Path(\"./results\")\n",
    "results_path.as_posix()"
   ]
  },
  {
   "cell_type": "code",
   "execution_count": 4,
   "id": "72b5123c-1439-4bac-b25b-103b279f3df4",
   "metadata": {},
   "outputs": [
    {
     "name": "stdout",
     "output_type": "stream",
     "text": [
      "(39500, 16) (10500, 14)\n"
     ]
    }
   ],
   "source": [
    "train_df = pd.read_csv(dataset_path/\"train_v2.csv\")\n",
    "test_df = pd.read_csv(dataset_path/\"test_v1.csv\")\n",
    "sample_submission_df = pd.read_csv(dataset_path/\"sample_submission.csv\")\n",
    "\n",
    "print(train_df.shape, test_df.shape)"
   ]
  },
  {
   "cell_type": "markdown",
   "id": "7b7e6f05-9a60-4a56-87d8-0585435d1062",
   "metadata": {},
   "source": [
    "## utils"
   ]
  },
  {
   "cell_type": "code",
   "execution_count": 5,
   "id": "98eed587-191d-4900-89e8-e087ee91a3a2",
   "metadata": {},
   "outputs": [],
   "source": [
    "def make_sub_file(test_ids, preds):\n",
    "    return pd.DataFrame.from_dict({\"Property_ID\": test_ids, \"Habitability_score\": preds})"
   ]
  },
  {
   "cell_type": "markdown",
   "id": "200c2508-2d8b-40a6-b75a-2695614b7b54",
   "metadata": {},
   "source": [
    "## data preprocessing"
   ]
  },
  {
   "cell_type": "code",
   "execution_count": 6,
   "id": "68d17b90-2623-4b85-abc5-ecd83271edae",
   "metadata": {},
   "outputs": [
    {
     "data": {
      "text/plain": [
       "['Property_Type',\n",
       " 'Property_Area',\n",
       " 'Number_of_Windows',\n",
       " 'Number_of_Doors',\n",
       " 'Furnishing',\n",
       " 'Frequency_of_Powercuts',\n",
       " 'Power_Backup',\n",
       " 'Water_Supply',\n",
       " 'Traffic_Density_Score',\n",
       " 'Crime_Rate',\n",
       " 'Dust_and_Noise',\n",
       " 'Air_Quality_Index',\n",
       " 'Neighborhood_Review']"
      ]
     },
     "execution_count": 6,
     "metadata": {},
     "output_type": "execute_result"
    }
   ],
   "source": [
    "useful_features = [col for col in train_df.columns if col not in [\"Property_ID\", \"Habitability_score\", \"kfold\"]]\n",
    "useful_features"
   ]
  },
  {
   "cell_type": "markdown",
   "id": "56d609cb-e955-4433-b7d0-87012c5998ec",
   "metadata": {},
   "source": [
    "## model build - hyperparameter tuning"
   ]
  },
  {
   "cell_type": "code",
   "execution_count": 7,
   "id": "e95b97db-8297-4d67-8394-a0f3ab696565",
   "metadata": {},
   "outputs": [
    {
     "name": "stderr",
     "output_type": "stream",
     "text": [
      "/home/tharun/.conda/envs/fastai/lib/python3.10/site-packages/tqdm/auto.py:22: TqdmWarning: IProgress not found. Please update jupyter and ipywidgets. See https://ipywidgets.readthedocs.io/en/stable/user_install.html\n",
      "  from .autonotebook import tqdm as notebook_tqdm\n"
     ]
    }
   ],
   "source": [
    "from sklearn.preprocessing import OneHotEncoder\n",
    "from sklearn.compose import ColumnTransformer\n",
    "from sklearn.preprocessing import StandardScaler\n",
    "from sklearn.pipeline import Pipeline\n",
    "\n",
    "from xgboost import XGBRegressor\n",
    "import optuna\n",
    "\n",
    "from sklearn.metrics import r2_score, mean_squared_error"
   ]
  },
  {
   "cell_type": "code",
   "execution_count": 8,
   "id": "52061451-0257-429f-97fb-531a6cf9e089",
   "metadata": {},
   "outputs": [],
   "source": [
    "cat_cols = [\"Property_Type\", \"Furnishing\", \"Power_Backup\", \"Water_Supply\", \"Crime_Rate\", \"Dust_and_Noise\"]\n",
    "num_cols = [\"Property_Area\", \"Number_of_Windows\", \"Number_of_Doors\", \"Frequency_of_Powercuts\", \"Traffic_Density_Score\", \"Air_Quality_Index\", \"Neighborhood_Review\"]"
   ]
  },
  {
   "cell_type": "code",
   "execution_count": 9,
   "id": "b567f258-cc6b-4feb-b012-6bedd939311c",
   "metadata": {},
   "outputs": [],
   "source": [
    "ct = ColumnTransformer([\n",
    "    (\"num\", StandardScaler(), num_cols),\n",
    "    (\"cat\", OneHotEncoder(handle_unknown=\"ignore\", drop=\"first\"), cat_cols)\n",
    "])"
   ]
  },
  {
   "cell_type": "code",
   "execution_count": 16,
   "id": "2c206736-e828-4f04-9102-994c3591e024",
   "metadata": {},
   "outputs": [],
   "source": [
    "def objective(trial):\n",
    "    scores = []\n",
    "    \n",
    "    for fold in range(5):\n",
    "        learning_rate = trial.suggest_float(\"learning_rate\", 1e-2, 0.25, log=True)\n",
    "        reg_lambda = trial.suggest_loguniform(\"reg_lambda\", 1e-8, 100.)\n",
    "        reg_alpha = trial.suggest_loguniform(\"reg_alpha\", 1e-8, 100.)\n",
    "        subsample = trial.suggest_float(\"subsample\", 0.1, 1.)\n",
    "        colsample_bytree = trial.suggest_float(\"colsample_bytree\", 0.1, 1.)\n",
    "        max_depth = trial.suggest_int(\"max_depth\", 1, 7)\n",
    "        \n",
    "        xtrain = train_df[train_df.kfold != fold].reset_index(drop=True)\n",
    "        xvalid = train_df[train_df.kfold == fold].reset_index(drop=True)\n",
    "        \n",
    "        ytrain = xtrain.loc[:, \"Habitability_score\"]\n",
    "        yvalid = xvalid.loc[:, \"Habitability_score\"]\n",
    "        \n",
    "        xtrain = xtrain[useful_features]\n",
    "        xvalid = xvalid[useful_features]\n",
    "        \n",
    "        ct = ColumnTransformer([\n",
    "            (\"num\", StandardScaler(), num_cols),\n",
    "            (\"cat\", OneHotEncoder(handle_unknown=\"ignore\", drop=\"first\"), cat_cols)\n",
    "        ])\n",
    "        \n",
    "        xtrain = ct.fit_transform(xtrain)\n",
    "        xvalid = ct.transform(xvalid)\n",
    "        \n",
    "        model = XGBRegressor(random_state=13,\n",
    "                             tree_method=\"gpu_hist\",\n",
    "                             gpu_id=0,\n",
    "                             predictor=\"gpu_predictor\",\n",
    "                             n_estimators=11000,\n",
    "                             learning_rate=learning_rate,\n",
    "                             reg_lambda=reg_lambda,\n",
    "                             reg_alpha=reg_alpha,\n",
    "                             subsample=subsample,\n",
    "                             colsample_bytree=colsample_bytree,\n",
    "                             max_depth=max_depth,\n",
    "                             early_stopping_rounds=300)\n",
    "        model.fit(xtrain, ytrain, eval_set=[(xvalid, yvalid)], verbose=False)\n",
    "        preds_valid = model.predict(xvalid)\n",
    "        scores.append(mean_squared_error(yvalid, preds_valid))\n",
    "    \n",
    "    return np.mean(scores)"
   ]
  },
  {
   "cell_type": "code",
   "execution_count": 18,
   "id": "46074ff6-a71d-403e-8bc9-1c8e18f14eb6",
   "metadata": {
    "scrolled": true,
    "tags": []
   },
   "outputs": [
    {
     "name": "stderr",
     "output_type": "stream",
     "text": [
      "\u001b[32m[I 2022-08-20 17:13:35,314]\u001b[0m A new study created in memory with name: no-name-b3ebd86d-5649-4bac-afca-291ec058a0aa\u001b[0m\n",
      "\u001b[32m[I 2022-08-20 17:13:52,819]\u001b[0m Trial 0 finished with value: 38.519805764329725 and parameters: {'learning_rate': 0.084751570090863, 'reg_lambda': 0.038421236249175206, 'reg_alpha': 2.3793977777560106e-08, 'subsample': 0.9833497591686431, 'colsample_bytree': 0.43409076591420337, 'max_depth': 7}. Best is trial 0 with value: 38.519805764329725.\u001b[0m\n",
      "\u001b[32m[I 2022-08-20 17:14:08,189]\u001b[0m Trial 1 finished with value: 43.47266628019754 and parameters: {'learning_rate': 0.051897898553999, 'reg_lambda': 1.4570606839004645, 'reg_alpha': 0.004449534502120412, 'subsample': 0.15073677859004608, 'colsample_bytree': 0.4843997172143105, 'max_depth': 4}. Best is trial 0 with value: 38.519805764329725.\u001b[0m\n",
      "\u001b[32m[I 2022-08-20 17:15:02,458]\u001b[0m Trial 2 finished with value: 52.851492974458 and parameters: {'learning_rate': 0.010284286792749142, 'reg_lambda': 9.602532992936622, 'reg_alpha': 11.8414950365344, 'subsample': 0.36153665412536107, 'colsample_bytree': 0.14314342791678727, 'max_depth': 4}. Best is trial 0 with value: 38.519805764329725.\u001b[0m\n",
      "\u001b[32m[I 2022-08-20 17:15:12,565]\u001b[0m Trial 3 finished with value: 52.04362482295535 and parameters: {'learning_rate': 0.06659110219874251, 'reg_lambda': 0.45614773703940503, 'reg_alpha': 6.456953579839476e-05, 'subsample': 0.391092138785596, 'colsample_bytree': 0.9825847110727464, 'max_depth': 2}. Best is trial 0 with value: 38.519805764329725.\u001b[0m\n",
      "\u001b[32m[I 2022-08-20 17:15:18,524]\u001b[0m Trial 4 finished with value: 76.95989049683243 and parameters: {'learning_rate': 0.041365099257387516, 'reg_lambda': 1.9119674791292682, 'reg_alpha': 0.00028917516968539504, 'subsample': 0.25842041485689143, 'colsample_bytree': 0.9527709930458116, 'max_depth': 1}. Best is trial 0 with value: 38.519805764329725.\u001b[0m\n",
      "\u001b[32m[I 2022-08-20 17:15:27,708]\u001b[0m Trial 5 finished with value: 51.74068784418311 and parameters: {'learning_rate': 0.09095576160259465, 'reg_lambda': 12.948949686367472, 'reg_alpha': 0.008059156050814675, 'subsample': 0.6164916056450657, 'colsample_bytree': 0.8125205047926427, 'max_depth': 2}. Best is trial 0 with value: 38.519805764329725.\u001b[0m\n",
      "\u001b[32m[I 2022-08-20 17:15:39,345]\u001b[0m Trial 6 finished with value: 37.387119081536 and parameters: {'learning_rate': 0.09840215226513474, 'reg_lambda': 9.298277679530242e-08, 'reg_alpha': 0.00016505950550704896, 'subsample': 0.7228490201244983, 'colsample_bytree': 0.6289252007382483, 'max_depth': 7}. Best is trial 6 with value: 37.387119081536.\u001b[0m\n",
      "\u001b[32m[I 2022-08-20 17:16:35,194]\u001b[0m Trial 7 finished with value: 42.65542766272452 and parameters: {'learning_rate': 0.03741998418008548, 'reg_lambda': 18.927172803159603, 'reg_alpha': 2.4639875696584766e-07, 'subsample': 0.8466900603859809, 'colsample_bytree': 0.2246342925589874, 'max_depth': 6}. Best is trial 6 with value: 37.387119081536.\u001b[0m\n",
      "\u001b[32m[I 2022-08-20 17:16:44,858]\u001b[0m Trial 8 finished with value: 52.28715088843164 and parameters: {'learning_rate': 0.15952638316703227, 'reg_lambda': 6.470613251457732, 'reg_alpha': 0.012534856219419806, 'subsample': 0.6192503958618517, 'colsample_bytree': 0.3573024701763423, 'max_depth': 2}. Best is trial 6 with value: 37.387119081536.\u001b[0m\n",
      "\u001b[32m[I 2022-08-20 17:16:53,358]\u001b[0m Trial 9 finished with value: 46.03733641196966 and parameters: {'learning_rate': 0.24830664477109543, 'reg_lambda': 0.1722363125794361, 'reg_alpha': 0.09761883478290206, 'subsample': 0.6071198987349158, 'colsample_bytree': 0.25455389642172854, 'max_depth': 4}. Best is trial 6 with value: 37.387119081536.\u001b[0m\n",
      "\u001b[32m[I 2022-08-20 17:17:16,412]\u001b[0m Trial 10 finished with value: 37.24080369286414 and parameters: {'learning_rate': 0.02197039514520811, 'reg_lambda': 1.23558757282566e-07, 'reg_alpha': 4.39814949912035e-06, 'subsample': 0.8015251681093395, 'colsample_bytree': 0.6679595706124014, 'max_depth': 6}. Best is trial 10 with value: 37.24080369286414.\u001b[0m\n",
      "\u001b[32m[I 2022-08-20 17:17:54,294]\u001b[0m Trial 11 finished with value: 37.157251776836155 and parameters: {'learning_rate': 0.014768281462791029, 'reg_lambda': 4.086555928861066e-08, 'reg_alpha': 6.915049847385587e-06, 'subsample': 0.7861875076639482, 'colsample_bytree': 0.6772919685140009, 'max_depth': 6}. Best is trial 11 with value: 37.157251776836155.\u001b[0m\n",
      "\u001b[32m[I 2022-08-20 17:18:21,668]\u001b[0m Trial 12 finished with value: 37.266109331415905 and parameters: {'learning_rate': 0.01924361700242663, 'reg_lambda': 3.739137733014242e-08, 'reg_alpha': 1.4455012305749687e-06, 'subsample': 0.8228417025325178, 'colsample_bytree': 0.6589538197699185, 'max_depth': 6}. Best is trial 11 with value: 37.157251776836155.\u001b[0m\n",
      "\u001b[32m[I 2022-08-20 17:18:48,340]\u001b[0m Trial 13 finished with value: 38.109893593715405 and parameters: {'learning_rate': 0.019505724923952573, 'reg_lambda': 3.378928498455004e-06, 'reg_alpha': 3.588658342905312e-06, 'subsample': 0.93495417109996, 'colsample_bytree': 0.7302296265613119, 'max_depth': 5}. Best is trial 11 with value: 37.157251776836155.\u001b[0m\n",
      "\u001b[32m[I 2022-08-20 17:19:10,939]\u001b[0m Trial 14 finished with value: 37.0529907540976 and parameters: {'learning_rate': 0.019659901759184896, 'reg_lambda': 2.722733961891889e-05, 'reg_alpha': 8.733283218007282e-06, 'subsample': 0.7629410414142657, 'colsample_bytree': 0.8242502372553129, 'max_depth': 6}. Best is trial 14 with value: 37.0529907540976.\u001b[0m\n",
      "\u001b[32m[I 2022-08-20 17:19:47,033]\u001b[0m Trial 15 finished with value: 38.63020327086461 and parameters: {'learning_rate': 0.01048729303522135, 'reg_lambda': 5.560599292609946e-05, 'reg_alpha': 1.8766625605781577e-08, 'subsample': 0.47313776161482995, 'colsample_bytree': 0.8345601701337618, 'max_depth': 5}. Best is trial 14 with value: 37.0529907540976.\u001b[0m\n",
      "\u001b[32m[I 2022-08-20 17:20:05,411]\u001b[0m Trial 16 finished with value: 38.29473030363507 and parameters: {'learning_rate': 0.028901604373842878, 'reg_lambda': 0.001954560598803899, 'reg_alpha': 0.7223976214381193, 'subsample': 0.713740576573809, 'colsample_bytree': 0.8355705715967432, 'max_depth': 5}. Best is trial 14 with value: 37.0529907540976.\u001b[0m\n",
      "\u001b[32m[I 2022-08-20 17:20:43,804]\u001b[0m Trial 17 finished with value: 36.771258148743684 and parameters: {'learning_rate': 0.015341888754271709, 'reg_lambda': 6.3486964144716896e-06, 'reg_alpha': 2.985635501577392e-05, 'subsample': 0.7146895796348559, 'colsample_bytree': 0.5753380554169881, 'max_depth': 7}. Best is trial 17 with value: 36.771258148743684.\u001b[0m\n",
      "\u001b[32m[I 2022-08-20 17:21:13,796]\u001b[0m Trial 18 finished with value: 37.99655528840529 and parameters: {'learning_rate': 0.027952388874695415, 'reg_lambda': 9.951064213240606e-06, 'reg_alpha': 3.29082542278109e-05, 'subsample': 0.5224899078776979, 'colsample_bytree': 0.49559658132009055, 'max_depth': 7}. Best is trial 17 with value: 36.771258148743684.\u001b[0m\n",
      "\u001b[32m[I 2022-08-20 17:21:59,704]\u001b[0m Trial 19 finished with value: 36.39529910603592 and parameters: {'learning_rate': 0.01378411114934493, 'reg_lambda': 0.0002328841385021199, 'reg_alpha': 5.85750391140158e-07, 'subsample': 0.9089523518283191, 'colsample_bytree': 0.5686359020441544, 'max_depth': 7}. Best is trial 19 with value: 36.39529910603592.\u001b[0m\n",
      "\u001b[32m[I 2022-08-20 17:22:45,286]\u001b[0m Trial 20 finished with value: 36.43963619094889 and parameters: {'learning_rate': 0.013823964166084888, 'reg_lambda': 0.0007327404638223509, 'reg_alpha': 3.5647535649218614e-07, 'subsample': 0.9110399891252345, 'colsample_bytree': 0.5719645010292511, 'max_depth': 7}. Best is trial 19 with value: 36.39529910603592.\u001b[0m\n",
      "\u001b[32m[I 2022-08-20 17:23:36,236]\u001b[0m Trial 21 finished with value: 36.38515947510626 and parameters: {'learning_rate': 0.013228998090516255, 'reg_lambda': 0.00046966104067458947, 'reg_alpha': 1.522225698411062e-07, 'subsample': 0.9019090266058885, 'colsample_bytree': 0.5671107941661155, 'max_depth': 7}. Best is trial 21 with value: 36.38515947510626.\u001b[0m\n",
      "\u001b[32m[I 2022-08-20 17:25:01,096]\u001b[0m Trial 22 finished with value: 38.41617089149895 and parameters: {'learning_rate': 0.01313644238890523, 'reg_lambda': 0.0009991428713761981, 'reg_alpha': 2.9742169124846316e-07, 'subsample': 0.9053502971873597, 'colsample_bytree': 0.3865742261513047, 'max_depth': 7}. Best is trial 21 with value: 36.38515947510626.\u001b[0m\n"
     ]
    },
    {
     "name": "stderr",
     "output_type": "stream",
     "text": [
      "\u001b[32m[I 2022-08-20 17:25:53,753]\u001b[0m Trial 23 finished with value: 36.37159060103258 and parameters: {'learning_rate': 0.012294152165910557, 'reg_lambda': 0.000713921750933471, 'reg_alpha': 1.6884696724666363e-07, 'subsample': 0.915522581607114, 'colsample_bytree': 0.5709590500123048, 'max_depth': 7}. Best is trial 23 with value: 36.37159060103258.\u001b[0m\n",
      "\u001b[32m[I 2022-08-20 17:26:19,943]\u001b[0m Trial 24 finished with value: 37.4394545847842 and parameters: {'learning_rate': 0.025076097898979344, 'reg_lambda': 0.009271267158532768, 'reg_alpha': 1.0381308768641429e-08, 'subsample': 0.9829031280676493, 'colsample_bytree': 0.5225183522820156, 'max_depth': 6}. Best is trial 23 with value: 36.37159060103258.\u001b[0m\n",
      "\u001b[32m[I 2022-08-20 17:27:02,550]\u001b[0m Trial 25 finished with value: 38.141284358898965 and parameters: {'learning_rate': 0.01054607287832101, 'reg_lambda': 0.00023355254255048546, 'reg_alpha': 1.2191213929145765e-07, 'subsample': 0.8971248469774057, 'colsample_bytree': 0.7474026864273043, 'max_depth': 5}. Best is trial 23 with value: 36.37159060103258.\u001b[0m\n",
      "\u001b[32m[I 2022-08-20 17:27:44,955]\u001b[0m Trial 26 finished with value: 43.51301914451829 and parameters: {'learning_rate': 0.015433005394912469, 'reg_lambda': 0.0001252405546875433, 'reg_alpha': 1.1182653790213652e-06, 'subsample': 0.9986948727843267, 'colsample_bytree': 0.590734580694298, 'max_depth': 3}. Best is trial 23 with value: 36.37159060103258.\u001b[0m\n",
      "\u001b[32m[I 2022-08-20 17:29:30,587]\u001b[0m Trial 27 finished with value: 39.63856060977007 and parameters: {'learning_rate': 0.012343415215694651, 'reg_lambda': 6.738326290565902e-07, 'reg_alpha': 4.0238386282348424e-08, 'subsample': 0.8597118933056607, 'colsample_bytree': 0.33313156163462515, 'max_depth': 7}. Best is trial 23 with value: 36.37159060103258.\u001b[0m\n",
      "\u001b[32m[I 2022-08-20 17:29:51,589]\u001b[0m Trial 28 finished with value: 38.44737860831644 and parameters: {'learning_rate': 0.03329397656680378, 'reg_lambda': 0.008357512041553489, 'reg_alpha': 8.27395325402731e-08, 'subsample': 0.6699124052752459, 'colsample_bytree': 0.462006110491028, 'max_depth': 6}. Best is trial 23 with value: 36.37159060103258.\u001b[0m\n",
      "\u001b[32m[I 2022-08-20 17:30:18,172]\u001b[0m Trial 29 finished with value: 38.10786360218039 and parameters: {'learning_rate': 0.05192773889478404, 'reg_lambda': 0.052449709579953346, 'reg_alpha': 0.0009479509578407457, 'subsample': 0.9641229963481811, 'colsample_bytree': 0.43668863239999456, 'max_depth': 7}. Best is trial 23 with value: 36.37159060103258.\u001b[0m\n",
      "\u001b[32m[I 2022-08-20 17:30:50,984]\u001b[0m Trial 30 finished with value: 38.56228536882911 and parameters: {'learning_rate': 0.017578815720758027, 'reg_lambda': 0.008901142841125042, 'reg_alpha': 1.4004361790007941e-06, 'subsample': 0.8726437623219532, 'colsample_bytree': 0.5335348903517508, 'max_depth': 5}. Best is trial 23 with value: 36.37159060103258.\u001b[0m\n",
      "\u001b[32m[I 2022-08-20 17:31:38,901]\u001b[0m Trial 31 finished with value: 36.40556861403504 and parameters: {'learning_rate': 0.012796888716350627, 'reg_lambda': 0.0006331634791827918, 'reg_alpha': 5.264875962714235e-07, 'subsample': 0.9148323730663248, 'colsample_bytree': 0.5815004026722086, 'max_depth': 7}. Best is trial 23 with value: 36.37159060103258.\u001b[0m\n",
      "\u001b[32m[I 2022-08-20 17:32:26,004]\u001b[0m Trial 32 finished with value: 36.17957876448234 and parameters: {'learning_rate': 0.012396092048144765, 'reg_lambda': 0.0003415982605799278, 'reg_alpha': 3.7471125040539985e-08, 'subsample': 0.947498393106943, 'colsample_bytree': 0.6230907325996333, 'max_depth': 7}. Best is trial 32 with value: 36.17957876448234.\u001b[0m\n",
      "\u001b[32m[I 2022-08-20 17:32:44,346]\u001b[0m Trial 33 finished with value: 38.7118016115392 and parameters: {'learning_rate': 0.0241461597703533, 'reg_lambda': 0.003080581683351869, 'reg_alpha': 3.652932237728658e-08, 'subsample': 0.12858090148806534, 'colsample_bytree': 0.7359512517442757, 'max_depth': 7}. Best is trial 32 with value: 36.17957876448234.\u001b[0m\n",
      "\u001b[32m[I 2022-08-20 17:34:14,732]\u001b[0m Trial 34 finished with value: 37.50283233451273 and parameters: {'learning_rate': 0.010294334980987222, 'reg_lambda': 0.00021080612250285377, 'reg_alpha': 79.6048931881759, 'subsample': 0.9522154992598548, 'colsample_bytree': 0.40424359534439314, 'max_depth': 6}. Best is trial 32 with value: 36.17957876448234.\u001b[0m\n",
      "\u001b[32m[I 2022-08-20 17:34:55,094]\u001b[0m Trial 35 finished with value: 36.92950549861813 and parameters: {'learning_rate': 0.01786784699567145, 'reg_lambda': 6.464791937778482e-05, 'reg_alpha': 6.526104641296968e-08, 'subsample': 0.9992924627916998, 'colsample_bytree': 0.49049253130232473, 'max_depth': 7}. Best is trial 32 with value: 36.17957876448234.\u001b[0m\n",
      "\u001b[32m[I 2022-08-20 17:35:36,872]\u001b[0m Trial 36 finished with value: 43.95361247874996 and parameters: {'learning_rate': 0.011667356364377612, 'reg_lambda': 1.6213798877406503e-06, 'reg_alpha': 1.1546995318570447e-08, 'subsample': 0.8179579985180199, 'colsample_bytree': 0.6230677070076625, 'max_depth': 3}. Best is trial 32 with value: 36.17957876448234.\u001b[0m\n",
      "\u001b[32m[I 2022-08-20 17:36:05,215]\u001b[0m Trial 37 finished with value: 36.46831008181856 and parameters: {'learning_rate': 0.015197942163656749, 'reg_lambda': 0.053829890369119504, 'reg_alpha': 8.36962331522862e-08, 'subsample': 0.3275148648949557, 'colsample_bytree': 0.9209941812449092, 'max_depth': 7}. Best is trial 32 with value: 36.17957876448234.\u001b[0m\n",
      "\u001b[32m[I 2022-08-20 17:36:12,579]\u001b[0m Trial 38 finished with value: 39.77370031226409 and parameters: {'learning_rate': 0.07220706713946075, 'reg_lambda': 1.8440055902701504e-05, 'reg_alpha': 1.6735902228536644e-05, 'subsample': 0.2240161249074134, 'colsample_bytree': 0.6932932787322033, 'max_depth': 6}. Best is trial 32 with value: 36.17957876448234.\u001b[0m\n",
      "\u001b[32m[I 2022-08-20 17:36:16,324]\u001b[0m Trial 39 finished with value: 76.89461463915012 and parameters: {'learning_rate': 0.12003268588250555, 'reg_lambda': 0.002492844864400644, 'reg_alpha': 1.9520829655585388e-07, 'subsample': 0.7611702743710247, 'colsample_bytree': 0.5326575547822168, 'max_depth': 1}. Best is trial 32 with value: 36.17957876448234.\u001b[0m\n",
      "\u001b[32m[I 2022-08-20 17:36:30,125]\u001b[0m Trial 40 finished with value: 40.18385816666429 and parameters: {'learning_rate': 0.05087919812281382, 'reg_lambda': 0.00032298379858998005, 'reg_alpha': 8.523930864894034e-05, 'subsample': 0.8603227762481811, 'colsample_bytree': 0.6290275109099146, 'max_depth': 4}. Best is trial 32 with value: 36.17957876448234.\u001b[0m\n",
      "\u001b[32m[I 2022-08-20 17:37:15,235]\u001b[0m Trial 41 finished with value: 36.18094457451597 and parameters: {'learning_rate': 0.012959420803130997, 'reg_lambda': 0.00042319613561285697, 'reg_alpha': 7.469200927848988e-07, 'subsample': 0.9459586436879697, 'colsample_bytree': 0.6135435416838849, 'max_depth': 7}. Best is trial 32 with value: 36.17957876448234.\u001b[0m\n",
      "\u001b[32m[I 2022-08-20 17:37:52,897]\u001b[0m Trial 42 finished with value: 36.29822138451451 and parameters: {'learning_rate': 0.01675634603392615, 'reg_lambda': 0.00010809366573305508, 'reg_alpha': 7.472819232100144e-07, 'subsample': 0.9530103508092125, 'colsample_bytree': 0.6194182806715735, 'max_depth': 7}. Best is trial 32 with value: 36.17957876448234.\u001b[0m\n",
      "\u001b[32m[I 2022-08-20 17:38:29,747]\u001b[0m Trial 43 finished with value: 36.24886921091408 and parameters: {'learning_rate': 0.016675866289218442, 'reg_lambda': 5.3179254908441435e-05, 'reg_alpha': 1.9019820243196249e-06, 'subsample': 0.9481822811095829, 'colsample_bytree': 0.6220018898737499, 'max_depth': 7}. Best is trial 32 with value: 36.17957876448234.\u001b[0m\n",
      "\u001b[32m[I 2022-08-20 17:38:58,090]\u001b[0m Trial 44 finished with value: 37.03225681723062 and parameters: {'learning_rate': 0.01736377737011361, 'reg_lambda': 4.368139623513274e-05, 'reg_alpha': 2.5668344117256033e-06, 'subsample': 0.9537761073829348, 'colsample_bytree': 0.7717097802266097, 'max_depth': 6}. Best is trial 32 with value: 36.17957876448234.\u001b[0m\n",
      "\u001b[32m[I 2022-08-20 17:39:26,603]\u001b[0m Trial 45 finished with value: 36.47695029612173 and parameters: {'learning_rate': 0.022136488836831163, 'reg_lambda': 1.6542952743184958e-06, 'reg_alpha': 0.00048658838685120877, 'subsample': 0.8353895635940117, 'colsample_bytree': 0.6195333866383869, 'max_depth': 7}. Best is trial 32 with value: 36.17957876448234.\u001b[0m\n",
      "\u001b[32m[I 2022-08-20 17:40:09,005]\u001b[0m Trial 46 finished with value: 37.10994202473916 and parameters: {'learning_rate': 0.01139403194731181, 'reg_lambda': 8.247928376657128e-05, 'reg_alpha': 0.0036294123300994424, 'subsample': 0.94499598504006, 'colsample_bytree': 0.6794447901054486, 'max_depth': 6}. Best is trial 32 with value: 36.17957876448234.\u001b[0m\n"
     ]
    },
    {
     "name": "stderr",
     "output_type": "stream",
     "text": [
      "\u001b[32m[I 2022-08-20 17:40:24,918]\u001b[0m Trial 47 finished with value: 37.41823396398297 and parameters: {'learning_rate': 0.03856503724533874, 'reg_lambda': 0.37705251857643673, 'reg_alpha': 7.172875181447021e-06, 'subsample': 0.7798568067289212, 'colsample_bytree': 0.6434006011578239, 'max_depth': 6}. Best is trial 32 with value: 36.17957876448234.\u001b[0m\n",
      "\u001b[32m[I 2022-08-20 17:41:20,396]\u001b[0m Trial 48 finished with value: 36.65451390300442 and parameters: {'learning_rate': 0.016724778266428535, 'reg_lambda': 55.134251375527334, 'reg_alpha': 2.9244205917277154e-08, 'subsample': 0.867318511124328, 'colsample_bytree': 0.6952666312386475, 'max_depth': 7}. Best is trial 32 with value: 36.17957876448234.\u001b[0m\n",
      "\u001b[32m[I 2022-08-20 17:42:00,575]\u001b[0m Trial 49 finished with value: 37.86126217892952 and parameters: {'learning_rate': 0.02189343077576872, 'reg_lambda': 2.0170021759579417e-05, 'reg_alpha': 1.2427841053551338e-06, 'subsample': 0.6620642977403535, 'colsample_bytree': 0.4588086249794607, 'max_depth': 7}. Best is trial 32 with value: 36.17957876448234.\u001b[0m\n",
      "\u001b[32m[I 2022-08-20 17:42:13,177]\u001b[0m Trial 50 finished with value: 58.60952670060408 and parameters: {'learning_rate': 0.2294723856804682, 'reg_lambda': 0.00458325469644077, 'reg_alpha': 6.100425868721821e-07, 'subsample': 0.9684178078604925, 'colsample_bytree': 0.10178517518947094, 'max_depth': 6}. Best is trial 32 with value: 36.17957876448234.\u001b[0m\n",
      "\u001b[32m[I 2022-08-20 17:43:07,942]\u001b[0m Trial 51 finished with value: 36.18246463978845 and parameters: {'learning_rate': 0.010054405898956571, 'reg_lambda': 0.00045559561722165073, 'reg_alpha': 2.3875503807142653e-07, 'subsample': 0.880582214636016, 'colsample_bytree': 0.6008832878142659, 'max_depth': 7}. Best is trial 32 with value: 36.17957876448234.\u001b[0m\n",
      "\u001b[32m[I 2022-08-20 17:44:01,862]\u001b[0m Trial 52 finished with value: 36.13646673702398 and parameters: {'learning_rate': 0.01030643482537848, 'reg_lambda': 0.0012529895808355057, 'reg_alpha': 3.3684824320973993e-06, 'subsample': 0.9366486319975418, 'colsample_bytree': 0.6069782570774545, 'max_depth': 7}. Best is trial 52 with value: 36.13646673702398.\u001b[0m\n",
      "\u001b[32m[I 2022-08-20 17:44:53,125]\u001b[0m Trial 53 finished with value: 35.92723686031851 and parameters: {'learning_rate': 0.010012772262066354, 'reg_lambda': 0.0013138407878519217, 'reg_alpha': 3.2793941650890983e-06, 'subsample': 0.8175581381312482, 'colsample_bytree': 0.7809513712765305, 'max_depth': 7}. Best is trial 53 with value: 35.92723686031851.\u001b[0m\n",
      "\u001b[32m[I 2022-08-20 17:45:43,950]\u001b[0m Trial 54 finished with value: 35.91019914014109 and parameters: {'learning_rate': 0.010047797767579712, 'reg_lambda': 0.02409450002426053, 'reg_alpha': 2.8758534159115506e-06, 'subsample': 0.81526172300284, 'colsample_bytree': 0.7819565774642372, 'max_depth': 7}. Best is trial 54 with value: 35.91019914014109.\u001b[0m\n",
      "\u001b[32m[I 2022-08-20 17:46:22,490]\u001b[0m Trial 55 finished with value: 36.93551486812403 and parameters: {'learning_rate': 0.01043079847938724, 'reg_lambda': 0.01925170749773777, 'reg_alpha': 0.00012801298830745033, 'subsample': 0.8034125965154171, 'colsample_bytree': 0.7870136726741338, 'max_depth': 6}. Best is trial 54 with value: 35.91019914014109.\u001b[0m\n",
      "\u001b[32m[I 2022-08-20 17:47:06,846]\u001b[0m Trial 56 finished with value: 35.86403387827121 and parameters: {'learning_rate': 0.010184375868767442, 'reg_lambda': 0.14840560724752813, 'reg_alpha': 2.2767105714398916e-05, 'subsample': 0.7605453661469663, 'colsample_bytree': 0.8803233049201575, 'max_depth': 7}. Best is trial 56 with value: 35.86403387827121.\u001b[0m\n",
      "\u001b[32m[I 2022-08-20 17:47:47,329]\u001b[0m Trial 57 finished with value: 36.8888756235361 and parameters: {'learning_rate': 0.011035213569387975, 'reg_lambda': 1.590843098290365, 'reg_alpha': 2.858660495619502e-05, 'subsample': 0.7558543183116984, 'colsample_bytree': 0.8907104423230818, 'max_depth': 6}. Best is trial 56 with value: 35.86403387827121.\u001b[0m\n",
      "\u001b[32m[I 2022-08-20 17:48:20,140]\u001b[0m Trial 58 finished with value: 36.02164905479994 and parameters: {'learning_rate': 0.013891086014437143, 'reg_lambda': 0.12311991465871595, 'reg_alpha': 1.2348465275863596e-05, 'subsample': 0.592133166058137, 'colsample_bytree': 0.9250568006350582, 'max_depth': 7}. Best is trial 56 with value: 35.86403387827121.\u001b[0m\n",
      "\u001b[32m[I 2022-08-20 17:48:49,781]\u001b[0m Trial 59 finished with value: 35.969219121773726 and parameters: {'learning_rate': 0.01444195746333133, 'reg_lambda': 0.294988068922883, 'reg_alpha': 9.731445225349224e-06, 'subsample': 0.5787215883464951, 'colsample_bytree': 0.9835836104405598, 'max_depth': 7}. Best is trial 56 with value: 35.86403387827121.\u001b[0m\n",
      "\u001b[32m[I 2022-08-20 17:49:31,031]\u001b[0m Trial 60 finished with value: 43.22828868520051 and parameters: {'learning_rate': 0.014414150282879937, 'reg_lambda': 4.614932679553185, 'reg_alpha': 1.1761221442276664e-05, 'subsample': 0.4839938783885598, 'colsample_bytree': 0.995816404520207, 'max_depth': 3}. Best is trial 56 with value: 35.86403387827121.\u001b[0m\n",
      "\u001b[32m[I 2022-08-20 17:50:08,347]\u001b[0m Trial 61 finished with value: 36.000123157015125 and parameters: {'learning_rate': 0.011755000545176277, 'reg_lambda': 0.38754215786142215, 'reg_alpha': 4.017492603022742e-06, 'subsample': 0.5709866717268577, 'colsample_bytree': 0.9537581242488048, 'max_depth': 7}. Best is trial 56 with value: 35.86403387827121.\u001b[0m\n",
      "\u001b[32m[I 2022-08-20 17:50:46,047]\u001b[0m Trial 62 finished with value: 36.10039794987138 and parameters: {'learning_rate': 0.01155182550454089, 'reg_lambda': 0.14683409581795184, 'reg_alpha': 4.83667645700697e-05, 'subsample': 0.5903977657284809, 'colsample_bytree': 0.8773685883424548, 'max_depth': 7}. Best is trial 56 with value: 35.86403387827121.\u001b[0m\n",
      "\u001b[32m[I 2022-08-20 17:51:22,832]\u001b[0m Trial 63 finished with value: 36.07427544055548 and parameters: {'learning_rate': 0.011438024877367699, 'reg_lambda': 0.12525458267347808, 'reg_alpha': 4.659749019261716e-05, 'subsample': 0.5735678628123365, 'colsample_bytree': 0.8742269627111141, 'max_depth': 7}. Best is trial 56 with value: 35.86403387827121.\u001b[0m\n",
      "\u001b[32m[I 2022-08-20 17:51:52,655]\u001b[0m Trial 64 finished with value: 36.13832471650558 and parameters: {'learning_rate': 0.014279162810478828, 'reg_lambda': 0.620736685206397, 'reg_alpha': 0.0002118587448386938, 'subsample': 0.5322579347176463, 'colsample_bytree': 0.9622175991576603, 'max_depth': 7}. Best is trial 56 with value: 35.86403387827121.\u001b[0m\n",
      "\u001b[32m[I 2022-08-20 17:52:29,491]\u001b[0m Trial 65 finished with value: 37.031223421256016 and parameters: {'learning_rate': 0.011567538441106279, 'reg_lambda': 0.15677133770739035, 'reg_alpha': 1.710551221107267e-05, 'subsample': 0.6520932406744616, 'colsample_bytree': 0.8658456929089925, 'max_depth': 6}. Best is trial 56 with value: 35.86403387827121.\u001b[0m\n",
      "\u001b[32m[I 2022-08-20 17:53:03,302]\u001b[0m Trial 66 finished with value: 36.09940235312537 and parameters: {'learning_rate': 0.01366196425405584, 'reg_lambda': 0.6673783240555359, 'reg_alpha': 5.444657488913039e-06, 'subsample': 0.5751517430338365, 'colsample_bytree': 0.9290505055200701, 'max_depth': 7}. Best is trial 56 with value: 35.86403387827121.\u001b[0m\n",
      "\u001b[32m[I 2022-08-20 17:53:29,360]\u001b[0m Trial 67 finished with value: 36.02888649383907 and parameters: {'learning_rate': 0.01929985820095809, 'reg_lambda': 0.07994771152460599, 'reg_alpha': 6.177324452897822e-05, 'subsample': 0.629901721871726, 'colsample_bytree': 0.9165019351494509, 'max_depth': 7}. Best is trial 56 with value: 35.86403387827121.\u001b[0m\n",
      "\u001b[32m[I 2022-08-20 17:53:50,483]\u001b[0m Trial 68 finished with value: 38.48369394535488 and parameters: {'learning_rate': 0.01999419019975524, 'reg_lambda': 0.02231470668060596, 'reg_alpha': 0.0003587734809941145, 'subsample': 0.43532761057200964, 'colsample_bytree': 0.9642053085249226, 'max_depth': 5}. Best is trial 56 with value: 35.86403387827121.\u001b[0m\n",
      "\u001b[32m[I 2022-08-20 17:54:20,636]\u001b[0m Trial 69 finished with value: 39.60090383128066 and parameters: {'learning_rate': 0.01892274905599509, 'reg_lambda': 2.5727927534513415, 'reg_alpha': 2.1326790292418894e-05, 'subsample': 0.7024631411653036, 'colsample_bytree': 0.9213378130900698, 'max_depth': 4}. Best is trial 56 with value: 35.86403387827121.\u001b[0m\n",
      "\u001b[32m[I 2022-08-20 17:54:54,710]\u001b[0m Trial 70 finished with value: 51.938633795522684 and parameters: {'learning_rate': 0.015430669604167273, 'reg_lambda': 0.3268830034731531, 'reg_alpha': 8.448664735847431e-05, 'subsample': 0.6267385742669135, 'colsample_bytree': 0.8468325415574193, 'max_depth': 2}. Best is trial 56 with value: 35.86403387827121.\u001b[0m\n"
     ]
    },
    {
     "name": "stderr",
     "output_type": "stream",
     "text": [
      "\u001b[32m[I 2022-08-20 17:55:32,914]\u001b[0m Trial 71 finished with value: 36.305091323581266 and parameters: {'learning_rate': 0.012052904447991487, 'reg_lambda': 0.08778392289424465, 'reg_alpha': 4.982173484134771e-05, 'subsample': 0.4978630537850699, 'colsample_bytree': 0.8019137366070102, 'max_depth': 7}. Best is trial 56 with value: 35.86403387827121.\u001b[0m\n",
      "\u001b[32m[I 2022-08-20 17:56:17,124]\u001b[0m Trial 72 finished with value: 35.97705487714448 and parameters: {'learning_rate': 0.010025037283029765, 'reg_lambda': 0.04074198988056894, 'reg_alpha': 9.29364070063038e-06, 'subsample': 0.5790900551617592, 'colsample_bytree': 0.8982758541237553, 'max_depth': 7}. Best is trial 56 with value: 35.86403387827121.\u001b[0m\n",
      "\u001b[32m[I 2022-08-20 17:56:50,764]\u001b[0m Trial 73 finished with value: 36.02729681760337 and parameters: {'learning_rate': 0.013180312294354655, 'reg_lambda': 0.029240505873277773, 'reg_alpha': 7.196519943913401e-06, 'subsample': 0.5441041757221398, 'colsample_bytree': 0.9099272553308616, 'max_depth': 7}. Best is trial 56 with value: 35.86403387827121.\u001b[0m\n",
      "\u001b[32m[I 2022-08-20 17:57:28,189]\u001b[0m Trial 74 finished with value: 36.08842165572413 and parameters: {'learning_rate': 0.010124835898263795, 'reg_lambda': 0.017519818408897363, 'reg_alpha': 9.139492595807699e-06, 'subsample': 0.44445635377240833, 'colsample_bytree': 0.9778188022849919, 'max_depth': 7}. Best is trial 56 with value: 35.86403387827121.\u001b[0m\n",
      "\u001b[32m[I 2022-08-20 17:58:02,703]\u001b[0m Trial 75 finished with value: 36.047275129001676 and parameters: {'learning_rate': 0.012863456042886622, 'reg_lambda': 0.03253842028840433, 'reg_alpha': 4.159860040673202e-06, 'subsample': 0.5532426644684901, 'colsample_bytree': 0.9476913211623234, 'max_depth': 7}. Best is trial 56 with value: 35.86403387827121.\u001b[0m\n",
      "\u001b[32m[I 2022-08-20 17:58:32,320]\u001b[0m Trial 76 finished with value: 37.152522780365636 and parameters: {'learning_rate': 0.013673636786417693, 'reg_lambda': 0.8295000806241776, 'reg_alpha': 0.24796052354214956, 'subsample': 0.516811323400073, 'colsample_bytree': 0.8981602092978804, 'max_depth': 6}. Best is trial 56 with value: 35.86403387827121.\u001b[0m\n",
      "\u001b[32m[I 2022-08-20 17:59:12,436]\u001b[0m Trial 77 finished with value: 36.015796863813364 and parameters: {'learning_rate': 0.011185729993120418, 'reg_lambda': 0.2189425517849447, 'reg_alpha': 1.0853108914333662e-05, 'subsample': 0.6859735761731017, 'colsample_bytree': 0.8232580985971507, 'max_depth': 7}. Best is trial 56 with value: 35.86403387827121.\u001b[0m\n",
      "\u001b[32m[I 2022-08-20 17:59:46,988]\u001b[0m Trial 78 finished with value: 37.012913797804345 and parameters: {'learning_rate': 0.010998323862649442, 'reg_lambda': 0.28950346226436297, 'reg_alpha': 2.207564299368448e-06, 'subsample': 0.6812004924679489, 'colsample_bytree': 0.8533974361926979, 'max_depth': 6}. Best is trial 56 with value: 35.86403387827121.\u001b[0m\n",
      "\u001b[32m[I 2022-08-20 18:00:02,998]\u001b[0m Trial 79 finished with value: 36.44195425405441 and parameters: {'learning_rate': 0.04493556044385338, 'reg_lambda': 1.2443513830610142, 'reg_alpha': 1.2061649451544137e-05, 'subsample': 0.7224520673128266, 'colsample_bytree': 0.8232706532259964, 'max_depth': 7}. Best is trial 56 with value: 35.86403387827121.\u001b[0m\n",
      "\u001b[32m[I 2022-08-20 18:00:40,393]\u001b[0m Trial 80 finished with value: 36.17563198435206 and parameters: {'learning_rate': 0.01575584787461928, 'reg_lambda': 2.9843605199150147, 'reg_alpha': 4.258776311843571e-06, 'subsample': 0.7433804997481837, 'colsample_bytree': 0.766780519058791, 'max_depth': 7}. Best is trial 56 with value: 35.86403387827121.\u001b[0m\n",
      "\u001b[32m[I 2022-08-20 18:01:15,794]\u001b[0m Trial 81 finished with value: 35.97212059515328 and parameters: {'learning_rate': 0.012386913136227789, 'reg_lambda': 0.03838903694747713, 'reg_alpha': 7.837003512244884e-06, 'subsample': 0.5985197048931342, 'colsample_bytree': 0.9035988137981055, 'max_depth': 7}. Best is trial 56 with value: 35.86403387827121.\u001b[0m\n",
      "\u001b[32m[I 2022-08-20 18:01:52,164]\u001b[0m Trial 82 finished with value: 35.96973656872981 and parameters: {'learning_rate': 0.012345204116929466, 'reg_lambda': 0.00552294456756393, 'reg_alpha': 2.091219534100234e-06, 'subsample': 0.5863986090474825, 'colsample_bytree': 0.9387548887252403, 'max_depth': 7}. Best is trial 56 with value: 35.86403387827121.\u001b[0m\n",
      "\u001b[32m[I 2022-08-20 18:02:30,401]\u001b[0m Trial 83 finished with value: 36.07605346702008 and parameters: {'learning_rate': 0.012223483547931499, 'reg_lambda': 0.011149490858937464, 'reg_alpha': 2.011363294260264e-06, 'subsample': 0.6434406648616681, 'colsample_bytree': 0.8098275855629561, 'max_depth': 7}. Best is trial 56 with value: 35.86403387827121.\u001b[0m\n",
      "\u001b[32m[I 2022-08-20 18:03:09,630]\u001b[0m Trial 84 finished with value: 35.9573461458331 and parameters: {'learning_rate': 0.011091434616407872, 'reg_lambda': 0.04946820953810935, 'reg_alpha': 1.025803782328855e-06, 'subsample': 0.5668652429281756, 'colsample_bytree': 0.9907011481077963, 'max_depth': 7}. Best is trial 56 with value: 35.86403387827121.\u001b[0m\n",
      "\u001b[32m[I 2022-08-20 18:03:50,820]\u001b[0m Trial 85 finished with value: 35.93899380823292 and parameters: {'learning_rate': 0.010062069951800907, 'reg_lambda': 0.05288324507123198, 'reg_alpha': 1.027005420913762e-06, 'subsample': 0.5996105314182071, 'colsample_bytree': 0.943831433577218, 'max_depth': 7}. Best is trial 56 with value: 35.86403387827121.\u001b[0m\n",
      "\u001b[32m[I 2022-08-20 18:04:33,116]\u001b[0m Trial 86 finished with value: 35.891998491002994 and parameters: {'learning_rate': 0.010131105514920838, 'reg_lambda': 0.005050846395829373, 'reg_alpha': 1.098247432890061e-06, 'subsample': 0.6082615523289905, 'colsample_bytree': 0.9979312481642104, 'max_depth': 7}. Best is trial 56 with value: 35.86403387827121.\u001b[0m\n",
      "\u001b[32m[I 2022-08-20 18:04:42,092]\u001b[0m Trial 87 finished with value: 37.2888156199998 and parameters: {'learning_rate': 0.05778130036462781, 'reg_lambda': 0.00447243684815964, 'reg_alpha': 3.640205007159098e-07, 'subsample': 0.6056890059519362, 'colsample_bytree': 0.9968675213659831, 'max_depth': 6}. Best is trial 56 with value: 35.86403387827121.\u001b[0m\n",
      "\u001b[32m[I 2022-08-20 18:05:19,847]\u001b[0m Trial 88 finished with value: 35.954088674340944 and parameters: {'learning_rate': 0.010978394049072986, 'reg_lambda': 0.0063427381513145925, 'reg_alpha': 9.776502766927705e-07, 'subsample': 0.6103466093246215, 'colsample_bytree': 0.9446251181914009, 'max_depth': 7}. Best is trial 56 with value: 35.86403387827121.\u001b[0m\n",
      "\u001b[32m[I 2022-08-20 18:05:59,449]\u001b[0m Trial 89 finished with value: 35.980958438138714 and parameters: {'learning_rate': 0.010641731464218037, 'reg_lambda': 0.0018215774159331235, 'reg_alpha': 9.72449933487171e-07, 'subsample': 0.5534613290227128, 'colsample_bytree': 0.9800713178094089, 'max_depth': 7}. Best is trial 56 with value: 35.86403387827121.\u001b[0m\n",
      "\u001b[32m[I 2022-08-20 18:06:28,766]\u001b[0m Trial 90 finished with value: 35.8652672054051 and parameters: {'learning_rate': 0.014845605866370714, 'reg_lambda': 0.00591467182440956, 'reg_alpha': 1.1543671512402118e-07, 'subsample': 0.7869630347535022, 'colsample_bytree': 0.9423085109197638, 'max_depth': 7}. Best is trial 56 with value: 35.86403387827121.\u001b[0m\n",
      "\u001b[32m[I 2022-08-20 18:07:09,128]\u001b[0m Trial 91 finished with value: 35.8066577258119 and parameters: {'learning_rate': 0.010977733879485366, 'reg_lambda': 0.011911383847162107, 'reg_alpha': 4.4554513676156203e-07, 'subsample': 0.7869186567413287, 'colsample_bytree': 0.9424130373392636, 'max_depth': 7}. Best is trial 91 with value: 35.8066577258119.\u001b[0m\n",
      "\u001b[32m[I 2022-08-20 18:07:49,068]\u001b[0m Trial 92 finished with value: 35.81890751680629 and parameters: {'learning_rate': 0.011051067309841471, 'reg_lambda': 0.012888393711125892, 'reg_alpha': 4.2021578898694993e-07, 'subsample': 0.783740990508905, 'colsample_bytree': 0.9714532354957538, 'max_depth': 7}. Best is trial 91 with value: 35.8066577258119.\u001b[0m\n",
      "\u001b[32m[I 2022-08-20 18:08:32,304]\u001b[0m Trial 93 finished with value: 35.84077706000381 and parameters: {'learning_rate': 0.01090817950146381, 'reg_lambda': 0.011787254604957399, 'reg_alpha': 3.8891682937725927e-07, 'subsample': 0.8125891087317186, 'colsample_bytree': 0.9427125849275884, 'max_depth': 7}. Best is trial 91 with value: 35.8066577258119.\u001b[0m\n",
      "\u001b[32m[I 2022-08-20 18:09:16,118]\u001b[0m Trial 94 finished with value: 35.829098810551464 and parameters: {'learning_rate': 0.010074419564751065, 'reg_lambda': 0.012812466658456955, 'reg_alpha': 1.1362155048674088e-07, 'subsample': 0.7930338050468436, 'colsample_bytree': 0.9483468443638547, 'max_depth': 7}. Best is trial 91 with value: 35.8066577258119.\u001b[0m\n"
     ]
    },
    {
     "name": "stderr",
     "output_type": "stream",
     "text": [
      "\u001b[32m[I 2022-08-20 18:09:59,221]\u001b[0m Trial 95 finished with value: 35.79969072500958 and parameters: {'learning_rate': 0.010022943649539364, 'reg_lambda': 0.0035509952679005476, 'reg_alpha': 1.3331857872250535e-07, 'subsample': 0.7901016619882593, 'colsample_bytree': 0.9670976537445786, 'max_depth': 7}. Best is trial 95 with value: 35.79969072500958.\u001b[0m\n",
      "\u001b[32m[I 2022-08-20 18:10:32,325]\u001b[0m Trial 96 finished with value: 36.70939403195739 and parameters: {'learning_rate': 0.010993659973276086, 'reg_lambda': 0.012096937534467243, 'reg_alpha': 1.0135619508095019e-07, 'subsample': 0.8312056587133623, 'colsample_bytree': 0.9760482599372288, 'max_depth': 6}. Best is trial 95 with value: 35.79969072500958.\u001b[0m\n",
      "\u001b[32m[I 2022-08-20 18:11:11,332]\u001b[0m Trial 97 finished with value: 35.823375951361655 and parameters: {'learning_rate': 0.012055596707440922, 'reg_lambda': 0.002889952537191501, 'reg_alpha': 5.086924758989532e-08, 'subsample': 0.7996721941987092, 'colsample_bytree': 0.8836108071615677, 'max_depth': 7}. Best is trial 95 with value: 35.79969072500958.\u001b[0m\n",
      "\u001b[32m[I 2022-08-20 18:11:28,797]\u001b[0m Trial 98 finished with value: 76.94518107645445 and parameters: {'learning_rate': 0.012892570361169137, 'reg_lambda': 0.0029879832315957426, 'reg_alpha': 1.3207852983447384e-07, 'subsample': 0.7859093272665478, 'colsample_bytree': 0.8774514298108566, 'max_depth': 1}. Best is trial 95 with value: 35.79969072500958.\u001b[0m\n",
      "\u001b[32m[I 2022-08-20 18:11:47,303]\u001b[0m Trial 99 finished with value: 36.11030783777371 and parameters: {'learning_rate': 0.033090287011603256, 'reg_lambda': 0.012979122931100482, 'reg_alpha': 4.603448102598562e-08, 'subsample': 0.7443589883625523, 'colsample_bytree': 0.9607357855611927, 'max_depth': 7}. Best is trial 95 with value: 35.79969072500958.\u001b[0m\n"
     ]
    }
   ],
   "source": [
    "study = optuna.create_study(direction=\"minimize\")\n",
    "study.optimize(objective, n_trials=100)"
   ]
  },
  {
   "cell_type": "code",
   "execution_count": 19,
   "id": "2a5f04e2-736e-4b0f-800b-a8a549f926cf",
   "metadata": {
    "tags": []
   },
   "outputs": [
    {
     "data": {
      "text/plain": [
       "{'learning_rate': 0.010022943649539364,\n",
       " 'reg_lambda': 0.0035509952679005476,\n",
       " 'reg_alpha': 1.3331857872250535e-07,\n",
       " 'subsample': 0.7901016619882593,\n",
       " 'colsample_bytree': 0.9670976537445786,\n",
       " 'max_depth': 7}"
      ]
     },
     "execution_count": 19,
     "metadata": {},
     "output_type": "execute_result"
    }
   ],
   "source": [
    "study.best_params"
   ]
  },
  {
   "cell_type": "code",
   "execution_count": 20,
   "id": "d2c6c53a-98bc-4efd-bd1b-1ed167b8a10f",
   "metadata": {},
   "outputs": [],
   "source": [
    "ct = ColumnTransformer([\n",
    "            (\"num\", StandardScaler(), num_cols),\n",
    "            (\"cat\", OneHotEncoder(handle_unknown=\"ignore\", drop=\"first\"), cat_cols)\n",
    "        ])"
   ]
  },
  {
   "cell_type": "code",
   "execution_count": 21,
   "id": "24e759af-7392-4364-b5a3-7493fff13da1",
   "metadata": {
    "collapsed": true
   },
   "outputs": [
    {
     "name": "stdout",
     "output_type": "stream",
     "text": [
      "[0]\tvalidation_0-rmse:73.61825\n"
     ]
    },
    {
     "name": "stderr",
     "output_type": "stream",
     "text": [
      "/home/tharun/.conda/envs/fastai/lib/python3.10/site-packages/xgboost/sklearn.py:793: UserWarning: `early_stopping_rounds` in `fit` method is deprecated for better compatibility with scikit-learn, use `early_stopping_rounds` in constructor or`set_params` instead.\n",
      "  warnings.warn(\n"
     ]
    },
    {
     "name": "stdout",
     "output_type": "stream",
     "text": [
      "[1689]\tvalidation_0-rmse:5.86970\n",
      "fold: 0, score: 82.23849493705758\n",
      "[0]\tvalidation_0-rmse:73.66002\n"
     ]
    },
    {
     "name": "stderr",
     "output_type": "stream",
     "text": [
      "/home/tharun/.conda/envs/fastai/lib/python3.10/site-packages/xgboost/sklearn.py:793: UserWarning: `early_stopping_rounds` in `fit` method is deprecated for better compatibility with scikit-learn, use `early_stopping_rounds` in constructor or`set_params` instead.\n",
      "  warnings.warn(\n"
     ]
    },
    {
     "name": "stdout",
     "output_type": "stream",
     "text": [
      "[2454]\tvalidation_0-rmse:5.97195\n",
      "fold: 1, score: 81.90114314868508\n",
      "[0]\tvalidation_0-rmse:73.43671\n"
     ]
    },
    {
     "name": "stderr",
     "output_type": "stream",
     "text": [
      "/home/tharun/.conda/envs/fastai/lib/python3.10/site-packages/xgboost/sklearn.py:793: UserWarning: `early_stopping_rounds` in `fit` method is deprecated for better compatibility with scikit-learn, use `early_stopping_rounds` in constructor or`set_params` instead.\n",
      "  warnings.warn(\n"
     ]
    },
    {
     "name": "stdout",
     "output_type": "stream",
     "text": [
      "[1757]\tvalidation_0-rmse:5.91833\n",
      "fold: 2, score: 82.95664505656029\n",
      "[0]\tvalidation_0-rmse:73.70668\n"
     ]
    },
    {
     "name": "stderr",
     "output_type": "stream",
     "text": [
      "/home/tharun/.conda/envs/fastai/lib/python3.10/site-packages/xgboost/sklearn.py:793: UserWarning: `early_stopping_rounds` in `fit` method is deprecated for better compatibility with scikit-learn, use `early_stopping_rounds` in constructor or`set_params` instead.\n",
      "  warnings.warn(\n"
     ]
    },
    {
     "name": "stdout",
     "output_type": "stream",
     "text": [
      "[1982]\tvalidation_0-rmse:6.11540\n",
      "fold: 3, score: 81.27873223044335\n",
      "[0]\tvalidation_0-rmse:73.55989\n"
     ]
    },
    {
     "name": "stderr",
     "output_type": "stream",
     "text": [
      "/home/tharun/.conda/envs/fastai/lib/python3.10/site-packages/xgboost/sklearn.py:793: UserWarning: `early_stopping_rounds` in `fit` method is deprecated for better compatibility with scikit-learn, use `early_stopping_rounds` in constructor or`set_params` instead.\n",
      "  warnings.warn(\n"
     ]
    },
    {
     "name": "stdout",
     "output_type": "stream",
     "text": [
      "[1975]\tvalidation_0-rmse:6.06268\n",
      "fold: 4, score: 81.76463015487047\n"
     ]
    }
   ],
   "source": [
    "test_scores = []\n",
    "final_valid_preds = {}\n",
    "\n",
    "for fold in range(5):\n",
    "    xtrain = train_df[train_df.kfold != fold].reset_index(drop=True)\n",
    "    xvalid = train_df[train_df.kfold == fold].reset_index(drop=True)\n",
    "    xtest = test_df.copy()\n",
    "    \n",
    "    ytrain = xtrain.Habitability_score\n",
    "    yvalid = xvalid.Habitability_score\n",
    "    valid_ids = xvalid.Property_ID\n",
    "    \n",
    "    xtrain = xtrain[useful_features]\n",
    "    xvalid = xvalid[useful_features]\n",
    "    xtest = xtest[useful_features]\n",
    "    \n",
    "    xtrain = ct.fit_transform(xtrain)\n",
    "    xvalid = ct.transform(xvalid)\n",
    "    xtest = ct.transform(xtest)\n",
    "    \n",
    "    model = XGBRegressor(random_state=13, n_estimators=7000, early_stopping_rounds=300, **study.best_params)\n",
    "    model.fit(xtrain, ytrain, eval_set=[(xvalid, yvalid)], verbose=3000)\n",
    "    \n",
    "    valid_preds = model.predict(xvalid)\n",
    "    test_preds = model.predict(xtest)\n",
    "    test_scores.append(test_preds)\n",
    "    print(f\"fold: {fold}, score: {max(0, 100 * r2_score(yvalid, valid_preds))}\")\n",
    "    \n",
    "    # save valid preds\n",
    "    final_valid_preds.update(dict(zip(valid_ids, valid_preds)))\n",
    "\n",
    "final_valid_preds = pd.DataFrame.from_dict(final_valid_preds, orient=\"index\").reset_index()\n",
    "final_valid_preds.columns = [\"Property_ID\", \"pred_normal\"]\n",
    "final_valid_preds.to_csv(results_path/\"xgb_valid_pred_1.csv\", index=False)"
   ]
  },
  {
   "cell_type": "code",
   "execution_count": 22,
   "id": "0e82814f-8005-4778-a8c7-cef3b1b54de6",
   "metadata": {},
   "outputs": [
    {
     "name": "stdout",
     "output_type": "stream",
     "text": [
      "(10500,) [28.535273 80.17297  66.95925  72.50698  77.72035 ]\n"
     ]
    }
   ],
   "source": [
    "test_scores = np.column_stack(test_scores)\n",
    "test_scores = np.mean(test_scores, axis=1)\n",
    "print(test_scores.shape, test_scores[:5])"
   ]
  },
  {
   "cell_type": "code",
   "execution_count": 23,
   "id": "e0999fd0-faf9-4e49-86c7-da9b4fd38a77",
   "metadata": {},
   "outputs": [
    {
     "data": {
      "text/html": [
       "<div>\n",
       "<style scoped>\n",
       "    .dataframe tbody tr th:only-of-type {\n",
       "        vertical-align: middle;\n",
       "    }\n",
       "\n",
       "    .dataframe tbody tr th {\n",
       "        vertical-align: top;\n",
       "    }\n",
       "\n",
       "    .dataframe thead th {\n",
       "        text-align: right;\n",
       "    }\n",
       "</style>\n",
       "<table border=\"1\" class=\"dataframe\">\n",
       "  <thead>\n",
       "    <tr style=\"text-align: right;\">\n",
       "      <th></th>\n",
       "      <th>Property_ID</th>\n",
       "      <th>Habitability_score</th>\n",
       "    </tr>\n",
       "  </thead>\n",
       "  <tbody>\n",
       "    <tr>\n",
       "      <th>0</th>\n",
       "      <td>0x6e93</td>\n",
       "      <td>28.535273</td>\n",
       "    </tr>\n",
       "    <tr>\n",
       "      <th>1</th>\n",
       "      <td>0x8787</td>\n",
       "      <td>80.172974</td>\n",
       "    </tr>\n",
       "    <tr>\n",
       "      <th>2</th>\n",
       "      <td>0x6c17</td>\n",
       "      <td>66.959251</td>\n",
       "    </tr>\n",
       "    <tr>\n",
       "      <th>3</th>\n",
       "      <td>0x9dbd</td>\n",
       "      <td>72.506981</td>\n",
       "    </tr>\n",
       "    <tr>\n",
       "      <th>4</th>\n",
       "      <td>0xbfde</td>\n",
       "      <td>77.720352</td>\n",
       "    </tr>\n",
       "  </tbody>\n",
       "</table>\n",
       "</div>"
      ],
      "text/plain": [
       "  Property_ID  Habitability_score\n",
       "0      0x6e93           28.535273\n",
       "1      0x8787           80.172974\n",
       "2      0x6c17           66.959251\n",
       "3      0x9dbd           72.506981\n",
       "4      0xbfde           77.720352"
      ]
     },
     "execution_count": 23,
     "metadata": {},
     "output_type": "execute_result"
    }
   ],
   "source": [
    "subm_df = make_sub_file(test_df.Property_ID, test_scores)\n",
    "subm_df.head()"
   ]
  },
  {
   "cell_type": "code",
   "execution_count": 24,
   "id": "9472f609-e0ee-4c21-815c-862c18cdcb00",
   "metadata": {},
   "outputs": [],
   "source": [
    "subm_df.to_csv(dataset_path/\"subm_v3.csv\", index=False)\n",
    "subm_df.to_csv(results_path/\"xgb_test_pred_1.csv\", index=False)"
   ]
  }
 ],
 "metadata": {
  "kernelspec": {
   "display_name": "Python 3 (ipykernel)",
   "language": "python",
   "name": "python3"
  },
  "language_info": {
   "codemirror_mode": {
    "name": "ipython",
    "version": 3
   },
   "file_extension": ".py",
   "mimetype": "text/x-python",
   "name": "python",
   "nbconvert_exporter": "python",
   "pygments_lexer": "ipython3",
   "version": "3.10.4"
  }
 },
 "nbformat": 4,
 "nbformat_minor": 5
}
