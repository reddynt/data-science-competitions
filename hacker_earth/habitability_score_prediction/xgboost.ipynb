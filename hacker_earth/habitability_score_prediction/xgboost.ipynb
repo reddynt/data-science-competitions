{
 "cells": [
  {
   "cell_type": "markdown",
   "id": "62b28ce4-8675-4533-aafc-59c9a5dd737c",
   "metadata": {},
   "source": [
    "https://www.hackerearth.com/challenges/competitive/get-a-room-ml-hackathon/machine-learning/identify-the-habitability-score-of-a-property-12-464aae3e/"
   ]
  },
  {
   "cell_type": "code",
   "execution_count": 2,
   "id": "5689447a-3205-4790-b470-9ead5e4a044b",
   "metadata": {},
   "outputs": [],
   "source": [
    "# imports\n",
    "\n",
    "import os\n",
    "from pathlib import Path\n",
    "\n",
    "import numpy as np\n",
    "import pandas as pd\n",
    "import seaborn as sns\n",
    "from matplotlib import pyplot as plt"
   ]
  },
  {
   "cell_type": "code",
   "execution_count": 3,
   "id": "59da6ae2-c77e-4e8e-8f33-faee9e3e215b",
   "metadata": {},
   "outputs": [
    {
     "name": "stdout",
     "output_type": "stream",
     "text": [
      "['train_v2.csv', 'train.csv', 'train_v1.csv', 'subm_v1.csv', 'subm_v2.csv', 'sample_submission.csv', 'test.csv', 'test_v1.csv']\n"
     ]
    }
   ],
   "source": [
    "dataset_path = Path(\"/home/tharun/projects/data_science_competitions/datasets/he_habitability/\")\n",
    "print([x.name for x in dataset_path.iterdir()])"
   ]
  },
  {
   "cell_type": "code",
   "execution_count": 73,
   "id": "4b76b88b-60d7-4d20-bb1e-0028cd392034",
   "metadata": {},
   "outputs": [
    {
     "data": {
      "text/plain": [
       "'/home/tharun/projects/data_science_competitions/hacker_earth/habitability_score_prediction/blending_results'"
      ]
     },
     "execution_count": 73,
     "metadata": {},
     "output_type": "execute_result"
    }
   ],
   "source": [
    "results_path = Path(\"/home/tharun/projects/data_science_competitions/hacker_earth/habitability_score_prediction/blending_results\")\n",
    "results_path.as_posix()"
   ]
  },
  {
   "cell_type": "code",
   "execution_count": 4,
   "id": "72b5123c-1439-4bac-b25b-103b279f3df4",
   "metadata": {},
   "outputs": [
    {
     "name": "stdout",
     "output_type": "stream",
     "text": [
      "(39500, 16) (10500, 14)\n"
     ]
    }
   ],
   "source": [
    "train_df = pd.read_csv(dataset_path/\"train_v2.csv\")\n",
    "test_df = pd.read_csv(dataset_path/\"test_v1.csv\")\n",
    "sample_submission_df = pd.read_csv(dataset_path/\"sample_submission.csv\")\n",
    "\n",
    "print(train_df.shape, test_df.shape)"
   ]
  },
  {
   "cell_type": "markdown",
   "id": "7b7e6f05-9a60-4a56-87d8-0585435d1062",
   "metadata": {},
   "source": [
    "## utils"
   ]
  },
  {
   "cell_type": "code",
   "execution_count": 5,
   "id": "98eed587-191d-4900-89e8-e087ee91a3a2",
   "metadata": {},
   "outputs": [],
   "source": [
    "def make_sub_file(test_ids, preds):\n",
    "    return pd.DataFrame.from_dict({\"Property_ID\": test_ids, \"Habitability_score\": preds})"
   ]
  },
  {
   "cell_type": "markdown",
   "id": "200c2508-2d8b-40a6-b75a-2695614b7b54",
   "metadata": {},
   "source": [
    "## data preprocessing"
   ]
  },
  {
   "cell_type": "code",
   "execution_count": 6,
   "id": "68d17b90-2623-4b85-abc5-ecd83271edae",
   "metadata": {},
   "outputs": [
    {
     "data": {
      "text/plain": [
       "['Property_Type',\n",
       " 'Property_Area',\n",
       " 'Number_of_Windows',\n",
       " 'Number_of_Doors',\n",
       " 'Furnishing',\n",
       " 'Frequency_of_Powercuts',\n",
       " 'Power_Backup',\n",
       " 'Water_Supply',\n",
       " 'Traffic_Density_Score',\n",
       " 'Crime_Rate',\n",
       " 'Dust_and_Noise',\n",
       " 'Air_Quality_Index',\n",
       " 'Neighborhood_Review']"
      ]
     },
     "execution_count": 6,
     "metadata": {},
     "output_type": "execute_result"
    }
   ],
   "source": [
    "useful_features = [col for col in train_df.columns if col not in [\"Property_ID\", \"Habitability_score\", \"kfold\"]]\n",
    "useful_features"
   ]
  },
  {
   "cell_type": "markdown",
   "id": "56d609cb-e955-4433-b7d0-87012c5998ec",
   "metadata": {},
   "source": [
    "## model build - hyperparameter tuning"
   ]
  },
  {
   "cell_type": "code",
   "execution_count": 43,
   "id": "e95b97db-8297-4d67-8394-a0f3ab696565",
   "metadata": {},
   "outputs": [],
   "source": [
    "from sklearn.preprocessing import OneHotEncoder\n",
    "from sklearn.compose import ColumnTransformer\n",
    "from sklearn.preprocessing import StandardScaler\n",
    "from sklearn.pipeline import Pipeline\n",
    "\n",
    "from xgboost import XGBRegressor\n",
    "import optuna\n",
    "\n",
    "from sklearn.metrics import r2_score, mean_squared_error"
   ]
  },
  {
   "cell_type": "code",
   "execution_count": 8,
   "id": "52061451-0257-429f-97fb-531a6cf9e089",
   "metadata": {},
   "outputs": [],
   "source": [
    "cat_cols = [\"Property_Type\", \"Furnishing\", \"Power_Backup\", \"Water_Supply\", \"Crime_Rate\", \"Dust_and_Noise\"]\n",
    "num_cols = [\"Property_Area\", \"Number_of_Windows\", \"Number_of_Doors\", \"Frequency_of_Powercuts\", \"Traffic_Density_Score\", \"Air_Quality_Index\", \"Neighborhood_Review\"]"
   ]
  },
  {
   "cell_type": "code",
   "execution_count": 9,
   "id": "b567f258-cc6b-4feb-b012-6bedd939311c",
   "metadata": {},
   "outputs": [],
   "source": [
    "ct = ColumnTransformer([\n",
    "    (\"num\", StandardScaler(), num_cols),\n",
    "    (\"cat\", OneHotEncoder(handle_unknown=\"ignore\", drop=\"first\"), cat_cols)\n",
    "])"
   ]
  },
  {
   "cell_type": "code",
   "execution_count": 81,
   "id": "2c206736-e828-4f04-9102-994c3591e024",
   "metadata": {},
   "outputs": [],
   "source": [
    "def objective(trial):\n",
    "    scores = []\n",
    "    \n",
    "    for fold in range(5):\n",
    "        learning_rate = trial.suggest_float(\"learning_rate\", 1e-2, 0.25, log=True)\n",
    "        reg_lambda = trial.suggest_loguniform(\"reg_lambda\", 1e-8, 100.)\n",
    "        reg_alpha = trial.suggest_loguniform(\"reg_alpha\", 1e-8, 100.)\n",
    "        subsample = trial.suggest_float(\"subsample\", 0.1, 1.)\n",
    "        colsample_bytree = trial.suggest_float(\"colsample_bytree\", 0.1, 1.)\n",
    "        max_depth = trial.suggest_int(\"max_depth\", 1, 7)\n",
    "        \n",
    "        xtrain = train_df[train_df.kfold != fold].reset_index(drop=True)\n",
    "        xvalid = train_df[train_df.kfold == fold].reset_index(drop=True)\n",
    "        \n",
    "        ytrain = xtrain.loc[:, \"Habitability_score\"]\n",
    "        yvalid = xvalid.loc[:, \"Habitability_score\"]\n",
    "        \n",
    "        xtrain = xtrain[useful_features]\n",
    "        xvalid = xvalid[useful_features]\n",
    "        \n",
    "        ct = ColumnTransformer([\n",
    "            (\"num\", StandardScaler(), num_cols),\n",
    "            (\"cat\", OneHotEncoder(handle_unknown=\"ignore\", drop=\"first\"), cat_cols)\n",
    "        ])\n",
    "        \n",
    "        xtrain = ct.fit_transform(xtrain)\n",
    "        xvalid = ct.transform(xvalid)\n",
    "        \n",
    "        model = XGBRegressor(random_state=13,\n",
    "                             tree_method=\"gpu_hist\",\n",
    "                             gpu_id=0,\n",
    "                             predictor=\"gpu_predictor\",\n",
    "                             n_estimators=11000,\n",
    "                             learning_rate=learning_rate,\n",
    "                             reg_lambda=reg_lambda,\n",
    "                             reg_alpha=reg_alpha,\n",
    "                             subsample=subsample,\n",
    "                             colsample_bytree=colsample_bytree,\n",
    "                             max_depth=max_depth)\n",
    "        model.fit(xtrain, ytrain, early_stopping_rounds=300, eval_set=[(xvalid, yvalid)], verbose=False)\n",
    "        preds_valid = model.predict(xvalid)\n",
    "        scores.append(max(0, 100 * r2_score(yvalid, preds_valid)))\n",
    "    \n",
    "    return np.mean(scores)"
   ]
  },
  {
   "cell_type": "code",
   "execution_count": 82,
   "id": "46074ff6-a71d-403e-8bc9-1c8e18f14eb6",
   "metadata": {
    "tags": []
   },
   "outputs": [
    {
     "name": "stderr",
     "output_type": "stream",
     "text": [
      "\u001b[32m[I 2022-08-13 19:05:01,981]\u001b[0m A new study created in memory with name: no-name-4db79f4c-1792-4531-a8a3-575622a7a6d2\u001b[0m\n",
      "\u001b[32m[I 2022-08-13 19:05:47,974]\u001b[0m Trial 0 finished with value: 79.54365753826991 and parameters: {'learning_rate': 0.01461442390345851, 'reg_lambda': 0.015503209625709337, 'reg_alpha': 5.766345824204118e-06, 'subsample': 0.6974626931906663, 'colsample_bytree': 0.4508465774265842, 'max_depth': 4}. Best is trial 0 with value: 79.54365753826991.\u001b[0m\n",
      "\u001b[32m[I 2022-08-13 19:06:19,911]\u001b[0m Trial 1 finished with value: 80.29435535644151 and parameters: {'learning_rate': 0.020293912423348236, 'reg_lambda': 3.479413048328403e-07, 'reg_alpha': 0.22631198855826626, 'subsample': 0.7226262563691809, 'colsample_bytree': 0.42125372599638367, 'max_depth': 5}. Best is trial 1 with value: 80.29435535644151.\u001b[0m\n",
      "\u001b[32m[I 2022-08-13 19:06:52,767]\u001b[0m Trial 2 finished with value: 80.18018573694144 and parameters: {'learning_rate': 0.027067112247632225, 'reg_lambda': 62.945301272706416, 'reg_alpha': 0.2180159260194487, 'subsample': 0.978854171904161, 'colsample_bytree': 0.9059799515743941, 'max_depth': 4}. Best is trial 1 with value: 80.29435535644151.\u001b[0m\n",
      "\u001b[32m[I 2022-08-13 19:07:10,281]\u001b[0m Trial 3 finished with value: 77.93546751085866 and parameters: {'learning_rate': 0.054106553758396216, 'reg_lambda': 5.8090369821376527e-05, 'reg_alpha': 4.252593103288296, 'subsample': 0.3385671933769641, 'colsample_bytree': 0.7775170071151811, 'max_depth': 3}. Best is trial 1 with value: 80.29435535644151.\u001b[0m\n",
      "\u001b[32m[I 2022-08-13 19:07:23,894]\u001b[0m Trial 4 finished with value: 79.91321256174511 and parameters: {'learning_rate': 0.04267657044222203, 'reg_lambda': 0.02060125183438174, 'reg_alpha': 7.148489629827964, 'subsample': 0.49614555780960523, 'colsample_bytree': 0.984622964128571, 'max_depth': 4}. Best is trial 1 with value: 80.29435535644151.\u001b[0m\n",
      "\u001b[32m[I 2022-08-13 19:07:29,620]\u001b[0m Trial 5 finished with value: 79.88380472898038 and parameters: {'learning_rate': 0.10154303761611437, 'reg_lambda': 0.4359232089639549, 'reg_alpha': 0.00797942249362678, 'subsample': 0.344256767751868, 'colsample_bytree': 0.7730105078843293, 'max_depth': 5}. Best is trial 1 with value: 80.29435535644151.\u001b[0m\n",
      "\u001b[32m[I 2022-08-13 19:07:45,707]\u001b[0m Trial 6 finished with value: 77.28383169691884 and parameters: {'learning_rate': 0.05542889797755608, 'reg_lambda': 0.02680599185589877, 'reg_alpha': 0.002707871759554827, 'subsample': 0.14515360913591896, 'colsample_bytree': 0.3580517700656931, 'max_depth': 4}. Best is trial 1 with value: 80.29435535644151.\u001b[0m\n",
      "\u001b[32m[I 2022-08-13 19:08:14,427]\u001b[0m Trial 7 finished with value: 81.75270436206752 and parameters: {'learning_rate': 0.0246401772984175, 'reg_lambda': 0.0009492152138153906, 'reg_alpha': 4.305226034035413e-05, 'subsample': 0.909782414067991, 'colsample_bytree': 0.6393688885475909, 'max_depth': 7}. Best is trial 7 with value: 81.75270436206752.\u001b[0m\n",
      "\u001b[32m[I 2022-08-13 19:08:29,411]\u001b[0m Trial 8 finished with value: 78.34394375668792 and parameters: {'learning_rate': 0.13841024992223974, 'reg_lambda': 15.356062172390796, 'reg_alpha': 17.746770032295405, 'subsample': 0.7207331282349908, 'colsample_bytree': 0.5589532858457392, 'max_depth': 3}. Best is trial 7 with value: 81.75270436206752.\u001b[0m\n",
      "\u001b[32m[I 2022-08-13 19:08:38,603]\u001b[0m Trial 9 finished with value: 73.98364331997004 and parameters: {'learning_rate': 0.10614891708652072, 'reg_lambda': 1.2118697422881695e-07, 'reg_alpha': 0.06564426297003406, 'subsample': 0.8935327818400863, 'colsample_bytree': 0.9131184644129475, 'max_depth': 2}. Best is trial 7 with value: 81.75270436206752.\u001b[0m\n",
      "\u001b[32m[I 2022-08-13 19:11:52,076]\u001b[0m Trial 10 finished with value: 77.51039291184635 and parameters: {'learning_rate': 0.01176134945809348, 'reg_lambda': 7.102161248881644e-05, 'reg_alpha': 1.9694270407903533e-08, 'subsample': 0.8574288002050149, 'colsample_bytree': 0.23585969537998264, 'max_depth': 7}. Best is trial 7 with value: 81.75270436206752.\u001b[0m\n",
      "\u001b[32m[I 2022-08-13 19:12:23,946]\u001b[0m Trial 11 finished with value: 81.54666046495451 and parameters: {'learning_rate': 0.022019789173525667, 'reg_lambda': 1.0026734463442237e-08, 'reg_alpha': 3.274506698161447e-05, 'subsample': 0.7203725885370263, 'colsample_bytree': 0.590705318956027, 'max_depth': 7}. Best is trial 7 with value: 81.75270436206752.\u001b[0m\n",
      "\u001b[32m[I 2022-08-13 19:12:44,332]\u001b[0m Trial 12 finished with value: 81.64269983630167 and parameters: {'learning_rate': 0.028176419300507474, 'reg_lambda': 1.596562621929295e-08, 'reg_alpha': 1.4690687627691869e-05, 'subsample': 0.5825620848503152, 'colsample_bytree': 0.6477469556931847, 'max_depth': 7}. Best is trial 7 with value: 81.75270436206752.\u001b[0m\n",
      "\u001b[32m[I 2022-08-13 19:12:49,708]\u001b[0m Trial 13 finished with value: 80.1934270121825 and parameters: {'learning_rate': 0.23825704243569978, 'reg_lambda': 1.396649745541121e-05, 'reg_alpha': 1.5400950448173532e-05, 'subsample': 0.5298369259364668, 'colsample_bytree': 0.7011655054893212, 'max_depth': 6}. Best is trial 7 with value: 81.75270436206752.\u001b[0m\n",
      "\u001b[32m[I 2022-08-13 19:13:06,192]\u001b[0m Trial 14 finished with value: 80.79773049669079 and parameters: {'learning_rate': 0.03528967819393154, 'reg_lambda': 1.3615208219787492e-06, 'reg_alpha': 2.1644438351868342e-07, 'subsample': 0.38404039013259017, 'colsample_bytree': 0.670103576309214, 'max_depth': 6}. Best is trial 7 with value: 81.75270436206752.\u001b[0m\n",
      "\u001b[32m[I 2022-08-13 19:14:36,239]\u001b[0m Trial 15 finished with value: 69.97558960299347 and parameters: {'learning_rate': 0.015793872970778746, 'reg_lambda': 0.0009050179869708903, 'reg_alpha': 0.00033639988351519, 'subsample': 0.10143367680370474, 'colsample_bytree': 0.10681495513772127, 'max_depth': 7}. Best is trial 7 with value: 81.75270436206752.\u001b[0m\n",
      "\u001b[32m[I 2022-08-13 19:14:45,908]\u001b[0m Trial 16 finished with value: 61.39768454962929 and parameters: {'learning_rate': 0.029934114114741308, 'reg_lambda': 1.0781309659260746e-08, 'reg_alpha': 8.588042097334923e-07, 'subsample': 0.6146620851792213, 'colsample_bytree': 0.49025567694179206, 'max_depth': 1}. Best is trial 7 with value: 81.75270436206752.\u001b[0m\n",
      "\u001b[32m[I 2022-08-13 19:15:19,416]\u001b[0m Trial 17 finished with value: 81.35031337979025 and parameters: {'learning_rate': 0.0178830405886359, 'reg_lambda': 1.8032006395145095, 'reg_alpha': 0.00015808742414832465, 'subsample': 0.8781508041412818, 'colsample_bytree': 0.6352538350946895, 'max_depth': 6}. Best is trial 7 with value: 81.75270436206752.\u001b[0m\n",
      "\u001b[32m[I 2022-08-13 19:15:56,733]\u001b[0m Trial 18 finished with value: 80.85176593953346 and parameters: {'learning_rate': 0.010233704209547194, 'reg_lambda': 0.0006371759757620952, 'reg_alpha': 6.52843795344353e-07, 'subsample': 0.24186206599071441, 'colsample_bytree': 0.791991127640341, 'max_depth': 6}. Best is trial 7 with value: 81.75270436206752.\u001b[0m\n",
      "\u001b[32m[I 2022-08-13 19:16:11,366]\u001b[0m Trial 19 finished with value: 78.96098206432443 and parameters: {'learning_rate': 0.06765392869483298, 'reg_lambda': 1.5658830095592715e-05, 'reg_alpha': 1.8081577436441773e-08, 'subsample': 0.4446171473834608, 'colsample_bytree': 0.3280186135540531, 'max_depth': 5}. Best is trial 7 with value: 81.75270436206752.\u001b[0m\n",
      "\u001b[32m[I 2022-08-13 19:16:29,490]\u001b[0m Trial 20 finished with value: 81.24925400253736 and parameters: {'learning_rate': 0.03769294585183559, 'reg_lambda': 1.75238506203445e-06, 'reg_alpha': 0.00018501086577229082, 'subsample': 0.608890318506853, 'colsample_bytree': 0.5345381794857467, 'max_depth': 7}. Best is trial 7 with value: 81.75270436206752.\u001b[0m\n",
      "\u001b[32m[I 2022-08-13 19:16:58,374]\u001b[0m Trial 21 finished with value: 81.70124131542998 and parameters: {'learning_rate': 0.023649071045096583, 'reg_lambda': 1.7375279974346378e-08, 'reg_alpha': 2.138872393330494e-05, 'subsample': 0.8058853447764309, 'colsample_bytree': 0.60328401422519, 'max_depth': 7}. Best is trial 7 with value: 81.75270436206752.\u001b[0m\n",
      "\u001b[32m[I 2022-08-13 19:17:22,592]\u001b[0m Trial 22 finished with value: 81.83073903194838 and parameters: {'learning_rate': 0.024149562986592495, 'reg_lambda': 6.537073794855674e-08, 'reg_alpha': 5.095816898428905e-06, 'subsample': 0.9935160251283383, 'colsample_bytree': 0.6991216353774539, 'max_depth': 7}. Best is trial 22 with value: 81.83073903194838.\u001b[0m\n",
      "\u001b[32m[I 2022-08-13 19:17:47,309]\u001b[0m Trial 23 finished with value: 81.32359410727335 and parameters: {'learning_rate': 0.021122680195742316, 'reg_lambda': 1.1340868672978164e-07, 'reg_alpha': 3.5195043594888614e-06, 'subsample': 0.9920964635677763, 'colsample_bytree': 0.7270791030494761, 'max_depth': 6}. Best is trial 22 with value: 81.83073903194838.\u001b[0m\n",
      "\u001b[32m[I 2022-08-13 19:18:22,685]\u001b[0m Trial 24 finished with value: 81.95485217579717 and parameters: {'learning_rate': 0.014171773227859228, 'reg_lambda': 1.2864056766200511e-06, 'reg_alpha': 9.396411499447409e-08, 'subsample': 0.8154356307079423, 'colsample_bytree': 0.8217067587374596, 'max_depth': 7}. Best is trial 24 with value: 81.95485217579717.\u001b[0m\n",
      "\u001b[32m[I 2022-08-13 19:18:57,036]\u001b[0m Trial 25 finished with value: 81.47356845825445 and parameters: {'learning_rate': 0.0135616759118211, 'reg_lambda': 3.104791587048853e-06, 'reg_alpha': 1.0813534663725368e-07, 'subsample': 0.9222069378724028, 'colsample_bytree': 0.8589042680702077, 'max_depth': 6}. Best is trial 24 with value: 81.95485217579717.\u001b[0m\n",
      "\u001b[32m[I 2022-08-13 19:19:29,458]\u001b[0m Trial 26 finished with value: 80.89741468779462 and parameters: {'learning_rate': 0.01296638112118151, 'reg_lambda': 0.00015790018403014474, 'reg_alpha': 1.012035486997025e-06, 'subsample': 0.8053180154649908, 'colsample_bytree': 0.8490771651057423, 'max_depth': 5}. Best is trial 24 with value: 81.95485217579717.\u001b[0m\n",
      "\u001b[32m[I 2022-08-13 19:20:02,450]\u001b[0m Trial 27 finished with value: 81.92033166219284 and parameters: {'learning_rate': 0.01723657064217823, 'reg_lambda': 0.0049173204897588595, 'reg_alpha': 1.0569831536641538e-07, 'subsample': 0.9445852081847964, 'colsample_bytree': 0.7275353310104197, 'max_depth': 7}. Best is trial 24 with value: 81.95485217579717.\u001b[0m\n",
      "\u001b[32m[I 2022-08-13 19:20:27,503]\u001b[0m Trial 28 finished with value: 81.56044890062313 and parameters: {'learning_rate': 0.0172785947832828, 'reg_lambda': 8.67998404422926e-08, 'reg_alpha': 1.57103247057189e-07, 'subsample': 0.809950783922478, 'colsample_bytree': 0.9970259441407372, 'max_depth': 6}. Best is trial 24 with value: 81.95485217579717.\u001b[0m\n",
      "\u001b[32m[I 2022-08-13 19:21:02,031]\u001b[0m Trial 29 finished with value: 81.92504848853612 and parameters: {'learning_rate': 0.015979754575959373, 'reg_lambda': 0.008536778466849523, 'reg_alpha': 1.1798193545034673e-08, 'subsample': 0.9671758157743724, 'colsample_bytree': 0.7349941470726675, 'max_depth': 7}. Best is trial 24 with value: 81.95485217579717.\u001b[0m\n",
      "\u001b[32m[I 2022-08-13 19:21:39,107]\u001b[0m Trial 30 finished with value: 80.78385026694112 and parameters: {'learning_rate': 0.011201614973405029, 'reg_lambda': 0.09630558951127935, 'reg_alpha': 1.2859481805049178e-08, 'subsample': 0.672643542571397, 'colsample_bytree': 0.8253556195854552, 'max_depth': 5}. Best is trial 24 with value: 81.95485217579717.\u001b[0m\n",
      "\u001b[32m[I 2022-08-13 19:22:15,569]\u001b[0m Trial 31 finished with value: 81.92558875742002 and parameters: {'learning_rate': 0.015210094180940268, 'reg_lambda': 0.004869345939735289, 'reg_alpha': 6.192279040292985e-08, 'subsample': 0.9616223402301909, 'colsample_bytree': 0.7318779094779897, 'max_depth': 7}. Best is trial 24 with value: 81.95485217579717.\u001b[0m\n",
      "\u001b[32m[I 2022-08-13 19:22:51,766]\u001b[0m Trial 32 finished with value: 81.93236812322007 and parameters: {'learning_rate': 0.01532331772755119, 'reg_lambda': 0.004010994477870452, 'reg_alpha': 7.341243697250352e-08, 'subsample': 0.9510983674771838, 'colsample_bytree': 0.7325090132144487, 'max_depth': 7}. Best is trial 24 with value: 81.95485217579717.\u001b[0m\n",
      "\u001b[32m[I 2022-08-13 19:23:20,753]\u001b[0m Trial 33 finished with value: 81.54122814771377 and parameters: {'learning_rate': 0.014013487295621114, 'reg_lambda': 0.005889692970034776, 'reg_alpha': 5.075029476551316e-08, 'subsample': 0.8346487831266489, 'colsample_bytree': 0.9127294043261627, 'max_depth': 6}. Best is trial 24 with value: 81.95485217579717.\u001b[0m\n",
      "\u001b[32m[I 2022-08-13 19:23:57,141]\u001b[0m Trial 34 finished with value: 81.94008003300421 and parameters: {'learning_rate': 0.015086227245784707, 'reg_lambda': 0.1307906328603166, 'reg_alpha': 4.135908294587419e-07, 'subsample': 0.9433682121597189, 'colsample_bytree': 0.7604687224567777, 'max_depth': 7}. Best is trial 24 with value: 81.95485217579717.\u001b[0m\n",
      "\u001b[32m[I 2022-08-13 19:24:19,406]\u001b[0m Trial 35 finished with value: 81.50659561321027 and parameters: {'learning_rate': 0.01998625908485872, 'reg_lambda': 0.1528732705695616, 'reg_alpha': 4.6831321514870617e-07, 'subsample': 0.7597107818523076, 'colsample_bytree': 0.8871912180524978, 'max_depth': 6}. Best is trial 24 with value: 81.95485217579717.\u001b[0m\n",
      "\u001b[32m[I 2022-08-13 19:25:05,610]\u001b[0m Trial 36 finished with value: 81.9836652679049 and parameters: {'learning_rate': 0.01166588546837876, 'reg_lambda': 0.6476535649653965, 'reg_alpha': 2.4122501496110636e-06, 'subsample': 0.9239745233435972, 'colsample_bytree': 0.7915584240761211, 'max_depth': 7}. Best is trial 36 with value: 81.9836652679049.\u001b[0m\n",
      "\u001b[32m[I 2022-08-13 19:25:51,538]\u001b[0m Trial 37 finished with value: 78.11806436106492 and parameters: {'learning_rate': 0.010193108551977642, 'reg_lambda': 0.7562483139803948, 'reg_alpha': 2.071011281811815e-06, 'subsample': 0.7829332246971755, 'colsample_bytree': 0.7894442420455664, 'max_depth': 3}. Best is trial 36 with value: 81.9836652679049.\u001b[0m\n",
      "\u001b[32m[I 2022-08-13 19:26:27,725]\u001b[0m Trial 38 finished with value: 80.9032159508325 and parameters: {'learning_rate': 0.012415920063615863, 'reg_lambda': 5.910085241055398, 'reg_alpha': 2.1549383406677873e-06, 'subsample': 0.6616645795964713, 'colsample_bytree': 0.9602874153740916, 'max_depth': 5}. Best is trial 36 with value: 81.9836652679049.\u001b[0m\n",
      "\u001b[32m[I 2022-08-13 19:27:02,481]\u001b[0m Trial 39 finished with value: 81.56252884524588 and parameters: {'learning_rate': 0.032191160443991576, 'reg_lambda': 93.60220033425863, 'reg_alpha': 2.4710220532079106e-07, 'subsample': 0.8678766386125473, 'colsample_bytree': 0.8296663296514409, 'max_depth': 7}. Best is trial 36 with value: 81.9836652679049.\u001b[0m\n",
      "\u001b[32m[I 2022-08-13 19:27:46,185]\u001b[0m Trial 40 finished with value: 80.06878235843752 and parameters: {'learning_rate': 0.013735713201215253, 'reg_lambda': 0.0775688794155561, 'reg_alpha': 0.7665979223890538, 'subsample': 0.921122414323208, 'colsample_bytree': 0.7785623479663236, 'max_depth': 4}. Best is trial 36 with value: 81.9836652679049.\u001b[0m\n",
      "\u001b[32m[I 2022-08-13 19:28:16,382]\u001b[0m Trial 41 finished with value: 81.90064895833088 and parameters: {'learning_rate': 0.019163730869298266, 'reg_lambda': 0.029506350654682142, 'reg_alpha': 5.0117117580391904e-08, 'subsample': 0.9414585557825926, 'colsample_bytree': 0.7534397079704869, 'max_depth': 7}. Best is trial 36 with value: 81.9836652679049.\u001b[0m\n",
      "\u001b[32m[I 2022-08-13 19:28:48,537]\u001b[0m Trial 42 finished with value: 81.98469905702544 and parameters: {'learning_rate': 0.015773258768560745, 'reg_lambda': 0.0033449874253174625, 'reg_alpha': 4.653831483565427e-08, 'subsample': 0.8949498576373192, 'colsample_bytree': 0.945378416008444, 'max_depth': 7}. Best is trial 42 with value: 81.98469905702544.\u001b[0m\n",
      "\u001b[32m[I 2022-08-13 19:29:26,150]\u001b[0m Trial 43 finished with value: 81.55336818452062 and parameters: {'learning_rate': 0.011590324426531223, 'reg_lambda': 0.34008460969942134, 'reg_alpha': 3.01502414795598e-08, 'subsample': 0.8822974223517601, 'colsample_bytree': 0.9492938716680308, 'max_depth': 6}. Best is trial 42 with value: 81.98469905702544.\u001b[0m\n",
      "\u001b[32m[I 2022-08-13 19:29:41,493]\u001b[0m Trial 44 finished with value: 81.85238164996788 and parameters: {'learning_rate': 0.04716498930018152, 'reg_lambda': 0.00019696983181151018, 'reg_alpha': 2.1181200442324358e-07, 'subsample': 0.7521679593773924, 'colsample_bytree': 0.8704679964976136, 'max_depth': 7}. Best is trial 42 with value: 81.98469905702544.\u001b[0m\n",
      "\u001b[32m[I 2022-08-13 19:30:27,580]\u001b[0m Trial 45 finished with value: 82.02113454566727 and parameters: {'learning_rate': 0.010196900924723725, 'reg_lambda': 0.0021875365742305103, 'reg_alpha': 0.0029311944627226647, 'subsample': 0.849003261207241, 'colsample_bytree': 0.9276529040809959, 'max_depth': 7}. Best is trial 45 with value: 82.02113454566727.\u001b[0m\n",
      "\u001b[32m[I 2022-08-13 19:31:09,201]\u001b[0m Trial 46 finished with value: 81.51259606997253 and parameters: {'learning_rate': 0.010264338177813982, 'reg_lambda': 3.1002994193968663, 'reg_alpha': 0.004379860618441812, 'subsample': 0.8477038574727233, 'colsample_bytree': 0.9378275310896582, 'max_depth': 6}. Best is trial 45 with value: 82.02113454566727.\u001b[0m\n",
      "\u001b[32m[I 2022-08-13 19:32:08,688]\u001b[0m Trial 47 finished with value: 81.782973777723 and parameters: {'learning_rate': 0.011661353681615963, 'reg_lambda': 18.227398257616905, 'reg_alpha': 0.028091169087177337, 'subsample': 0.9031659068992894, 'colsample_bytree': 0.8178457548276881, 'max_depth': 7}. Best is trial 45 with value: 82.02113454566727.\u001b[0m\n",
      "\u001b[32m[I 2022-08-13 19:32:24,160]\u001b[0m Trial 48 finished with value: 78.5319651046166 and parameters: {'learning_rate': 0.06382044642639016, 'reg_lambda': 0.0018284066301237365, 'reg_alpha': 0.0014694220980763836, 'subsample': 0.8383042455972644, 'colsample_bytree': 0.9099399888996069, 'max_depth': 3}. Best is trial 45 with value: 82.02113454566727.\u001b[0m\n",
      "\u001b[32m[I 2022-08-13 19:32:34,668]\u001b[0m Trial 49 finished with value: 61.40589917028753 and parameters: {'learning_rate': 0.025871587539315767, 'reg_lambda': 0.02799582331547508, 'reg_alpha': 0.01220998236917985, 'subsample': 0.7489368030349453, 'colsample_bytree': 0.9804439665717826, 'max_depth': 1}. Best is trial 45 with value: 82.02113454566727.\u001b[0m\n",
      "\u001b[32m[I 2022-08-13 19:33:11,639]\u001b[0m Trial 50 finished with value: 73.83072979144075 and parameters: {'learning_rate': 0.012761900699120043, 'reg_lambda': 0.00025253682264515207, 'reg_alpha': 0.00010187940001629682, 'subsample': 0.8983381133614085, 'colsample_bytree': 0.8821508901822637, 'max_depth': 2}. Best is trial 45 with value: 82.02113454566727.\u001b[0m\n",
      "\u001b[32m[I 2022-08-13 19:33:47,175]\u001b[0m Trial 51 finished with value: 81.98318465286589 and parameters: {'learning_rate': 0.015177568113562868, 'reg_lambda': 0.001710540234679153, 'reg_alpha': 0.0005152362145558944, 'subsample': 0.9495147410400496, 'colsample_bytree': 0.9353374947225898, 'max_depth': 7}. Best is trial 45 with value: 82.02113454566727.\u001b[0m\n",
      "\u001b[32m[I 2022-08-13 19:34:15,035]\u001b[0m Trial 52 finished with value: 81.98752288491782 and parameters: {'learning_rate': 0.019151343954779333, 'reg_lambda': 0.0019411460644944774, 'reg_alpha': 0.0006182460741560347, 'subsample': 0.8570237553597126, 'colsample_bytree': 0.9290881030865532, 'max_depth': 7}. Best is trial 45 with value: 82.02113454566727.\u001b[0m\n",
      "\u001b[32m[I 2022-08-13 19:34:42,674]\u001b[0m Trial 53 finished with value: 81.96974355915656 and parameters: {'learning_rate': 0.01782540457128388, 'reg_lambda': 1.9446632651407665e-05, 'reg_alpha': 0.0007780893025843987, 'subsample': 0.7140212640848496, 'colsample_bytree': 0.9403248688365629, 'max_depth': 7}. Best is trial 45 with value: 82.02113454566727.\u001b[0m\n",
      "\u001b[32m[I 2022-08-13 19:35:05,125]\u001b[0m Trial 54 finished with value: 81.49484390077117 and parameters: {'learning_rate': 0.01869027998694313, 'reg_lambda': 2.8749349893666312e-05, 'reg_alpha': 0.00039970385864426176, 'subsample': 0.7002093805913302, 'colsample_bytree': 0.9399223347008004, 'max_depth': 6}. Best is trial 45 with value: 82.02113454566727.\u001b[0m\n",
      "\u001b[32m[I 2022-08-13 19:35:29,461]\u001b[0m Trial 55 finished with value: 82.0131078014331 and parameters: {'learning_rate': 0.021578886711388738, 'reg_lambda': 0.0004974191494076675, 'reg_alpha': 0.0011040706216384271, 'subsample': 0.8685275435900079, 'colsample_bytree': 0.986879154438751, 'max_depth': 7}. Best is trial 45 with value: 82.02113454566727.\u001b[0m\n",
      "\u001b[32m[I 2022-08-13 19:35:48,823]\u001b[0m Trial 56 finished with value: 81.8203537214035 and parameters: {'learning_rate': 0.027737693846697043, 'reg_lambda': 0.0017036796273206668, 'reg_alpha': 0.16336292925791834, 'subsample': 0.9983704605697421, 'colsample_bytree': 0.9811006350425856, 'max_depth': 7}. Best is trial 45 with value: 82.02113454566727.\u001b[0m\n",
      "\u001b[32m[I 2022-08-13 19:36:09,955]\u001b[0m Trial 57 finished with value: 81.49901948184618 and parameters: {'learning_rate': 0.02224013426691809, 'reg_lambda': 0.0004716017639499635, 'reg_alpha': 6.43315838893545e-05, 'subsample': 0.8671901573017723, 'colsample_bytree': 0.9016095875326584, 'max_depth': 6}. Best is trial 45 with value: 82.02113454566727.\u001b[0m\n",
      "\u001b[32m[I 2022-08-13 19:36:19,625]\u001b[0m Trial 58 finished with value: 80.79678219933481 and parameters: {'learning_rate': 0.09583484499757546, 'reg_lambda': 7.240176339886089e-05, 'reg_alpha': 0.002446614885586636, 'subsample': 0.23175853877803793, 'colsample_bytree': 0.9715535050343685, 'max_depth': 7}. Best is trial 45 with value: 82.02113454566727.\u001b[0m\n",
      "\u001b[32m[I 2022-08-13 19:36:28,460]\u001b[0m Trial 59 finished with value: 81.20631041898234 and parameters: {'learning_rate': 0.2412511003507011, 'reg_lambda': 0.0017434162647929283, 'reg_alpha': 0.022266465817626105, 'subsample': 0.7756975506844463, 'colsample_bytree': 0.9954495564032222, 'max_depth': 7}. Best is trial 45 with value: 82.02113454566727.\u001b[0m\n",
      "\u001b[32m[I 2022-08-13 19:36:41,174]\u001b[0m Trial 60 finished with value: 81.49383699546466 and parameters: {'learning_rate': 0.039022580478042586, 'reg_lambda': 0.021749484497125174, 'reg_alpha': 0.0009250813350483227, 'subsample': 0.9102556466553854, 'colsample_bytree': 0.9230740588723443, 'max_depth': 6}. Best is trial 45 with value: 82.02113454566727.\u001b[0m\n",
      "\u001b[32m[I 2022-08-13 19:37:08,258]\u001b[0m Trial 61 finished with value: 82.0009000234444 and parameters: {'learning_rate': 0.017434385043582058, 'reg_lambda': 6.826419649526469e-06, 'reg_alpha': 0.00030192484989305715, 'subsample': 0.8481836765230043, 'colsample_bytree': 0.9429152208605641, 'max_depth': 7}. Best is trial 45 with value: 82.02113454566727.\u001b[0m\n",
      "\u001b[32m[I 2022-08-13 19:37:33,413]\u001b[0m Trial 62 finished with value: 81.95166641189635 and parameters: {'learning_rate': 0.020825257301793416, 'reg_lambda': 5.736627726672314e-06, 'reg_alpha': 0.00030863706825297197, 'subsample': 0.8419947935544427, 'colsample_bytree': 0.8739608017493131, 'max_depth': 7}. Best is trial 45 with value: 82.02113454566727.\u001b[0m\n",
      "\u001b[32m[I 2022-08-13 19:38:03,694]\u001b[0m Trial 63 finished with value: 82.00528865531751 and parameters: {'learning_rate': 0.016617183488266008, 'reg_lambda': 0.00038457428692048465, 'reg_alpha': 1.0620150727039387e-05, 'subsample': 0.8805128849141229, 'colsample_bytree': 0.9598762744199831, 'max_depth': 7}. Best is trial 45 with value: 82.02113454566727.\u001b[0m\n",
      "\u001b[32m[I 2022-08-13 19:38:12,681]\u001b[0m Trial 64 finished with value: 81.35061744193321 and parameters: {'learning_rate': 0.18416414130461703, 'reg_lambda': 5.740680955940199e-07, 'reg_alpha': 1.640851886797394e-05, 'subsample': 0.7864856425055663, 'colsample_bytree': 0.8499711062010437, 'max_depth': 7}. Best is trial 45 with value: 82.02113454566727.\u001b[0m\n",
      "\u001b[32m[I 2022-08-13 19:38:41,912]\u001b[0m Trial 65 finished with value: 81.99543248266714 and parameters: {'learning_rate': 0.016591555654530854, 'reg_lambda': 0.0003527295968798207, 'reg_alpha': 0.005621376758890542, 'subsample': 0.8716472570305404, 'colsample_bytree': 0.9622731242888798, 'max_depth': 7}. Best is trial 45 with value: 82.02113454566727.\u001b[0m\n",
      "\u001b[32m[I 2022-08-13 19:39:16,873]\u001b[0m Trial 66 finished with value: 73.86131391278153 and parameters: {'learning_rate': 0.02272372319383726, 'reg_lambda': 0.00040436929957904497, 'reg_alpha': 0.00500110443634083, 'subsample': 0.8184028893860257, 'colsample_bytree': 0.4446844337724837, 'max_depth': 2}. Best is trial 45 with value: 82.02113454566727.\u001b[0m\n",
      "\u001b[32m[I 2022-08-13 19:39:33,019]\u001b[0m Trial 67 finished with value: 81.52963733564121 and parameters: {'learning_rate': 0.030315868423872343, 'reg_lambda': 5.5114786801588394e-05, 'reg_alpha': 0.0018740566931018349, 'subsample': 0.8767075305593257, 'colsample_bytree': 0.998694829009417, 'max_depth': 6}. Best is trial 45 with value: 82.02113454566727.\u001b[0m\n",
      "\u001b[32m[I 2022-08-13 19:39:58,595]\u001b[0m Trial 68 finished with value: 81.96496662696626 and parameters: {'learning_rate': 0.01715191715727082, 'reg_lambda': 0.012013980887229495, 'reg_alpha': 0.05878421964281983, 'subsample': 0.6638329599976815, 'colsample_bytree': 0.9613361325951539, 'max_depth': 7}. Best is trial 45 with value: 82.02113454566727.\u001b[0m\n",
      "\u001b[32m[I 2022-08-13 19:41:17,579]\u001b[0m Trial 69 finished with value: 78.16171094754074 and parameters: {'learning_rate': 0.0251655474587698, 'reg_lambda': 0.00011785866758035448, 'reg_alpha': 0.012697570858223104, 'subsample': 0.5223468604413051, 'colsample_bytree': 0.2735117304614085, 'max_depth': 7}. Best is trial 45 with value: 82.02113454566727.\u001b[0m\n",
      "\u001b[32m[I 2022-08-13 19:41:41,786]\u001b[0m Trial 70 finished with value: 81.96521880800108 and parameters: {'learning_rate': 0.020228397714408985, 'reg_lambda': 0.0007254412589866794, 'reg_alpha': 0.00018471814884879844, 'subsample': 0.7399040107777615, 'colsample_bytree': 0.8990088311074469, 'max_depth': 7}. Best is trial 45 with value: 82.02113454566727.\u001b[0m\n",
      "\u001b[32m[I 2022-08-13 19:42:11,852]\u001b[0m Trial 71 finished with value: 82.01953210534462 and parameters: {'learning_rate': 0.016282399564558767, 'reg_lambda': 0.00041097606216807013, 'reg_alpha': 5.629764657485031e-06, 'subsample': 0.86015204914612, 'colsample_bytree': 0.966278710272799, 'max_depth': 7}. Best is trial 45 with value: 82.02113454566727.\u001b[0m\n",
      "\u001b[32m[I 2022-08-13 19:42:42,609]\u001b[0m Trial 72 finished with value: 82.00124438260431 and parameters: {'learning_rate': 0.01650679050439669, 'reg_lambda': 0.00035860826597787385, 'reg_alpha': 9.152730124119687e-06, 'subsample': 0.8486611475937336, 'colsample_bytree': 0.9197514966128827, 'max_depth': 7}. Best is trial 45 with value: 82.02113454566727.\u001b[0m\n",
      "\u001b[32m[I 2022-08-13 19:43:09,706]\u001b[0m Trial 73 finished with value: 82.0134211386893 and parameters: {'learning_rate': 0.01881992684658996, 'reg_lambda': 7.128792012167981e-06, 'reg_alpha': 5.88498485148528e-05, 'subsample': 0.85748083903923, 'colsample_bytree': 0.9668205018146375, 'max_depth': 7}. Best is trial 45 with value: 82.02113454566727.\u001b[0m\n",
      "\u001b[32m[I 2022-08-13 19:43:37,811]\u001b[0m Trial 74 finished with value: 81.9877014796732 and parameters: {'learning_rate': 0.016416657712175178, 'reg_lambda': 8.481830974367086e-06, 'reg_alpha': 3.868822572200281e-05, 'subsample': 0.7941516987226556, 'colsample_bytree': 0.9636353108963747, 'max_depth': 7}. Best is trial 45 with value: 82.02113454566727.\u001b[0m\n",
      "\u001b[32m[I 2022-08-13 19:44:54,169]\u001b[0m Trial 75 finished with value: 70.48868811520626 and parameters: {'learning_rate': 0.014024868454699857, 'reg_lambda': 3.854197994358828e-05, 'reg_alpha': 6.578140329393737e-05, 'subsample': 0.8265505871744805, 'colsample_bytree': 0.11650670739338809, 'max_depth': 6}. Best is trial 45 with value: 82.02113454566727.\u001b[0m\n",
      "\u001b[32m[I 2022-08-13 19:45:18,577]\u001b[0m Trial 76 finished with value: 81.9426852713932 and parameters: {'learning_rate': 0.02374466831790027, 'reg_lambda': 0.00029388904187104524, 'reg_alpha': 1.1587472380239293e-05, 'subsample': 0.8545102398760867, 'colsample_bytree': 0.9048461278259065, 'max_depth': 7}. Best is trial 45 with value: 82.02113454566727.\u001b[0m\n",
      "\u001b[32m[I 2022-08-13 19:45:52,548]\u001b[0m Trial 77 finished with value: 81.99012700081457 and parameters: {'learning_rate': 0.013168932545871911, 'reg_lambda': 0.00012454320707683787, 'reg_alpha': 2.508283430556414e-05, 'subsample': 0.7772287993072, 'colsample_bytree': 0.9753354587519595, 'max_depth': 7}. Best is trial 45 with value: 82.02113454566727.\u001b[0m\n",
      "\u001b[32m[I 2022-08-13 19:46:18,813]\u001b[0m Trial 78 finished with value: 81.4391592261493 and parameters: {'learning_rate': 0.01837618433657795, 'reg_lambda': 4.458900576405601e-06, 'reg_alpha': 5.7206211862341245e-06, 'subsample': 0.9722014960617038, 'colsample_bytree': 0.8519683209610909, 'max_depth': 6}. Best is trial 45 with value: 82.02113454566727.\u001b[0m\n",
      "\u001b[32m[I 2022-08-13 19:47:03,411]\u001b[0m Trial 79 finished with value: 82.01611381957038 and parameters: {'learning_rate': 0.01079798916729784, 'reg_lambda': 4.579016959278294e-07, 'reg_alpha': 9.03636704020839e-06, 'subsample': 0.926834041714599, 'colsample_bytree': 0.8843000475659124, 'max_depth': 7}. Best is trial 45 with value: 82.02113454566727.\u001b[0m\n",
      "\u001b[32m[I 2022-08-13 19:47:48,463]\u001b[0m Trial 80 finished with value: 80.88354582167217 and parameters: {'learning_rate': 0.010486735489042389, 'reg_lambda': 4.7336176862477516e-07, 'reg_alpha': 7.710013978035274e-06, 'subsample': 0.920944768579629, 'colsample_bytree': 0.8732353084688316, 'max_depth': 5}. Best is trial 45 with value: 82.02113454566727.\u001b[0m\n",
      "\u001b[32m[I 2022-08-13 19:48:24,950]\u001b[0m Trial 81 finished with value: 82.01391323283273 and parameters: {'learning_rate': 0.0128929989553485, 'reg_lambda': 2.0217986071025417e-07, 'reg_alpha': 0.00012050235579335689, 'subsample': 0.8830444843293903, 'colsample_bytree': 0.920196855992193, 'max_depth': 7}. Best is trial 45 with value: 82.02113454566727.\u001b[0m\n",
      "\u001b[32m[I 2022-08-13 19:49:03,517]\u001b[0m Trial 82 finished with value: 82.02926346207573 and parameters: {'learning_rate': 0.012245229674987888, 'reg_lambda': 4.0355966147020935e-08, 'reg_alpha': 9.748792629770084e-05, 'subsample': 0.8853892871667846, 'colsample_bytree': 0.9129665323227963, 'max_depth': 7}. Best is trial 82 with value: 82.02926346207573.\u001b[0m\n",
      "\u001b[32m[I 2022-08-13 19:49:40,398]\u001b[0m Trial 83 finished with value: 82.0138842457325 and parameters: {'learning_rate': 0.01257516972042372, 'reg_lambda': 3.619491129214409e-08, 'reg_alpha': 0.00010268794277145124, 'subsample': 0.8899063256005079, 'colsample_bytree': 0.8850836777083327, 'max_depth': 7}. Best is trial 82 with value: 82.02926346207573.\u001b[0m\n",
      "\u001b[32m[I 2022-08-13 19:50:26,048]\u001b[0m Trial 84 finished with value: 81.96350660450321 and parameters: {'learning_rate': 0.010835318520113432, 'reg_lambda': 3.524959826275985e-08, 'reg_alpha': 0.00010353469725215359, 'subsample': 0.890769528159449, 'colsample_bytree': 0.8316019712582351, 'max_depth': 7}. Best is trial 82 with value: 82.02926346207573.\u001b[0m\n",
      "\u001b[32m[I 2022-08-13 19:51:04,041]\u001b[0m Trial 85 finished with value: 81.7529259742794 and parameters: {'learning_rate': 0.012525582526736516, 'reg_lambda': 2.329666393975919e-07, 'reg_alpha': 5.1394515103933475e-05, 'subsample': 0.44039374215361676, 'colsample_bytree': 0.8053155937770402, 'max_depth': 7}. Best is trial 82 with value: 82.02926346207573.\u001b[0m\n",
      "\u001b[32m[I 2022-08-13 19:51:38,555]\u001b[0m Trial 86 finished with value: 81.52618954140965 and parameters: {'learning_rate': 0.011549391588682126, 'reg_lambda': 3.664041495663541e-08, 'reg_alpha': 1.2089593488362342e-06, 'subsample': 0.8161876866325947, 'colsample_bytree': 0.8919123701815168, 'max_depth': 6}. Best is trial 82 with value: 82.02926346207573.\u001b[0m\n",
      "\u001b[32m[I 2022-08-13 19:52:14,092]\u001b[0m Trial 87 finished with value: 81.99340459869231 and parameters: {'learning_rate': 0.014436906567035012, 'reg_lambda': 1.5622742833606456e-07, 'reg_alpha': 3.987756948796518e-06, 'subsample': 0.9245355977980383, 'colsample_bytree': 0.8566905835573112, 'max_depth': 7}. Best is trial 82 with value: 82.02926346207573.\u001b[0m\n",
      "\u001b[32m[I 2022-08-13 19:52:50,891]\u001b[0m Trial 88 finished with value: 81.99597805596335 and parameters: {'learning_rate': 0.012389828343569245, 'reg_lambda': 4.040139926671886e-08, 'reg_alpha': 0.00011935463147997033, 'subsample': 0.8905447743745099, 'colsample_bytree': 0.9959365068253021, 'max_depth': 7}. Best is trial 82 with value: 82.02926346207573.\u001b[0m\n",
      "\u001b[32m[I 2022-08-13 19:53:50,357]\u001b[0m Trial 89 finished with value: 81.69517555843063 and parameters: {'learning_rate': 0.010663823374108958, 'reg_lambda': 1.846101251061176e-08, 'reg_alpha': 2.4198326384308196e-05, 'subsample': 0.9766538059208245, 'colsample_bytree': 0.5448000331414212, 'max_depth': 7}. Best is trial 82 with value: 82.02926346207573.\u001b[0m\n",
      "\u001b[32m[I 2022-08-13 19:54:46,588]\u001b[0m Trial 90 finished with value: 80.7086306091115 and parameters: {'learning_rate': 0.013624292321591808, 'reg_lambda': 8.480494892437199e-07, 'reg_alpha': 0.00022780331420252535, 'subsample': 0.9294112163363262, 'colsample_bytree': 0.39698938186126964, 'max_depth': 6}. Best is trial 82 with value: 82.02926346207573.\u001b[0m\n",
      "\u001b[32m[I 2022-08-13 19:55:26,825]\u001b[0m Trial 91 finished with value: 82.01821152685821 and parameters: {'learning_rate': 0.012048056856772568, 'reg_lambda': 2.560527627349103e-07, 'reg_alpha': 9.450607136472425e-06, 'subsample': 0.8287406953944868, 'colsample_bytree': 0.9193467389245584, 'max_depth': 7}. Best is trial 82 with value: 82.02926346207573.\u001b[0m\n",
      "\u001b[32m[I 2022-08-13 19:56:08,997]\u001b[0m Trial 92 finished with value: 82.03193944732614 and parameters: {'learning_rate': 0.01117667117792362, 'reg_lambda': 2.599104095222924e-07, 'reg_alpha': 3.606687763268759e-05, 'subsample': 0.9062746081520004, 'colsample_bytree': 0.9183658627123752, 'max_depth': 7}. Best is trial 92 with value: 82.03193944732614.\u001b[0m\n",
      "\u001b[32m[I 2022-08-13 19:56:51,856]\u001b[0m Trial 93 finished with value: 81.96038595463855 and parameters: {'learning_rate': 0.011199526465248308, 'reg_lambda': 3.085281254880082e-07, 'reg_alpha': 3.395313973601898e-05, 'subsample': 0.9593451976020535, 'colsample_bytree': 0.922428044296605, 'max_depth': 7}. Best is trial 92 with value: 82.03193944732614.\u001b[0m\n",
      "\u001b[32m[I 2022-08-13 19:57:37,678]\u001b[0m Trial 94 finished with value: 80.15422799103393 and parameters: {'learning_rate': 0.012237428919837983, 'reg_lambda': 2.196450823629155e-06, 'reg_alpha': 7.216136486792701e-05, 'subsample': 0.9029805013304316, 'colsample_bytree': 0.8807764664130093, 'max_depth': 4}. Best is trial 92 with value: 82.03193944732614.\u001b[0m\n",
      "\u001b[32m[I 2022-08-13 19:58:25,129]\u001b[0m Trial 95 finished with value: 82.00955142936601 and parameters: {'learning_rate': 0.010084735481236784, 'reg_lambda': 1.1794853893304136e-07, 'reg_alpha': 0.0011839909744166283, 'subsample': 0.9411398234158528, 'colsample_bytree': 0.8984449338098262, 'max_depth': 7}. Best is trial 92 with value: 82.03193944732614.\u001b[0m\n",
      "\u001b[32m[I 2022-08-13 19:59:03,266]\u001b[0m Trial 96 finished with value: 81.950417782065 and parameters: {'learning_rate': 0.013292638561645226, 'reg_lambda': 8.672050991330759e-07, 'reg_alpha': 1.986803028825287e-05, 'subsample': 0.8319954430285095, 'colsample_bytree': 0.8355732950015103, 'max_depth': 7}. Best is trial 92 with value: 82.03193944732614.\u001b[0m\n",
      "\u001b[32m[I 2022-08-13 19:59:44,405]\u001b[0m Trial 97 finished with value: 81.85961988633713 and parameters: {'learning_rate': 0.014832372835681923, 'reg_lambda': 6.378174403042108e-08, 'reg_alpha': 53.91040076972997, 'subsample': 0.8017500931569599, 'colsample_bytree': 0.9232982253807954, 'max_depth': 7}. Best is trial 92 with value: 82.03193944732614.\u001b[0m\n",
      "\u001b[32m[I 2022-08-13 20:00:23,713]\u001b[0m Trial 98 finished with value: 82.03541997421516 and parameters: {'learning_rate': 0.011052384287366561, 'reg_lambda': 1.595786085571993e-07, 'reg_alpha': 1.4830912184615704e-06, 'subsample': 0.9105041719605118, 'colsample_bytree': 0.9841150660618929, 'max_depth': 7}. Best is trial 98 with value: 82.03541997421516.\u001b[0m\n",
      "\u001b[32m[I 2022-08-13 20:01:05,899]\u001b[0m Trial 99 finished with value: 81.90863166505 and parameters: {'learning_rate': 0.011056633539350805, 'reg_lambda': 1.8631803250649537e-07, 'reg_alpha': 2.279521963149218e-06, 'subsample': 0.9831489373066471, 'colsample_bytree': 0.9456713982593306, 'max_depth': 7}. Best is trial 98 with value: 82.03541997421516.\u001b[0m\n"
     ]
    }
   ],
   "source": [
    "study = optuna.create_study(direction=\"maximize\")\n",
    "study.optimize(objective, n_trials=100)"
   ]
  },
  {
   "cell_type": "code",
   "execution_count": 83,
   "id": "2a5f04e2-736e-4b0f-800b-a8a549f926cf",
   "metadata": {
    "tags": []
   },
   "outputs": [
    {
     "data": {
      "text/plain": [
       "{'learning_rate': 0.011052384287366561,\n",
       " 'reg_lambda': 1.595786085571993e-07,\n",
       " 'reg_alpha': 1.4830912184615704e-06,\n",
       " 'subsample': 0.9105041719605118,\n",
       " 'colsample_bytree': 0.9841150660618929,\n",
       " 'max_depth': 7}"
      ]
     },
     "execution_count": 83,
     "metadata": {},
     "output_type": "execute_result"
    }
   ],
   "source": [
    "study.best_params"
   ]
  },
  {
   "cell_type": "code",
   "execution_count": 84,
   "id": "d2c6c53a-98bc-4efd-bd1b-1ed167b8a10f",
   "metadata": {},
   "outputs": [],
   "source": [
    "ct = ColumnTransformer([\n",
    "            (\"num\", StandardScaler(), num_cols),\n",
    "            (\"cat\", OneHotEncoder(handle_unknown=\"ignore\", drop=\"first\"), cat_cols)\n",
    "        ])"
   ]
  },
  {
   "cell_type": "code",
   "execution_count": 85,
   "id": "24e759af-7392-4364-b5a3-7493fff13da1",
   "metadata": {},
   "outputs": [
    {
     "name": "stdout",
     "output_type": "stream",
     "text": [
      "[0]\tvalidation_0-rmse:73.54119\n",
      "[1717]\tvalidation_0-rmse:5.86304\n",
      "fold: 0, score: 82.28625189920538\n",
      "[0]\tvalidation_0-rmse:73.58345\n",
      "[1979]\tvalidation_0-rmse:5.98446\n",
      "fold: 1, score: 81.81179035613894\n",
      "[0]\tvalidation_0-rmse:73.36105\n",
      "[1754]\tvalidation_0-rmse:5.92585\n",
      "fold: 2, score: 82.90830611651742\n",
      "[0]\tvalidation_0-rmse:73.63058\n",
      "[1668]\tvalidation_0-rmse:6.11740\n",
      "fold: 3, score: 81.25185617420708\n",
      "[0]\tvalidation_0-rmse:73.48405\n",
      "[1920]\tvalidation_0-rmse:6.07153\n",
      "fold: 4, score: 81.70426843012044\n"
     ]
    }
   ],
   "source": [
    "test_scores = []\n",
    "final_valid_preds = {}\n",
    "\n",
    "for fold in range(5):\n",
    "    xtrain = train_df[train_df.kfold != fold].reset_index(drop=True)\n",
    "    xvalid = train_df[train_df.kfold == fold].reset_index(drop=True)\n",
    "    xtest = test_df.copy()\n",
    "    \n",
    "    ytrain = xtrain.Habitability_score\n",
    "    yvalid = xvalid.Habitability_score\n",
    "    valid_ids = xvalid.Property_ID\n",
    "    \n",
    "    xtrain = xtrain[useful_features]\n",
    "    xvalid = xvalid[useful_features]\n",
    "    xtest = xtest[useful_features]\n",
    "    \n",
    "    xtrain = ct.fit_transform(xtrain)\n",
    "    xvalid = ct.transform(xvalid)\n",
    "    xtest = ct.transform(xtest)\n",
    "    \n",
    "    model = XGBRegressor(random_state=13, n_estimators=7000, **study.best_params)\n",
    "    model.fit(xtrain, ytrain, eval_set=[(xvalid, yvalid)], early_stopping_rounds=300, verbose=3000)\n",
    "    \n",
    "    valid_preds = model.predict(xvalid)\n",
    "    test_preds = model.predict(xtest)\n",
    "    test_scores.append(test_preds)\n",
    "    print(f\"fold: {fold}, score: {max(0, 100 * r2_score(yvalid, valid_preds))}\")\n",
    "    \n",
    "    # save valid preds\n",
    "    final_valid_preds.update(dict(zip(valid_ids, valid_preds)))\n",
    "\n",
    "final_valid_preds = pd.DataFrame.from_dict(final_valid_preds, orient=\"index\").reset_index()\n",
    "final_valid_preds.columns = [\"Property_ID\", \"pred_normal\"]\n",
    "final_valid_preds.to_csv(results_path/\"xgb_valid_pred_1.csv\", index=False)"
   ]
  },
  {
   "cell_type": "code",
   "execution_count": 86,
   "id": "0e82814f-8005-4778-a8c7-cef3b1b54de6",
   "metadata": {},
   "outputs": [
    {
     "name": "stdout",
     "output_type": "stream",
     "text": [
      "(10500,) [28.60104  80.304886 67.08022  72.995995 78.20897 ]\n"
     ]
    }
   ],
   "source": [
    "test_scores = np.column_stack(test_scores)\n",
    "test_scores = np.mean(test_scores, axis=1)\n",
    "print(test_scores.shape, test_scores[:5])"
   ]
  },
  {
   "cell_type": "code",
   "execution_count": 87,
   "id": "e0999fd0-faf9-4e49-86c7-da9b4fd38a77",
   "metadata": {},
   "outputs": [
    {
     "data": {
      "text/html": [
       "<div>\n",
       "<style scoped>\n",
       "    .dataframe tbody tr th:only-of-type {\n",
       "        vertical-align: middle;\n",
       "    }\n",
       "\n",
       "    .dataframe tbody tr th {\n",
       "        vertical-align: top;\n",
       "    }\n",
       "\n",
       "    .dataframe thead th {\n",
       "        text-align: right;\n",
       "    }\n",
       "</style>\n",
       "<table border=\"1\" class=\"dataframe\">\n",
       "  <thead>\n",
       "    <tr style=\"text-align: right;\">\n",
       "      <th></th>\n",
       "      <th>Property_ID</th>\n",
       "      <th>Habitability_score</th>\n",
       "    </tr>\n",
       "  </thead>\n",
       "  <tbody>\n",
       "    <tr>\n",
       "      <th>0</th>\n",
       "      <td>0x6e93</td>\n",
       "      <td>28.601040</td>\n",
       "    </tr>\n",
       "    <tr>\n",
       "      <th>1</th>\n",
       "      <td>0x8787</td>\n",
       "      <td>80.304886</td>\n",
       "    </tr>\n",
       "    <tr>\n",
       "      <th>2</th>\n",
       "      <td>0x6c17</td>\n",
       "      <td>67.080223</td>\n",
       "    </tr>\n",
       "    <tr>\n",
       "      <th>3</th>\n",
       "      <td>0x9dbd</td>\n",
       "      <td>72.995995</td>\n",
       "    </tr>\n",
       "    <tr>\n",
       "      <th>4</th>\n",
       "      <td>0xbfde</td>\n",
       "      <td>78.208969</td>\n",
       "    </tr>\n",
       "  </tbody>\n",
       "</table>\n",
       "</div>"
      ],
      "text/plain": [
       "  Property_ID  Habitability_score\n",
       "0      0x6e93           28.601040\n",
       "1      0x8787           80.304886\n",
       "2      0x6c17           67.080223\n",
       "3      0x9dbd           72.995995\n",
       "4      0xbfde           78.208969"
      ]
     },
     "execution_count": 87,
     "metadata": {},
     "output_type": "execute_result"
    }
   ],
   "source": [
    "subm_df = make_sub_file(test_df.Property_ID, test_scores)\n",
    "subm_df.head()"
   ]
  },
  {
   "cell_type": "code",
   "execution_count": 88,
   "id": "9472f609-e0ee-4c21-815c-862c18cdcb00",
   "metadata": {},
   "outputs": [],
   "source": [
    "subm_df.to_csv(dataset_path/\"subm_v3.csv\", index=False)\n",
    "subm_df.to_csv(results_path/\"xgb_test_pred_1.csv\", index=False)"
   ]
  }
 ],
 "metadata": {
  "kernelspec": {
   "display_name": "Python 3 (ipykernel)",
   "language": "python",
   "name": "python3"
  },
  "language_info": {
   "codemirror_mode": {
    "name": "ipython",
    "version": 3
   },
   "file_extension": ".py",
   "mimetype": "text/x-python",
   "name": "python",
   "nbconvert_exporter": "python",
   "pygments_lexer": "ipython3",
   "version": "3.10.4"
  }
 },
 "nbformat": 4,
 "nbformat_minor": 5
}
