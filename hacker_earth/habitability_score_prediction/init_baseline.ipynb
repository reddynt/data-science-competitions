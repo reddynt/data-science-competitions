{
 "cells": [
  {
   "cell_type": "markdown",
   "id": "14b45ef1-742c-4531-ad43-0ac5843f085b",
   "metadata": {},
   "source": [
    "https://www.hackerearth.com/challenges/competitive/get-a-room-ml-hackathon/machine-learning/identify-the-habitability-score-of-a-property-12-464aae3e/"
   ]
  },
  {
   "cell_type": "code",
   "execution_count": 1,
   "id": "dea0c8f6-eaec-40d3-ae11-d816bf344b40",
   "metadata": {},
   "outputs": [],
   "source": [
    "# imports\n",
    "\n",
    "import os\n",
    "from pathlib import Path\n",
    "\n",
    "import numpy as np\n",
    "import pandas as pd\n",
    "import seaborn as sns\n",
    "from matplotlib import pyplot as plt"
   ]
  },
  {
   "cell_type": "code",
   "execution_count": 2,
   "id": "3b69a3dd-6351-4f1c-8952-c5da32475fef",
   "metadata": {},
   "outputs": [
    {
     "name": "stdout",
     "output_type": "stream",
     "text": [
      "['train.csv', 'train_v1.csv', 'subm_v1.csv', 'sample_submission.csv', 'test.csv', 'test_v1.csv']\n"
     ]
    }
   ],
   "source": [
    "dataset_path = Path(\"/home/tharun/projects/data_science_competitions/datasets/he_habitability/\")\n",
    "print([x.name for x in dataset_path.iterdir()])"
   ]
  },
  {
   "cell_type": "code",
   "execution_count": 37,
   "id": "33a59530-2c38-46ee-a2ed-b4a3de3152b9",
   "metadata": {},
   "outputs": [
    {
     "name": "stdout",
     "output_type": "stream",
     "text": [
      "(39499, 15) (10500, 14)\n"
     ]
    }
   ],
   "source": [
    "train_df = pd.read_csv(dataset_path/\"train_v1.csv\")\n",
    "test_df = pd.read_csv(dataset_path/\"test_v1.csv\")\n",
    "sample_submission_df = pd.read_csv(dataset_path/\"sample_submission.csv\")\n",
    "\n",
    "print(train_df.shape, test_df.shape)"
   ]
  },
  {
   "cell_type": "markdown",
   "id": "3fc53eae-a07d-4a32-8532-8786890b2949",
   "metadata": {},
   "source": [
    "## Data preprocessing"
   ]
  },
  {
   "cell_type": "code",
   "execution_count": 46,
   "id": "2dac97b6-ddcc-458a-ae2b-a0a903eacc51",
   "metadata": {},
   "outputs": [
    {
     "data": {
      "text/plain": [
       "(39500, 16)"
      ]
     },
     "execution_count": 46,
     "metadata": {},
     "output_type": "execute_result"
    }
   ],
   "source": [
    "# randomly duplicate a row item from train so that k-folds can be evenly split\n",
    "train_df = pd.concat([train_df, train_df.sample(1, random_state=13)]).reset_index(drop=True)\n",
    "train_df.shape"
   ]
  },
  {
   "cell_type": "code",
   "execution_count": 47,
   "id": "b8e421e0-723d-4d43-9e88-ad179c309681",
   "metadata": {},
   "outputs": [
    {
     "data": {
      "text/plain": [
       "Index(['Property_ID', 'Property_Type', 'Property_Area', 'Number_of_Windows',\n",
       "       'Number_of_Doors', 'Furnishing', 'Frequency_of_Powercuts',\n",
       "       'Power_Backup', 'Water_Supply', 'Traffic_Density_Score', 'Crime_Rate',\n",
       "       'Dust_and_Noise', 'Air_Quality_Index', 'Neighborhood_Review',\n",
       "       'Habitability_score', 'kfold'],\n",
       "      dtype='object')"
      ]
     },
     "execution_count": 47,
     "metadata": {},
     "output_type": "execute_result"
    }
   ],
   "source": [
    "train_df.columns"
   ]
  },
  {
   "cell_type": "markdown",
   "id": "0afe658b-13ae-4267-9507-03955e209611",
   "metadata": {},
   "source": [
    "### Create folds"
   ]
  },
  {
   "cell_type": "code",
   "execution_count": 48,
   "id": "a20eb1ce-ac30-408a-b6ed-7374492936b2",
   "metadata": {},
   "outputs": [],
   "source": [
    "from sklearn.model_selection import KFold"
   ]
  },
  {
   "cell_type": "code",
   "execution_count": 49,
   "id": "ecf9d738-bfca-4733-932f-fcad3a4a53d7",
   "metadata": {},
   "outputs": [
    {
     "data": {
      "text/plain": [
       "KFold(n_splits=5, random_state=13, shuffle=True)"
      ]
     },
     "execution_count": 49,
     "metadata": {},
     "output_type": "execute_result"
    }
   ],
   "source": [
    "kf = KFold(n_splits=5, shuffle=True, random_state=13)\n",
    "kf"
   ]
  },
  {
   "cell_type": "code",
   "execution_count": 50,
   "id": "bcfa9117-4151-495c-863e-60e8954caaa5",
   "metadata": {},
   "outputs": [
    {
     "data": {
      "text/html": [
       "<div>\n",
       "<style scoped>\n",
       "    .dataframe tbody tr th:only-of-type {\n",
       "        vertical-align: middle;\n",
       "    }\n",
       "\n",
       "    .dataframe tbody tr th {\n",
       "        vertical-align: top;\n",
       "    }\n",
       "\n",
       "    .dataframe thead th {\n",
       "        text-align: right;\n",
       "    }\n",
       "</style>\n",
       "<table border=\"1\" class=\"dataframe\">\n",
       "  <thead>\n",
       "    <tr style=\"text-align: right;\">\n",
       "      <th></th>\n",
       "      <th>Property_ID</th>\n",
       "      <th>Property_Type</th>\n",
       "      <th>Property_Area</th>\n",
       "      <th>Number_of_Windows</th>\n",
       "      <th>Number_of_Doors</th>\n",
       "      <th>Furnishing</th>\n",
       "      <th>Frequency_of_Powercuts</th>\n",
       "      <th>Power_Backup</th>\n",
       "      <th>Water_Supply</th>\n",
       "      <th>Traffic_Density_Score</th>\n",
       "      <th>Crime_Rate</th>\n",
       "      <th>Dust_and_Noise</th>\n",
       "      <th>Air_Quality_Index</th>\n",
       "      <th>Neighborhood_Review</th>\n",
       "      <th>Habitability_score</th>\n",
       "      <th>kfold</th>\n",
       "    </tr>\n",
       "  </thead>\n",
       "  <tbody>\n",
       "    <tr>\n",
       "      <th>0</th>\n",
       "      <td>0x21e3</td>\n",
       "      <td>Apartment</td>\n",
       "      <td>106</td>\n",
       "      <td>4.0</td>\n",
       "      <td>1</td>\n",
       "      <td>Semi_Furnished</td>\n",
       "      <td>0.0</td>\n",
       "      <td>No</td>\n",
       "      <td>Once in a day - Morning</td>\n",
       "      <td>5.89</td>\n",
       "      <td>Slightly below average</td>\n",
       "      <td>Medium</td>\n",
       "      <td>90.0</td>\n",
       "      <td>3.86</td>\n",
       "      <td>71.98</td>\n",
       "      <td>-1</td>\n",
       "    </tr>\n",
       "    <tr>\n",
       "      <th>1</th>\n",
       "      <td>0x68d4</td>\n",
       "      <td>Apartment</td>\n",
       "      <td>733</td>\n",
       "      <td>2.0</td>\n",
       "      <td>2</td>\n",
       "      <td>Unfurnished</td>\n",
       "      <td>1.0</td>\n",
       "      <td>No</td>\n",
       "      <td>Once in a day - Evening</td>\n",
       "      <td>4.37</td>\n",
       "      <td>Well below average</td>\n",
       "      <td>Medium</td>\n",
       "      <td>96.0</td>\n",
       "      <td>3.55</td>\n",
       "      <td>71.20</td>\n",
       "      <td>-1</td>\n",
       "    </tr>\n",
       "    <tr>\n",
       "      <th>2</th>\n",
       "      <td>0x7d81</td>\n",
       "      <td>Apartment</td>\n",
       "      <td>737</td>\n",
       "      <td>4.0</td>\n",
       "      <td>2</td>\n",
       "      <td>Fully Furnished</td>\n",
       "      <td>0.0</td>\n",
       "      <td>No</td>\n",
       "      <td>Once in a day - Morning</td>\n",
       "      <td>7.45</td>\n",
       "      <td>Slightly below average</td>\n",
       "      <td>Medium</td>\n",
       "      <td>121.0</td>\n",
       "      <td>3.81</td>\n",
       "      <td>71.39</td>\n",
       "      <td>-1</td>\n",
       "    </tr>\n",
       "    <tr>\n",
       "      <th>3</th>\n",
       "      <td>0x7a57</td>\n",
       "      <td>Apartment</td>\n",
       "      <td>900</td>\n",
       "      <td>3.0</td>\n",
       "      <td>2</td>\n",
       "      <td>Unfurnished</td>\n",
       "      <td>2.0</td>\n",
       "      <td>Yes</td>\n",
       "      <td>Once in a day - Morning</td>\n",
       "      <td>6.16</td>\n",
       "      <td>Well above average</td>\n",
       "      <td>Medium</td>\n",
       "      <td>100.0</td>\n",
       "      <td>1.34</td>\n",
       "      <td>31.46</td>\n",
       "      <td>-1</td>\n",
       "    </tr>\n",
       "    <tr>\n",
       "      <th>4</th>\n",
       "      <td>0x9409</td>\n",
       "      <td>Bungalow</td>\n",
       "      <td>2238</td>\n",
       "      <td>14.0</td>\n",
       "      <td>6</td>\n",
       "      <td>Fully Furnished</td>\n",
       "      <td>0.0</td>\n",
       "      <td>No</td>\n",
       "      <td>All time</td>\n",
       "      <td>5.46</td>\n",
       "      <td>Well below average</td>\n",
       "      <td>Medium</td>\n",
       "      <td>116.0</td>\n",
       "      <td>4.77</td>\n",
       "      <td>93.70</td>\n",
       "      <td>-1</td>\n",
       "    </tr>\n",
       "  </tbody>\n",
       "</table>\n",
       "</div>"
      ],
      "text/plain": [
       "  Property_ID Property_Type  Property_Area  Number_of_Windows  \\\n",
       "0      0x21e3     Apartment            106                4.0   \n",
       "1      0x68d4     Apartment            733                2.0   \n",
       "2      0x7d81     Apartment            737                4.0   \n",
       "3      0x7a57     Apartment            900                3.0   \n",
       "4      0x9409      Bungalow           2238               14.0   \n",
       "\n",
       "   Number_of_Doors       Furnishing  Frequency_of_Powercuts Power_Backup  \\\n",
       "0                1   Semi_Furnished                     0.0           No   \n",
       "1                2      Unfurnished                     1.0           No   \n",
       "2                2  Fully Furnished                     0.0           No   \n",
       "3                2      Unfurnished                     2.0          Yes   \n",
       "4                6  Fully Furnished                     0.0           No   \n",
       "\n",
       "              Water_Supply  Traffic_Density_Score              Crime_Rate  \\\n",
       "0  Once in a day - Morning                   5.89  Slightly below average   \n",
       "1  Once in a day - Evening                   4.37      Well below average   \n",
       "2  Once in a day - Morning                   7.45  Slightly below average   \n",
       "3  Once in a day - Morning                   6.16      Well above average   \n",
       "4                 All time                   5.46      Well below average   \n",
       "\n",
       "  Dust_and_Noise  Air_Quality_Index  Neighborhood_Review  Habitability_score  \\\n",
       "0         Medium               90.0                 3.86               71.98   \n",
       "1         Medium               96.0                 3.55               71.20   \n",
       "2         Medium              121.0                 3.81               71.39   \n",
       "3         Medium              100.0                 1.34               31.46   \n",
       "4         Medium              116.0                 4.77               93.70   \n",
       "\n",
       "   kfold  \n",
       "0     -1  \n",
       "1     -1  \n",
       "2     -1  \n",
       "3     -1  \n",
       "4     -1  "
      ]
     },
     "execution_count": 50,
     "metadata": {},
     "output_type": "execute_result"
    }
   ],
   "source": [
    "train_df.loc[:, \"kfold\"] = -1\n",
    "train_df.head()"
   ]
  },
  {
   "cell_type": "code",
   "execution_count": 51,
   "id": "ae68c29b-a479-4280-a09e-08ef905f3497",
   "metadata": {},
   "outputs": [
    {
     "data": {
      "text/plain": [
       "4    7900\n",
       "2    7900\n",
       "3    7900\n",
       "0    7900\n",
       "1    7900\n",
       "Name: kfold, dtype: int64"
      ]
     },
     "execution_count": 51,
     "metadata": {},
     "output_type": "execute_result"
    }
   ],
   "source": [
    "for fold, (train_indices, test_indices) in enumerate(kf.split(train_df)):\n",
    "    train_df.loc[test_indices, \"kfold\"] = fold\n",
    "    \n",
    "train_df.kfold.value_counts()"
   ]
  },
  {
   "cell_type": "code",
   "execution_count": 52,
   "id": "b9e1c472-d775-4762-b3ec-9381f78e077a",
   "metadata": {},
   "outputs": [],
   "source": [
    "train_df.to_csv(dataset_path/\"train_v2.csv\", index=False)"
   ]
  },
  {
   "cell_type": "code",
   "execution_count": 23,
   "id": "7b733f3c-c292-4712-982c-73055dde74b8",
   "metadata": {},
   "outputs": [
    {
     "data": {
      "text/plain": [
       "['Property_Type',\n",
       " 'Property_Area',\n",
       " 'Number_of_Windows',\n",
       " 'Number_of_Doors',\n",
       " 'Furnishing',\n",
       " 'Frequency_of_Powercuts',\n",
       " 'Power_Backup',\n",
       " 'Water_Supply',\n",
       " 'Traffic_Density_Score',\n",
       " 'Crime_Rate',\n",
       " 'Dust_and_Noise',\n",
       " 'Air_Quality_Index',\n",
       " 'Neighborhood_Review']"
      ]
     },
     "execution_count": 23,
     "metadata": {},
     "output_type": "execute_result"
    }
   ],
   "source": [
    "useful_features = [col for col in train_df.columns if col not in [\"Property_ID\", \"Habitability_score\", \"kfold\"]]\n",
    "useful_features"
   ]
  },
  {
   "cell_type": "code",
   "execution_count": 24,
   "id": "42892de5-429b-4c52-b8c7-1594d8c17101",
   "metadata": {},
   "outputs": [
    {
     "name": "stderr",
     "output_type": "stream",
     "text": [
      "/home/tharun/.conda/envs/torch_env/lib/python3.10/site-packages/xgboost/compat.py:36: FutureWarning: pandas.Int64Index is deprecated and will be removed from pandas in a future version. Use pandas.Index with the appropriate dtype instead.\n",
      "  from pandas import MultiIndex, Int64Index\n"
     ]
    }
   ],
   "source": [
    "from sklearn.preprocessing import OneHotEncoder\n",
    "from sklearn.compose import ColumnTransformer\n",
    "from sklearn.preprocessing import StandardScaler\n",
    "from sklearn.pipeline import Pipeline\n",
    "\n",
    "from sklearn.linear_model import LinearRegression\n",
    "from sklearn.ensemble import RandomForestRegressor, GradientBoostingRegressor\n",
    "from xgboost import XGBRegressor\n",
    "\n",
    "from sklearn.metrics import r2_score "
   ]
  },
  {
   "cell_type": "code",
   "execution_count": 25,
   "id": "1d5746b8-a50e-42b7-adba-8bf6fccc1e65",
   "metadata": {},
   "outputs": [],
   "source": [
    "cat_cols = [\"Property_Type\", \"Furnishing\", \"Power_Backup\", \"Water_Supply\", \"Crime_Rate\", \"Dust_and_Noise\"]\n",
    "num_cols = [\"Property_Area\", \"Number_of_Windows\", \"Number_of_Doors\", \"Frequency_of_Powercuts\", \"Traffic_Density_Score\", \"Air_Quality_Index\", \"Neighborhood_Review\"]"
   ]
  },
  {
   "cell_type": "code",
   "execution_count": 26,
   "id": "914c33a4-bae3-4d0c-aa78-896853cd1eef",
   "metadata": {},
   "outputs": [],
   "source": [
    "ct = ColumnTransformer([\n",
    "    (\"num\", StandardScaler(), num_cols),\n",
    "    (\"cat\", OneHotEncoder(handle_unknown=\"ignore\", drop=\"first\"), cat_cols)\n",
    "])\n",
    "\n",
    "linear_pipe = Pipeline([\n",
    "    (\"preprocess\", ct),\n",
    "    (\"regression\", LinearRegression())\n",
    "])\n",
    "\n",
    "regressor_pipe = Pipeline([\n",
    "    (\"preprocess\", ct),\n",
    "    (\"regressor\", GradientBoostingRegressor())\n",
    "])\n",
    "\n",
    "xgb_pipe = Pipeline([\n",
    "    (\"preprocess\", ct),\n",
    "    (\"regressor\", XGBRegressor())\n",
    "])"
   ]
  },
  {
   "cell_type": "code",
   "execution_count": 34,
   "id": "ce2d8886-1359-4878-8cf2-814ce1472591",
   "metadata": {},
   "outputs": [
    {
     "name": "stdout",
     "output_type": "stream",
     "text": [
      "fold: 0, mse: 80.80481384722755\n",
      "fold: 1, mse: 80.8356447857457\n",
      "fold: 2, mse: 81.58155208207451\n",
      "fold: 3, mse: 80.10486734340392\n",
      "fold: 4, mse: 80.29031688002533\n"
     ]
    }
   ],
   "source": [
    "test_preds_collection = []\n",
    "\n",
    "for fold in range(5):\n",
    "    xtrain = train_df[train_df.kfold != fold].reset_index(drop=True)\n",
    "    xtest = train_df[train_df.kfold == fold].reset_index(drop=True)\n",
    "    ytrain = xtrain.Habitability_score\n",
    "    ytest = xtest.Habitability_score\n",
    "    \n",
    "    xtrain = xtrain[useful_features]\n",
    "    xtest = xtest[useful_features]\n",
    "    test_df = test_df[useful_features]\n",
    "    \n",
    "    # model\n",
    "    xgb_pipe = Pipeline([\n",
    "        (\"preprocess\", ct),\n",
    "        (\"regressor\", XGBRegressor())\n",
    "    ])\n",
    "    xgb_pipe.fit(xtrain, ytrain)\n",
    "    xtest_preds = xgb_pipe.predict(xtest)\n",
    "    \n",
    "    # predict for test\n",
    "    test_preds = xgb_pipe.predict(test_df)\n",
    "    test_preds_collection.append(test_preds)\n",
    "    \n",
    "    mse = max(0, 100 * r2_score(ytest, xtest_preds))\n",
    "    print(f\"fold: {fold}, mse: {mse}\")"
   ]
  },
  {
   "cell_type": "code",
   "execution_count": 35,
   "id": "818cc5a6-97d5-4c7a-9ed4-3d194e14a934",
   "metadata": {},
   "outputs": [
    {
     "data": {
      "text/plain": [
       "(10500,)"
      ]
     },
     "execution_count": 35,
     "metadata": {},
     "output_type": "execute_result"
    }
   ],
   "source": [
    "test_preds_avg = np.average(np.column_stack(test_preds_collection), axis=1)\n",
    "test_preds_avg.shape"
   ]
  },
  {
   "cell_type": "code",
   "execution_count": 80,
   "id": "e34dd2a7-be26-463a-a213-dc9d039d710f",
   "metadata": {},
   "outputs": [],
   "source": [
    "def make_sub_file(test_ids, preds):\n",
    "    return pd.DataFrame.from_dict({\"Property_ID\": test_ids, \"Habitability_score\": preds})"
   ]
  },
  {
   "cell_type": "code",
   "execution_count": 43,
   "id": "d4b2bacc-ac2c-4654-b2f4-1f14fde57a60",
   "metadata": {},
   "outputs": [
    {
     "data": {
      "text/html": [
       "<div>\n",
       "<style scoped>\n",
       "    .dataframe tbody tr th:only-of-type {\n",
       "        vertical-align: middle;\n",
       "    }\n",
       "\n",
       "    .dataframe tbody tr th {\n",
       "        vertical-align: top;\n",
       "    }\n",
       "\n",
       "    .dataframe thead th {\n",
       "        text-align: right;\n",
       "    }\n",
       "</style>\n",
       "<table border=\"1\" class=\"dataframe\">\n",
       "  <thead>\n",
       "    <tr style=\"text-align: right;\">\n",
       "      <th></th>\n",
       "      <th>Property_ID</th>\n",
       "      <th>Habitability_score</th>\n",
       "    </tr>\n",
       "  </thead>\n",
       "  <tbody>\n",
       "    <tr>\n",
       "      <th>0</th>\n",
       "      <td>0x6e93</td>\n",
       "      <td>27.849039</td>\n",
       "    </tr>\n",
       "    <tr>\n",
       "      <th>1</th>\n",
       "      <td>0x8787</td>\n",
       "      <td>80.229660</td>\n",
       "    </tr>\n",
       "    <tr>\n",
       "      <th>2</th>\n",
       "      <td>0x6c17</td>\n",
       "      <td>66.846313</td>\n",
       "    </tr>\n",
       "    <tr>\n",
       "      <th>3</th>\n",
       "      <td>0x9dbd</td>\n",
       "      <td>72.142227</td>\n",
       "    </tr>\n",
       "    <tr>\n",
       "      <th>4</th>\n",
       "      <td>0xbfde</td>\n",
       "      <td>78.448624</td>\n",
       "    </tr>\n",
       "  </tbody>\n",
       "</table>\n",
       "</div>"
      ],
      "text/plain": [
       "  Property_ID  Habitability_score\n",
       "0      0x6e93           27.849039\n",
       "1      0x8787           80.229660\n",
       "2      0x6c17           66.846313\n",
       "3      0x9dbd           72.142227\n",
       "4      0xbfde           78.448624"
      ]
     },
     "execution_count": 43,
     "metadata": {},
     "output_type": "execute_result"
    }
   ],
   "source": [
    "submission_df = pd.DataFrame.from_dict({\"Property_ID\": test_df.Property_ID.values, \"Habitability_score\": test_preds_avg})\n",
    "submission_df.head()"
   ]
  },
  {
   "cell_type": "code",
   "execution_count": 44,
   "id": "e315073b-31b4-4d81-b7a3-bf5298d073c0",
   "metadata": {},
   "outputs": [],
   "source": [
    "submission_df.to_csv(dataset_path/\"subm_v2.csv\", index=False)"
   ]
  }
 ],
 "metadata": {
  "kernelspec": {
   "display_name": "Python 3 (ipykernel)",
   "language": "python",
   "name": "python3"
  },
  "language_info": {
   "codemirror_mode": {
    "name": "ipython",
    "version": 3
   },
   "file_extension": ".py",
   "mimetype": "text/x-python",
   "name": "python",
   "nbconvert_exporter": "python",
   "pygments_lexer": "ipython3",
   "version": "3.10.4"
  }
 },
 "nbformat": 4,
 "nbformat_minor": 5
}
