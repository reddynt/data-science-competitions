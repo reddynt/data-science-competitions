{
 "cells": [
  {
   "cell_type": "markdown",
   "id": "f7380b6d-2123-4032-a13e-03f2fe7f6807",
   "metadata": {},
   "source": [
    "https://www.hackerearth.com/challenges/competitive/get-a-room-ml-hackathon/machine-learning/identify-the-habitability-score-of-a-property-12-464aae3e/"
   ]
  },
  {
   "cell_type": "code",
   "execution_count": 32,
   "id": "558b424b-febc-4737-a9c9-8201137309b6",
   "metadata": {},
   "outputs": [],
   "source": [
    "# imports\n",
    "\n",
    "import os\n",
    "from pathlib import Path\n",
    "\n",
    "import numpy as np\n",
    "import pandas as pd\n",
    "from matplotlib import pyplot as plt"
   ]
  },
  {
   "cell_type": "code",
   "execution_count": 33,
   "id": "98bb855b-5044-4c93-a3fa-ce1582f3f7ab",
   "metadata": {},
   "outputs": [
    {
     "name": "stdout",
     "output_type": "stream",
     "text": [
      "['train.csv', 'train_v2.csv', 'subm_v3.csv', 'train_v1.csv', 'test_v1.csv', 'test.csv', 'sample_submission.csv']\n"
     ]
    }
   ],
   "source": [
    "dataset_path = Path(\"/home/tharun/projects/data_science_competitions/hacker_earth/habitability_score_prediction/dataset/\")\n",
    "print([x.name for x in dataset_path.iterdir()])"
   ]
  },
  {
   "cell_type": "code",
   "execution_count": 34,
   "id": "be335b56-46bc-40d3-b717-5fcf06696e36",
   "metadata": {},
   "outputs": [
    {
     "data": {
      "text/plain": [
       "'/home/tharun/projects/data_science_competitions/hacker_earth/habitability_score_prediction/blending_results'"
      ]
     },
     "execution_count": 34,
     "metadata": {},
     "output_type": "execute_result"
    }
   ],
   "source": [
    "results_path = Path(\"/home/tharun/projects/data_science_competitions/hacker_earth/habitability_score_prediction/blending_results\")\n",
    "results_path.as_posix()"
   ]
  },
  {
   "cell_type": "code",
   "execution_count": 35,
   "id": "04784fd7-b39a-4744-b6fb-c5e5cc7e99c7",
   "metadata": {},
   "outputs": [
    {
     "name": "stdout",
     "output_type": "stream",
     "text": [
      "(39500, 16) (10500, 14)\n"
     ]
    }
   ],
   "source": [
    "train_df = pd.read_csv(dataset_path/\"train_v2.csv\")\n",
    "test_df = pd.read_csv(dataset_path/\"test_v1.csv\")\n",
    "sample_submission_df = pd.read_csv(dataset_path/\"sample_submission.csv\")\n",
    "\n",
    "print(train_df.shape, test_df.shape)"
   ]
  },
  {
   "cell_type": "markdown",
   "id": "784fb836-5b88-4084-aa50-2b0948e54eee",
   "metadata": {},
   "source": [
    "## utils"
   ]
  },
  {
   "cell_type": "code",
   "execution_count": 36,
   "id": "f3f43f08-a894-42e8-a285-edbb4452b152",
   "metadata": {},
   "outputs": [],
   "source": [
    "def make_sub_file(test_ids, preds):\n",
    "    return pd.DataFrame.from_dict({\"Property_ID\": test_ids, \"Habitability_score\": preds})"
   ]
  },
  {
   "cell_type": "markdown",
   "id": "d48e7f79-4b51-4eb9-8ee5-76ff115b7471",
   "metadata": {},
   "source": [
    "## data preprocessing"
   ]
  },
  {
   "cell_type": "code",
   "execution_count": 37,
   "id": "075d042e-924b-4fbb-973f-d67e7cdafcce",
   "metadata": {},
   "outputs": [
    {
     "data": {
      "text/plain": [
       "['Property_Type',\n",
       " 'Property_Area',\n",
       " 'Number_of_Windows',\n",
       " 'Number_of_Doors',\n",
       " 'Furnishing',\n",
       " 'Frequency_of_Powercuts',\n",
       " 'Power_Backup',\n",
       " 'Water_Supply',\n",
       " 'Traffic_Density_Score',\n",
       " 'Crime_Rate',\n",
       " 'Dust_and_Noise',\n",
       " 'Air_Quality_Index',\n",
       " 'Neighborhood_Review']"
      ]
     },
     "execution_count": 37,
     "metadata": {},
     "output_type": "execute_result"
    }
   ],
   "source": [
    "useful_features = [col for col in train_df.columns if col not in [\"Property_ID\", \"Habitability_score\", \"kfold\"]]\n",
    "useful_features"
   ]
  },
  {
   "cell_type": "code",
   "execution_count": 38,
   "id": "29e8380c-8448-4c12-9774-9744af290faa",
   "metadata": {},
   "outputs": [],
   "source": [
    "cat_cols = [\"Property_Type\", \"Furnishing\", \"Power_Backup\", \"Water_Supply\", \"Crime_Rate\", \"Dust_and_Noise\"]\n",
    "num_cols = [\"Property_Area\", \"Number_of_Windows\", \"Number_of_Doors\", \"Frequency_of_Powercuts\", \"Traffic_Density_Score\", \"Air_Quality_Index\", \"Neighborhood_Review\"]"
   ]
  },
  {
   "cell_type": "markdown",
   "id": "2a564654-0103-4e26-91a6-81c53f3f3672",
   "metadata": {},
   "source": [
    "## Feature engineering"
   ]
  },
  {
   "cell_type": "markdown",
   "id": "0bc02c25-b261-484d-9749-c5f5ba5fbe2a",
   "metadata": {},
   "source": [
    "1. log transformation\n",
    "2. polynomial features\n",
    "3. target encoding"
   ]
  },
  {
   "cell_type": "markdown",
   "id": "3ef9cc12-0c68-4eb1-9eb3-c071c3c7fcd4",
   "metadata": {
    "tags": []
   },
   "source": [
    "### log transformation"
   ]
  },
  {
   "cell_type": "code",
   "execution_count": 39,
   "id": "937194b0-7f6c-4b56-baf2-304df52bddf7",
   "metadata": {},
   "outputs": [],
   "source": [
    "import optuna\n",
    "from sklearn.preprocessing import FunctionTransformer, OrdinalEncoder"
   ]
  },
  {
   "cell_type": "code",
   "execution_count": 40,
   "id": "87db9ab9",
   "metadata": {},
   "outputs": [],
   "source": [
    "from sklearn.preprocessing import OneHotEncoder\n",
    "from sklearn.compose import ColumnTransformer\n",
    "from sklearn.preprocessing import StandardScaler, FunctionTransformer, PolynomialFeatures\n",
    "from sklearn.pipeline import Pipeline, FeatureUnion\n",
    "\n",
    "from sklearn.ensemble import RandomForestRegressor\n",
    "import optuna\n",
    "\n",
    "from sklearn.metrics import r2_score, mean_squared_error"
   ]
  },
  {
   "cell_type": "code",
   "execution_count": 41,
   "id": "214ac376-ed7c-45c0-bb89-ae7a623ce7ff",
   "metadata": {},
   "outputs": [],
   "source": [
    "train_df2 = train_df.copy(deep=True)\n",
    "test_df2 = test_df.copy(deep=True)\n",
    "\n",
    "assert train_df2 is not train_df\n",
    "assert test_df2 is not test_df"
   ]
  },
  {
   "cell_type": "code",
   "execution_count": 42,
   "id": "ea718588-efa5-40fa-8fee-3fefccdebe70",
   "metadata": {},
   "outputs": [],
   "source": [
    "def objective(trial):\n",
    "    preds_scores = []\n",
    "    for fold in range(5):\n",
    "        xtrain = train_df2[train_df2.kfold != fold].reset_index(drop=True)\n",
    "        xvalid = train_df2[train_df2.kfold == fold].reset_index(drop=True)\n",
    "        \n",
    "        ytrain = xtrain.Habitability_score\n",
    "        yvalid = xvalid.Habitability_score\n",
    "        \n",
    "        xtrain = xtrain[useful_features]\n",
    "        xvalid = xvalid[useful_features]\n",
    "        \n",
    "        # transform features to log\n",
    "        ct = ColumnTransformer([\n",
    "            (\"num\", FunctionTransformer(np.log1p, validate=True), num_cols),\n",
    "            (\"cat\", OrdinalEncoder(handle_unknown=\"use_encoded_value\"), cat_cols)\n",
    "        ])\n",
    "        \n",
    "        xtrain = ct.fit_transform(xtrain)\n",
    "        xvalid = ct.transform(xvalid)\n",
    "        \n",
    "        # initialize suggestions for xgb params\n",
    "        learning_rate = trial.suggest_float(\"learning_rate\", 1e-2, 0.3, log=True)\n",
    "        reg_lambda = trial.suggest_float(\"reg_lambda\", 1e-8, 100.0)\n",
    "        reg_alpha = trial.suggest_float(\"reg_alpha\", 1e-8, 100.0)\n",
    "        subsample = trial.suggest_float(\"subsample\", 0.1, 1.)\n",
    "        colsample_bytree = trial.suggest_float(\"colsample_bytree\", 0.1, 1.)\n",
    "        max_depth = trial.suggest_int(\"max_depth\", 2, 9)\n",
    "        \n",
    "        model = XGBRegressor(random_state=13,\n",
    "                             learning_rate=learning_rate,\n",
    "                             reg_lambda=reg_lambda,\n",
    "                             reg_alpha=reg_alpha,\n",
    "                             subsample=subsample,\n",
    "                             colsample_bytree=colsample_bytree,\n",
    "                             max_depth=max_depth,\n",
    "                             n_estimators=7000,\n",
    "                             gpu_id=0,\n",
    "                             predictor=\"gpu_predictor\",\n",
    "                             tree_method=\"gpu_hist\",\n",
    "                            )\n",
    "        model.fit(xtrain, ytrain, eval_set=[(xvalid, yvalid)], early_stopping_rounds=300, verbose=False)\n",
    "        preds_valid = model.predict(xvalid)\n",
    "        preds_scores.append(max(0, 100 * r2_score(yvalid, preds_valid)))\n",
    "        \n",
    "    return np.mean(preds_scores)"
   ]
  },
  {
   "cell_type": "code",
   "execution_count": 43,
   "id": "5cd1596a-2771-465e-81b6-7bbe469d6129",
   "metadata": {
    "jupyter": {
     "outputs_hidden": true
    },
    "tags": []
   },
   "outputs": [
    {
     "name": "stderr",
     "output_type": "stream",
     "text": [
      "\u001b[32m[I 2022-08-20 21:42:47,258]\u001b[0m A new study created in memory with name: no-name-0bc64eee-de0a-42aa-97ce-637d29e1a4ce\u001b[0m\n",
      "\u001b[33m[W 2022-08-20 21:42:47,268]\u001b[0m Trial 0 failed because of the following error: TypeError(\"unknown_value should be an integer or np.nan when handle_unknown is 'use_encoded_value', got None.\")\u001b[0m\n",
      "Traceback (most recent call last):\n",
      "  File \"/home/tharun/.conda/envs/fastai/lib/python3.10/site-packages/optuna/study/_optimize.py\", line 213, in _run_trial\n",
      "    value_or_values = func(trial)\n",
      "  File \"/tmp/ipykernel_26272/2713725519.py\", line 19, in objective\n",
      "    xtrain = ct.fit_transform(xtrain)\n",
      "  File \"/home/tharun/.conda/envs/fastai/lib/python3.10/site-packages/sklearn/compose/_column_transformer.py\", line 673, in fit_transform\n",
      "    result = self._fit_transform(X, y, _fit_transform_one)\n",
      "  File \"/home/tharun/.conda/envs/fastai/lib/python3.10/site-packages/sklearn/compose/_column_transformer.py\", line 604, in _fit_transform\n",
      "    return Parallel(n_jobs=self.n_jobs)(\n",
      "  File \"/home/tharun/.conda/envs/fastai/lib/python3.10/site-packages/joblib/parallel.py\", line 1046, in __call__\n",
      "    while self.dispatch_one_batch(iterator):\n",
      "  File \"/home/tharun/.conda/envs/fastai/lib/python3.10/site-packages/joblib/parallel.py\", line 861, in dispatch_one_batch\n",
      "    self._dispatch(tasks)\n",
      "  File \"/home/tharun/.conda/envs/fastai/lib/python3.10/site-packages/joblib/parallel.py\", line 779, in _dispatch\n",
      "    job = self._backend.apply_async(batch, callback=cb)\n",
      "  File \"/home/tharun/.conda/envs/fastai/lib/python3.10/site-packages/joblib/_parallel_backends.py\", line 208, in apply_async\n",
      "    result = ImmediateResult(func)\n",
      "  File \"/home/tharun/.conda/envs/fastai/lib/python3.10/site-packages/joblib/_parallel_backends.py\", line 572, in __init__\n",
      "    self.results = batch()\n",
      "  File \"/home/tharun/.conda/envs/fastai/lib/python3.10/site-packages/joblib/parallel.py\", line 262, in __call__\n",
      "    return [func(*args, **kwargs)\n",
      "  File \"/home/tharun/.conda/envs/fastai/lib/python3.10/site-packages/joblib/parallel.py\", line 262, in <listcomp>\n",
      "    return [func(*args, **kwargs)\n",
      "  File \"/home/tharun/.conda/envs/fastai/lib/python3.10/site-packages/sklearn/utils/fixes.py\", line 117, in __call__\n",
      "    return self.function(*args, **kwargs)\n",
      "  File \"/home/tharun/.conda/envs/fastai/lib/python3.10/site-packages/sklearn/pipeline.py\", line 870, in _fit_transform_one\n",
      "    res = transformer.fit_transform(X, y, **fit_params)\n",
      "  File \"/home/tharun/.conda/envs/fastai/lib/python3.10/site-packages/sklearn/base.py\", line 867, in fit_transform\n",
      "    return self.fit(X, **fit_params).transform(X)\n",
      "  File \"/home/tharun/.conda/envs/fastai/lib/python3.10/site-packages/sklearn/preprocessing/_encoders.py\", line 1280, in fit\n",
      "    raise TypeError(\n",
      "TypeError: unknown_value should be an integer or np.nan when handle_unknown is 'use_encoded_value', got None.\n"
     ]
    },
    {
     "ename": "TypeError",
     "evalue": "unknown_value should be an integer or np.nan when handle_unknown is 'use_encoded_value', got None.",
     "output_type": "error",
     "traceback": [
      "\u001b[0;31m---------------------------------------------------------------------------\u001b[0m",
      "\u001b[0;31mTypeError\u001b[0m                                 Traceback (most recent call last)",
      "Input \u001b[0;32mIn [43]\u001b[0m, in \u001b[0;36m<cell line: 2>\u001b[0;34m()\u001b[0m\n\u001b[1;32m      1\u001b[0m study \u001b[38;5;241m=\u001b[39m optuna\u001b[38;5;241m.\u001b[39mcreate_study(direction\u001b[38;5;241m=\u001b[39m\u001b[38;5;124m\"\u001b[39m\u001b[38;5;124mmaximize\u001b[39m\u001b[38;5;124m\"\u001b[39m)\n\u001b[0;32m----> 2\u001b[0m \u001b[43mstudy\u001b[49m\u001b[38;5;241;43m.\u001b[39;49m\u001b[43moptimize\u001b[49m\u001b[43m(\u001b[49m\u001b[43mobjective\u001b[49m\u001b[43m,\u001b[49m\u001b[43m \u001b[49m\u001b[43mn_trials\u001b[49m\u001b[38;5;241;43m=\u001b[39;49m\u001b[38;5;241;43m100\u001b[39;49m\u001b[43m)\u001b[49m\n",
      "File \u001b[0;32m~/.conda/envs/fastai/lib/python3.10/site-packages/optuna/study/study.py:400\u001b[0m, in \u001b[0;36mStudy.optimize\u001b[0;34m(self, func, n_trials, timeout, n_jobs, catch, callbacks, gc_after_trial, show_progress_bar)\u001b[0m\n\u001b[1;32m    392\u001b[0m \u001b[38;5;28;01mif\u001b[39;00m n_jobs \u001b[38;5;241m!=\u001b[39m \u001b[38;5;241m1\u001b[39m:\n\u001b[1;32m    393\u001b[0m     warnings\u001b[38;5;241m.\u001b[39mwarn(\n\u001b[1;32m    394\u001b[0m         \u001b[38;5;124m\"\u001b[39m\u001b[38;5;124m`n_jobs` argument has been deprecated in v2.7.0. \u001b[39m\u001b[38;5;124m\"\u001b[39m\n\u001b[1;32m    395\u001b[0m         \u001b[38;5;124m\"\u001b[39m\u001b[38;5;124mThis feature will be removed in v4.0.0. \u001b[39m\u001b[38;5;124m\"\u001b[39m\n\u001b[1;32m    396\u001b[0m         \u001b[38;5;124m\"\u001b[39m\u001b[38;5;124mSee https://github.com/optuna/optuna/releases/tag/v2.7.0.\u001b[39m\u001b[38;5;124m\"\u001b[39m,\n\u001b[1;32m    397\u001b[0m         \u001b[38;5;167;01mFutureWarning\u001b[39;00m,\n\u001b[1;32m    398\u001b[0m     )\n\u001b[0;32m--> 400\u001b[0m \u001b[43m_optimize\u001b[49m\u001b[43m(\u001b[49m\n\u001b[1;32m    401\u001b[0m \u001b[43m    \u001b[49m\u001b[43mstudy\u001b[49m\u001b[38;5;241;43m=\u001b[39;49m\u001b[38;5;28;43mself\u001b[39;49m\u001b[43m,\u001b[49m\n\u001b[1;32m    402\u001b[0m \u001b[43m    \u001b[49m\u001b[43mfunc\u001b[49m\u001b[38;5;241;43m=\u001b[39;49m\u001b[43mfunc\u001b[49m\u001b[43m,\u001b[49m\n\u001b[1;32m    403\u001b[0m \u001b[43m    \u001b[49m\u001b[43mn_trials\u001b[49m\u001b[38;5;241;43m=\u001b[39;49m\u001b[43mn_trials\u001b[49m\u001b[43m,\u001b[49m\n\u001b[1;32m    404\u001b[0m \u001b[43m    \u001b[49m\u001b[43mtimeout\u001b[49m\u001b[38;5;241;43m=\u001b[39;49m\u001b[43mtimeout\u001b[49m\u001b[43m,\u001b[49m\n\u001b[1;32m    405\u001b[0m \u001b[43m    \u001b[49m\u001b[43mn_jobs\u001b[49m\u001b[38;5;241;43m=\u001b[39;49m\u001b[43mn_jobs\u001b[49m\u001b[43m,\u001b[49m\n\u001b[1;32m    406\u001b[0m \u001b[43m    \u001b[49m\u001b[43mcatch\u001b[49m\u001b[38;5;241;43m=\u001b[39;49m\u001b[43mcatch\u001b[49m\u001b[43m,\u001b[49m\n\u001b[1;32m    407\u001b[0m \u001b[43m    \u001b[49m\u001b[43mcallbacks\u001b[49m\u001b[38;5;241;43m=\u001b[39;49m\u001b[43mcallbacks\u001b[49m\u001b[43m,\u001b[49m\n\u001b[1;32m    408\u001b[0m \u001b[43m    \u001b[49m\u001b[43mgc_after_trial\u001b[49m\u001b[38;5;241;43m=\u001b[39;49m\u001b[43mgc_after_trial\u001b[49m\u001b[43m,\u001b[49m\n\u001b[1;32m    409\u001b[0m \u001b[43m    \u001b[49m\u001b[43mshow_progress_bar\u001b[49m\u001b[38;5;241;43m=\u001b[39;49m\u001b[43mshow_progress_bar\u001b[49m\u001b[43m,\u001b[49m\n\u001b[1;32m    410\u001b[0m \u001b[43m\u001b[49m\u001b[43m)\u001b[49m\n",
      "File \u001b[0;32m~/.conda/envs/fastai/lib/python3.10/site-packages/optuna/study/_optimize.py:66\u001b[0m, in \u001b[0;36m_optimize\u001b[0;34m(study, func, n_trials, timeout, n_jobs, catch, callbacks, gc_after_trial, show_progress_bar)\u001b[0m\n\u001b[1;32m     64\u001b[0m \u001b[38;5;28;01mtry\u001b[39;00m:\n\u001b[1;32m     65\u001b[0m     \u001b[38;5;28;01mif\u001b[39;00m n_jobs \u001b[38;5;241m==\u001b[39m \u001b[38;5;241m1\u001b[39m:\n\u001b[0;32m---> 66\u001b[0m         \u001b[43m_optimize_sequential\u001b[49m\u001b[43m(\u001b[49m\n\u001b[1;32m     67\u001b[0m \u001b[43m            \u001b[49m\u001b[43mstudy\u001b[49m\u001b[43m,\u001b[49m\n\u001b[1;32m     68\u001b[0m \u001b[43m            \u001b[49m\u001b[43mfunc\u001b[49m\u001b[43m,\u001b[49m\n\u001b[1;32m     69\u001b[0m \u001b[43m            \u001b[49m\u001b[43mn_trials\u001b[49m\u001b[43m,\u001b[49m\n\u001b[1;32m     70\u001b[0m \u001b[43m            \u001b[49m\u001b[43mtimeout\u001b[49m\u001b[43m,\u001b[49m\n\u001b[1;32m     71\u001b[0m \u001b[43m            \u001b[49m\u001b[43mcatch\u001b[49m\u001b[43m,\u001b[49m\n\u001b[1;32m     72\u001b[0m \u001b[43m            \u001b[49m\u001b[43mcallbacks\u001b[49m\u001b[43m,\u001b[49m\n\u001b[1;32m     73\u001b[0m \u001b[43m            \u001b[49m\u001b[43mgc_after_trial\u001b[49m\u001b[43m,\u001b[49m\n\u001b[1;32m     74\u001b[0m \u001b[43m            \u001b[49m\u001b[43mreseed_sampler_rng\u001b[49m\u001b[38;5;241;43m=\u001b[39;49m\u001b[38;5;28;43;01mFalse\u001b[39;49;00m\u001b[43m,\u001b[49m\n\u001b[1;32m     75\u001b[0m \u001b[43m            \u001b[49m\u001b[43mtime_start\u001b[49m\u001b[38;5;241;43m=\u001b[39;49m\u001b[38;5;28;43;01mNone\u001b[39;49;00m\u001b[43m,\u001b[49m\n\u001b[1;32m     76\u001b[0m \u001b[43m            \u001b[49m\u001b[43mprogress_bar\u001b[49m\u001b[38;5;241;43m=\u001b[39;49m\u001b[43mprogress_bar\u001b[49m\u001b[43m,\u001b[49m\n\u001b[1;32m     77\u001b[0m \u001b[43m        \u001b[49m\u001b[43m)\u001b[49m\n\u001b[1;32m     78\u001b[0m     \u001b[38;5;28;01melse\u001b[39;00m:\n\u001b[1;32m     79\u001b[0m         \u001b[38;5;28;01mif\u001b[39;00m show_progress_bar:\n",
      "File \u001b[0;32m~/.conda/envs/fastai/lib/python3.10/site-packages/optuna/study/_optimize.py:163\u001b[0m, in \u001b[0;36m_optimize_sequential\u001b[0;34m(study, func, n_trials, timeout, catch, callbacks, gc_after_trial, reseed_sampler_rng, time_start, progress_bar)\u001b[0m\n\u001b[1;32m    160\u001b[0m         \u001b[38;5;28;01mbreak\u001b[39;00m\n\u001b[1;32m    162\u001b[0m \u001b[38;5;28;01mtry\u001b[39;00m:\n\u001b[0;32m--> 163\u001b[0m     trial \u001b[38;5;241m=\u001b[39m \u001b[43m_run_trial\u001b[49m\u001b[43m(\u001b[49m\u001b[43mstudy\u001b[49m\u001b[43m,\u001b[49m\u001b[43m \u001b[49m\u001b[43mfunc\u001b[49m\u001b[43m,\u001b[49m\u001b[43m \u001b[49m\u001b[43mcatch\u001b[49m\u001b[43m)\u001b[49m\n\u001b[1;32m    164\u001b[0m \u001b[38;5;28;01mexcept\u001b[39;00m \u001b[38;5;167;01mException\u001b[39;00m:\n\u001b[1;32m    165\u001b[0m     \u001b[38;5;28;01mraise\u001b[39;00m\n",
      "File \u001b[0;32m~/.conda/envs/fastai/lib/python3.10/site-packages/optuna/study/_optimize.py:264\u001b[0m, in \u001b[0;36m_run_trial\u001b[0;34m(study, func, catch)\u001b[0m\n\u001b[1;32m    261\u001b[0m         \u001b[38;5;28;01massert\u001b[39;00m \u001b[38;5;28;01mFalse\u001b[39;00m, \u001b[38;5;124m\"\u001b[39m\u001b[38;5;124mShould not reach.\u001b[39m\u001b[38;5;124m\"\u001b[39m\n\u001b[1;32m    263\u001b[0m \u001b[38;5;28;01mif\u001b[39;00m state \u001b[38;5;241m==\u001b[39m TrialState\u001b[38;5;241m.\u001b[39mFAIL \u001b[38;5;129;01mand\u001b[39;00m func_err \u001b[38;5;129;01mis\u001b[39;00m \u001b[38;5;129;01mnot\u001b[39;00m \u001b[38;5;28;01mNone\u001b[39;00m \u001b[38;5;129;01mand\u001b[39;00m \u001b[38;5;129;01mnot\u001b[39;00m \u001b[38;5;28misinstance\u001b[39m(func_err, catch):\n\u001b[0;32m--> 264\u001b[0m     \u001b[38;5;28;01mraise\u001b[39;00m func_err\n\u001b[1;32m    265\u001b[0m \u001b[38;5;28;01mreturn\u001b[39;00m trial\n",
      "File \u001b[0;32m~/.conda/envs/fastai/lib/python3.10/site-packages/optuna/study/_optimize.py:213\u001b[0m, in \u001b[0;36m_run_trial\u001b[0;34m(study, func, catch)\u001b[0m\n\u001b[1;32m    210\u001b[0m     thread\u001b[38;5;241m.\u001b[39mstart()\n\u001b[1;32m    212\u001b[0m \u001b[38;5;28;01mtry\u001b[39;00m:\n\u001b[0;32m--> 213\u001b[0m     value_or_values \u001b[38;5;241m=\u001b[39m \u001b[43mfunc\u001b[49m\u001b[43m(\u001b[49m\u001b[43mtrial\u001b[49m\u001b[43m)\u001b[49m\n\u001b[1;32m    214\u001b[0m \u001b[38;5;28;01mexcept\u001b[39;00m exceptions\u001b[38;5;241m.\u001b[39mTrialPruned \u001b[38;5;28;01mas\u001b[39;00m e:\n\u001b[1;32m    215\u001b[0m     \u001b[38;5;66;03m# TODO(mamu): Handle multi-objective cases.\u001b[39;00m\n\u001b[1;32m    216\u001b[0m     state \u001b[38;5;241m=\u001b[39m TrialState\u001b[38;5;241m.\u001b[39mPRUNED\n",
      "Input \u001b[0;32mIn [42]\u001b[0m, in \u001b[0;36mobjective\u001b[0;34m(trial)\u001b[0m\n\u001b[1;32m     13\u001b[0m \u001b[38;5;66;03m# transform features to log\u001b[39;00m\n\u001b[1;32m     14\u001b[0m ct \u001b[38;5;241m=\u001b[39m ColumnTransformer([\n\u001b[1;32m     15\u001b[0m     (\u001b[38;5;124m\"\u001b[39m\u001b[38;5;124mnum\u001b[39m\u001b[38;5;124m\"\u001b[39m, FunctionTransformer(np\u001b[38;5;241m.\u001b[39mlog1p, validate\u001b[38;5;241m=\u001b[39m\u001b[38;5;28;01mTrue\u001b[39;00m), num_cols),\n\u001b[1;32m     16\u001b[0m     (\u001b[38;5;124m\"\u001b[39m\u001b[38;5;124mcat\u001b[39m\u001b[38;5;124m\"\u001b[39m, OrdinalEncoder(handle_unknown\u001b[38;5;241m=\u001b[39m\u001b[38;5;124m\"\u001b[39m\u001b[38;5;124muse_encoded_value\u001b[39m\u001b[38;5;124m\"\u001b[39m), cat_cols)\n\u001b[1;32m     17\u001b[0m ])\n\u001b[0;32m---> 19\u001b[0m xtrain \u001b[38;5;241m=\u001b[39m \u001b[43mct\u001b[49m\u001b[38;5;241;43m.\u001b[39;49m\u001b[43mfit_transform\u001b[49m\u001b[43m(\u001b[49m\u001b[43mxtrain\u001b[49m\u001b[43m)\u001b[49m\n\u001b[1;32m     20\u001b[0m xvalid \u001b[38;5;241m=\u001b[39m ct\u001b[38;5;241m.\u001b[39mtransform(xvalid)\n\u001b[1;32m     22\u001b[0m \u001b[38;5;66;03m# initialize suggestions for xgb params\u001b[39;00m\n",
      "File \u001b[0;32m~/.conda/envs/fastai/lib/python3.10/site-packages/sklearn/compose/_column_transformer.py:673\u001b[0m, in \u001b[0;36mColumnTransformer.fit_transform\u001b[0;34m(self, X, y)\u001b[0m\n\u001b[1;32m    670\u001b[0m \u001b[38;5;28mself\u001b[39m\u001b[38;5;241m.\u001b[39m_validate_column_callables(X)\n\u001b[1;32m    671\u001b[0m \u001b[38;5;28mself\u001b[39m\u001b[38;5;241m.\u001b[39m_validate_remainder(X)\n\u001b[0;32m--> 673\u001b[0m result \u001b[38;5;241m=\u001b[39m \u001b[38;5;28;43mself\u001b[39;49m\u001b[38;5;241;43m.\u001b[39;49m\u001b[43m_fit_transform\u001b[49m\u001b[43m(\u001b[49m\u001b[43mX\u001b[49m\u001b[43m,\u001b[49m\u001b[43m \u001b[49m\u001b[43my\u001b[49m\u001b[43m,\u001b[49m\u001b[43m \u001b[49m\u001b[43m_fit_transform_one\u001b[49m\u001b[43m)\u001b[49m\n\u001b[1;32m    675\u001b[0m \u001b[38;5;28;01mif\u001b[39;00m \u001b[38;5;129;01mnot\u001b[39;00m result:\n\u001b[1;32m    676\u001b[0m     \u001b[38;5;28mself\u001b[39m\u001b[38;5;241m.\u001b[39m_update_fitted_transformers([])\n",
      "File \u001b[0;32m~/.conda/envs/fastai/lib/python3.10/site-packages/sklearn/compose/_column_transformer.py:604\u001b[0m, in \u001b[0;36mColumnTransformer._fit_transform\u001b[0;34m(self, X, y, func, fitted, column_as_strings)\u001b[0m\n\u001b[1;32m    598\u001b[0m transformers \u001b[38;5;241m=\u001b[39m \u001b[38;5;28mlist\u001b[39m(\n\u001b[1;32m    599\u001b[0m     \u001b[38;5;28mself\u001b[39m\u001b[38;5;241m.\u001b[39m_iter(\n\u001b[1;32m    600\u001b[0m         fitted\u001b[38;5;241m=\u001b[39mfitted, replace_strings\u001b[38;5;241m=\u001b[39m\u001b[38;5;28;01mTrue\u001b[39;00m, column_as_strings\u001b[38;5;241m=\u001b[39mcolumn_as_strings\n\u001b[1;32m    601\u001b[0m     )\n\u001b[1;32m    602\u001b[0m )\n\u001b[1;32m    603\u001b[0m \u001b[38;5;28;01mtry\u001b[39;00m:\n\u001b[0;32m--> 604\u001b[0m     \u001b[38;5;28;01mreturn\u001b[39;00m \u001b[43mParallel\u001b[49m\u001b[43m(\u001b[49m\u001b[43mn_jobs\u001b[49m\u001b[38;5;241;43m=\u001b[39;49m\u001b[38;5;28;43mself\u001b[39;49m\u001b[38;5;241;43m.\u001b[39;49m\u001b[43mn_jobs\u001b[49m\u001b[43m)\u001b[49m\u001b[43m(\u001b[49m\n\u001b[1;32m    605\u001b[0m \u001b[43m        \u001b[49m\u001b[43mdelayed\u001b[49m\u001b[43m(\u001b[49m\u001b[43mfunc\u001b[49m\u001b[43m)\u001b[49m\u001b[43m(\u001b[49m\n\u001b[1;32m    606\u001b[0m \u001b[43m            \u001b[49m\u001b[43mtransformer\u001b[49m\u001b[38;5;241;43m=\u001b[39;49m\u001b[43mclone\u001b[49m\u001b[43m(\u001b[49m\u001b[43mtrans\u001b[49m\u001b[43m)\u001b[49m\u001b[43m \u001b[49m\u001b[38;5;28;43;01mif\u001b[39;49;00m\u001b[43m \u001b[49m\u001b[38;5;129;43;01mnot\u001b[39;49;00m\u001b[43m \u001b[49m\u001b[43mfitted\u001b[49m\u001b[43m \u001b[49m\u001b[38;5;28;43;01melse\u001b[39;49;00m\u001b[43m \u001b[49m\u001b[43mtrans\u001b[49m\u001b[43m,\u001b[49m\n\u001b[1;32m    607\u001b[0m \u001b[43m            \u001b[49m\u001b[43mX\u001b[49m\u001b[38;5;241;43m=\u001b[39;49m\u001b[43m_safe_indexing\u001b[49m\u001b[43m(\u001b[49m\u001b[43mX\u001b[49m\u001b[43m,\u001b[49m\u001b[43m \u001b[49m\u001b[43mcolumn\u001b[49m\u001b[43m,\u001b[49m\u001b[43m \u001b[49m\u001b[43maxis\u001b[49m\u001b[38;5;241;43m=\u001b[39;49m\u001b[38;5;241;43m1\u001b[39;49m\u001b[43m)\u001b[49m\u001b[43m,\u001b[49m\n\u001b[1;32m    608\u001b[0m \u001b[43m            \u001b[49m\u001b[43my\u001b[49m\u001b[38;5;241;43m=\u001b[39;49m\u001b[43my\u001b[49m\u001b[43m,\u001b[49m\n\u001b[1;32m    609\u001b[0m \u001b[43m            \u001b[49m\u001b[43mweight\u001b[49m\u001b[38;5;241;43m=\u001b[39;49m\u001b[43mweight\u001b[49m\u001b[43m,\u001b[49m\n\u001b[1;32m    610\u001b[0m \u001b[43m            \u001b[49m\u001b[43mmessage_clsname\u001b[49m\u001b[38;5;241;43m=\u001b[39;49m\u001b[38;5;124;43m\"\u001b[39;49m\u001b[38;5;124;43mColumnTransformer\u001b[39;49m\u001b[38;5;124;43m\"\u001b[39;49m\u001b[43m,\u001b[49m\n\u001b[1;32m    611\u001b[0m \u001b[43m            \u001b[49m\u001b[43mmessage\u001b[49m\u001b[38;5;241;43m=\u001b[39;49m\u001b[38;5;28;43mself\u001b[39;49m\u001b[38;5;241;43m.\u001b[39;49m\u001b[43m_log_message\u001b[49m\u001b[43m(\u001b[49m\u001b[43mname\u001b[49m\u001b[43m,\u001b[49m\u001b[43m \u001b[49m\u001b[43midx\u001b[49m\u001b[43m,\u001b[49m\u001b[43m \u001b[49m\u001b[38;5;28;43mlen\u001b[39;49m\u001b[43m(\u001b[49m\u001b[43mtransformers\u001b[49m\u001b[43m)\u001b[49m\u001b[43m)\u001b[49m\u001b[43m,\u001b[49m\n\u001b[1;32m    612\u001b[0m \u001b[43m        \u001b[49m\u001b[43m)\u001b[49m\n\u001b[1;32m    613\u001b[0m \u001b[43m        \u001b[49m\u001b[38;5;28;43;01mfor\u001b[39;49;00m\u001b[43m \u001b[49m\u001b[43midx\u001b[49m\u001b[43m,\u001b[49m\u001b[43m \u001b[49m\u001b[43m(\u001b[49m\u001b[43mname\u001b[49m\u001b[43m,\u001b[49m\u001b[43m \u001b[49m\u001b[43mtrans\u001b[49m\u001b[43m,\u001b[49m\u001b[43m \u001b[49m\u001b[43mcolumn\u001b[49m\u001b[43m,\u001b[49m\u001b[43m \u001b[49m\u001b[43mweight\u001b[49m\u001b[43m)\u001b[49m\u001b[43m \u001b[49m\u001b[38;5;129;43;01min\u001b[39;49;00m\u001b[43m \u001b[49m\u001b[38;5;28;43menumerate\u001b[39;49m\u001b[43m(\u001b[49m\u001b[43mtransformers\u001b[49m\u001b[43m,\u001b[49m\u001b[43m \u001b[49m\u001b[38;5;241;43m1\u001b[39;49m\u001b[43m)\u001b[49m\n\u001b[1;32m    614\u001b[0m \u001b[43m    \u001b[49m\u001b[43m)\u001b[49m\n\u001b[1;32m    615\u001b[0m \u001b[38;5;28;01mexcept\u001b[39;00m \u001b[38;5;167;01mValueError\u001b[39;00m \u001b[38;5;28;01mas\u001b[39;00m e:\n\u001b[1;32m    616\u001b[0m     \u001b[38;5;28;01mif\u001b[39;00m \u001b[38;5;124m\"\u001b[39m\u001b[38;5;124mExpected 2D array, got 1D array instead\u001b[39m\u001b[38;5;124m\"\u001b[39m \u001b[38;5;129;01min\u001b[39;00m \u001b[38;5;28mstr\u001b[39m(e):\n",
      "File \u001b[0;32m~/.conda/envs/fastai/lib/python3.10/site-packages/joblib/parallel.py:1046\u001b[0m, in \u001b[0;36mParallel.__call__\u001b[0;34m(self, iterable)\u001b[0m\n\u001b[1;32m   1043\u001b[0m \u001b[38;5;28;01mif\u001b[39;00m \u001b[38;5;28mself\u001b[39m\u001b[38;5;241m.\u001b[39mdispatch_one_batch(iterator):\n\u001b[1;32m   1044\u001b[0m     \u001b[38;5;28mself\u001b[39m\u001b[38;5;241m.\u001b[39m_iterating \u001b[38;5;241m=\u001b[39m \u001b[38;5;28mself\u001b[39m\u001b[38;5;241m.\u001b[39m_original_iterator \u001b[38;5;129;01mis\u001b[39;00m \u001b[38;5;129;01mnot\u001b[39;00m \u001b[38;5;28;01mNone\u001b[39;00m\n\u001b[0;32m-> 1046\u001b[0m \u001b[38;5;28;01mwhile\u001b[39;00m \u001b[38;5;28;43mself\u001b[39;49m\u001b[38;5;241;43m.\u001b[39;49m\u001b[43mdispatch_one_batch\u001b[49m\u001b[43m(\u001b[49m\u001b[43miterator\u001b[49m\u001b[43m)\u001b[49m:\n\u001b[1;32m   1047\u001b[0m     \u001b[38;5;28;01mpass\u001b[39;00m\n\u001b[1;32m   1049\u001b[0m \u001b[38;5;28;01mif\u001b[39;00m pre_dispatch \u001b[38;5;241m==\u001b[39m \u001b[38;5;124m\"\u001b[39m\u001b[38;5;124mall\u001b[39m\u001b[38;5;124m\"\u001b[39m \u001b[38;5;129;01mor\u001b[39;00m n_jobs \u001b[38;5;241m==\u001b[39m \u001b[38;5;241m1\u001b[39m:\n\u001b[1;32m   1050\u001b[0m     \u001b[38;5;66;03m# The iterable was consumed all at once by the above for loop.\u001b[39;00m\n\u001b[1;32m   1051\u001b[0m     \u001b[38;5;66;03m# No need to wait for async callbacks to trigger to\u001b[39;00m\n\u001b[1;32m   1052\u001b[0m     \u001b[38;5;66;03m# consumption.\u001b[39;00m\n",
      "File \u001b[0;32m~/.conda/envs/fastai/lib/python3.10/site-packages/joblib/parallel.py:861\u001b[0m, in \u001b[0;36mParallel.dispatch_one_batch\u001b[0;34m(self, iterator)\u001b[0m\n\u001b[1;32m    859\u001b[0m     \u001b[38;5;28;01mreturn\u001b[39;00m \u001b[38;5;28;01mFalse\u001b[39;00m\n\u001b[1;32m    860\u001b[0m \u001b[38;5;28;01melse\u001b[39;00m:\n\u001b[0;32m--> 861\u001b[0m     \u001b[38;5;28;43mself\u001b[39;49m\u001b[38;5;241;43m.\u001b[39;49m\u001b[43m_dispatch\u001b[49m\u001b[43m(\u001b[49m\u001b[43mtasks\u001b[49m\u001b[43m)\u001b[49m\n\u001b[1;32m    862\u001b[0m     \u001b[38;5;28;01mreturn\u001b[39;00m \u001b[38;5;28;01mTrue\u001b[39;00m\n",
      "File \u001b[0;32m~/.conda/envs/fastai/lib/python3.10/site-packages/joblib/parallel.py:779\u001b[0m, in \u001b[0;36mParallel._dispatch\u001b[0;34m(self, batch)\u001b[0m\n\u001b[1;32m    777\u001b[0m \u001b[38;5;28;01mwith\u001b[39;00m \u001b[38;5;28mself\u001b[39m\u001b[38;5;241m.\u001b[39m_lock:\n\u001b[1;32m    778\u001b[0m     job_idx \u001b[38;5;241m=\u001b[39m \u001b[38;5;28mlen\u001b[39m(\u001b[38;5;28mself\u001b[39m\u001b[38;5;241m.\u001b[39m_jobs)\n\u001b[0;32m--> 779\u001b[0m     job \u001b[38;5;241m=\u001b[39m \u001b[38;5;28;43mself\u001b[39;49m\u001b[38;5;241;43m.\u001b[39;49m\u001b[43m_backend\u001b[49m\u001b[38;5;241;43m.\u001b[39;49m\u001b[43mapply_async\u001b[49m\u001b[43m(\u001b[49m\u001b[43mbatch\u001b[49m\u001b[43m,\u001b[49m\u001b[43m \u001b[49m\u001b[43mcallback\u001b[49m\u001b[38;5;241;43m=\u001b[39;49m\u001b[43mcb\u001b[49m\u001b[43m)\u001b[49m\n\u001b[1;32m    780\u001b[0m     \u001b[38;5;66;03m# A job can complete so quickly than its callback is\u001b[39;00m\n\u001b[1;32m    781\u001b[0m     \u001b[38;5;66;03m# called before we get here, causing self._jobs to\u001b[39;00m\n\u001b[1;32m    782\u001b[0m     \u001b[38;5;66;03m# grow. To ensure correct results ordering, .insert is\u001b[39;00m\n\u001b[1;32m    783\u001b[0m     \u001b[38;5;66;03m# used (rather than .append) in the following line\u001b[39;00m\n\u001b[1;32m    784\u001b[0m     \u001b[38;5;28mself\u001b[39m\u001b[38;5;241m.\u001b[39m_jobs\u001b[38;5;241m.\u001b[39minsert(job_idx, job)\n",
      "File \u001b[0;32m~/.conda/envs/fastai/lib/python3.10/site-packages/joblib/_parallel_backends.py:208\u001b[0m, in \u001b[0;36mSequentialBackend.apply_async\u001b[0;34m(self, func, callback)\u001b[0m\n\u001b[1;32m    206\u001b[0m \u001b[38;5;28;01mdef\u001b[39;00m \u001b[38;5;21mapply_async\u001b[39m(\u001b[38;5;28mself\u001b[39m, func, callback\u001b[38;5;241m=\u001b[39m\u001b[38;5;28;01mNone\u001b[39;00m):\n\u001b[1;32m    207\u001b[0m     \u001b[38;5;124;03m\"\"\"Schedule a func to be run\"\"\"\u001b[39;00m\n\u001b[0;32m--> 208\u001b[0m     result \u001b[38;5;241m=\u001b[39m \u001b[43mImmediateResult\u001b[49m\u001b[43m(\u001b[49m\u001b[43mfunc\u001b[49m\u001b[43m)\u001b[49m\n\u001b[1;32m    209\u001b[0m     \u001b[38;5;28;01mif\u001b[39;00m callback:\n\u001b[1;32m    210\u001b[0m         callback(result)\n",
      "File \u001b[0;32m~/.conda/envs/fastai/lib/python3.10/site-packages/joblib/_parallel_backends.py:572\u001b[0m, in \u001b[0;36mImmediateResult.__init__\u001b[0;34m(self, batch)\u001b[0m\n\u001b[1;32m    569\u001b[0m \u001b[38;5;28;01mdef\u001b[39;00m \u001b[38;5;21m__init__\u001b[39m(\u001b[38;5;28mself\u001b[39m, batch):\n\u001b[1;32m    570\u001b[0m     \u001b[38;5;66;03m# Don't delay the application, to avoid keeping the input\u001b[39;00m\n\u001b[1;32m    571\u001b[0m     \u001b[38;5;66;03m# arguments in memory\u001b[39;00m\n\u001b[0;32m--> 572\u001b[0m     \u001b[38;5;28mself\u001b[39m\u001b[38;5;241m.\u001b[39mresults \u001b[38;5;241m=\u001b[39m \u001b[43mbatch\u001b[49m\u001b[43m(\u001b[49m\u001b[43m)\u001b[49m\n",
      "File \u001b[0;32m~/.conda/envs/fastai/lib/python3.10/site-packages/joblib/parallel.py:262\u001b[0m, in \u001b[0;36mBatchedCalls.__call__\u001b[0;34m(self)\u001b[0m\n\u001b[1;32m    258\u001b[0m \u001b[38;5;28;01mdef\u001b[39;00m \u001b[38;5;21m__call__\u001b[39m(\u001b[38;5;28mself\u001b[39m):\n\u001b[1;32m    259\u001b[0m     \u001b[38;5;66;03m# Set the default nested backend to self._backend but do not set the\u001b[39;00m\n\u001b[1;32m    260\u001b[0m     \u001b[38;5;66;03m# change the default number of processes to -1\u001b[39;00m\n\u001b[1;32m    261\u001b[0m     \u001b[38;5;28;01mwith\u001b[39;00m parallel_backend(\u001b[38;5;28mself\u001b[39m\u001b[38;5;241m.\u001b[39m_backend, n_jobs\u001b[38;5;241m=\u001b[39m\u001b[38;5;28mself\u001b[39m\u001b[38;5;241m.\u001b[39m_n_jobs):\n\u001b[0;32m--> 262\u001b[0m         \u001b[38;5;28;01mreturn\u001b[39;00m [func(\u001b[38;5;241m*\u001b[39margs, \u001b[38;5;241m*\u001b[39m\u001b[38;5;241m*\u001b[39mkwargs)\n\u001b[1;32m    263\u001b[0m                 \u001b[38;5;28;01mfor\u001b[39;00m func, args, kwargs \u001b[38;5;129;01min\u001b[39;00m \u001b[38;5;28mself\u001b[39m\u001b[38;5;241m.\u001b[39mitems]\n",
      "File \u001b[0;32m~/.conda/envs/fastai/lib/python3.10/site-packages/joblib/parallel.py:262\u001b[0m, in \u001b[0;36m<listcomp>\u001b[0;34m(.0)\u001b[0m\n\u001b[1;32m    258\u001b[0m \u001b[38;5;28;01mdef\u001b[39;00m \u001b[38;5;21m__call__\u001b[39m(\u001b[38;5;28mself\u001b[39m):\n\u001b[1;32m    259\u001b[0m     \u001b[38;5;66;03m# Set the default nested backend to self._backend but do not set the\u001b[39;00m\n\u001b[1;32m    260\u001b[0m     \u001b[38;5;66;03m# change the default number of processes to -1\u001b[39;00m\n\u001b[1;32m    261\u001b[0m     \u001b[38;5;28;01mwith\u001b[39;00m parallel_backend(\u001b[38;5;28mself\u001b[39m\u001b[38;5;241m.\u001b[39m_backend, n_jobs\u001b[38;5;241m=\u001b[39m\u001b[38;5;28mself\u001b[39m\u001b[38;5;241m.\u001b[39m_n_jobs):\n\u001b[0;32m--> 262\u001b[0m         \u001b[38;5;28;01mreturn\u001b[39;00m [\u001b[43mfunc\u001b[49m\u001b[43m(\u001b[49m\u001b[38;5;241;43m*\u001b[39;49m\u001b[43margs\u001b[49m\u001b[43m,\u001b[49m\u001b[43m \u001b[49m\u001b[38;5;241;43m*\u001b[39;49m\u001b[38;5;241;43m*\u001b[39;49m\u001b[43mkwargs\u001b[49m\u001b[43m)\u001b[49m\n\u001b[1;32m    263\u001b[0m                 \u001b[38;5;28;01mfor\u001b[39;00m func, args, kwargs \u001b[38;5;129;01min\u001b[39;00m \u001b[38;5;28mself\u001b[39m\u001b[38;5;241m.\u001b[39mitems]\n",
      "File \u001b[0;32m~/.conda/envs/fastai/lib/python3.10/site-packages/sklearn/utils/fixes.py:117\u001b[0m, in \u001b[0;36m_FuncWrapper.__call__\u001b[0;34m(self, *args, **kwargs)\u001b[0m\n\u001b[1;32m    115\u001b[0m \u001b[38;5;28;01mdef\u001b[39;00m \u001b[38;5;21m__call__\u001b[39m(\u001b[38;5;28mself\u001b[39m, \u001b[38;5;241m*\u001b[39margs, \u001b[38;5;241m*\u001b[39m\u001b[38;5;241m*\u001b[39mkwargs):\n\u001b[1;32m    116\u001b[0m     \u001b[38;5;28;01mwith\u001b[39;00m config_context(\u001b[38;5;241m*\u001b[39m\u001b[38;5;241m*\u001b[39m\u001b[38;5;28mself\u001b[39m\u001b[38;5;241m.\u001b[39mconfig):\n\u001b[0;32m--> 117\u001b[0m         \u001b[38;5;28;01mreturn\u001b[39;00m \u001b[38;5;28;43mself\u001b[39;49m\u001b[38;5;241;43m.\u001b[39;49m\u001b[43mfunction\u001b[49m\u001b[43m(\u001b[49m\u001b[38;5;241;43m*\u001b[39;49m\u001b[43margs\u001b[49m\u001b[43m,\u001b[49m\u001b[43m \u001b[49m\u001b[38;5;241;43m*\u001b[39;49m\u001b[38;5;241;43m*\u001b[39;49m\u001b[43mkwargs\u001b[49m\u001b[43m)\u001b[49m\n",
      "File \u001b[0;32m~/.conda/envs/fastai/lib/python3.10/site-packages/sklearn/pipeline.py:870\u001b[0m, in \u001b[0;36m_fit_transform_one\u001b[0;34m(transformer, X, y, weight, message_clsname, message, **fit_params)\u001b[0m\n\u001b[1;32m    868\u001b[0m \u001b[38;5;28;01mwith\u001b[39;00m _print_elapsed_time(message_clsname, message):\n\u001b[1;32m    869\u001b[0m     \u001b[38;5;28;01mif\u001b[39;00m \u001b[38;5;28mhasattr\u001b[39m(transformer, \u001b[38;5;124m\"\u001b[39m\u001b[38;5;124mfit_transform\u001b[39m\u001b[38;5;124m\"\u001b[39m):\n\u001b[0;32m--> 870\u001b[0m         res \u001b[38;5;241m=\u001b[39m \u001b[43mtransformer\u001b[49m\u001b[38;5;241;43m.\u001b[39;49m\u001b[43mfit_transform\u001b[49m\u001b[43m(\u001b[49m\u001b[43mX\u001b[49m\u001b[43m,\u001b[49m\u001b[43m \u001b[49m\u001b[43my\u001b[49m\u001b[43m,\u001b[49m\u001b[43m \u001b[49m\u001b[38;5;241;43m*\u001b[39;49m\u001b[38;5;241;43m*\u001b[39;49m\u001b[43mfit_params\u001b[49m\u001b[43m)\u001b[49m\n\u001b[1;32m    871\u001b[0m     \u001b[38;5;28;01melse\u001b[39;00m:\n\u001b[1;32m    872\u001b[0m         res \u001b[38;5;241m=\u001b[39m transformer\u001b[38;5;241m.\u001b[39mfit(X, y, \u001b[38;5;241m*\u001b[39m\u001b[38;5;241m*\u001b[39mfit_params)\u001b[38;5;241m.\u001b[39mtransform(X)\n",
      "File \u001b[0;32m~/.conda/envs/fastai/lib/python3.10/site-packages/sklearn/base.py:867\u001b[0m, in \u001b[0;36mTransformerMixin.fit_transform\u001b[0;34m(self, X, y, **fit_params)\u001b[0m\n\u001b[1;32m    863\u001b[0m \u001b[38;5;66;03m# non-optimized default implementation; override when a better\u001b[39;00m\n\u001b[1;32m    864\u001b[0m \u001b[38;5;66;03m# method is possible for a given clustering algorithm\u001b[39;00m\n\u001b[1;32m    865\u001b[0m \u001b[38;5;28;01mif\u001b[39;00m y \u001b[38;5;129;01mis\u001b[39;00m \u001b[38;5;28;01mNone\u001b[39;00m:\n\u001b[1;32m    866\u001b[0m     \u001b[38;5;66;03m# fit method of arity 1 (unsupervised transformation)\u001b[39;00m\n\u001b[0;32m--> 867\u001b[0m     \u001b[38;5;28;01mreturn\u001b[39;00m \u001b[38;5;28;43mself\u001b[39;49m\u001b[38;5;241;43m.\u001b[39;49m\u001b[43mfit\u001b[49m\u001b[43m(\u001b[49m\u001b[43mX\u001b[49m\u001b[43m,\u001b[49m\u001b[43m \u001b[49m\u001b[38;5;241;43m*\u001b[39;49m\u001b[38;5;241;43m*\u001b[39;49m\u001b[43mfit_params\u001b[49m\u001b[43m)\u001b[49m\u001b[38;5;241m.\u001b[39mtransform(X)\n\u001b[1;32m    868\u001b[0m \u001b[38;5;28;01melse\u001b[39;00m:\n\u001b[1;32m    869\u001b[0m     \u001b[38;5;66;03m# fit method of arity 2 (supervised transformation)\u001b[39;00m\n\u001b[1;32m    870\u001b[0m     \u001b[38;5;28;01mreturn\u001b[39;00m \u001b[38;5;28mself\u001b[39m\u001b[38;5;241m.\u001b[39mfit(X, y, \u001b[38;5;241m*\u001b[39m\u001b[38;5;241m*\u001b[39mfit_params)\u001b[38;5;241m.\u001b[39mtransform(X)\n",
      "File \u001b[0;32m~/.conda/envs/fastai/lib/python3.10/site-packages/sklearn/preprocessing/_encoders.py:1280\u001b[0m, in \u001b[0;36mOrdinalEncoder.fit\u001b[0;34m(self, X, y)\u001b[0m\n\u001b[1;32m   1274\u001b[0m             \u001b[38;5;28;01mraise\u001b[39;00m \u001b[38;5;167;01mValueError\u001b[39;00m(\n\u001b[1;32m   1275\u001b[0m                 \u001b[38;5;124m\"\u001b[39m\u001b[38;5;124mWhen unknown_value is np.nan, the dtype \u001b[39m\u001b[38;5;124m\"\u001b[39m\n\u001b[1;32m   1276\u001b[0m                 \u001b[38;5;124m\"\u001b[39m\u001b[38;5;124mparameter should be \u001b[39m\u001b[38;5;124m\"\u001b[39m\n\u001b[1;32m   1277\u001b[0m                 \u001b[38;5;124mf\u001b[39m\u001b[38;5;124m\"\u001b[39m\u001b[38;5;124ma float dtype. Got \u001b[39m\u001b[38;5;132;01m{\u001b[39;00m\u001b[38;5;28mself\u001b[39m\u001b[38;5;241m.\u001b[39mdtype\u001b[38;5;132;01m}\u001b[39;00m\u001b[38;5;124m.\u001b[39m\u001b[38;5;124m\"\u001b[39m\n\u001b[1;32m   1278\u001b[0m             )\n\u001b[1;32m   1279\u001b[0m     \u001b[38;5;28;01melif\u001b[39;00m \u001b[38;5;129;01mnot\u001b[39;00m \u001b[38;5;28misinstance\u001b[39m(\u001b[38;5;28mself\u001b[39m\u001b[38;5;241m.\u001b[39munknown_value, numbers\u001b[38;5;241m.\u001b[39mIntegral):\n\u001b[0;32m-> 1280\u001b[0m         \u001b[38;5;28;01mraise\u001b[39;00m \u001b[38;5;167;01mTypeError\u001b[39;00m(\n\u001b[1;32m   1281\u001b[0m             \u001b[38;5;124m\"\u001b[39m\u001b[38;5;124munknown_value should be an integer or \u001b[39m\u001b[38;5;124m\"\u001b[39m\n\u001b[1;32m   1282\u001b[0m             \u001b[38;5;124m\"\u001b[39m\u001b[38;5;124mnp.nan when \u001b[39m\u001b[38;5;124m\"\u001b[39m\n\u001b[1;32m   1283\u001b[0m             \u001b[38;5;124m\"\u001b[39m\u001b[38;5;124mhandle_unknown is \u001b[39m\u001b[38;5;124m'\u001b[39m\u001b[38;5;124muse_encoded_value\u001b[39m\u001b[38;5;124m'\u001b[39m\u001b[38;5;124m, \u001b[39m\u001b[38;5;124m\"\u001b[39m\n\u001b[1;32m   1284\u001b[0m             \u001b[38;5;124mf\u001b[39m\u001b[38;5;124m\"\u001b[39m\u001b[38;5;124mgot \u001b[39m\u001b[38;5;132;01m{\u001b[39;00m\u001b[38;5;28mself\u001b[39m\u001b[38;5;241m.\u001b[39munknown_value\u001b[38;5;132;01m}\u001b[39;00m\u001b[38;5;124m.\u001b[39m\u001b[38;5;124m\"\u001b[39m\n\u001b[1;32m   1285\u001b[0m         )\n\u001b[1;32m   1286\u001b[0m \u001b[38;5;28;01melif\u001b[39;00m \u001b[38;5;28mself\u001b[39m\u001b[38;5;241m.\u001b[39munknown_value \u001b[38;5;129;01mis\u001b[39;00m \u001b[38;5;129;01mnot\u001b[39;00m \u001b[38;5;28;01mNone\u001b[39;00m:\n\u001b[1;32m   1287\u001b[0m     \u001b[38;5;28;01mraise\u001b[39;00m \u001b[38;5;167;01mTypeError\u001b[39;00m(\n\u001b[1;32m   1288\u001b[0m         \u001b[38;5;124m\"\u001b[39m\u001b[38;5;124munknown_value should only be set when \u001b[39m\u001b[38;5;124m\"\u001b[39m\n\u001b[1;32m   1289\u001b[0m         \u001b[38;5;124m\"\u001b[39m\u001b[38;5;124mhandle_unknown is \u001b[39m\u001b[38;5;124m'\u001b[39m\u001b[38;5;124muse_encoded_value\u001b[39m\u001b[38;5;124m'\u001b[39m\u001b[38;5;124m, \u001b[39m\u001b[38;5;124m\"\u001b[39m\n\u001b[1;32m   1290\u001b[0m         \u001b[38;5;124mf\u001b[39m\u001b[38;5;124m\"\u001b[39m\u001b[38;5;124mgot \u001b[39m\u001b[38;5;132;01m{\u001b[39;00m\u001b[38;5;28mself\u001b[39m\u001b[38;5;241m.\u001b[39munknown_value\u001b[38;5;132;01m}\u001b[39;00m\u001b[38;5;124m.\u001b[39m\u001b[38;5;124m\"\u001b[39m\n\u001b[1;32m   1291\u001b[0m     )\n",
      "\u001b[0;31mTypeError\u001b[0m: unknown_value should be an integer or np.nan when handle_unknown is 'use_encoded_value', got None."
     ]
    }
   ],
   "source": [
    "study = optuna.create_study(direction=\"maximize\")\n",
    "study.optimize(objective, n_trials=100)"
   ]
  },
  {
   "cell_type": "code",
   "execution_count": null,
   "id": "ea71d680-7c3d-4dd1-8970-76d5e7e6f00a",
   "metadata": {},
   "outputs": [],
   "source": [
    "print(study.best_params)"
   ]
  },
  {
   "cell_type": "code",
   "execution_count": null,
   "id": "54f1dce4-0c81-48f1-a6fd-7247c855cc8c",
   "metadata": {},
   "outputs": [],
   "source": [
    "# optimized model out of log transforms\n",
    "\n",
    "final_valid_preds = {}\n",
    "test_scores = []\n",
    "\n",
    "for fold in range(5):\n",
    "    model = XGBRegressor(random_state=13,\n",
    "                         n_estimators=7000,\n",
    "                         **study.best_params)\n",
    "    \n",
    "    xtrain = train_df2[train_df2.kfold != fold].reset_index(drop=True)\n",
    "    xvalid = train_df2[train_df2.kfold == fold].reset_index(drop=True)\n",
    "    ytrain = xtrain.Habitability_score\n",
    "    yvalid = xvalid.Habitability_score\n",
    "    \n",
    "    valid_ids = xvalid.Property_ID\n",
    "    \n",
    "    xtrain = xtrain[useful_features]\n",
    "    xvalid = xvalid[useful_features]\n",
    "    \n",
    "    # transform features to log\n",
    "    ct = ColumnTransformer([\n",
    "        (\"num\", FunctionTransformer(np.log1p, validate=True), num_cols),\n",
    "        (\"cat\", OrdinalEncoder(handle_unknown=\"use_encoded_value\"), cat_cols)\n",
    "    ])\n",
    "\n",
    "    xtrain = ct.fit_transform(xtrain)\n",
    "    xvalid = ct.transform(xvalid)\n",
    "    xtest = ct.transform(test_df2[useful_features])\n",
    "    \n",
    "    model.fit(xtrain, ytrain, eval_set=[(xvalid, yvalid)], early_stopping_rounds=300, verbose=False)\n",
    "    preds_valid = model.predict(xvalid)\n",
    "    print(f\"fold: {fold}, score: {max(0, 100 * r2_score(yvalid, preds_valid))}\")\n",
    "    \n",
    "    final_valid_preds.update(dict(zip(valid_ids, preds_valid)))\n",
    "    test_scores.append(model.predict(xtest))\n",
    "\n",
    "final_valid_preds = pd.DataFrame.from_dict(final_valid_preds, orient=\"index\").reset_index()\n",
    "final_valid_preds.columns = [\"Property_ID\", \"pred_log\"]\n",
    "final_valid_preds.to_csv(results_path/\"xgb_valid_pred_2.csv\", index=False)\n",
    "\n",
    "test_scores = np.mean(np.column_stack(test_scores), axis=1)\n",
    "subm_df = make_sub_file(test_df2.Property_ID, test_scores)\n",
    "subm_df.to_csv(results_path/\"xgb_test_pred_2.csv\", index=False)"
   ]
  },
  {
   "cell_type": "markdown",
   "id": "22d574c8-7d75-4600-80d1-252528d5dea4",
   "metadata": {},
   "source": [
    "### polynomial features"
   ]
  },
  {
   "cell_type": "code",
   "execution_count": null,
   "id": "901e4013-d2e6-42b0-a63f-d8813e326b94",
   "metadata": {},
   "outputs": [],
   "source": [
    "train_df3 = train_df.copy(deep=True)\n",
    "test_df3 = test_df.copy(deep=True)\n",
    "assert train_df3 is not train_df\n",
    "assert test_df3 is not test_df"
   ]
  },
  {
   "cell_type": "code",
   "execution_count": null,
   "id": "af6876ae-4436-469d-9b72-1b30538cc409",
   "metadata": {},
   "outputs": [],
   "source": [
    "from sklearn.preprocessing import PolynomialFeatures\n",
    "from sklearn.pipeline import FeatureUnion"
   ]
  },
  {
   "cell_type": "code",
   "execution_count": null,
   "id": "af6b208f-0935-4376-b874-683f0774c63b",
   "metadata": {},
   "outputs": [],
   "source": [
    "def objective(trial):\n",
    "    preds_scores = []\n",
    "    for fold in range(5):\n",
    "        xtrain = train_df2[train_df2.kfold != fold].reset_index(drop=True)\n",
    "        xvalid = train_df2[train_df2.kfold == fold].reset_index(drop=True)\n",
    "        \n",
    "        ytrain = xtrain.Habitability_score\n",
    "        yvalid = xvalid.Habitability_score\n",
    "        \n",
    "        xtrain = xtrain[useful_features]\n",
    "        xvalid = xvalid[useful_features]\n",
    "        \n",
    "        # transform features to poly and add them to original\n",
    "        ct = ColumnTransformer([\n",
    "            (\"num\", StandardScaler(), num_cols)\n",
    "        ])\n",
    "        pt = ColumnTransformer([\n",
    "            (\"num\", PolynomialFeatures(degree=3, interaction_only=True, include_bias=False), num_cols),\n",
    "            (\"cat\", OrdinalEncoder(handle_unknown=\"use_encoded_value\"), cat_cols)\n",
    "        ])\n",
    "        \n",
    "        ft = FeatureUnion([\n",
    "            (\"orig\", ct),\n",
    "            (\"poly\", pt)\n",
    "        ])\n",
    "        \n",
    "        xtrain = ft.fit_transform(xtrain)\n",
    "        xvalid = ft.transform(xvalid)\n",
    "        \n",
    "        # initialize suggestions for xgb params\n",
    "        learning_rate = trial.suggest_float(\"learning_rate\", 1e-2, 0.3, log=True)\n",
    "        reg_lambda = trial.suggest_float(\"reg_lambda\", 1e-8, 100.0)\n",
    "        reg_alpha = trial.suggest_float(\"reg_alpha\", 1e-8, 100.0)\n",
    "        subsample = trial.suggest_float(\"subsample\", 0.1, 1.)\n",
    "        colsample_bytree = trial.suggest_float(\"colsample_bytree\", 0.1, 1.)\n",
    "        max_depth = trial.suggest_int(\"max_depth\", 2, 9)\n",
    "        \n",
    "        model = XGBRegressor(random_state=13,\n",
    "                             learning_rate=learning_rate,\n",
    "                             reg_lambda=reg_lambda,\n",
    "                             reg_alpha=reg_alpha,\n",
    "                             subsample=subsample,\n",
    "                             colsample_bytree=colsample_bytree,\n",
    "                             max_depth=max_depth,\n",
    "                             n_estimators=7000,\n",
    "                             gpu_id=0,\n",
    "                             predictor=\"gpu_predictor\",\n",
    "                             tree_method=\"gpu_hist\",\n",
    "                            )\n",
    "        model.fit(xtrain, ytrain, eval_set=[(xvalid, yvalid)], early_stopping_rounds=300, verbose=False)\n",
    "        preds_valid = model.predict(xvalid)\n",
    "        preds_scores.append(max(0, 100 * r2_score(yvalid, preds_valid)))\n",
    "        \n",
    "    return np.mean(preds_scores)"
   ]
  },
  {
   "cell_type": "code",
   "execution_count": null,
   "id": "b3ab5181-870f-4981-ad26-abdbf98fe2e4",
   "metadata": {
    "jupyter": {
     "outputs_hidden": true
    },
    "tags": []
   },
   "outputs": [],
   "source": [
    "study = optuna.create_study(direction=\"maximize\")\n",
    "study.optimize(objective, n_trials=100)"
   ]
  },
  {
   "cell_type": "code",
   "execution_count": null,
   "id": "816fe3d1-3098-449a-9c1b-d3f06b24b4e8",
   "metadata": {},
   "outputs": [],
   "source": [
    "# optimized model out of log transforms\n",
    "\n",
    "final_valid_preds = {}\n",
    "test_scores = []\n",
    "\n",
    "for fold in range(5):\n",
    "    model = XGBRegressor(random_state=13,\n",
    "                         n_estimators=7000,\n",
    "                         **study.best_params)\n",
    "    \n",
    "    xtrain = train_df3[train_df3.kfold != fold].reset_index(drop=True)\n",
    "    xvalid = train_df3[train_df3.kfold == fold].reset_index(drop=True)\n",
    "    ytrain = xtrain.Habitability_score\n",
    "    yvalid = xvalid.Habitability_score\n",
    "    \n",
    "    valid_ids = xvalid.Property_ID\n",
    "    \n",
    "    xtrain = xtrain[useful_features]\n",
    "    xvalid = xvalid[useful_features]\n",
    "    \n",
    "    # transform features to poly and add them to original\n",
    "    ct = ColumnTransformer([\n",
    "        (\"num\", StandardScaler(), num_cols)\n",
    "    ])\n",
    "    pt = ColumnTransformer([\n",
    "        (\"num\", PolynomialFeatures(degree=3, interaction_only=True, include_bias=False), num_cols),\n",
    "        (\"cat\", OrdinalEncoder(handle_unknown=\"use_encoded_value\"), cat_cols)\n",
    "    ])\n",
    "\n",
    "    ft = FeatureUnion([\n",
    "        (\"orig\", ct),\n",
    "        (\"poly\", pt)\n",
    "    ])\n",
    "\n",
    "    xtrain = ft.fit_transform(xtrain)\n",
    "    xvalid = ft.transform(xvalid)\n",
    "    xtest = ft.transform(test_df3[useful_features])\n",
    "    \n",
    "    model.fit(xtrain, ytrain, eval_set=[(xvalid, yvalid)], early_stopping_rounds=300, verbose=False)\n",
    "    preds_valid = model.predict(xvalid)\n",
    "    print(f\"fold: {fold}, score: {max(0, 100 * r2_score(yvalid, preds_valid))}\")\n",
    "    \n",
    "    final_valid_preds.update(dict(zip(valid_ids, preds_valid)))\n",
    "    test_scores.append(model.predict(xtest))\n",
    "\n",
    "final_valid_preds = pd.DataFrame.from_dict(final_valid_preds, orient=\"index\").reset_index()\n",
    "final_valid_preds.columns = [\"Property_ID\", \"pred_poly\"]\n",
    "final_valid_preds.to_csv(results_path/\"xgb_valid_pred_3.csv\", index=False)\n",
    "\n",
    "test_scores = np.mean(np.column_stack(test_scores), axis=1)\n",
    "subm_df = make_sub_file(test_df3.Property_ID, test_scores)\n",
    "subm_df.to_csv(results_path/\"xgb_test_pred_3.csv\", index=False)"
   ]
  },
  {
   "cell_type": "markdown",
   "id": "09183343-e1f9-43b5-a10f-b997e370e714",
   "metadata": {
    "tags": []
   },
   "source": [
    "### target encoding"
   ]
  },
  {
   "cell_type": "code",
   "execution_count": null,
   "id": "cdc0e139-c965-4615-b294-c3f084e5d2a0",
   "metadata": {},
   "outputs": [],
   "source": []
  },
  {
   "cell_type": "markdown",
   "id": "944030db-0c8e-4fc8-a92c-15fd1ece0e9f",
   "metadata": {},
   "source": [
    "## merging XGB Blends"
   ]
  },
  {
   "cell_type": "code",
   "execution_count": null,
   "id": "e3e1ac68-859a-478c-a0cb-998949929478",
   "metadata": {},
   "outputs": [],
   "source": [
    "from sklearn.linear_model import LinearRegression"
   ]
  },
  {
   "cell_type": "code",
   "execution_count": null,
   "id": "7ddadd93-d647-4ebe-b7c6-83da35094382",
   "metadata": {},
   "outputs": [],
   "source": [
    "train_pred_1 = pd.read_csv(results_path/\"xgb_valid_pred_1.csv\")\n",
    "train_pred_1.columns = [\"Property_ID\", \"pred_1\"]\n",
    "train_pred_2 = pd.read_csv(results_path/\"xgb_valid_pred_2.csv\")\n",
    "train_pred_2.columns = [\"Property_ID\", \"pred_2\"]\n",
    "train_pred_3 = pd.read_csv(results_path/\"xgb_valid_pred_3.csv\")\n",
    "train_pred_3.columns = [\"Property_ID\", \"pred_3\"]\n",
    "\n",
    "test_pred_1 = pd.read_csv(results_path/\"xgb_test_pred_1.csv\")\n",
    "test_pred_1.columns = [\"Property_ID\", \"pred_1\"]\n",
    "test_pred_2 = pd.read_csv(results_path/\"xgb_test_pred_2.csv\")\n",
    "test_pred_2.columns = [\"Property_ID\", \"pred_2\"]\n",
    "test_pred_3 = pd.read_csv(results_path/\"xgb_test_pred_3.csv\")\n",
    "test_pred_3.columns = [\"Property_ID\", \"pred_3\"]"
   ]
  },
  {
   "cell_type": "code",
   "execution_count": null,
   "id": "636294cf-3527-4ad5-b948-79d1379241cf",
   "metadata": {},
   "outputs": [],
   "source": [
    "train_df_final = train_df.merge(train_pred_1, on=\"Property_ID\", how=\"left\")\n",
    "train_df_final = train_df_final.merge(train_pred_2, on=\"Property_ID\", how=\"left\")\n",
    "train_df_final = train_df_final.merge(train_pred_3, on=\"Property_ID\", how=\"left\")\n",
    "train_df_final.head()"
   ]
  },
  {
   "cell_type": "code",
   "execution_count": null,
   "id": "e4a550ef-9206-4aae-981e-a17485117003",
   "metadata": {},
   "outputs": [],
   "source": [
    "test_df_final = test_df.merge(test_pred_1, on=\"Property_ID\", how=\"left\")\n",
    "test_df_final = test_df_final.merge(test_pred_2, on=\"Property_ID\", how=\"left\")\n",
    "test_df_final = test_df_final.merge(test_pred_3, on=\"Property_ID\", how=\"left\")\n",
    "test_df_final.head()"
   ]
  },
  {
   "cell_type": "code",
   "execution_count": null,
   "id": "77a5decc-cd91-4416-9de9-a578e04f5667",
   "metadata": {},
   "outputs": [],
   "source": [
    "useful_cols = [\"pred_1\", \"pred_2\", \"pred_3\"]"
   ]
  },
  {
   "cell_type": "code",
   "execution_count": null,
   "id": "3747c63f-d001-4e34-8c01-de227d5792d0",
   "metadata": {},
   "outputs": [],
   "source": [
    "test_scores = []\n",
    "for fold in range(5):\n",
    "    xtrain = train_df_final[train_df_final.kfold != fold].reset_index(drop=True)\n",
    "    xvalid = train_df_final[train_df_final.kfold == fold].reset_index(drop=True)\n",
    "    xtest = test_df_final[useful_cols]\n",
    "    \n",
    "    ytrain = xtrain.Habitability_score\n",
    "    yvalid = xvalid.Habitability_score\n",
    "    \n",
    "    xtrain = xtrain[useful_cols]\n",
    "    xvalid = xvalid[useful_cols]\n",
    "    \n",
    "    lin_reg = LinearRegression()\n",
    "    lin_reg.fit(xtrain, ytrain)\n",
    "    valid_preds = lin_reg.predict(xvalid)\n",
    "    print(f\"fold: {fold}, score: {max(0, 100 * r2_score(yvalid, valid_preds))}\")\n",
    "    test_scores.append(lin_reg.predict(xtest))\n",
    "test_scores = np.mean(np.column_stack(test_scores), axis=1)"
   ]
  },
  {
   "cell_type": "code",
   "execution_count": null,
   "id": "d83ffbdf-5486-461f-a724-da7e5c852f79",
   "metadata": {},
   "outputs": [],
   "source": [
    "lin_blend_df = make_sub_file(test_df_final.Property_ID, test_scores)\n",
    "lin_blend_df.head()"
   ]
  },
  {
   "cell_type": "code",
   "execution_count": null,
   "id": "c776cd21-778e-411c-8e19-e16eafcb8934",
   "metadata": {},
   "outputs": [],
   "source": [
    "lin_blend_df.to_csv(results_path/\"xgb_blend_final_with_lr.csv\", index=False)"
   ]
  },
  {
   "cell_type": "code",
   "execution_count": null,
   "id": "84b5edd3-c691-4adb-a66b-76102cd970d5",
   "metadata": {},
   "outputs": [],
   "source": [
    "train_df_final.to_csv(dataset_path/\"train_xgb_blend_final.csv\", index=False)\n",
    "test_df_final.to_csv(dataset_path/\"test_xgb_blend_final.csv\", index=False)"
   ]
  }
 ],
 "metadata": {
  "kernelspec": {
   "display_name": "Python 3 (ipykernel)",
   "language": "python",
   "name": "python3"
  },
  "language_info": {
   "codemirror_mode": {
    "name": "ipython",
    "version": 3
   },
   "file_extension": ".py",
   "mimetype": "text/x-python",
   "name": "python",
   "nbconvert_exporter": "python",
   "pygments_lexer": "ipython3",
   "version": "3.10.4"
  }
 },
 "nbformat": 4,
 "nbformat_minor": 5
}
