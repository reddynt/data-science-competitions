{
 "cells": [
  {
   "cell_type": "markdown",
   "id": "761fcece-d789-47a2-be4f-b6062a327221",
   "metadata": {},
   "source": [
    "https://www.hackerearth.com/challenges/competitive/get-a-room-ml-hackathon/machine-learning/identify-the-habitability-score-of-a-property-12-464aae3e/"
   ]
  },
  {
   "cell_type": "code",
   "execution_count": 1,
   "id": "6e9a4a79-9bf7-4eb4-9c3b-a4817b5170e6",
   "metadata": {},
   "outputs": [],
   "source": [
    "# imports\n",
    "\n",
    "import os\n",
    "from pathlib import Path\n",
    "\n",
    "import numpy as np\n",
    "import pandas as pd\n",
    "import seaborn as sns\n",
    "from matplotlib import pyplot as plt"
   ]
  },
  {
   "cell_type": "code",
   "execution_count": 2,
   "id": "82ef3f69-5363-44a4-b148-621c07170b92",
   "metadata": {},
   "outputs": [
    {
     "name": "stdout",
     "output_type": "stream",
     "text": [
      "['train_v2.csv', 'test_xgb_blend_final.csv', 'train.csv', 'train_v1.csv', 'subm_v1.csv', 'train_xgb_blend_final.csv', 'subm_v2.csv', 'sample_submission.csv', 'subm_v3.csv', 'test.csv', 'test_v1.csv']\n"
     ]
    }
   ],
   "source": [
    "dataset_path = Path(\"/home/tharun/projects/data_science_competitions/datasets/he_habitability/\")\n",
    "print([x.name for x in dataset_path.iterdir()])"
   ]
  },
  {
   "cell_type": "code",
   "execution_count": 3,
   "id": "3d880121-db3b-4930-ae58-4033a311d2fc",
   "metadata": {},
   "outputs": [
    {
     "data": {
      "text/plain": [
       "'/home/tharun/projects/data_science_competitions/hacker_earth/habitability_score_prediction/blending_results'"
      ]
     },
     "execution_count": 3,
     "metadata": {},
     "output_type": "execute_result"
    }
   ],
   "source": [
    "results_path = Path(\"/home/tharun/projects/data_science_competitions/hacker_earth/habitability_score_prediction/blending_results\")\n",
    "results_path.as_posix()"
   ]
  },
  {
   "cell_type": "code",
   "execution_count": 4,
   "id": "515b8771-c6f0-4114-94ec-499c219719af",
   "metadata": {},
   "outputs": [
    {
     "name": "stdout",
     "output_type": "stream",
     "text": [
      "(39500, 16) (10500, 14)\n"
     ]
    }
   ],
   "source": [
    "train_df = pd.read_csv(dataset_path/\"train_v2.csv\")\n",
    "test_df = pd.read_csv(dataset_path/\"test_v1.csv\")\n",
    "sample_submission_df = pd.read_csv(dataset_path/\"sample_submission.csv\")\n",
    "\n",
    "print(train_df.shape, test_df.shape)"
   ]
  },
  {
   "cell_type": "markdown",
   "id": "be213cf2-959c-4c7a-a495-ae28a87720ba",
   "metadata": {},
   "source": [
    "## utils"
   ]
  },
  {
   "cell_type": "code",
   "execution_count": 5,
   "id": "c0406e9b-ad0d-4afb-b9c0-0ae860212d9a",
   "metadata": {},
   "outputs": [],
   "source": [
    "def make_sub_file(test_ids, preds):\n",
    "    return pd.DataFrame.from_dict({\"Property_ID\": test_ids, \"Habitability_score\": preds})"
   ]
  },
  {
   "cell_type": "markdown",
   "id": "72d1a3fa-2ac8-40fd-8ce2-2e7be6a281f7",
   "metadata": {},
   "source": [
    "## data preprocessing"
   ]
  },
  {
   "cell_type": "code",
   "execution_count": 6,
   "id": "7b05787a-5dd4-4fb5-b732-5fa91091904a",
   "metadata": {},
   "outputs": [
    {
     "data": {
      "text/plain": [
       "['Property_Type',\n",
       " 'Property_Area',\n",
       " 'Number_of_Windows',\n",
       " 'Number_of_Doors',\n",
       " 'Furnishing',\n",
       " 'Frequency_of_Powercuts',\n",
       " 'Power_Backup',\n",
       " 'Water_Supply',\n",
       " 'Traffic_Density_Score',\n",
       " 'Crime_Rate',\n",
       " 'Dust_and_Noise',\n",
       " 'Air_Quality_Index',\n",
       " 'Neighborhood_Review']"
      ]
     },
     "execution_count": 6,
     "metadata": {},
     "output_type": "execute_result"
    }
   ],
   "source": [
    "useful_features = [col for col in train_df.columns if col not in [\"Property_ID\", \"Habitability_score\", \"kfold\"]]\n",
    "useful_features"
   ]
  },
  {
   "cell_type": "markdown",
   "id": "04ab1dc7-72c5-439e-91b6-816ba37530eb",
   "metadata": {},
   "source": [
    "## model build - hyperparameter tuning"
   ]
  },
  {
   "cell_type": "code",
   "execution_count": 7,
   "id": "f7415fc0-185a-4f6d-95d7-5663a5e498da",
   "metadata": {},
   "outputs": [],
   "source": [
    "from sklearn.preprocessing import OneHotEncoder\n",
    "from sklearn.compose import ColumnTransformer\n",
    "from sklearn.preprocessing import StandardScaler\n",
    "from sklearn.pipeline import Pipeline\n",
    "\n",
    "from sklearn.ensemble import RandomForestRegressor\n",
    "import optuna\n",
    "\n",
    "from sklearn.metrics import r2_score, mean_squared_error"
   ]
  },
  {
   "cell_type": "code",
   "execution_count": 8,
   "id": "5901f190-9f7c-4b40-80e3-1ff4d105ff11",
   "metadata": {},
   "outputs": [],
   "source": [
    "cat_cols = [\"Property_Type\", \"Furnishing\", \"Power_Backup\", \"Water_Supply\", \"Crime_Rate\", \"Dust_and_Noise\"]\n",
    "num_cols = [\"Property_Area\", \"Number_of_Windows\", \"Number_of_Doors\", \"Frequency_of_Powercuts\", \"Traffic_Density_Score\", \"Air_Quality_Index\", \"Neighborhood_Review\"]"
   ]
  },
  {
   "cell_type": "code",
   "execution_count": 9,
   "id": "00da631a-fa73-4cfe-b5e2-e8bc007546ef",
   "metadata": {},
   "outputs": [],
   "source": [
    "ct = ColumnTransformer([\n",
    "    (\"num\", StandardScaler(), num_cols),\n",
    "    (\"cat\", OneHotEncoder(handle_unknown=\"ignore\", drop=\"first\"), cat_cols)\n",
    "])"
   ]
  },
  {
   "cell_type": "code",
   "execution_count": 12,
   "id": "26709106-dc17-4a26-9246-eaf34cef87ca",
   "metadata": {},
   "outputs": [],
   "source": [
    "def objective(trial):\n",
    "    scores = []\n",
    "    \n",
    "    for fold in range(5):\n",
    "        criterion = trial.suggest_categorical(\"criterion\", [\"squared_error\", \"absolute_error\", \"poisson\"])\n",
    "        max_depth = trial.suggest_int(\"max_depth\", 2, 15)\n",
    "        min_samples_split = trial.suggest_int(\"min_samples_split\", 2, 5)\n",
    "        min_samples_leaf = trial.suggest_int(\"min_samples_leaf\", 1, 3)\n",
    "        max_features = trial.suggest_categorical(\"max_features\", [\"sqrt\", \"log2\", 1.])\n",
    "        max_samples = trial.suggest_float(\"max_samples\", 0.1, 1.)\n",
    "        \n",
    "        xtrain = train_df[train_df.kfold != fold].reset_index(drop=True)\n",
    "        xvalid = train_df[train_df.kfold == fold].reset_index(drop=True)\n",
    "        \n",
    "        ytrain = xtrain.loc[:, \"Habitability_score\"]\n",
    "        yvalid = xvalid.loc[:, \"Habitability_score\"]\n",
    "        \n",
    "        xtrain = xtrain[useful_features]\n",
    "        xvalid = xvalid[useful_features]\n",
    "        \n",
    "        ct = ColumnTransformer([\n",
    "            (\"num\", StandardScaler(), num_cols),\n",
    "            (\"cat\", OneHotEncoder(handle_unknown=\"ignore\", drop=\"first\"), cat_cols)\n",
    "        ])\n",
    "        \n",
    "        xtrain = ct.fit_transform(xtrain)\n",
    "        xvalid = ct.transform(xvalid)\n",
    "        \n",
    "        model = RandomForestRegressor(random_state=13,\n",
    "                                      n_estimators=500,\n",
    "                                      criterion=criterion,\n",
    "                                      max_features=max_features,\n",
    "                                      min_samples_leaf=min_samples_leaf,\n",
    "                                      min_samples_split=min_samples_split,\n",
    "                                      max_depth=max_depth,\n",
    "                                      max_samples=max_samples\n",
    "                                      )\n",
    "        model.fit(xtrain, ytrain)\n",
    "        preds_valid = model.predict(xvalid)\n",
    "        scores.append(max(0, 100 * r2_score(yvalid, preds_valid)))\n",
    "    \n",
    "    return np.mean(scores)"
   ]
  },
  {
   "cell_type": "code",
   "execution_count": null,
   "id": "29056d9c-22a9-4755-a7e8-aa32090fac89",
   "metadata": {
    "tags": []
   },
   "outputs": [
    {
     "name": "stderr",
     "output_type": "stream",
     "text": [
      "\u001b[32m[I 2022-08-16 12:23:26,933]\u001b[0m A new study created in memory with name: no-name-e18ddbda-ac0f-4297-8b69-ec3626c1fd09\u001b[0m\n",
      "\u001b[32m[I 2022-08-16 12:23:40,653]\u001b[0m Trial 0 finished with value: 77.83080978482191 and parameters: {'criterion': 'squared_error', 'max_depth': 15, 'min_samples_split': 2, 'min_samples_leaf': 2, 'max_features': 'log2', 'max_samples': 0.21783416276834527}. Best is trial 0 with value: 77.83080978482191.\u001b[0m\n",
      "\u001b[32m[I 2022-08-16 12:23:47,927]\u001b[0m Trial 1 finished with value: 41.247115212199404 and parameters: {'criterion': 'squared_error', 'max_depth': 3, 'min_samples_split': 5, 'min_samples_leaf': 2, 'max_features': 'log2', 'max_samples': 0.48005140416924164}. Best is trial 0 with value: 77.83080978482191.\u001b[0m\n",
      "\u001b[32m[I 2022-08-16 12:23:55,861]\u001b[0m Trial 2 finished with value: 34.192389569791246 and parameters: {'criterion': 'poisson', 'max_depth': 2, 'min_samples_split': 3, 'min_samples_leaf': 2, 'max_features': 'sqrt', 'max_samples': 0.5324891886325474}. Best is trial 0 with value: 77.83080978482191.\u001b[0m\n"
     ]
    }
   ],
   "source": [
    "study = optuna.create_study(direction=\"maximize\")\n",
    "study.optimize(objective, n_trials=10)"
   ]
  },
  {
   "cell_type": "code",
   "execution_count": null,
   "id": "bbdb2cf8-4e31-40a0-a778-8537f71fce99",
   "metadata": {},
   "outputs": [],
   "source": []
  }
 ],
 "metadata": {
  "kernelspec": {
   "display_name": "Python 3 (ipykernel)",
   "language": "python",
   "name": "python3"
  },
  "language_info": {
   "codemirror_mode": {
    "name": "ipython",
    "version": 3
   },
   "file_extension": ".py",
   "mimetype": "text/x-python",
   "name": "python",
   "nbconvert_exporter": "python",
   "pygments_lexer": "ipython3",
   "version": "3.10.4"
  }
 },
 "nbformat": 4,
 "nbformat_minor": 5
}
