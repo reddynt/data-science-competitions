{
 "cells": [
  {
   "cell_type": "markdown",
   "id": "8e6140b9",
   "metadata": {},
   "source": [
    "https://www.hackerearth.com/challenges/competitive/get-a-room-ml-hackathon/machine-learning/identify-the-habitability-score-of-a-property-12-464aae3e/"
   ]
  },
  {
   "cell_type": "code",
   "execution_count": 1,
   "id": "b8930a55",
   "metadata": {},
   "outputs": [],
   "source": [
    "# imports\n",
    "\n",
    "import os\n",
    "from pathlib import Path\n",
    "\n",
    "import numpy as np\n",
    "import pandas as pd\n",
    "from matplotlib import pyplot as plt"
   ]
  },
  {
   "cell_type": "code",
   "execution_count": 2,
   "id": "3e48710a",
   "metadata": {},
   "outputs": [
    {
     "name": "stdout",
     "output_type": "stream",
     "text": [
      "['train.csv', 'train_v2.csv', 'train_v1.csv', 'test_v1.csv', 'test.csv', 'sample_submission.csv']\n"
     ]
    }
   ],
   "source": [
    "dataset_path = Path(\"./dataset/\")\n",
    "print([x.name for x in dataset_path.iterdir()])"
   ]
  },
  {
   "cell_type": "code",
   "execution_count": 3,
   "id": "37ce6936",
   "metadata": {},
   "outputs": [
    {
     "name": "stdout",
     "output_type": "stream",
     "text": [
      "(39499, 15) (10500, 14)\n"
     ]
    }
   ],
   "source": [
    "train_df = pd.read_csv(dataset_path/\"train.csv\")\n",
    "test_df = pd.read_csv(dataset_path/\"test.csv\")\n",
    "sample_submission_df = pd.read_csv(dataset_path/\"sample_submission.csv\")\n",
    "\n",
    "print(train_df.shape, test_df.shape)"
   ]
  },
  {
   "cell_type": "code",
   "execution_count": 4,
   "id": "6c0a394d",
   "metadata": {},
   "outputs": [
    {
     "data": {
      "text/html": [
       "<div>\n",
       "<style scoped>\n",
       "    .dataframe tbody tr th:only-of-type {\n",
       "        vertical-align: middle;\n",
       "    }\n",
       "\n",
       "    .dataframe tbody tr th {\n",
       "        vertical-align: top;\n",
       "    }\n",
       "\n",
       "    .dataframe thead th {\n",
       "        text-align: right;\n",
       "    }\n",
       "</style>\n",
       "<table border=\"1\" class=\"dataframe\">\n",
       "  <thead>\n",
       "    <tr style=\"text-align: right;\">\n",
       "      <th></th>\n",
       "      <th>Property_ID</th>\n",
       "      <th>Habitability_score</th>\n",
       "    </tr>\n",
       "  </thead>\n",
       "  <tbody>\n",
       "    <tr>\n",
       "      <th>0</th>\n",
       "      <td>0x21e3</td>\n",
       "      <td>71.98</td>\n",
       "    </tr>\n",
       "    <tr>\n",
       "      <th>1</th>\n",
       "      <td>0x68d4</td>\n",
       "      <td>71.20</td>\n",
       "    </tr>\n",
       "    <tr>\n",
       "      <th>2</th>\n",
       "      <td>0x7d81</td>\n",
       "      <td>71.39</td>\n",
       "    </tr>\n",
       "    <tr>\n",
       "      <th>3</th>\n",
       "      <td>0x7a57</td>\n",
       "      <td>31.46</td>\n",
       "    </tr>\n",
       "    <tr>\n",
       "      <th>4</th>\n",
       "      <td>0x9409</td>\n",
       "      <td>93.70</td>\n",
       "    </tr>\n",
       "  </tbody>\n",
       "</table>\n",
       "</div>"
      ],
      "text/plain": [
       "  Property_ID  Habitability_score\n",
       "0      0x21e3               71.98\n",
       "1      0x68d4               71.20\n",
       "2      0x7d81               71.39\n",
       "3      0x7a57               31.46\n",
       "4      0x9409               93.70"
      ]
     },
     "execution_count": 4,
     "metadata": {},
     "output_type": "execute_result"
    }
   ],
   "source": [
    "sample_submission_df.head()"
   ]
  },
  {
   "cell_type": "code",
   "execution_count": 5,
   "id": "5db59e65",
   "metadata": {},
   "outputs": [],
   "source": [
    "def plot_bar(series, orientation=None, name=None):\n",
    "    keys = []\n",
    "    values = []\n",
    "    for key, value in series.value_counts().items():\n",
    "        keys.append(key)\n",
    "        values.append(value)\n",
    "    if orientation == \"h\":\n",
    "        fig, ax = plt.subplots(figsize=(8, abs(0.5*len(keys))))\n",
    "        ax.barh(keys, values)\n",
    "        ax.set_yticks(keys)\n",
    "    else:\n",
    "        fig, ax = plt.subplots(figsize=(abs(0.75*len(keys)), 5))\n",
    "        ax.bar(keys, values)\n",
    "        ax.set_xticks(keys)\n",
    "    if name:\n",
    "        ax.set_title(name)\n",
    "    return plt.show()"
   ]
  },
  {
   "cell_type": "markdown",
   "id": "f22bb09a",
   "metadata": {},
   "source": [
    "## Data exploration"
   ]
  },
  {
   "cell_type": "markdown",
   "id": "ea2373d6",
   "metadata": {},
   "source": [
    "| Column |\tDescription |\n",
    "| ::- | -:  |\n",
    "| Property_ID |\tRepresents a unique identification of a property |\n",
    "| Property_Type |\tRepresents the type of the property( Apartment, Bungalow, etc)  |\n",
    "| Property_Area |\tRepresents the area of the property in square feets |\n",
    "| Number_of_Windows |\tRepresents the number of windows available in the property |\n",
    "| Number_of_Doors |\tRepresents the number of doors available in the property |\n",
    "| Furnishing |\tRepresents the furnishing type ( Fully Furnished, Semi Furnished, or Unfurnished ) |\n",
    "| Frequency_of_Powercuts |\tRepresents the average number of power cuts per week |\n",
    "| Power_Backup |\tRepresents the availability of power backup |\n",
    "| Water_Supply |\tRepresents the availability of water supply ( All time, Once in a day - Morning, Once in a day  - |Evening, and Once in two days) \n",
    "| Traffic_Density_Score |\tRepresents the density of traffic on a scale of  1 to  10 |\n",
    "| Crime_Rate |\tRepresents the crime rate in the neighborhood ( Well below average, Slightly below average,  |Slightly above average, and  Well above average )\n",
    "| Dust_and_Noise |\tRepresents the quantity of dust and noise in the neighborhood ( High, Medium, Low ) |\n",
    "| Air_Quality_Index |\tRepresents the Air Quality Index of the neighborhood |\n",
    "| Neighborhood_Review |\tRepresents the average ratings given to the neighborhood by the people  |\n",
    "| Habitability_score |\tRepresents the habitability score of the property |"
   ]
  },
  {
   "cell_type": "code",
   "execution_count": 6,
   "id": "025aec71",
   "metadata": {},
   "outputs": [
    {
     "name": "stdout",
     "output_type": "stream",
     "text": [
      "Property_ID                  0\n",
      "Property_Type                0\n",
      "Property_Area                0\n",
      "Number_of_Windows         1654\n",
      "Number_of_Doors              0\n",
      "Furnishing                1042\n",
      "Frequency_of_Powercuts    1383\n",
      "Power_Backup                 0\n",
      "Water_Supply                 0\n",
      "Traffic_Density_Score        0\n",
      "Crime_Rate                 787\n",
      "Dust_and_Noise            1219\n",
      "Air_Quality_Index            0\n",
      "Neighborhood_Review          0\n",
      "Habitability_score           0\n",
      "dtype: int64\n"
     ]
    },
    {
     "data": {
      "text/plain": [
       "Index(['Number_of_Windows', 'Furnishing', 'Frequency_of_Powercuts',\n",
       "       'Crime_Rate', 'Dust_and_Noise'],\n",
       "      dtype='object')"
      ]
     },
     "execution_count": 6,
     "metadata": {},
     "output_type": "execute_result"
    }
   ],
   "source": [
    "print(train_df.isnull().sum())\n",
    "train_df.columns[train_df.isnull().sum() > 0]"
   ]
  },
  {
   "cell_type": "markdown",
   "id": "0c40c66b",
   "metadata": {},
   "source": [
    "### Property_Type"
   ]
  },
  {
   "cell_type": "code",
   "execution_count": 7,
   "id": "3929dde8",
   "metadata": {},
   "outputs": [
    {
     "data": {
      "text/plain": [
       "Apartment             14596\n",
       "Single-family home    11477\n",
       "Duplex                 5806\n",
       "Bungalow               4238\n",
       "Container Home         2872\n",
       "#R%$G&867               510\n",
       "Name: Property_Type, dtype: int64"
      ]
     },
     "execution_count": 7,
     "metadata": {},
     "output_type": "execute_result"
    }
   ],
   "source": [
    "train_df.Property_Type.value_counts()"
   ]
  },
  {
   "cell_type": "code",
   "execution_count": 8,
   "id": "4292e6b4-e520-4c0a-92c3-22ca41fb3e28",
   "metadata": {
    "tags": []
   },
   "outputs": [
    {
     "data": {
      "text/html": [
       "<div>\n",
       "<style scoped>\n",
       "    .dataframe tbody tr th:only-of-type {\n",
       "        vertical-align: middle;\n",
       "    }\n",
       "\n",
       "    .dataframe tbody tr th {\n",
       "        vertical-align: top;\n",
       "    }\n",
       "\n",
       "    .dataframe thead th {\n",
       "        text-align: right;\n",
       "    }\n",
       "</style>\n",
       "<table border=\"1\" class=\"dataframe\">\n",
       "  <thead>\n",
       "    <tr style=\"text-align: right;\">\n",
       "      <th></th>\n",
       "      <th>Property_ID</th>\n",
       "      <th>Property_Type</th>\n",
       "      <th>Property_Area</th>\n",
       "      <th>Number_of_Windows</th>\n",
       "      <th>Number_of_Doors</th>\n",
       "      <th>Furnishing</th>\n",
       "      <th>Frequency_of_Powercuts</th>\n",
       "      <th>Power_Backup</th>\n",
       "      <th>Water_Supply</th>\n",
       "      <th>Traffic_Density_Score</th>\n",
       "      <th>Crime_Rate</th>\n",
       "      <th>Dust_and_Noise</th>\n",
       "      <th>Air_Quality_Index</th>\n",
       "      <th>Neighborhood_Review</th>\n",
       "      <th>Habitability_score</th>\n",
       "    </tr>\n",
       "  </thead>\n",
       "  <tbody>\n",
       "    <tr>\n",
       "      <th>27</th>\n",
       "      <td>0xb8da</td>\n",
       "      <td>#R%$G&amp;867</td>\n",
       "      <td>990</td>\n",
       "      <td>7.0</td>\n",
       "      <td>3</td>\n",
       "      <td>Semi_Furnished</td>\n",
       "      <td>0.0</td>\n",
       "      <td>No</td>\n",
       "      <td>All time</td>\n",
       "      <td>3.60</td>\n",
       "      <td>Well below average</td>\n",
       "      <td>Low</td>\n",
       "      <td>27.0</td>\n",
       "      <td>4.96</td>\n",
       "      <td>78.07</td>\n",
       "    </tr>\n",
       "    <tr>\n",
       "      <th>74</th>\n",
       "      <td>0xc6f2</td>\n",
       "      <td>#R%$G&amp;867</td>\n",
       "      <td>2185</td>\n",
       "      <td>4.0</td>\n",
       "      <td>1</td>\n",
       "      <td>Unfurnished</td>\n",
       "      <td>2.0</td>\n",
       "      <td>No</td>\n",
       "      <td>All time</td>\n",
       "      <td>6.24</td>\n",
       "      <td>Well below average</td>\n",
       "      <td>Medium</td>\n",
       "      <td>100.0</td>\n",
       "      <td>3.53</td>\n",
       "      <td>68.57</td>\n",
       "    </tr>\n",
       "    <tr>\n",
       "      <th>78</th>\n",
       "      <td>0x2910</td>\n",
       "      <td>#R%$G&amp;867</td>\n",
       "      <td>985</td>\n",
       "      <td>2.0</td>\n",
       "      <td>3</td>\n",
       "      <td>Fully Furnished</td>\n",
       "      <td>0.0</td>\n",
       "      <td>No</td>\n",
       "      <td>Once in a day - Evening</td>\n",
       "      <td>7.60</td>\n",
       "      <td>Well below average</td>\n",
       "      <td>Medium</td>\n",
       "      <td>117.0</td>\n",
       "      <td>4.13</td>\n",
       "      <td>80.26</td>\n",
       "    </tr>\n",
       "    <tr>\n",
       "      <th>81</th>\n",
       "      <td>0x7cc9</td>\n",
       "      <td>#R%$G&amp;867</td>\n",
       "      <td>313</td>\n",
       "      <td>1.0</td>\n",
       "      <td>3</td>\n",
       "      <td>Semi_Furnished</td>\n",
       "      <td>1.0</td>\n",
       "      <td>No</td>\n",
       "      <td>All time</td>\n",
       "      <td>6.02</td>\n",
       "      <td>Well below average</td>\n",
       "      <td>Medium</td>\n",
       "      <td>124.0</td>\n",
       "      <td>4.13</td>\n",
       "      <td>78.34</td>\n",
       "    </tr>\n",
       "    <tr>\n",
       "      <th>110</th>\n",
       "      <td>0x290a</td>\n",
       "      <td>#R%$G&amp;867</td>\n",
       "      <td>783</td>\n",
       "      <td>2.0</td>\n",
       "      <td>2</td>\n",
       "      <td>Fully Furnished</td>\n",
       "      <td>0.0</td>\n",
       "      <td>No</td>\n",
       "      <td>Once in a day - Morning</td>\n",
       "      <td>5.05</td>\n",
       "      <td>Slightly below average</td>\n",
       "      <td>Medium</td>\n",
       "      <td>84.0</td>\n",
       "      <td>3.87</td>\n",
       "      <td>72.83</td>\n",
       "    </tr>\n",
       "    <tr>\n",
       "      <th>...</th>\n",
       "      <td>...</td>\n",
       "      <td>...</td>\n",
       "      <td>...</td>\n",
       "      <td>...</td>\n",
       "      <td>...</td>\n",
       "      <td>...</td>\n",
       "      <td>...</td>\n",
       "      <td>...</td>\n",
       "      <td>...</td>\n",
       "      <td>...</td>\n",
       "      <td>...</td>\n",
       "      <td>...</td>\n",
       "      <td>...</td>\n",
       "      <td>...</td>\n",
       "      <td>...</td>\n",
       "    </tr>\n",
       "    <tr>\n",
       "      <th>38955</th>\n",
       "      <td>0xb272</td>\n",
       "      <td>#R%$G&amp;867</td>\n",
       "      <td>2870</td>\n",
       "      <td>7.0</td>\n",
       "      <td>2</td>\n",
       "      <td>Semi_Furnished</td>\n",
       "      <td>0.0</td>\n",
       "      <td>No</td>\n",
       "      <td>Once in a day - Morning</td>\n",
       "      <td>7.15</td>\n",
       "      <td>Well below average</td>\n",
       "      <td>Medium</td>\n",
       "      <td>105.0</td>\n",
       "      <td>4.46</td>\n",
       "      <td>77.30</td>\n",
       "    </tr>\n",
       "    <tr>\n",
       "      <th>38963</th>\n",
       "      <td>0x3cb4</td>\n",
       "      <td>#R%$G&amp;867</td>\n",
       "      <td>956</td>\n",
       "      <td>NaN</td>\n",
       "      <td>3</td>\n",
       "      <td>Semi_Furnished</td>\n",
       "      <td>1.0</td>\n",
       "      <td>Yes</td>\n",
       "      <td>Once in a day - Morning</td>\n",
       "      <td>6.58</td>\n",
       "      <td>Slightly above average</td>\n",
       "      <td>Medium</td>\n",
       "      <td>96.0</td>\n",
       "      <td>2.60</td>\n",
       "      <td>85.35</td>\n",
       "    </tr>\n",
       "    <tr>\n",
       "      <th>39006</th>\n",
       "      <td>0xa335</td>\n",
       "      <td>#R%$G&amp;867</td>\n",
       "      <td>3516</td>\n",
       "      <td>12.0</td>\n",
       "      <td>4</td>\n",
       "      <td>NaN</td>\n",
       "      <td>0.0</td>\n",
       "      <td>No</td>\n",
       "      <td>Once in a day - Morning</td>\n",
       "      <td>5.29</td>\n",
       "      <td>Slightly below average</td>\n",
       "      <td>Medium</td>\n",
       "      <td>100.0</td>\n",
       "      <td>3.85</td>\n",
       "      <td>83.53</td>\n",
       "    </tr>\n",
       "    <tr>\n",
       "      <th>39210</th>\n",
       "      <td>0xbcb5</td>\n",
       "      <td>#R%$G&amp;867</td>\n",
       "      <td>2186</td>\n",
       "      <td>4.0</td>\n",
       "      <td>3</td>\n",
       "      <td>Unfurnished</td>\n",
       "      <td>0.0</td>\n",
       "      <td>No</td>\n",
       "      <td>All time</td>\n",
       "      <td>6.02</td>\n",
       "      <td>Well below average</td>\n",
       "      <td>Medium</td>\n",
       "      <td>101.0</td>\n",
       "      <td>4.79</td>\n",
       "      <td>71.89</td>\n",
       "    </tr>\n",
       "    <tr>\n",
       "      <th>39317</th>\n",
       "      <td>0x6fa7</td>\n",
       "      <td>#R%$G&amp;867</td>\n",
       "      <td>3517</td>\n",
       "      <td>10.0</td>\n",
       "      <td>3</td>\n",
       "      <td>Fully Furnished</td>\n",
       "      <td>0.0</td>\n",
       "      <td>Yes</td>\n",
       "      <td>Once in a day - Morning</td>\n",
       "      <td>6.79</td>\n",
       "      <td>NaN</td>\n",
       "      <td>NaN</td>\n",
       "      <td>93.0</td>\n",
       "      <td>4.48</td>\n",
       "      <td>94.01</td>\n",
       "    </tr>\n",
       "  </tbody>\n",
       "</table>\n",
       "<p>510 rows × 15 columns</p>\n",
       "</div>"
      ],
      "text/plain": [
       "      Property_ID Property_Type  Property_Area  Number_of_Windows  \\\n",
       "27         0xb8da     #R%$G&867            990                7.0   \n",
       "74         0xc6f2     #R%$G&867           2185                4.0   \n",
       "78         0x2910     #R%$G&867            985                2.0   \n",
       "81         0x7cc9     #R%$G&867            313                1.0   \n",
       "110        0x290a     #R%$G&867            783                2.0   \n",
       "...           ...           ...            ...                ...   \n",
       "38955      0xb272     #R%$G&867           2870                7.0   \n",
       "38963      0x3cb4     #R%$G&867            956                NaN   \n",
       "39006      0xa335     #R%$G&867           3516               12.0   \n",
       "39210      0xbcb5     #R%$G&867           2186                4.0   \n",
       "39317      0x6fa7     #R%$G&867           3517               10.0   \n",
       "\n",
       "       Number_of_Doors       Furnishing  Frequency_of_Powercuts Power_Backup  \\\n",
       "27                   3   Semi_Furnished                     0.0           No   \n",
       "74                   1      Unfurnished                     2.0           No   \n",
       "78                   3  Fully Furnished                     0.0           No   \n",
       "81                   3   Semi_Furnished                     1.0           No   \n",
       "110                  2  Fully Furnished                     0.0           No   \n",
       "...                ...              ...                     ...          ...   \n",
       "38955                2   Semi_Furnished                     0.0           No   \n",
       "38963                3   Semi_Furnished                     1.0          Yes   \n",
       "39006                4              NaN                     0.0           No   \n",
       "39210                3      Unfurnished                     0.0           No   \n",
       "39317                3  Fully Furnished                     0.0          Yes   \n",
       "\n",
       "                  Water_Supply  Traffic_Density_Score              Crime_Rate  \\\n",
       "27                    All time                   3.60      Well below average   \n",
       "74                    All time                   6.24      Well below average   \n",
       "78     Once in a day - Evening                   7.60      Well below average   \n",
       "81                    All time                   6.02      Well below average   \n",
       "110    Once in a day - Morning                   5.05  Slightly below average   \n",
       "...                        ...                    ...                     ...   \n",
       "38955  Once in a day - Morning                   7.15      Well below average   \n",
       "38963  Once in a day - Morning                   6.58  Slightly above average   \n",
       "39006  Once in a day - Morning                   5.29  Slightly below average   \n",
       "39210                 All time                   6.02      Well below average   \n",
       "39317  Once in a day - Morning                   6.79                     NaN   \n",
       "\n",
       "      Dust_and_Noise  Air_Quality_Index  Neighborhood_Review  \\\n",
       "27               Low               27.0                 4.96   \n",
       "74            Medium              100.0                 3.53   \n",
       "78            Medium              117.0                 4.13   \n",
       "81            Medium              124.0                 4.13   \n",
       "110           Medium               84.0                 3.87   \n",
       "...              ...                ...                  ...   \n",
       "38955         Medium              105.0                 4.46   \n",
       "38963         Medium               96.0                 2.60   \n",
       "39006         Medium              100.0                 3.85   \n",
       "39210         Medium              101.0                 4.79   \n",
       "39317            NaN               93.0                 4.48   \n",
       "\n",
       "       Habitability_score  \n",
       "27                  78.07  \n",
       "74                  68.57  \n",
       "78                  80.26  \n",
       "81                  78.34  \n",
       "110                 72.83  \n",
       "...                   ...  \n",
       "38955               77.30  \n",
       "38963               85.35  \n",
       "39006               83.53  \n",
       "39210               71.89  \n",
       "39317               94.01  \n",
       "\n",
       "[510 rows x 15 columns]"
      ]
     },
     "execution_count": 8,
     "metadata": {},
     "output_type": "execute_result"
    }
   ],
   "source": [
    "train_df[train_df.Property_Type==\"#R%$G&867\"]"
   ]
  },
  {
   "cell_type": "code",
   "execution_count": 9,
   "id": "f32e5677",
   "metadata": {},
   "outputs": [
    {
     "data": {
      "image/png": "[encoded data removed]",
      "text/plain": [
       "<Figure size 576x216 with 1 Axes>"
      ]
     },
     "metadata": {
      "needs_background": "light"
     },
     "output_type": "display_data"
    }
   ],
   "source": [
    "plot_bar(train_df.Property_Type, orientation=\"h\", name=\"Property types\")"
   ]
  },
  {
   "cell_type": "markdown",
   "id": "42a74bc9",
   "metadata": {},
   "source": [
    "### Property_Area"
   ]
  },
  {
   "cell_type": "code",
   "execution_count": 56,
   "id": "7e91798d",
   "metadata": {},
   "outputs": [
    {
     "data": {
      "text/plain": [
       "<matplotlib.collections.PathCollection at 0x7f88819095d0>"
      ]
     },
     "execution_count": 56,
     "metadata": {},
     "output_type": "execute_result"
    },
    {
     "data": {
      "image/png": "[encoded data removed]",
      "text/plain": [
       "<Figure size 432x288 with 1 Axes>"
      ]
     },
     "metadata": {
      "needs_background": "light"
     },
     "output_type": "display_data"
    }
   ],
   "source": [
    "plt.scatter(train_df.Property_Area, train_df.Habitability_score)"
   ]
  },
  {
   "cell_type": "code",
   "execution_count": 10,
   "id": "71bf308a",
   "metadata": {},
   "outputs": [
    {
     "data": {
      "image/png": "[encoded data removed]",
      "text/plain": [
       "<Figure size 1008x360 with 1 Axes>"
      ]
     },
     "metadata": {
      "needs_background": "light"
     },
     "output_type": "display_data"
    }
   ],
   "source": [
    "fig, ax = plt.subplots(figsize=(14, 5))\n",
    "min_area, max_area = train_df.Property_Area.min() - 100, train_df.Property_Area.max() + 100\n",
    "ax.hist(train_df.Property_Area.values, range=(min_area, max_area), bins=40, log=True)\n",
    "plt.show()"
   ]
  },
  {
   "cell_type": "markdown",
   "id": "2dae3691",
   "metadata": {},
   "source": [
    "### Number_of_Windows\n",
    "* Null values"
   ]
  },
  {
   "cell_type": "code",
   "execution_count": 11,
   "id": "3e9a3065",
   "metadata": {},
   "outputs": [
    {
     "data": {
      "image/png": "[encoded data removed]",
      "text/plain": [
       "<Figure size 864x360 with 1 Axes>"
      ]
     },
     "metadata": {
      "needs_background": "light"
     },
     "output_type": "display_data"
    }
   ],
   "source": [
    "plot_bar(train_df.Number_of_Windows, name=\"Number of windows\")"
   ]
  },
  {
   "cell_type": "code",
   "execution_count": 12,
   "id": "ea415fa4-c305-4173-98bd-7ff71606a514",
   "metadata": {},
   "outputs": [
    {
     "data": {
      "text/plain": [
       "4.0     8053\n",
       "3.0     7080\n",
       "2.0     6857\n",
       "5.0     4708\n",
       "1.0     4254\n",
       "7.0     1784\n",
       "6.0     1738\n",
       "0.0      699\n",
       "11.0     363\n",
       "9.0      352\n",
       "15.0     336\n",
       "12.0     336\n",
       "10.0     335\n",
       "8.0      326\n",
       "14.0     316\n",
       "13.0     308\n",
       "Name: Number_of_Windows, dtype: int64"
      ]
     },
     "execution_count": 12,
     "metadata": {},
     "output_type": "execute_result"
    }
   ],
   "source": [
    "train_df.Number_of_Windows.value_counts()"
   ]
  },
  {
   "cell_type": "code",
   "execution_count": 13,
   "id": "2f23b952",
   "metadata": {},
   "outputs": [
    {
     "data": {
      "text/plain": [
       "1654"
      ]
     },
     "execution_count": 13,
     "metadata": {},
     "output_type": "execute_result"
    }
   ],
   "source": [
    "train_df.Number_of_Windows.isnull().sum()"
   ]
  },
  {
   "cell_type": "code",
   "execution_count": 14,
   "id": "7b328cb2-5c01-4898-be85-d253f63cc85a",
   "metadata": {},
   "outputs": [
    {
     "name": "stdout",
     "output_type": "stream",
     "text": [
      "0\n"
     ]
    },
    {
     "data": {
      "text/plain": [
       "4.0     9707\n",
       "3.0     7080\n",
       "2.0     6857\n",
       "5.0     4708\n",
       "1.0     4254\n",
       "7.0     1784\n",
       "6.0     1738\n",
       "0.0      699\n",
       "11.0     363\n",
       "9.0      352\n",
       "15.0     336\n",
       "12.0     336\n",
       "10.0     335\n",
       "8.0      326\n",
       "14.0     316\n",
       "13.0     308\n",
       "Name: Number_of_Windows, dtype: int64"
      ]
     },
     "execution_count": 14,
     "metadata": {},
     "output_type": "execute_result"
    }
   ],
   "source": [
    "train_df.Number_of_Windows.fillna(train_df.Number_of_Windows.mode().values[0], inplace=True)\n",
    "print(train_df.Number_of_Windows.isnull().sum())\n",
    "train_df.Number_of_Windows.value_counts()"
   ]
  },
  {
   "cell_type": "code",
   "execution_count": 15,
   "id": "c5a1b8d6-bb3a-48de-a7a4-09e5bc620d83",
   "metadata": {},
   "outputs": [],
   "source": [
    "test_df.Number_of_Windows.fillna(test_df.Number_of_Windows.mode().values[0], inplace=True)"
   ]
  },
  {
   "cell_type": "markdown",
   "id": "3d8f9f43",
   "metadata": {},
   "source": [
    "### Number_of_Doors"
   ]
  },
  {
   "cell_type": "code",
   "execution_count": 16,
   "id": "347fdf60",
   "metadata": {},
   "outputs": [
    {
     "data": {
      "image/png": "[encoded data removed]",
      "text/plain": [
       "<Figure size 576x216 with 1 Axes>"
      ]
     },
     "metadata": {
      "needs_background": "light"
     },
     "output_type": "display_data"
    }
   ],
   "source": [
    "plot_bar(train_df.Number_of_Doors, orientation=\"h\", name=\"Number of doors\")"
   ]
  },
  {
   "cell_type": "markdown",
   "id": "d3d320e0",
   "metadata": {},
   "source": [
    "### Furnishing\n",
    "* Null values"
   ]
  },
  {
   "cell_type": "code",
   "execution_count": 17,
   "id": "27a2ff88",
   "metadata": {},
   "outputs": [
    {
     "data": {
      "image/png": "[encoded data removed]",
      "text/plain": [
       "<Figure size 576x108 with 1 Axes>"
      ]
     },
     "metadata": {
      "needs_background": "light"
     },
     "output_type": "display_data"
    }
   ],
   "source": [
    "plot_bar(train_df.Furnishing, orientation=\"h\", name=\"Furnishing\")"
   ]
  },
  {
   "cell_type": "code",
   "execution_count": 18,
   "id": "df69b6bd",
   "metadata": {},
   "outputs": [
    {
     "data": {
      "text/plain": [
       "1042"
      ]
     },
     "execution_count": 18,
     "metadata": {},
     "output_type": "execute_result"
    }
   ],
   "source": [
    "train_df.Furnishing.isnull().sum()"
   ]
  },
  {
   "cell_type": "code",
   "execution_count": 19,
   "id": "96c63ad3-c803-44ac-91bd-001e79798208",
   "metadata": {},
   "outputs": [
    {
     "name": "stdout",
     "output_type": "stream",
     "text": [
      "0\n"
     ]
    },
    {
     "data": {
      "text/plain": [
       "Semi_Furnished     21399\n",
       "Unfurnished        10344\n",
       "Fully Furnished     7756\n",
       "Name: Furnishing, dtype: int64"
      ]
     },
     "execution_count": 19,
     "metadata": {},
     "output_type": "execute_result"
    }
   ],
   "source": [
    "train_df.Furnishing.fillna(train_df.Furnishing.mode().values[0], inplace=True)\n",
    "print(train_df.Furnishing.isnull().sum())\n",
    "train_df.Furnishing.value_counts()"
   ]
  },
  {
   "cell_type": "code",
   "execution_count": 20,
   "id": "efdb1b46-2e6c-41bb-b17d-944f8b0858ca",
   "metadata": {},
   "outputs": [],
   "source": [
    "test_df.Furnishing.fillna(test_df.Furnishing.mode().values[0], inplace=True)"
   ]
  },
  {
   "cell_type": "markdown",
   "id": "6cb3334e",
   "metadata": {},
   "source": [
    "### Frequency_of_Powercuts"
   ]
  },
  {
   "cell_type": "code",
   "execution_count": 21,
   "id": "a874ddd3",
   "metadata": {},
   "outputs": [
    {
     "data": {
      "image/png": "[encoded data removed]",
      "text/plain": [
       "<Figure size 576x144 with 1 Axes>"
      ]
     },
     "metadata": {
      "needs_background": "light"
     },
     "output_type": "display_data"
    }
   ],
   "source": [
    "plot_bar(train_df.Frequency_of_Powercuts, orientation=\"h\", name=\"Frequency of powercuts\")"
   ]
  },
  {
   "cell_type": "code",
   "execution_count": 22,
   "id": "29702dd1",
   "metadata": {},
   "outputs": [
    {
     "data": {
      "text/plain": [
       "1383"
      ]
     },
     "execution_count": 22,
     "metadata": {},
     "output_type": "execute_result"
    }
   ],
   "source": [
    "train_df.Frequency_of_Powercuts.isnull().sum()"
   ]
  },
  {
   "cell_type": "code",
   "execution_count": 23,
   "id": "e19f7123-f6cd-49a1-8b30-e47dc098e379",
   "metadata": {},
   "outputs": [
    {
     "name": "stdout",
     "output_type": "stream",
     "text": [
      "0\n"
     ]
    },
    {
     "data": {
      "text/plain": [
       "0.0    25854\n",
       "1.0    10010\n",
       "2.0     2441\n",
       "3.0     1194\n",
       "Name: Frequency_of_Powercuts, dtype: int64"
      ]
     },
     "execution_count": 23,
     "metadata": {},
     "output_type": "execute_result"
    }
   ],
   "source": [
    "train_df.Frequency_of_Powercuts.fillna(train_df.Frequency_of_Powercuts.mode().values[0], inplace=True)\n",
    "print(train_df.Frequency_of_Powercuts.isnull().sum())\n",
    "train_df.Frequency_of_Powercuts.value_counts()"
   ]
  },
  {
   "cell_type": "code",
   "execution_count": 24,
   "id": "817d6618-0727-4a93-b676-b83303b20e27",
   "metadata": {},
   "outputs": [],
   "source": [
    "test_df.Frequency_of_Powercuts.fillna(test_df.Frequency_of_Powercuts.mode().values[0], inplace=True)"
   ]
  },
  {
   "cell_type": "markdown",
   "id": "8343fc34",
   "metadata": {},
   "source": [
    "### Power_Backup\n",
    "* \"NOT MENTIONED\" for some data points"
   ]
  },
  {
   "cell_type": "code",
   "execution_count": 25,
   "id": "5074ac7d",
   "metadata": {},
   "outputs": [
    {
     "data": {
      "image/png": "[encoded data removed]",
      "text/plain": [
       "<Figure size 576x108 with 1 Axes>"
      ]
     },
     "metadata": {
      "needs_background": "light"
     },
     "output_type": "display_data"
    }
   ],
   "source": [
    "plot_bar(train_df.Power_Backup, orientation=\"h\", name=\"Power backup\")"
   ]
  },
  {
   "cell_type": "code",
   "execution_count": 26,
   "id": "18c784f9",
   "metadata": {},
   "outputs": [],
   "source": [
    "# is `NOT MENTIONED` null values"
   ]
  },
  {
   "cell_type": "code",
   "execution_count": 27,
   "id": "e533011b",
   "metadata": {
    "tags": []
   },
   "outputs": [
    {
     "data": {
      "text/html": [
       "<div>\n",
       "<style scoped>\n",
       "    .dataframe tbody tr th:only-of-type {\n",
       "        vertical-align: middle;\n",
       "    }\n",
       "\n",
       "    .dataframe tbody tr th {\n",
       "        vertical-align: top;\n",
       "    }\n",
       "\n",
       "    .dataframe thead th {\n",
       "        text-align: right;\n",
       "    }\n",
       "</style>\n",
       "<table border=\"1\" class=\"dataframe\">\n",
       "  <thead>\n",
       "    <tr style=\"text-align: right;\">\n",
       "      <th></th>\n",
       "      <th>Property_ID</th>\n",
       "      <th>Property_Type</th>\n",
       "      <th>Property_Area</th>\n",
       "      <th>Number_of_Windows</th>\n",
       "      <th>Number_of_Doors</th>\n",
       "      <th>Furnishing</th>\n",
       "      <th>Frequency_of_Powercuts</th>\n",
       "      <th>Power_Backup</th>\n",
       "      <th>Water_Supply</th>\n",
       "      <th>Traffic_Density_Score</th>\n",
       "      <th>Crime_Rate</th>\n",
       "      <th>Dust_and_Noise</th>\n",
       "      <th>Air_Quality_Index</th>\n",
       "      <th>Neighborhood_Review</th>\n",
       "      <th>Habitability_score</th>\n",
       "    </tr>\n",
       "  </thead>\n",
       "  <tbody>\n",
       "    <tr>\n",
       "      <th>24</th>\n",
       "      <td>0xc6d</td>\n",
       "      <td>Bungalow</td>\n",
       "      <td>4161</td>\n",
       "      <td>6.0</td>\n",
       "      <td>3</td>\n",
       "      <td>Semi_Furnished</td>\n",
       "      <td>0.0</td>\n",
       "      <td>NOT MENTIONED</td>\n",
       "      <td>All time</td>\n",
       "      <td>7.83</td>\n",
       "      <td>Well below average</td>\n",
       "      <td>Medium</td>\n",
       "      <td>156.0</td>\n",
       "      <td>4.71</td>\n",
       "      <td>75.63</td>\n",
       "    </tr>\n",
       "    <tr>\n",
       "      <th>98</th>\n",
       "      <td>0xb3b7</td>\n",
       "      <td>Single-family home</td>\n",
       "      <td>1822</td>\n",
       "      <td>5.0</td>\n",
       "      <td>4</td>\n",
       "      <td>Unfurnished</td>\n",
       "      <td>1.0</td>\n",
       "      <td>NOT MENTIONED</td>\n",
       "      <td>All time</td>\n",
       "      <td>7.59</td>\n",
       "      <td>Slightly above average</td>\n",
       "      <td>Medium</td>\n",
       "      <td>157.0</td>\n",
       "      <td>2.83</td>\n",
       "      <td>41.62</td>\n",
       "    </tr>\n",
       "    <tr>\n",
       "      <th>107</th>\n",
       "      <td>0x3043</td>\n",
       "      <td>Apartment</td>\n",
       "      <td>189</td>\n",
       "      <td>4.0</td>\n",
       "      <td>2</td>\n",
       "      <td>Fully Furnished</td>\n",
       "      <td>0.0</td>\n",
       "      <td>NOT MENTIONED</td>\n",
       "      <td>Once in two days</td>\n",
       "      <td>5.47</td>\n",
       "      <td>Slightly below average</td>\n",
       "      <td>Medium</td>\n",
       "      <td>89.0</td>\n",
       "      <td>3.24</td>\n",
       "      <td>73.29</td>\n",
       "    </tr>\n",
       "    <tr>\n",
       "      <th>130</th>\n",
       "      <td>0x92aa</td>\n",
       "      <td>Bungalow</td>\n",
       "      <td>3212</td>\n",
       "      <td>15.0</td>\n",
       "      <td>2</td>\n",
       "      <td>Semi_Furnished</td>\n",
       "      <td>0.0</td>\n",
       "      <td>NOT MENTIONED</td>\n",
       "      <td>Once in a day - Morning</td>\n",
       "      <td>6.30</td>\n",
       "      <td>Well below average</td>\n",
       "      <td>Medium</td>\n",
       "      <td>130.0</td>\n",
       "      <td>4.44</td>\n",
       "      <td>76.03</td>\n",
       "    </tr>\n",
       "    <tr>\n",
       "      <th>195</th>\n",
       "      <td>0xf7b</td>\n",
       "      <td>Single-family home</td>\n",
       "      <td>1425</td>\n",
       "      <td>3.0</td>\n",
       "      <td>2</td>\n",
       "      <td>Semi_Furnished</td>\n",
       "      <td>0.0</td>\n",
       "      <td>NOT MENTIONED</td>\n",
       "      <td>All time</td>\n",
       "      <td>7.01</td>\n",
       "      <td>Slightly below average</td>\n",
       "      <td>Medium</td>\n",
       "      <td>154.0</td>\n",
       "      <td>4.09</td>\n",
       "      <td>80.73</td>\n",
       "    </tr>\n",
       "    <tr>\n",
       "      <th>...</th>\n",
       "      <td>...</td>\n",
       "      <td>...</td>\n",
       "      <td>...</td>\n",
       "      <td>...</td>\n",
       "      <td>...</td>\n",
       "      <td>...</td>\n",
       "      <td>...</td>\n",
       "      <td>...</td>\n",
       "      <td>...</td>\n",
       "      <td>...</td>\n",
       "      <td>...</td>\n",
       "      <td>...</td>\n",
       "      <td>...</td>\n",
       "      <td>...</td>\n",
       "      <td>...</td>\n",
       "    </tr>\n",
       "    <tr>\n",
       "      <th>39088</th>\n",
       "      <td>0x8388</td>\n",
       "      <td>Single-family home</td>\n",
       "      <td>2179</td>\n",
       "      <td>2.0</td>\n",
       "      <td>4</td>\n",
       "      <td>Semi_Furnished</td>\n",
       "      <td>0.0</td>\n",
       "      <td>NOT MENTIONED</td>\n",
       "      <td>Once in a day - Morning</td>\n",
       "      <td>6.76</td>\n",
       "      <td>Well below average</td>\n",
       "      <td>Medium</td>\n",
       "      <td>123.0</td>\n",
       "      <td>4.44</td>\n",
       "      <td>75.01</td>\n",
       "    </tr>\n",
       "    <tr>\n",
       "      <th>39249</th>\n",
       "      <td>0x8943</td>\n",
       "      <td>Apartment</td>\n",
       "      <td>290</td>\n",
       "      <td>2.0</td>\n",
       "      <td>3</td>\n",
       "      <td>Fully Furnished</td>\n",
       "      <td>0.0</td>\n",
       "      <td>NOT MENTIONED</td>\n",
       "      <td>All time</td>\n",
       "      <td>4.91</td>\n",
       "      <td>Slightly below average</td>\n",
       "      <td>Medium</td>\n",
       "      <td>80.0</td>\n",
       "      <td>4.19</td>\n",
       "      <td>93.78</td>\n",
       "    </tr>\n",
       "    <tr>\n",
       "      <th>39326</th>\n",
       "      <td>0x4330</td>\n",
       "      <td>Single-family home</td>\n",
       "      <td>1333</td>\n",
       "      <td>3.0</td>\n",
       "      <td>3</td>\n",
       "      <td>Fully Furnished</td>\n",
       "      <td>0.0</td>\n",
       "      <td>NOT MENTIONED</td>\n",
       "      <td>Once in a day - Morning</td>\n",
       "      <td>5.94</td>\n",
       "      <td>Slightly below average</td>\n",
       "      <td>Medium</td>\n",
       "      <td>104.0</td>\n",
       "      <td>3.84</td>\n",
       "      <td>93.68</td>\n",
       "    </tr>\n",
       "    <tr>\n",
       "      <th>39436</th>\n",
       "      <td>0x1e77</td>\n",
       "      <td>Apartment</td>\n",
       "      <td>319</td>\n",
       "      <td>1.0</td>\n",
       "      <td>1</td>\n",
       "      <td>Semi_Furnished</td>\n",
       "      <td>0.0</td>\n",
       "      <td>NOT MENTIONED</td>\n",
       "      <td>Once in a day - Morning</td>\n",
       "      <td>5.48</td>\n",
       "      <td>Well below average</td>\n",
       "      <td>Low</td>\n",
       "      <td>100.0</td>\n",
       "      <td>4.54</td>\n",
       "      <td>72.04</td>\n",
       "    </tr>\n",
       "    <tr>\n",
       "      <th>39474</th>\n",
       "      <td>0x9b7e</td>\n",
       "      <td>Single-family home</td>\n",
       "      <td>1651</td>\n",
       "      <td>3.0</td>\n",
       "      <td>4</td>\n",
       "      <td>Semi_Furnished</td>\n",
       "      <td>0.0</td>\n",
       "      <td>NOT MENTIONED</td>\n",
       "      <td>Once in a day - Evening</td>\n",
       "      <td>6.72</td>\n",
       "      <td>Well below average</td>\n",
       "      <td>Medium</td>\n",
       "      <td>158.0</td>\n",
       "      <td>4.09</td>\n",
       "      <td>80.55</td>\n",
       "    </tr>\n",
       "  </tbody>\n",
       "</table>\n",
       "<p>828 rows × 15 columns</p>\n",
       "</div>"
      ],
      "text/plain": [
       "      Property_ID       Property_Type  Property_Area  Number_of_Windows  \\\n",
       "24          0xc6d            Bungalow           4161                6.0   \n",
       "98         0xb3b7  Single-family home           1822                5.0   \n",
       "107        0x3043           Apartment            189                4.0   \n",
       "130        0x92aa            Bungalow           3212               15.0   \n",
       "195         0xf7b  Single-family home           1425                3.0   \n",
       "...           ...                 ...            ...                ...   \n",
       "39088      0x8388  Single-family home           2179                2.0   \n",
       "39249      0x8943           Apartment            290                2.0   \n",
       "39326      0x4330  Single-family home           1333                3.0   \n",
       "39436      0x1e77           Apartment            319                1.0   \n",
       "39474      0x9b7e  Single-family home           1651                3.0   \n",
       "\n",
       "       Number_of_Doors       Furnishing  Frequency_of_Powercuts  \\\n",
       "24                   3   Semi_Furnished                     0.0   \n",
       "98                   4      Unfurnished                     1.0   \n",
       "107                  2  Fully Furnished                     0.0   \n",
       "130                  2   Semi_Furnished                     0.0   \n",
       "195                  2   Semi_Furnished                     0.0   \n",
       "...                ...              ...                     ...   \n",
       "39088                4   Semi_Furnished                     0.0   \n",
       "39249                3  Fully Furnished                     0.0   \n",
       "39326                3  Fully Furnished                     0.0   \n",
       "39436                1   Semi_Furnished                     0.0   \n",
       "39474                4   Semi_Furnished                     0.0   \n",
       "\n",
       "        Power_Backup             Water_Supply  Traffic_Density_Score  \\\n",
       "24     NOT MENTIONED                 All time                   7.83   \n",
       "98     NOT MENTIONED                 All time                   7.59   \n",
       "107    NOT MENTIONED         Once in two days                   5.47   \n",
       "130    NOT MENTIONED  Once in a day - Morning                   6.30   \n",
       "195    NOT MENTIONED                 All time                   7.01   \n",
       "...              ...                      ...                    ...   \n",
       "39088  NOT MENTIONED  Once in a day - Morning                   6.76   \n",
       "39249  NOT MENTIONED                 All time                   4.91   \n",
       "39326  NOT MENTIONED  Once in a day - Morning                   5.94   \n",
       "39436  NOT MENTIONED  Once in a day - Morning                   5.48   \n",
       "39474  NOT MENTIONED  Once in a day - Evening                   6.72   \n",
       "\n",
       "                   Crime_Rate Dust_and_Noise  Air_Quality_Index  \\\n",
       "24         Well below average         Medium              156.0   \n",
       "98     Slightly above average         Medium              157.0   \n",
       "107    Slightly below average         Medium               89.0   \n",
       "130        Well below average         Medium              130.0   \n",
       "195    Slightly below average         Medium              154.0   \n",
       "...                       ...            ...                ...   \n",
       "39088      Well below average         Medium              123.0   \n",
       "39249  Slightly below average         Medium               80.0   \n",
       "39326  Slightly below average         Medium              104.0   \n",
       "39436      Well below average            Low              100.0   \n",
       "39474      Well below average         Medium              158.0   \n",
       "\n",
       "       Neighborhood_Review  Habitability_score  \n",
       "24                    4.71               75.63  \n",
       "98                    2.83               41.62  \n",
       "107                   3.24               73.29  \n",
       "130                   4.44               76.03  \n",
       "195                   4.09               80.73  \n",
       "...                    ...                 ...  \n",
       "39088                 4.44               75.01  \n",
       "39249                 4.19               93.78  \n",
       "39326                 3.84               93.68  \n",
       "39436                 4.54               72.04  \n",
       "39474                 4.09               80.55  \n",
       "\n",
       "[828 rows x 15 columns]"
      ]
     },
     "execution_count": 27,
     "metadata": {},
     "output_type": "execute_result"
    }
   ],
   "source": [
    "train_df[train_df.Power_Backup==\"NOT MENTIONED\"]"
   ]
  },
  {
   "cell_type": "markdown",
   "id": "b875fac1",
   "metadata": {},
   "source": [
    "### Water_Supply\n",
    "* \"NOT MENTIONED\" for some data points"
   ]
  },
  {
   "cell_type": "code",
   "execution_count": 28,
   "id": "f5094a82",
   "metadata": {},
   "outputs": [
    {
     "data": {
      "image/png": "[encoded data removed]",
      "text/plain": [
       "<Figure size 576x180 with 1 Axes>"
      ]
     },
     "metadata": {
      "needs_background": "light"
     },
     "output_type": "display_data"
    }
   ],
   "source": [
    "plot_bar(train_df.Water_Supply, orientation=\"h\", name=\"Water supply\")"
   ]
  },
  {
   "cell_type": "code",
   "execution_count": 29,
   "id": "5b830475",
   "metadata": {
    "tags": []
   },
   "outputs": [
    {
     "data": {
      "text/html": [
       "<div>\n",
       "<style scoped>\n",
       "    .dataframe tbody tr th:only-of-type {\n",
       "        vertical-align: middle;\n",
       "    }\n",
       "\n",
       "    .dataframe tbody tr th {\n",
       "        vertical-align: top;\n",
       "    }\n",
       "\n",
       "    .dataframe thead th {\n",
       "        text-align: right;\n",
       "    }\n",
       "</style>\n",
       "<table border=\"1\" class=\"dataframe\">\n",
       "  <thead>\n",
       "    <tr style=\"text-align: right;\">\n",
       "      <th></th>\n",
       "      <th>Property_ID</th>\n",
       "      <th>Property_Type</th>\n",
       "      <th>Property_Area</th>\n",
       "      <th>Number_of_Windows</th>\n",
       "      <th>Number_of_Doors</th>\n",
       "      <th>Furnishing</th>\n",
       "      <th>Frequency_of_Powercuts</th>\n",
       "      <th>Power_Backup</th>\n",
       "      <th>Water_Supply</th>\n",
       "      <th>Traffic_Density_Score</th>\n",
       "      <th>Crime_Rate</th>\n",
       "      <th>Dust_and_Noise</th>\n",
       "      <th>Air_Quality_Index</th>\n",
       "      <th>Neighborhood_Review</th>\n",
       "      <th>Habitability_score</th>\n",
       "    </tr>\n",
       "  </thead>\n",
       "  <tbody>\n",
       "    <tr>\n",
       "      <th>15</th>\n",
       "      <td>0x5d35</td>\n",
       "      <td>Apartment</td>\n",
       "      <td>795</td>\n",
       "      <td>1.0</td>\n",
       "      <td>1</td>\n",
       "      <td>Fully Furnished</td>\n",
       "      <td>0.0</td>\n",
       "      <td>No</td>\n",
       "      <td>NOT MENTIONED</td>\n",
       "      <td>6.92</td>\n",
       "      <td>Well below average</td>\n",
       "      <td>Medium</td>\n",
       "      <td>169.0</td>\n",
       "      <td>4.07</td>\n",
       "      <td>79.82</td>\n",
       "    </tr>\n",
       "    <tr>\n",
       "      <th>37</th>\n",
       "      <td>0x326e</td>\n",
       "      <td>Apartment</td>\n",
       "      <td>404</td>\n",
       "      <td>1.0</td>\n",
       "      <td>1</td>\n",
       "      <td>Semi_Furnished</td>\n",
       "      <td>1.0</td>\n",
       "      <td>No</td>\n",
       "      <td>NOT MENTIONED</td>\n",
       "      <td>6.29</td>\n",
       "      <td>Well below average</td>\n",
       "      <td>Medium</td>\n",
       "      <td>93.0</td>\n",
       "      <td>4.17</td>\n",
       "      <td>83.13</td>\n",
       "    </tr>\n",
       "    <tr>\n",
       "      <th>49</th>\n",
       "      <td>0x8151</td>\n",
       "      <td>Container Home</td>\n",
       "      <td>423</td>\n",
       "      <td>4.0</td>\n",
       "      <td>1</td>\n",
       "      <td>Semi_Furnished</td>\n",
       "      <td>1.0</td>\n",
       "      <td>No</td>\n",
       "      <td>NOT MENTIONED</td>\n",
       "      <td>5.10</td>\n",
       "      <td>Well below average</td>\n",
       "      <td>Medium</td>\n",
       "      <td>114.0</td>\n",
       "      <td>3.52</td>\n",
       "      <td>71.70</td>\n",
       "    </tr>\n",
       "    <tr>\n",
       "      <th>65</th>\n",
       "      <td>0x636b</td>\n",
       "      <td>Single-family home</td>\n",
       "      <td>1688</td>\n",
       "      <td>5.0</td>\n",
       "      <td>3</td>\n",
       "      <td>Semi_Furnished</td>\n",
       "      <td>0.0</td>\n",
       "      <td>Yes</td>\n",
       "      <td>NOT MENTIONED</td>\n",
       "      <td>6.17</td>\n",
       "      <td>Slightly below average</td>\n",
       "      <td>Medium</td>\n",
       "      <td>97.0</td>\n",
       "      <td>3.22</td>\n",
       "      <td>70.64</td>\n",
       "    </tr>\n",
       "    <tr>\n",
       "      <th>133</th>\n",
       "      <td>0xb86</td>\n",
       "      <td>Apartment</td>\n",
       "      <td>579</td>\n",
       "      <td>2.0</td>\n",
       "      <td>1</td>\n",
       "      <td>Semi_Furnished</td>\n",
       "      <td>1.0</td>\n",
       "      <td>No</td>\n",
       "      <td>NOT MENTIONED</td>\n",
       "      <td>7.02</td>\n",
       "      <td>Well below average</td>\n",
       "      <td>Medium</td>\n",
       "      <td>137.0</td>\n",
       "      <td>4.11</td>\n",
       "      <td>81.19</td>\n",
       "    </tr>\n",
       "    <tr>\n",
       "      <th>...</th>\n",
       "      <td>...</td>\n",
       "      <td>...</td>\n",
       "      <td>...</td>\n",
       "      <td>...</td>\n",
       "      <td>...</td>\n",
       "      <td>...</td>\n",
       "      <td>...</td>\n",
       "      <td>...</td>\n",
       "      <td>...</td>\n",
       "      <td>...</td>\n",
       "      <td>...</td>\n",
       "      <td>...</td>\n",
       "      <td>...</td>\n",
       "      <td>...</td>\n",
       "      <td>...</td>\n",
       "    </tr>\n",
       "    <tr>\n",
       "      <th>39303</th>\n",
       "      <td>0xc155</td>\n",
       "      <td>Apartment</td>\n",
       "      <td>177</td>\n",
       "      <td>1.0</td>\n",
       "      <td>2</td>\n",
       "      <td>Semi_Furnished</td>\n",
       "      <td>0.0</td>\n",
       "      <td>No</td>\n",
       "      <td>NOT MENTIONED</td>\n",
       "      <td>6.63</td>\n",
       "      <td>Well below average</td>\n",
       "      <td>Medium</td>\n",
       "      <td>150.0</td>\n",
       "      <td>4.41</td>\n",
       "      <td>70.62</td>\n",
       "    </tr>\n",
       "    <tr>\n",
       "      <th>39336</th>\n",
       "      <td>0x54d0</td>\n",
       "      <td>Apartment</td>\n",
       "      <td>538</td>\n",
       "      <td>3.0</td>\n",
       "      <td>1</td>\n",
       "      <td>Fully Furnished</td>\n",
       "      <td>2.0</td>\n",
       "      <td>No</td>\n",
       "      <td>NOT MENTIONED</td>\n",
       "      <td>6.95</td>\n",
       "      <td>Well below average</td>\n",
       "      <td>Medium</td>\n",
       "      <td>106.0</td>\n",
       "      <td>3.21</td>\n",
       "      <td>72.65</td>\n",
       "    </tr>\n",
       "    <tr>\n",
       "      <th>39344</th>\n",
       "      <td>0x2c3f</td>\n",
       "      <td>Container Home</td>\n",
       "      <td>242</td>\n",
       "      <td>0.0</td>\n",
       "      <td>2</td>\n",
       "      <td>Fully Furnished</td>\n",
       "      <td>0.0</td>\n",
       "      <td>Yes</td>\n",
       "      <td>NOT MENTIONED</td>\n",
       "      <td>7.84</td>\n",
       "      <td>Well below average</td>\n",
       "      <td>Medium</td>\n",
       "      <td>141.0</td>\n",
       "      <td>4.73</td>\n",
       "      <td>86.74</td>\n",
       "    </tr>\n",
       "    <tr>\n",
       "      <th>39429</th>\n",
       "      <td>0xa822</td>\n",
       "      <td>Apartment</td>\n",
       "      <td>815</td>\n",
       "      <td>4.0</td>\n",
       "      <td>2</td>\n",
       "      <td>Semi_Furnished</td>\n",
       "      <td>0.0</td>\n",
       "      <td>Yes</td>\n",
       "      <td>NOT MENTIONED</td>\n",
       "      <td>6.03</td>\n",
       "      <td>Well below average</td>\n",
       "      <td>Medium</td>\n",
       "      <td>129.0</td>\n",
       "      <td>4.75</td>\n",
       "      <td>86.10</td>\n",
       "    </tr>\n",
       "    <tr>\n",
       "      <th>39493</th>\n",
       "      <td>0x50a5</td>\n",
       "      <td>Apartment</td>\n",
       "      <td>276</td>\n",
       "      <td>1.0</td>\n",
       "      <td>3</td>\n",
       "      <td>Semi_Furnished</td>\n",
       "      <td>0.0</td>\n",
       "      <td>No</td>\n",
       "      <td>NOT MENTIONED</td>\n",
       "      <td>4.47</td>\n",
       "      <td>Well below average</td>\n",
       "      <td>Medium</td>\n",
       "      <td>81.0</td>\n",
       "      <td>4.20</td>\n",
       "      <td>73.61</td>\n",
       "    </tr>\n",
       "  </tbody>\n",
       "</table>\n",
       "<p>345 rows × 15 columns</p>\n",
       "</div>"
      ],
      "text/plain": [
       "      Property_ID       Property_Type  Property_Area  Number_of_Windows  \\\n",
       "15         0x5d35           Apartment            795                1.0   \n",
       "37         0x326e           Apartment            404                1.0   \n",
       "49         0x8151      Container Home            423                4.0   \n",
       "65         0x636b  Single-family home           1688                5.0   \n",
       "133         0xb86           Apartment            579                2.0   \n",
       "...           ...                 ...            ...                ...   \n",
       "39303      0xc155           Apartment            177                1.0   \n",
       "39336      0x54d0           Apartment            538                3.0   \n",
       "39344      0x2c3f      Container Home            242                0.0   \n",
       "39429      0xa822           Apartment            815                4.0   \n",
       "39493      0x50a5           Apartment            276                1.0   \n",
       "\n",
       "       Number_of_Doors       Furnishing  Frequency_of_Powercuts Power_Backup  \\\n",
       "15                   1  Fully Furnished                     0.0           No   \n",
       "37                   1   Semi_Furnished                     1.0           No   \n",
       "49                   1   Semi_Furnished                     1.0           No   \n",
       "65                   3   Semi_Furnished                     0.0          Yes   \n",
       "133                  1   Semi_Furnished                     1.0           No   \n",
       "...                ...              ...                     ...          ...   \n",
       "39303                2   Semi_Furnished                     0.0           No   \n",
       "39336                1  Fully Furnished                     2.0           No   \n",
       "39344                2  Fully Furnished                     0.0          Yes   \n",
       "39429                2   Semi_Furnished                     0.0          Yes   \n",
       "39493                3   Semi_Furnished                     0.0           No   \n",
       "\n",
       "        Water_Supply  Traffic_Density_Score              Crime_Rate  \\\n",
       "15     NOT MENTIONED                   6.92      Well below average   \n",
       "37     NOT MENTIONED                   6.29      Well below average   \n",
       "49     NOT MENTIONED                   5.10      Well below average   \n",
       "65     NOT MENTIONED                   6.17  Slightly below average   \n",
       "133    NOT MENTIONED                   7.02      Well below average   \n",
       "...              ...                    ...                     ...   \n",
       "39303  NOT MENTIONED                   6.63      Well below average   \n",
       "39336  NOT MENTIONED                   6.95      Well below average   \n",
       "39344  NOT MENTIONED                   7.84      Well below average   \n",
       "39429  NOT MENTIONED                   6.03      Well below average   \n",
       "39493  NOT MENTIONED                   4.47      Well below average   \n",
       "\n",
       "      Dust_and_Noise  Air_Quality_Index  Neighborhood_Review  \\\n",
       "15            Medium              169.0                 4.07   \n",
       "37            Medium               93.0                 4.17   \n",
       "49            Medium              114.0                 3.52   \n",
       "65            Medium               97.0                 3.22   \n",
       "133           Medium              137.0                 4.11   \n",
       "...              ...                ...                  ...   \n",
       "39303         Medium              150.0                 4.41   \n",
       "39336         Medium              106.0                 3.21   \n",
       "39344         Medium              141.0                 4.73   \n",
       "39429         Medium              129.0                 4.75   \n",
       "39493         Medium               81.0                 4.20   \n",
       "\n",
       "       Habitability_score  \n",
       "15                  79.82  \n",
       "37                  83.13  \n",
       "49                  71.70  \n",
       "65                  70.64  \n",
       "133                 81.19  \n",
       "...                   ...  \n",
       "39303               70.62  \n",
       "39336               72.65  \n",
       "39344               86.74  \n",
       "39429               86.10  \n",
       "39493               73.61  \n",
       "\n",
       "[345 rows x 15 columns]"
      ]
     },
     "execution_count": 29,
     "metadata": {},
     "output_type": "execute_result"
    }
   ],
   "source": [
    "train_df[train_df.Water_Supply==\"NOT MENTIONED\"]"
   ]
  },
  {
   "cell_type": "markdown",
   "id": "a0b860cc",
   "metadata": {},
   "source": [
    "### Traffic_Density_Score\n",
    "* Normal curve"
   ]
  },
  {
   "cell_type": "code",
   "execution_count": 54,
   "id": "7974a3c4",
   "metadata": {},
   "outputs": [
    {
     "data": {
      "text/plain": [
       "<matplotlib.collections.PathCollection at 0x7f8881deef80>"
      ]
     },
     "execution_count": 54,
     "metadata": {},
     "output_type": "execute_result"
    },
    {
     "data": {
      "image/png": "[encoded data removed]",
      "text/plain": [
       "<Figure size 432x288 with 1 Axes>"
      ]
     },
     "metadata": {
      "needs_background": "light"
     },
     "output_type": "display_data"
    }
   ],
   "source": [
    "plt.scatter(train_df.Habitability_score, train_df.Traffic_Density_Score)"
   ]
  },
  {
   "cell_type": "code",
   "execution_count": 30,
   "id": "9464847c",
   "metadata": {
    "tags": []
   },
   "outputs": [
    {
     "data": {
      "image/png": "[encoded data removed]",
      "text/plain": [
       "<Figure size 720x360 with 1 Axes>"
      ]
     },
     "metadata": {
      "needs_background": "light"
     },
     "output_type": "display_data"
    }
   ],
   "source": [
    "fig, ax = plt.subplots(figsize=(10, 5))\n",
    "ax.hist(train_df.Traffic_Density_Score, bins=100)\n",
    "plt.show()"
   ]
  },
  {
   "cell_type": "markdown",
   "id": "ef7586a5",
   "metadata": {},
   "source": [
    "### Crime_Rate\n",
    "* Null values"
   ]
  },
  {
   "cell_type": "code",
   "execution_count": 31,
   "id": "c3f4a9fa",
   "metadata": {},
   "outputs": [
    {
     "data": {
      "text/plain": [
       "787"
      ]
     },
     "execution_count": 31,
     "metadata": {},
     "output_type": "execute_result"
    }
   ],
   "source": [
    "train_df.Crime_Rate.isnull().sum()"
   ]
  },
  {
   "cell_type": "code",
   "execution_count": 32,
   "id": "c21b65f8",
   "metadata": {},
   "outputs": [
    {
     "data": {
      "image/png": "[encoded data removed]",
      "text/plain": [
       "<Figure size 576x144 with 1 Axes>"
      ]
     },
     "metadata": {
      "needs_background": "light"
     },
     "output_type": "display_data"
    }
   ],
   "source": [
    "plot_bar(train_df.Crime_Rate, orientation=\"h\", name=\"Crime rate\")"
   ]
  },
  {
   "cell_type": "code",
   "execution_count": 33,
   "id": "70fb60ea-b5f2-4128-839c-3f4dc4550ea9",
   "metadata": {},
   "outputs": [
    {
     "name": "stdout",
     "output_type": "stream",
     "text": [
      "0\n"
     ]
    },
    {
     "data": {
      "text/plain": [
       "Well below average        20259\n",
       "Slightly below average    11580\n",
       "Slightly above average     5303\n",
       "Well above average         2357\n",
       "Name: Crime_Rate, dtype: int64"
      ]
     },
     "execution_count": 33,
     "metadata": {},
     "output_type": "execute_result"
    }
   ],
   "source": [
    "train_df.Crime_Rate.fillna(train_df.Crime_Rate.mode().values[0], inplace=True)\n",
    "print(train_df.Crime_Rate.isnull().sum())\n",
    "train_df.Crime_Rate.value_counts()"
   ]
  },
  {
   "cell_type": "code",
   "execution_count": 34,
   "id": "49ba18ef-e754-49f5-a12a-e68fb81025b5",
   "metadata": {},
   "outputs": [],
   "source": [
    "test_df.Crime_Rate.fillna(test_df.Crime_Rate.mode().values[0], inplace=True)"
   ]
  },
  {
   "cell_type": "markdown",
   "id": "e1a0d376",
   "metadata": {},
   "source": [
    "### Dust_and_Noise\n",
    "* Null values"
   ]
  },
  {
   "cell_type": "code",
   "execution_count": 35,
   "id": "d47d3cdb",
   "metadata": {},
   "outputs": [
    {
     "data": {
      "text/plain": [
       "1219"
      ]
     },
     "execution_count": 35,
     "metadata": {},
     "output_type": "execute_result"
    }
   ],
   "source": [
    "train_df.Dust_and_Noise.isnull().sum()"
   ]
  },
  {
   "cell_type": "code",
   "execution_count": 36,
   "id": "ee0b4a22",
   "metadata": {},
   "outputs": [
    {
     "data": {
      "image/png": "[encoded data removed]",
      "text/plain": [
       "<Figure size 576x108 with 1 Axes>"
      ]
     },
     "metadata": {
      "needs_background": "light"
     },
     "output_type": "display_data"
    }
   ],
   "source": [
    "plot_bar(train_df.Dust_and_Noise, orientation=\"h\", name=\"Dust and noise\")"
   ]
  },
  {
   "cell_type": "code",
   "execution_count": 37,
   "id": "9943a134-987b-4f5a-9c98-28e38d32347b",
   "metadata": {},
   "outputs": [
    {
     "name": "stdout",
     "output_type": "stream",
     "text": [
      "0\n"
     ]
    },
    {
     "data": {
      "text/plain": [
       "Medium    34215\n",
       "High       3212\n",
       "Low        2072\n",
       "Name: Dust_and_Noise, dtype: int64"
      ]
     },
     "execution_count": 37,
     "metadata": {},
     "output_type": "execute_result"
    }
   ],
   "source": [
    "train_df.Dust_and_Noise.fillna(train_df.Dust_and_Noise.mode().values[0], inplace=True)\n",
    "print(train_df.Dust_and_Noise.isnull().sum())\n",
    "train_df.Dust_and_Noise.value_counts()"
   ]
  },
  {
   "cell_type": "code",
   "execution_count": 38,
   "id": "0e2888af-e384-4298-9fe4-e6d54ffbd87b",
   "metadata": {},
   "outputs": [],
   "source": [
    "test_df.Dust_and_Noise.fillna(test_df.Dust_and_Noise.mode().values[0], inplace=True)"
   ]
  },
  {
   "cell_type": "markdown",
   "id": "f7a1d9c0",
   "metadata": {},
   "source": [
    "### Air_Quality_Index"
   ]
  },
  {
   "cell_type": "code",
   "execution_count": 39,
   "id": "cb69badf",
   "metadata": {},
   "outputs": [
    {
     "data": {
      "image/png": "[encoded data removed]",
      "text/plain": [
       "<Figure size 432x288 with 1 Axes>"
      ]
     },
     "metadata": {
      "needs_background": "light"
     },
     "output_type": "display_data"
    }
   ],
   "source": [
    "fig, ax = plt.subplots()\n",
    "ax.hist(train_df.Air_Quality_Index, bins=50, log=True)\n",
    "plt.show()"
   ]
  },
  {
   "cell_type": "markdown",
   "id": "c1ac9c5d",
   "metadata": {},
   "source": [
    "### Neighborhood_Review"
   ]
  },
  {
   "cell_type": "code",
   "execution_count": 40,
   "id": "7a038f8f",
   "metadata": {},
   "outputs": [
    {
     "data": {
      "image/png": "[encoded data removed]",
      "text/plain": [
       "<Figure size 432x288 with 1 Axes>"
      ]
     },
     "metadata": {
      "needs_background": "light"
     },
     "output_type": "display_data"
    }
   ],
   "source": [
    "fig, ax = plt.subplots()\n",
    "ax.hist(train_df.Neighborhood_Review, bins=50)\n",
    "plt.show()"
   ]
  },
  {
   "cell_type": "markdown",
   "id": "85d469f3",
   "metadata": {},
   "source": [
    "### Target variable - Habitability_Score"
   ]
  },
  {
   "cell_type": "code",
   "execution_count": 41,
   "id": "bcc839b3",
   "metadata": {},
   "outputs": [
    {
     "data": {
      "image/png": "[encoded data removed]",
      "text/plain": [
       "<Figure size 432x288 with 1 Axes>"
      ]
     },
     "metadata": {
      "needs_background": "light"
     },
     "output_type": "display_data"
    }
   ],
   "source": [
    "fig, ax = plt.subplots()\n",
    "ax.hist(train_df.Habitability_score, bins=50)\n",
    "plt.show()"
   ]
  },
  {
   "cell_type": "markdown",
   "id": "11f349d6-1282-4a80-a0c2-0dc97bf51857",
   "metadata": {},
   "source": [
    "\n",
    "## Outlier detection"
   ]
  },
  {
   "cell_type": "code",
   "execution_count": 43,
   "id": "f6426580",
   "metadata": {},
   "outputs": [],
   "source": [
    "cat_cols = [\"Property_Type\", \"Furnishing\", \"Power_Backup\", \"Water_Supply\", \"Crime_Rate\", \"Dust_and_Noise\"]\n",
    "num_cols = [\"Property_Area\", \"Number_of_Windows\", \"Number_of_Doors\", \"Frequency_of_Powercuts\", \"Traffic_Density_Score\", \"Air_Quality_Index\", \"Neighborhood_Review\"]"
   ]
  },
  {
   "cell_type": "code",
   "execution_count": 44,
   "id": "376e36d7",
   "metadata": {},
   "outputs": [
    {
     "data": {
      "text/plain": [
       "['Property_Area',\n",
       " 'Number_of_Windows',\n",
       " 'Number_of_Doors',\n",
       " 'Frequency_of_Powercuts',\n",
       " 'Traffic_Density_Score',\n",
       " 'Air_Quality_Index',\n",
       " 'Neighborhood_Review']"
      ]
     },
     "execution_count": 44,
     "metadata": {},
     "output_type": "execute_result"
    }
   ],
   "source": [
    "num_cols"
   ]
  },
  {
   "cell_type": "code",
   "execution_count": 45,
   "id": "20ebc7b8",
   "metadata": {},
   "outputs": [
    {
     "data": {
      "image/png": "[encoded data removed]",
      "text/plain": [
       "<Figure size 432x288 with 1 Axes>"
      ]
     },
     "metadata": {
      "needs_background": "light"
     },
     "output_type": "display_data"
    }
   ],
   "source": [
    "plt.boxplot(train_df.Property_Area)\n",
    "plt.show()"
   ]
  },
  {
   "cell_type": "code",
   "execution_count": 51,
   "id": "c55223be",
   "metadata": {},
   "outputs": [
    {
     "data": {
      "image/png": "[encoded data removed]",
      "text/plain": [
       "<Figure size 432x288 with 1 Axes>"
      ]
     },
     "metadata": {
      "needs_background": "light"
     },
     "output_type": "display_data"
    }
   ],
   "source": [
    "plt.boxplot(train_df.Neighborhood_Review)\n",
    "plt.show()"
   ]
  },
  {
   "cell_type": "code",
   "execution_count": null,
   "id": "29f1b3e5",
   "metadata": {},
   "outputs": [],
   "source": []
  },
  {
   "cell_type": "code",
   "execution_count": null,
   "id": "5d398b39",
   "metadata": {},
   "outputs": [],
   "source": []
  },
  {
   "cell_type": "code",
   "execution_count": null,
   "id": "46fdc1cf",
   "metadata": {},
   "outputs": [],
   "source": []
  },
  {
   "cell_type": "markdown",
   "id": "afae8c43-e60c-43dd-ad00-6c241731f419",
   "metadata": {},
   "source": [
    "## Save the intemediate files"
   ]
  },
  {
   "cell_type": "code",
   "execution_count": 44,
   "id": "40f43795-7c5a-47f9-a01d-3d62048d76d1",
   "metadata": {},
   "outputs": [],
   "source": [
    "train_df.to_csv(dataset_path/\"train_v1.csv\", index=False)\n",
    "test_df.to_csv(dataset_path/\"test_v1.csv\", index=False)"
   ]
  },
  {
   "cell_type": "code",
   "execution_count": null,
   "id": "448193f6-dbe0-4e8e-9cb1-21ecd0b92ce3",
   "metadata": {},
   "outputs": [],
   "source": []
  }
 ],
 "metadata": {
  "kernelspec": {
   "display_name": "Python 3 (ipykernel)",
   "language": "python",
   "name": "python3"
  },
  "language_info": {
   "codemirror_mode": {
    "name": "ipython",
    "version": 3
   },
   "file_extension": ".py",
   "mimetype": "text/x-python",
   "name": "python",
   "nbconvert_exporter": "python",
   "pygments_lexer": "ipython3",
   "version": "3.10.4"
  }
 },
 "nbformat": 4,
 "nbformat_minor": 5
}
