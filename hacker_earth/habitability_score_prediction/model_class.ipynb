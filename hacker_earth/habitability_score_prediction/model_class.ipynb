{
 "cells": [
  {
   "cell_type": "code",
   "execution_count": 46,
   "id": "692e8cb4",
   "metadata": {},
   "outputs": [],
   "source": [
    "import pandas as pd\n",
    "from sklearn.model_selection import KFold\n",
    "from sklearn.compose import ColumnTransformer\n",
    "from sklearn.pipeline import Pipeline"
   ]
  },
  {
   "cell_type": "code",
   "execution_count": null,
   "id": "b0beb1b0",
   "metadata": {},
   "outputs": [],
   "source": [
    "class KFoldDataset(Dataset):\n",
    "    \n",
    "    def __init__(self, n_folds=5):\n",
    "        self.n_folds = n_folds\n",
    "    \n",
    "    def "
   ]
  },
  {
   "cell_type": "code",
   "execution_count": 49,
   "id": "f814341e",
   "metadata": {},
   "outputs": [],
   "source": [
    "class Dataset:\n",
    "    \n",
    "    def __init__(self, path, cat_cols=None, num_cols=None, useful_features=None):\n",
    "        self.cat_cols = cat_cols\n",
    "        self.num_cols = num_cols\n",
    "        self.dataframe = pd.read_csv(path)\n",
    "        self.useful_features = useful_features if useful_features else self.dataframe.columns\n",
    "            \n",
    "    def sample(self, n=1):\n",
    "        return self.dataframe.sample(n)\n",
    "    \n",
    "    def preprocess(self, transforms=None):\n",
    "        if transforms:\n",
    "            transform_steps = []\n",
    "\n",
    "            for enum, (transform_type, transform) in enumerate(transforms):\n",
    "                transform_steps.append((f\"{transform_type} step_{enum}\", transform, transform_type))\n",
    "        \n",
    "            self.transform_steps = transform_steps\n",
    "        else:\n",
    "            self.preprocessor = ColumnTransformer(transform_steps)"
   ]
  },
  {
   "cell_type": "code",
   "execution_count": 50,
   "id": "69ed04c7",
   "metadata": {},
   "outputs": [],
   "source": [
    "class TrainDataset(Dataset):\n",
    "    \n",
    "    def __init__(self, target_variable):\n",
    "        self.X = self.dataframe.drop(\"target_variable\", axis=1)[self.useful_features]\n",
    "        self.y = target_variable\n",
    "            \n",
    "    def model_fit(self, model):\n",
    "        self.pipeline = [\n",
    "            (\"preprocessor\", self.preprocessor),\n",
    "            (\"model\", model)\n",
    "        ]\n",
    "        self.pipeline.fit(X, y)\n",
    "        return self.pipeline.params\n",
    "    \n",
    "    def predict(self, dataset):\n",
    "        if self.pipeline:\n",
    "            return self.pipeline.predict(dataset)"
   ]
  },
  {
   "cell_type": "code",
   "execution_count": null,
   "id": "f6e40948",
   "metadata": {},
   "outputs": [],
   "source": [
    "class Fold(TrainDataset):\n",
    "    \n",
    "    def __init__(self, n_folds=5):\n",
    "        self.n_folds = n_folds\n",
    "        \n",
    "    def create_folds(self, dataset):\n",
    "        kf = KFold(n_splits=self.n_folds)\n",
    "        self.folds = "
   ]
  },
  {
   "cell_type": "code",
   "execution_count": 43,
   "id": "445c23f7",
   "metadata": {},
   "outputs": [
    {
     "data": {
      "text/html": [
       "<div>\n",
       "<style scoped>\n",
       "    .dataframe tbody tr th:only-of-type {\n",
       "        vertical-align: middle;\n",
       "    }\n",
       "\n",
       "    .dataframe tbody tr th {\n",
       "        vertical-align: top;\n",
       "    }\n",
       "\n",
       "    .dataframe thead th {\n",
       "        text-align: right;\n",
       "    }\n",
       "</style>\n",
       "<table border=\"1\" class=\"dataframe\">\n",
       "  <thead>\n",
       "    <tr style=\"text-align: right;\">\n",
       "      <th></th>\n",
       "      <th>Property_ID</th>\n",
       "      <th>Property_Type</th>\n",
       "      <th>Property_Area</th>\n",
       "      <th>Number_of_Windows</th>\n",
       "      <th>Number_of_Doors</th>\n",
       "      <th>Furnishing</th>\n",
       "      <th>Frequency_of_Powercuts</th>\n",
       "      <th>Power_Backup</th>\n",
       "      <th>Water_Supply</th>\n",
       "      <th>Traffic_Density_Score</th>\n",
       "      <th>Crime_Rate</th>\n",
       "      <th>Dust_and_Noise</th>\n",
       "      <th>Air_Quality_Index</th>\n",
       "      <th>Neighborhood_Review</th>\n",
       "      <th>Habitability_score</th>\n",
       "    </tr>\n",
       "  </thead>\n",
       "  <tbody>\n",
       "    <tr>\n",
       "      <th>19989</th>\n",
       "      <td>0x919d</td>\n",
       "      <td>Apartment</td>\n",
       "      <td>224</td>\n",
       "      <td>3.0</td>\n",
       "      <td>3</td>\n",
       "      <td>Semi_Furnished</td>\n",
       "      <td>0.0</td>\n",
       "      <td>NOT MENTIONED</td>\n",
       "      <td>Once in a day - Evening</td>\n",
       "      <td>6.59</td>\n",
       "      <td>Well below average</td>\n",
       "      <td>Medium</td>\n",
       "      <td>89.0</td>\n",
       "      <td>4.17</td>\n",
       "      <td>71.92</td>\n",
       "    </tr>\n",
       "  </tbody>\n",
       "</table>\n",
       "</div>"
      ],
      "text/plain": [
       "      Property_ID Property_Type  Property_Area  Number_of_Windows  \\\n",
       "19989      0x919d     Apartment            224                3.0   \n",
       "\n",
       "       Number_of_Doors      Furnishing  Frequency_of_Powercuts   Power_Backup  \\\n",
       "19989                3  Semi_Furnished                     0.0  NOT MENTIONED   \n",
       "\n",
       "                  Water_Supply  Traffic_Density_Score          Crime_Rate  \\\n",
       "19989  Once in a day - Evening                   6.59  Well below average   \n",
       "\n",
       "      Dust_and_Noise  Air_Quality_Index  Neighborhood_Review  \\\n",
       "19989         Medium               89.0                 4.17   \n",
       "\n",
       "       Habitability_score  \n",
       "19989               71.92  "
      ]
     },
     "execution_count": 43,
     "metadata": {},
     "output_type": "execute_result"
    }
   ],
   "source": [
    "trainset = TrainDataset(\"./dataset/train.csv\")\n",
    "trainset.sample()"
   ]
  },
  {
   "cell_type": "code",
   "execution_count": 37,
   "id": "c0ee0b2c",
   "metadata": {},
   "outputs": [],
   "source": [
    "trainset = Dataset(\"./dataset/train.csv\")\n",
    "testset = Dataset(\"./dataset/test.csv\", test=True)"
   ]
  },
  {
   "cell_type": "code",
   "execution_count": null,
   "id": "3ec2948f",
   "metadata": {},
   "outputs": [],
   "source": []
  },
  {
   "cell_type": "code",
   "execution_count": null,
   "id": "fb0b16bf",
   "metadata": {},
   "outputs": [],
   "source": [
    "class DataPreprocess:\n",
    "    \n",
    "    def __init__(self, *args, **kwargs):\n",
    "        pass\n",
    "    \n",
    "    def read_dataset(self, path, cat_cols=None, num_cols=None):\n",
    "        pass\n",
    "    \n",
    "    def apply_transforms(self, transforms=[]):\n",
    "        pass"
   ]
  },
  {
   "cell_type": "code",
   "execution_count": null,
   "id": "7fb34256",
   "metadata": {},
   "outputs": [],
   "source": [
    "class Model:\n",
    "    \n",
    "    def __init__(self, *args, **kwargs):\n",
    "        pass\n",
    "    \n",
    "    def read_dataset(self, ):\n",
    "        pass"
   ]
  }
 ],
 "metadata": {
  "kernelspec": {
   "display_name": "Python 3 (ipykernel)",
   "language": "python",
   "name": "python3"
  },
  "language_info": {
   "codemirror_mode": {
    "name": "ipython",
    "version": 3
   },
   "file_extension": ".py",
   "mimetype": "text/x-python",
   "name": "python",
   "nbconvert_exporter": "python",
   "pygments_lexer": "ipython3",
   "version": "3.10.4"
  }
 },
 "nbformat": 4,
 "nbformat_minor": 5
}
