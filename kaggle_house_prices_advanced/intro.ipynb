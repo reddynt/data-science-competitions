{
 "cells": [
  {
   "cell_type": "markdown",
   "metadata": {},
   "source": [
    "## Lets build baseline model in this notebook and progress from there\n",
    "1. read data\n",
    "2. variable study\n",
    "    - identify numerical & categorical columns\n",
    "3. prepare final training set\n",
    "4. train the model\n",
    "5. submit"
   ]
  },
  {
   "cell_type": "code",
   "execution_count": 1,
   "metadata": {},
   "outputs": [],
   "source": [
    "# imports\n",
    "\n",
    "from pathlib import Path\n",
    "\n",
    "import pandas as pd\n",
    "import numpy as np\n",
    "from matplotlib import pyplot as plt\n",
    "from sklearn.model_selection import train_test_split"
   ]
  },
  {
   "cell_type": "code",
   "execution_count": 11,
   "metadata": {},
   "outputs": [
    {
     "name": "stdout",
     "output_type": "stream",
     "text": [
      "['data_description.txt', 'train.csv', 'test.csv', 'sample_submission.csv']\n"
     ]
    }
   ],
   "source": [
    "# config\n",
    "\n",
    "if Path(\"/kaggle/input\").exists():\n",
    "    # fill when running in kaggle\n",
    "    pass\n",
    "else:\n",
    "    dataset_path = Path(\"./dataset/\")\n",
    "    result_path = Path(\"./results\")\n",
    "    result_path.mkdir(parents=True, exist_ok=True)\n",
    "\n",
    "print([x.name for x in dataset_path.iterdir()])\n",
    "\n",
    "pd.options.display.max_rows = 1000\n",
    "pd.options.display.max_columns = 1000"
   ]
  },
  {
   "cell_type": "markdown",
   "metadata": {},
   "source": [
    "# load data"
   ]
  },
  {
   "cell_type": "code",
   "execution_count": 5,
   "metadata": {},
   "outputs": [
    {
     "name": "stdout",
     "output_type": "stream",
     "text": [
      "(1460, 81) (1459, 80)\n"
     ]
    }
   ],
   "source": [
    "train_df = pd.read_csv(dataset_path/\"train.csv\")\n",
    "test_df = pd.read_csv(dataset_path/\"test.csv\")\n",
    "sample_subm_df = pd.read_csv(dataset_path/\"sample_submission.csv\")\n",
    "\n",
    "print(train_df.shape, test_df.shape)\n",
    "\n",
    "# with open(dataset_path/\"data_description.txt\", \"r\") as desc_file:\n",
    "#     for line in (desc_file.readlines()):\n",
    "#         print(line, end=\"\")\n"
   ]
  },
  {
   "cell_type": "markdown",
   "metadata": {},
   "source": [
    "# variable study"
   ]
  },
  {
   "cell_type": "code",
   "execution_count": 7,
   "metadata": {},
   "outputs": [
    {
     "data": {
      "text/plain": [
       "Index(['Id', 'MSSubClass', 'MSZoning', 'LotFrontage', 'LotArea', 'Street',\n",
       "       'Alley', 'LotShape', 'LandContour', 'Utilities', 'LotConfig',\n",
       "       'LandSlope', 'Neighborhood', 'Condition1', 'Condition2', 'BldgType',\n",
       "       'HouseStyle', 'OverallQual', 'OverallCond', 'YearBuilt', 'YearRemodAdd',\n",
       "       'RoofStyle', 'RoofMatl', 'Exterior1st', 'Exterior2nd', 'MasVnrType',\n",
       "       'MasVnrArea', 'ExterQual', 'ExterCond', 'Foundation', 'BsmtQual',\n",
       "       'BsmtCond', 'BsmtExposure', 'BsmtFinType1', 'BsmtFinSF1',\n",
       "       'BsmtFinType2', 'BsmtFinSF2', 'BsmtUnfSF', 'TotalBsmtSF', 'Heating',\n",
       "       'HeatingQC', 'CentralAir', 'Electrical', '1stFlrSF', '2ndFlrSF',\n",
       "       'LowQualFinSF', 'GrLivArea', 'BsmtFullBath', 'BsmtHalfBath', 'FullBath',\n",
       "       'HalfBath', 'BedroomAbvGr', 'KitchenAbvGr', 'KitchenQual',\n",
       "       'TotRmsAbvGrd', 'Functional', 'Fireplaces', 'FireplaceQu', 'GarageType',\n",
       "       'GarageYrBlt', 'GarageFinish', 'GarageCars', 'GarageArea', 'GarageQual',\n",
       "       'GarageCond', 'PavedDrive', 'WoodDeckSF', 'OpenPorchSF',\n",
       "       'EnclosedPorch', '3SsnPorch', 'ScreenPorch', 'PoolArea', 'PoolQC',\n",
       "       'Fence', 'MiscFeature', 'MiscVal', 'MoSold', 'YrSold', 'SaleType',\n",
       "       'SaleCondition', 'SalePrice'],\n",
       "      dtype='object')"
      ]
     },
     "execution_count": 7,
     "metadata": {},
     "output_type": "execute_result"
    }
   ],
   "source": [
    "train_df.columns"
   ]
  },
  {
   "cell_type": "markdown",
   "metadata": {},
   "source": [
    "## identify numerical and categorical columns"
   ]
  },
  {
   "cell_type": "code",
   "execution_count": 40,
   "metadata": {},
   "outputs": [],
   "source": [
    "ordinal_cols = [\n",
    "    \"MSSubClass\",\n",
    "    \"LotShape\",\n",
    "    \"LandSlope\",\n",
    "    \"OverallQual\",\n",
    "    \"OverallCond\",\n",
    "    \"ExterQual\",\n",
    "    \"ExterCond\",\n",
    "    \"BsmtQual\",\n",
    "    \"BsmtCond\",\n",
    "    \"BsmtExposure\",\n",
    "    \"BsmtFinType1\",\n",
    "    \"BsmtFinType2\",\n",
    "    \"HeatingQC\",\n",
    "    \"KitchenQual\",\n",
    "    \"Functional\",\n",
    "    \"FireplaceQu\",\n",
    "    \"GarageFinish\",\n",
    "    \"GarageCond\",\n",
    "    \"PoolQC\",\n",
    "    \"Fence\",\n",
    "    \"YrSold\",\n",
    "]\n",
    "\n",
    "num_cols = [\n",
    "    \"LotFrontage\",\n",
    "    \"LotArea\",\n",
    "    \"YearBuilt\",\n",
    "    \"YearRemodAdd\",\n",
    "    \"BsmtFinSF1\",\n",
    "    \"BsmtFinSF2\",\n",
    "    \"BsmtUnfSF\",\n",
    "    \"TotalBsmtSF\",\n",
    "    \"1stFlrSF\",\n",
    "    \"2ndFlrSF\",\n",
    "    \"LowQualFinSF\",\n",
    "    \"GrLivArea\",\n",
    "    # can they be ordinal columns\n",
    "    \"BsmtFullBath\",\n",
    "    \"BsmtHalfBath\",\n",
    "    \"FullBath\",\n",
    "    \"HalfBath\",\n",
    "    #\n",
    "    \"BedroomAbvGr\",\n",
    "    \"KitchenAbvGr\",\n",
    "    \"TotRmsAbvGrd\",\n",
    "    \"Fireplaces\",\n",
    "    \"GarageYrBlt\",\n",
    "    \"GarageCars\",\n",
    "    \"GarageArea\",\n",
    "    \"WoodDeckSF\",\n",
    "    \"OpenPorchSF\",\n",
    "    \"EnclosedPorch\",\n",
    "    \"3SsnPorch\",\n",
    "    \"ScreenPorch\",\n",
    "    \"PoolArea\",\n",
    "    \"MiscVal\",\n",
    "]\n",
    "\n",
    "cat_cols = [\n",
    "    \"MSZoning\",\n",
    "    \"Street\",\n",
    "    \"Alley\",\n",
    "    \"LandContour\",  # can it be an ordinal variable\n",
    "    \"Utilities\",\n",
    "    \"LotConfig\",\n",
    "    \"Neighborhood\",\n",
    "    \"Condition1\",\n",
    "    \"Condition2\",\n",
    "    \"BldgType\",\n",
    "    \"HouseStyle\",\n",
    "    \"RoofStyle\",\n",
    "    \"RoofMatl\",\n",
    "    \"Exterior1st\",\n",
    "    \"Exterior2nd\",\n",
    "    \"MasVnrType\",\n",
    "    \"MasVnrArea\",\n",
    "    \"Foundation\",\n",
    "    \"Heating\",\n",
    "    \"CentralAir\",\n",
    "    \"Electrical\",\n",
    "    \"GarageType\",\n",
    "    \"PavedDrive\",\n",
    "    \"MiscFeature\",\n",
    "    \"MoSold\",\n",
    "    \"SaleType\",\n",
    "    \"SaleCondition\",\n",
    "]"
   ]
  },
  {
   "cell_type": "code",
   "execution_count": 44,
   "metadata": {},
   "outputs": [
    {
     "data": {
      "image/png": "[encoded data removed]",
      "text/plain": [
       "<Figure size 640x480 with 1 Axes>"
      ]
     },
     "metadata": {},
     "output_type": "display_data"
    }
   ],
   "source": [
    "target = train_df.SalePrice\n",
    "target.hist(log=True)\n",
    "plt.show()"
   ]
  },
  {
   "cell_type": "markdown",
   "metadata": {},
   "source": [
    "## filling nulls"
   ]
  },
  {
   "cell_type": "code",
   "execution_count": 56,
   "metadata": {},
   "outputs": [],
   "source": [
    "def get_nulls_df(df):\n",
    "    null_cols = df.columns[df.isnull().sum() != 0]\n",
    "    # print(null_cols)\n",
    "    null_val_pct = df[null_cols].isnull().sum() * 100 / len(df)\n",
    "    null_val_pct = null_val_pct.sort_values(ascending=False)\n",
    "    return null_val_pct"
   ]
  },
  {
   "cell_type": "code",
   "execution_count": 57,
   "metadata": {},
   "outputs": [],
   "source": [
    "train_null_df = get_nulls_df(train_df)\n",
    "test_null_df = get_nulls_df(test_df)"
   ]
  },
  {
   "cell_type": "code",
   "execution_count": 58,
   "metadata": {},
   "outputs": [
    {
     "data": {
      "text/plain": [
       "PoolQC          99.520548\n",
       "MiscFeature     96.301370\n",
       "Alley           93.767123\n",
       "Fence           80.753425\n",
       "FireplaceQu     47.260274\n",
       "LotFrontage     17.739726\n",
       "GarageType       5.547945\n",
       "GarageYrBlt      5.547945\n",
       "GarageFinish     5.547945\n",
       "GarageQual       5.547945\n",
       "GarageCond       5.547945\n",
       "BsmtExposure     2.602740\n",
       "BsmtFinType2     2.602740\n",
       "BsmtFinType1     2.534247\n",
       "BsmtCond         2.534247\n",
       "BsmtQual         2.534247\n",
       "MasVnrArea       0.547945\n",
       "MasVnrType       0.547945\n",
       "Electrical       0.068493\n",
       "dtype: float64"
      ]
     },
     "execution_count": 58,
     "metadata": {},
     "output_type": "execute_result"
    }
   ],
   "source": [
    "train_null_df"
   ]
  },
  {
   "cell_type": "code",
   "execution_count": 59,
   "metadata": {},
   "outputs": [
    {
     "data": {
      "text/plain": [
       "PoolQC          99.794380\n",
       "MiscFeature     96.504455\n",
       "Alley           92.666210\n",
       "Fence           80.123372\n",
       "FireplaceQu     50.034270\n",
       "LotFrontage     15.558602\n",
       "GarageCond       5.346127\n",
       "GarageYrBlt      5.346127\n",
       "GarageQual       5.346127\n",
       "GarageFinish     5.346127\n",
       "GarageType       5.209047\n",
       "BsmtCond         3.084304\n",
       "BsmtExposure     3.015764\n",
       "BsmtQual         3.015764\n",
       "BsmtFinType1     2.878684\n",
       "BsmtFinType2     2.878684\n",
       "MasVnrType       1.096642\n",
       "MasVnrArea       1.028101\n",
       "MSZoning         0.274160\n",
       "BsmtFullBath     0.137080\n",
       "BsmtHalfBath     0.137080\n",
       "Functional       0.137080\n",
       "Utilities        0.137080\n",
       "GarageCars       0.068540\n",
       "GarageArea       0.068540\n",
       "TotalBsmtSF      0.068540\n",
       "KitchenQual      0.068540\n",
       "BsmtUnfSF        0.068540\n",
       "BsmtFinSF2       0.068540\n",
       "BsmtFinSF1       0.068540\n",
       "Exterior2nd      0.068540\n",
       "Exterior1st      0.068540\n",
       "SaleType         0.068540\n",
       "dtype: float64"
      ]
     },
     "execution_count": 59,
     "metadata": {},
     "output_type": "execute_result"
    }
   ],
   "source": [
    "test_null_df"
   ]
  },
  {
   "cell_type": "markdown",
   "metadata": {},
   "source": [
    "*observations*\n",
    "1. PoolQC\n",
    "2. MiscFeature\n",
    "3. Alley\n",
    "4. Fence\n",
    "5. FireplaceQu \n",
    "\n",
    "All the above features have > 80% of null values. Instead of filling them, lets ignore these features for model building"
   ]
  },
  {
   "cell_type": "code",
   "execution_count": 61,
   "metadata": {},
   "outputs": [],
   "source": [
    "from sklearn.impute import KNNImputer, SimpleImputer\n",
    "from sklearn.preprocessing import OrdinalEncoder"
   ]
  },
  {
   "cell_type": "code",
   "execution_count": 99,
   "metadata": {},
   "outputs": [
    {
     "data": {
      "text/plain": [
       "0       TA\n",
       "1       TA\n",
       "2       TA\n",
       "3       TA\n",
       "4       TA\n",
       "        ..\n",
       "1455    TA\n",
       "1456    TA\n",
       "1457    TA\n",
       "1458    TA\n",
       "1459    TA\n",
       "Name: GarageCond, Length: 1460, dtype: object"
      ]
     },
     "execution_count": 99,
     "metadata": {},
     "output_type": "execute_result"
    }
   ],
   "source": [
    "train_df.GarageCond"
   ]
  },
  {
   "cell_type": "code",
   "execution_count": 98,
   "metadata": {},
   "outputs": [
    {
     "data": {
      "text/plain": [
       "array([[2.],\n",
       "       [2.],\n",
       "       [2.],\n",
       "       ...,\n",
       "       [2.],\n",
       "       [2.],\n",
       "       [2.]])"
      ]
     },
     "execution_count": 98,
     "metadata": {},
     "output_type": "execute_result"
    }
   ],
   "source": [
    "oe = OrdinalEncoder(categories=[[\"Ex\", \"Gd\", \"TA\", \"Fa\", \"Po\", \"NA\"]], handle_unknown=\"use_encoded_value\", unknown_value=-1)\n",
    "oe.fit_transform(train_df[[\"GarageCond\"]])"
   ]
  },
  {
   "cell_type": "code",
   "execution_count": 75,
   "metadata": {},
   "outputs": [
    {
     "data": {
      "text/plain": [
       "[array(['Ex', 'Fa', 'Gd', 'Po', 'TA', nan], dtype=object)]"
      ]
     },
     "execution_count": 75,
     "metadata": {},
     "output_type": "execute_result"
    }
   ],
   "source": [
    "oe.categories_"
   ]
  },
  {
   "cell_type": "code",
   "execution_count": 83,
   "metadata": {},
   "outputs": [
    {
     "data": {
      "text/plain": [
       "{'non_deterministic': False,\n",
       " 'requires_positive_X': False,\n",
       " 'requires_positive_y': False,\n",
       " 'X_types': ['categorical'],\n",
       " 'poor_score': False,\n",
       " 'no_validation': False,\n",
       " 'multioutput': False,\n",
       " 'allow_nan': False,\n",
       " 'stateless': False,\n",
       " 'multilabel': False,\n",
       " '_skip_test': False,\n",
       " '_xfail_checks': False,\n",
       " 'multioutput_only': False,\n",
       " 'binary_only': False,\n",
       " 'requires_fit': True,\n",
       " 'preserves_dtype': [numpy.float64],\n",
       " 'requires_y': False,\n",
       " 'pairwise': False}"
      ]
     },
     "execution_count": 83,
     "metadata": {},
     "output_type": "execute_result"
    }
   ],
   "source": []
  }
 ],
 "metadata": {
  "kernelspec": {
   "display_name": "Python 3.10.4 ('torch')",
   "language": "python",
   "name": "python3"
  },
  "language_info": {
   "codemirror_mode": {
    "name": "ipython",
    "version": 3
   },
   "file_extension": ".py",
   "mimetype": "text/x-python",
   "name": "python",
   "nbconvert_exporter": "python",
   "pygments_lexer": "ipython3",
   "version": "3.10.4"
  },
  "orig_nbformat": 4,
  "vscode": {
   "interpreter": {
    "hash": "0230d8c58de4a83519dad700d573a709baa020ca76aac9fb80b365d3bd5f04b1"
   }
  }
 },
 "nbformat": 4,
 "nbformat_minor": 2
}
