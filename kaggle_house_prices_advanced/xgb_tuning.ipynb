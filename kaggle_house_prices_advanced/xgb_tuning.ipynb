{
 "cells": [
  {
   "cell_type": "code",
   "execution_count": 174,
   "id": "b589986d",
   "metadata": {
    "jupyter": {
     "source_hidden": true
    },
    "tags": []
   },
   "outputs": [
    {
     "data": {
      "text/html": [
       "<h1 style=\"text-align: center; font-size: 8rem\">Act-II</h1>\n",
       "<h2>Steps:</h2>\n",
       "<ol>\n",
       "    <li>Feature engineering</li>\n",
       "    <li>Hyperparameter tuning</li>\n",
       "    <li>Feature selection(feature importances, shap)</li>\n",
       "    <li>More hyperparameter tuning and building final model</li>\n",
       "    <li>submit & check the score</li>\n",
       "</ol>\n"
      ],
      "text/plain": [
       "<IPython.core.display.HTML object>"
      ]
     },
     "metadata": {},
     "output_type": "display_data"
    }
   ],
   "source": [
    "%%html\n",
    "<h1 style=\"text-align: center; font-size: 8rem\">Act-II</h1>\n",
    "<h2>Steps:</h2>\n",
    "<ol>\n",
    "    <li>Feature engineering</li>\n",
    "    <li>Hyperparameter tuning</li>\n",
    "    <li>Feature selection(feature importances, shap)</li>\n",
    "    <li>More hyperparameter tuning and building final model</li>\n",
    "    <li>submit & check the score</li>\n",
    "</ol>"
   ]
  },
  {
   "cell_type": "markdown",
   "id": "79bdbb40",
   "metadata": {
    "execution": {
     "iopub.execute_input": "2022-09-23T08:38:59.336886Z",
     "iopub.status.busy": "2022-09-23T08:38:59.335653Z",
     "iopub.status.idle": "2022-09-23T08:38:59.384511Z",
     "shell.execute_reply": "2022-09-23T08:38:59.382803Z",
     "shell.execute_reply.started": "2022-09-23T08:38:59.336829Z"
    }
   },
   "source": [
    "**To-do** \n",
    "\n",
    "* skewness in features\n",
    "* outlier detection and removal"
   ]
  },
  {
   "cell_type": "code",
   "execution_count": 175,
   "id": "478429bd",
   "metadata": {
    "tags": []
   },
   "outputs": [
    {
     "name": "stdout",
     "output_type": "stream",
     "text": [
      "The autoreload extension is already loaded. To reload it, use:\n",
      "  %reload_ext autoreload\n"
     ]
    }
   ],
   "source": [
    "%load_ext autoreload\n",
    "%autoreload 2"
   ]
  },
  {
   "cell_type": "markdown",
   "id": "2f95748c",
   "metadata": {},
   "source": [
    "# Imports & Config"
   ]
  },
  {
   "cell_type": "code",
   "execution_count": 204,
   "id": "a349fc9c",
   "metadata": {
    "tags": []
   },
   "outputs": [],
   "source": [
    "# imports\n",
    "\n",
    "import json\n",
    "import warnings\n",
    "from collections import namedtuple\n",
    "from datetime import datetime\n",
    "from pathlib import Path\n",
    "\n",
    "import numpy as np\n",
    "import optuna\n",
    "import pandas as pd\n",
    "import seaborn as sns\n",
    "from joblib import dump, load\n",
    "from matplotlib import pyplot as plt\n",
    "from sklearn.base import BaseEstimator, TransformerMixin\n",
    "from sklearn.compose import ColumnTransformer\n",
    "from sklearn.ensemble import RandomForestRegressor\n",
    "from sklearn.impute import SimpleImputer, KNNImputer\n",
    "from sklearn.linear_model import LinearRegression\n",
    "from sklearn.metrics import mean_squared_log_error\n",
    "from sklearn.model_selection import KFold\n",
    "from sklearn.pipeline import Pipeline\n",
    "from sklearn.preprocessing import OneHotEncoder, OrdinalEncoder, RobustScaler, LabelEncoder\n",
    "from matplotlib import pyplot as plt"
   ]
  },
  {
   "cell_type": "code",
   "execution_count": 177,
   "id": "bc7f811a",
   "metadata": {
    "tags": []
   },
   "outputs": [
    {
     "data": {
      "text/plain": [
       "['data_description.txt',\n",
       " 'train.csv',\n",
       " '.ipynb_checkpoints',\n",
       " 'test_ftrs_added.csv',\n",
       " 'train_with_folds.csv',\n",
       " 'test.csv',\n",
       " 'sample_submission.csv',\n",
       " 'test_with_folds.csv',\n",
       " 'train_ftrs_added.csv']"
      ]
     },
     "execution_count": 177,
     "metadata": {},
     "output_type": "execute_result"
    }
   ],
   "source": [
    "if Path(\"/kaggle/input\").exists():\n",
    "    dataset_path = Path(\"/kaggle/input/house-prices-advanced-regression-techniques\")\n",
    "    result_path = Path(\"/kaggle/working/\")\n",
    "else:\n",
    "    dataset_path = Path(\"./dataset/\")\n",
    "    result_path = Path(\"./results\")\n",
    "    result_path.mkdir(parents=True, exist_ok=True)\n",
    "    \n",
    "[_.name for _ in dataset_path.iterdir()]"
   ]
  },
  {
   "cell_type": "code",
   "execution_count": 178,
   "id": "0d42d9f6",
   "metadata": {
    "tags": []
   },
   "outputs": [],
   "source": [
    "# config\n",
    "\n",
    "pd.options.display.max_rows = 1000\n",
    "pd.options.display.max_columns = 1000\n",
    "plt.style.use(\"ggplot\")\n",
    "warnings.filterwarnings(\"ignore\")"
   ]
  },
  {
   "cell_type": "code",
   "execution_count": 179,
   "id": "489aa723",
   "metadata": {
    "tags": []
   },
   "outputs": [],
   "source": [
    "# notebook level variables\n",
    "\n",
    "N_SPLITS = 7\n",
    "random_seed = 13"
   ]
  },
  {
   "cell_type": "markdown",
   "id": "08f2412d",
   "metadata": {},
   "source": [
    "# Load dataset"
   ]
  },
  {
   "cell_type": "code",
   "execution_count": 180,
   "id": "e400166b",
   "metadata": {
    "tags": []
   },
   "outputs": [
    {
     "data": {
      "text/plain": [
       "((1460, 81), (1459, 80))"
      ]
     },
     "execution_count": 180,
     "metadata": {},
     "output_type": "execute_result"
    }
   ],
   "source": [
    "train_df = pd.read_csv(dataset_path/\"train.csv\")\n",
    "test_df = pd.read_csv(dataset_path/\"test.csv\")\n",
    "sample_subm_df = pd.read_csv(dataset_path/\"sample_submission.csv\")\n",
    "\n",
    "train_df.shape, test_df.shape"
   ]
  },
  {
   "cell_type": "markdown",
   "id": "1d7438ae",
   "metadata": {},
   "source": [
    "# Create folds"
   ]
  },
  {
   "cell_type": "code",
   "execution_count": 181,
   "id": "bfb6ed84",
   "metadata": {
    "tags": []
   },
   "outputs": [
    {
     "data": {
      "text/plain": [
       "1.0    209\n",
       "0.0    209\n",
       "3.0    209\n",
       "2.0    209\n",
       "6.0    208\n",
       "4.0    208\n",
       "5.0    208\n",
       "Name: fold_no, dtype: int64"
      ]
     },
     "execution_count": 181,
     "metadata": {},
     "output_type": "execute_result"
    }
   ],
   "source": [
    "kfold = KFold(n_splits=N_SPLITS, random_state=random_seed, shuffle=True)\n",
    "\n",
    "# add a fold_no column to train_df\n",
    "next(kfold.split(train_df))\n",
    "for fold_no, (train_ix, test_ix) in enumerate(kfold.split(train_df)):\n",
    "    train_df.loc[test_ix, \"fold_no\"] = fold_no\n",
    "    \n",
    "train_df.fold_no.value_counts()"
   ]
  },
  {
   "cell_type": "markdown",
   "id": "de7fac6c",
   "metadata": {},
   "source": [
    "# Variable study"
   ]
  },
  {
   "cell_type": "markdown",
   "id": "e67b6319",
   "metadata": {},
   "source": [
    "## Target variable"
   ]
  },
  {
   "cell_type": "code",
   "execution_count": 182,
   "id": "8497b8cc",
   "metadata": {
    "tags": []
   },
   "outputs": [
    {
     "data": {
      "image/png": "[encoded data removed]",
      "text/plain": [
       "<Figure size 1000x500 with 2 Axes>"
      ]
     },
     "metadata": {},
     "output_type": "display_data"
    }
   ],
   "source": [
    "fig, ax = plt.subplots(ncols=2, figsize=(10, 5))\n",
    "ax[0].hist(train_df.SalePrice, bins=30)\n",
    "ax[0].set_title(\"SalePrice distribution\")\n",
    "ax[1].hist(np.log1p(train_df.SalePrice), bins=30)\n",
    "ax[1].set_title(\"SalePrice distribution with log applied\")\n",
    "[ax[_].grid(False) for _ in range(0, 2)]\n",
    "plt.show()"
   ]
  },
  {
   "cell_type": "code",
   "execution_count": 183,
   "id": "8dd8d953",
   "metadata": {
    "tags": []
   },
   "outputs": [],
   "source": [
    "# Target skewness correction\n",
    "\n",
    "train_df[\"log_SalePrice\"] = train_df.SalePrice.apply(np.log1p)"
   ]
  },
  {
   "cell_type": "markdown",
   "id": "fafa70b3",
   "metadata": {},
   "source": [
    "## Identifying different type of columns"
   ]
  },
  {
   "cell_type": "code",
   "execution_count": 184,
   "id": "0c18ea46",
   "metadata": {
    "tags": []
   },
   "outputs": [
    {
     "data": {
      "text/plain": [
       "79"
      ]
     },
     "execution_count": 184,
     "metadata": {},
     "output_type": "execute_result"
    }
   ],
   "source": [
    "useful_cols = [col for col in train_df.columns if col not in [\"SalePrice\", \"log_SalePrice\", \"Id\", \"fold_no\"]]\n",
    "len(useful_cols)"
   ]
  },
  {
   "cell_type": "code",
   "execution_count": 185,
   "id": "70a51671",
   "metadata": {
    "tags": []
   },
   "outputs": [],
   "source": [
    "ordinal_cols = [\n",
    "    \"MSSubClass\",\n",
    "    \"LotShape\",\n",
    "    \"LandSlope\",\n",
    "    \"OverallQual\",\n",
    "    \"OverallCond\",\n",
    "    \"ExterQual\",\n",
    "    \"ExterCond\",\n",
    "    \"BsmtQual\",\n",
    "    \"BsmtCond\",\n",
    "    \"BsmtExposure\",\n",
    "    \"BsmtFinType1\",\n",
    "    \"BsmtFinType2\",\n",
    "    \"HeatingQC\",\n",
    "    \"KitchenQual\",\n",
    "    \"Functional\",\n",
    "    \"FireplaceQu\",\n",
    "    \"GarageQual\",\n",
    "    \"GarageFinish\",\n",
    "    \"GarageCond\",\n",
    "    \"PoolQC\",\n",
    "    \"Fence\",\n",
    "]\n",
    "\n",
    "num_cols = [\n",
    "    \"LotFrontage\",\n",
    "    \"LotArea\",\n",
    "    \"BsmtFinSF1\",\n",
    "    \"BsmtFinSF2\",\n",
    "    \"BsmtUnfSF\",\n",
    "    \"TotalBsmtSF\",\n",
    "    \"1stFlrSF\",\n",
    "    \"2ndFlrSF\",\n",
    "    \"LowQualFinSF\",\n",
    "    \"GrLivArea\",\n",
    "    # can they be ordinal columns\n",
    "    \"BsmtFullBath\",\n",
    "    \"BsmtHalfBath\",\n",
    "    \"FullBath\",\n",
    "    \"HalfBath\",\n",
    "    #\n",
    "    \"BedroomAbvGr\",\n",
    "    \"KitchenAbvGr\",\n",
    "    \"TotRmsAbvGrd\",\n",
    "    \"Fireplaces\",\n",
    "    \"GarageCars\",\n",
    "    \"GarageArea\",\n",
    "    \"WoodDeckSF\",\n",
    "    \"OpenPorchSF\",\n",
    "    \"EnclosedPorch\",\n",
    "    \"3SsnPorch\",\n",
    "    \"ScreenPorch\",\n",
    "    \"PoolArea\",\n",
    "    \"MiscVal\",\n",
    "    \"MasVnrArea\",\n",
    "]\n",
    "\n",
    "cat_cols = [\n",
    "    \"MSZoning\",\n",
    "    \"Street\",\n",
    "    \"Alley\",\n",
    "    \"LandContour\",  # can it be an ordinal variable\n",
    "    \"Utilities\",\n",
    "    \"LotConfig\",\n",
    "    \"Neighborhood\",\n",
    "    \"Condition1\",\n",
    "    \"Condition2\",\n",
    "    \"BldgType\",\n",
    "    \"HouseStyle\",\n",
    "    \"RoofStyle\",\n",
    "    \"RoofMatl\",\n",
    "    \"Exterior1st\",\n",
    "    \"Exterior2nd\",\n",
    "    \"MasVnrType\",\n",
    "    \"Foundation\",\n",
    "    \"Heating\",\n",
    "    \"CentralAir\",\n",
    "    \"Electrical\",\n",
    "    \"GarageType\",\n",
    "    \"PavedDrive\",\n",
    "    \"MiscFeature\",\n",
    "    \"MoSold\",\n",
    "    \"SaleType\",\n",
    "    \"SaleCondition\",\n",
    "]\n",
    "\n",
    "year_cols = [\n",
    "    \"GarageYrBlt\",\n",
    "    \"YearBuilt\",\n",
    "    \"YrSold\",\n",
    "    \"YearRemodAdd\",\n",
    "]\n"
   ]
  },
  {
   "cell_type": "markdown",
   "id": "67e79d4c",
   "metadata": {},
   "source": [
    "## Filling nulls"
   ]
  },
  {
   "cell_type": "code",
   "execution_count": 186,
   "id": "07ba27b6",
   "metadata": {
    "tags": []
   },
   "outputs": [
    {
     "data": {
      "image/png": "[encoded data removed]",
      "text/plain": [
       "<Figure size 800x600 with 1 Axes>"
      ]
     },
     "metadata": {},
     "output_type": "display_data"
    }
   ],
   "source": [
    "train_na_df = (\n",
    "    train_df.isnull()\n",
    "    .sum()\n",
    "    .where(lambda x: x > 0)\n",
    "    .dropna()\n",
    "    .sort_values(ascending=False)\n",
    "    .reset_index()\n",
    ")\n",
    "train_na_df.columns = [\"col_name\", \"value\"]\n",
    "train_na_df[\"pct\"] = train_na_df.value * 100 / len(train_df)\n",
    "\n",
    "plt.figure(figsize=(8, 6))\n",
    "plt.barh(y=train_na_df.col_name, width=train_na_df.pct)\n",
    "for ix, row in train_na_df.iterrows():\n",
    "    plt.text(row[\"pct\"], ix - 0.3, f'{row[\"pct\"]:.2f}')\n",
    "\n",
    "plt.title(\"Null value % in each feature\")\n",
    "plt.grid(False)\n",
    "plt.margins(x=0.15)\n",
    "plt.tight_layout()\n",
    "plt.show()"
   ]
  },
  {
   "cell_type": "code",
   "execution_count": 187,
   "id": "911780d4",
   "metadata": {
    "tags": []
   },
   "outputs": [
    {
     "name": "stdout",
     "output_type": "stream",
     "text": [
      "['PoolQC', 'MiscFeature', 'Alley', 'Fence', 'FireplaceQu']\n"
     ]
    },
    {
     "data": {
      "text/plain": [
       "((1460, 78), (1459, 75))"
      ]
     },
     "execution_count": 187,
     "metadata": {},
     "output_type": "execute_result"
    }
   ],
   "source": [
    "# remove features with null percentage > 40\n",
    "\n",
    "null_cols = train_na_df[train_na_df.pct > 40].col_name.tolist()\n",
    "print(null_cols)\n",
    "useful_cols = [col for col in useful_cols if col not in null_cols]\n",
    "\n",
    "ordinal_cols = list(set(ordinal_cols).intersection(useful_cols))\n",
    "cat_cols = list(set(cat_cols).intersection(useful_cols))\n",
    "num_cols = list(set(num_cols).intersection(useful_cols))\n",
    "year_cols = list(set(year_cols).intersection(useful_cols))\n",
    "\n",
    "try:\n",
    "    train_df.drop(null_cols, axis=1, inplace=True)\n",
    "    test_df.drop(null_cols, axis=1, inplace=True)\n",
    "except:\n",
    "    pass\n",
    "\n",
    "train_df.shape, test_df.shape"
   ]
  },
  {
   "cell_type": "markdown",
   "id": "8cf2e3ad",
   "metadata": {},
   "source": [
    "### Observations\n",
    "\n",
    "1. Null values in GarageType, GarageFinish, GarageYrBlt, GarageQual, GarageCond could be becuase of \"No Garage\" in the house. We can fill \"NA\" in those columns.\n",
    "2. Same with with basement columns; BsmtExposure, BsmtFinType1, BsmtFinType2, BsmtQual, BsmtCond"
   ]
  },
  {
   "cell_type": "code",
   "execution_count": 188,
   "id": "8003ec96",
   "metadata": {
    "tags": []
   },
   "outputs": [],
   "source": [
    "na_fill_values = {\n",
    "    \"PoolQC\": \"NA\",\n",
    "    \"MiscFeature\": \"NA\",\n",
    "    \"Alley\": \"NA\",\n",
    "    \"Fence\": \"NA\",\n",
    "    \"BsmtExposure\": \"NA\",\n",
    "    \"BsmtFinType2\": \"NA\",\n",
    "    \"BsmtFinType1\": \"NA\",\n",
    "    \"BsmtQual\": \"NA\",\n",
    "    \"BsmtCond\": \"NA\",\n",
    "    \"GarageType\": \"NA\",\n",
    "    \"GarageFinish\": \"NA\",\n",
    "    \"GarageQual\": \"NA\",\n",
    "    \"GarageCond\": \"NA\",\n",
    "    \"FireplaceQu\": \"NA\",\n",
    "}"
   ]
  },
  {
   "cell_type": "code",
   "execution_count": 189,
   "id": "a0498937",
   "metadata": {
    "tags": []
   },
   "outputs": [],
   "source": [
    "# fill na values\n",
    "\n",
    "train_df.fillna(value=na_fill_values, inplace=True)\n",
    "test_df.fillna(value=na_fill_values, inplace=True)"
   ]
  },
  {
   "cell_type": "markdown",
   "id": "11df5798",
   "metadata": {},
   "source": [
    "lets drop GarageYrBlt - why?\n",
    "1. It's a non-measurable column\n",
    "1. wherever it is null, it means garage is not present in the house\n",
    "\n",
    "So, let's create a new feature whether there is a garage in the house"
   ]
  },
  {
   "cell_type": "code",
   "execution_count": 190,
   "id": "018e3fd4",
   "metadata": {
    "tags": []
   },
   "outputs": [],
   "source": [
    "try:\n",
    "    train_df[\"GaragePresent\"] = ~train_df[\"GarageYrBlt\"].isnull()\n",
    "    test_df[\"GaragePresent\"] = ~test_df[\"GarageYrBlt\"].isnull()\n",
    "\n",
    "    train_df.drop(\"GarageYrBlt\", axis=1, inplace=True)\n",
    "    test_df.drop(\"GarageYrBlt\", axis=1, inplace=True)\n",
    "    year_cols.remove(\"GarageYrBlt\")\n",
    "except KeyError as e:\n",
    "    print(e)"
   ]
  },
  {
   "cell_type": "markdown",
   "id": "0ccfd3e2",
   "metadata": {
    "tags": []
   },
   "source": [
    "## Creating new features"
   ]
  },
  {
   "cell_type": "code",
   "execution_count": 191,
   "id": "73dd288a",
   "metadata": {
    "tags": []
   },
   "outputs": [],
   "source": [
    "def add_features_to_df(df):\n",
    "    df[\"SqFtPerRoom\"] = df[\"GrLivArea\"] / (df[\"TotRmsAbvGrd\"] +\n",
    "                                           df[\"FullBath\"] +\n",
    "                                           df[\"HalfBath\"] +\n",
    "                                           df[\"KitchenAbvGr\"])\n",
    "    df[\"TotalHomeQual\"] = df[\"OverallQual\"] + df[\"OverallCond\"]\n",
    "    df[\"TotalBathrooms\"] = df[\"FullBath\"] + 0.5 * df[\"HalfBath\"] + df[\"BsmtFullBath\"] + 0.5 * df[\"BsmtHalfBath\"]\n",
    "    df[\"HighQualSF\"] = df[\"1stFlrSF\"] + df[\"2ndFlrSF\"]\n",
    "    # YearRemodAdd - convert to bool value to represent whether house is renovated or not\n",
    "    df[\"IsRenovated\"] = ~(df[\"YearBuilt\"] == df[\"YearRemodAdd\"])\n",
    "    df[\"Age\"] = df[\"YrSold\"] - df[\"YearBuilt\"]\n",
    "    \n",
    "add_features_to_df(train_df)\n",
    "add_features_to_df(test_df)\n",
    "\n",
    "# add new columns to useful cols\n",
    "useful_cols += [\"SqFtPerRoom\", \"TotalHomeQual\", \"TotalBathrooms\", \"HighQualSF\"]\n",
    "num_cols += [\"SqFtPerRoom\", \"TotalHomeQual\", \"TotalBathrooms\", \"HighQualSF\", \"Age\"]\n",
    "cat_cols += [\"IsRenovated\"]\n",
    "\n",
    "cols_to_drop = [\"YearRemodAdd\"]\n",
    "try:\n",
    "    train_df.drop(cols_to_drop, axis=1, inplace=True)\n",
    "    test_df.drop(cols_to_drop, axis=1, inplace=True)\n",
    "except:\n",
    "    pass"
   ]
  },
  {
   "cell_type": "code",
   "execution_count": 192,
   "id": "307c0d85",
   "metadata": {
    "tags": []
   },
   "outputs": [],
   "source": [
    "# filling categorical and ordinal feature nulls\n",
    "\n",
    "simple_imputer = SimpleImputer(strategy=\"most_frequent\")\n",
    "train_df.loc[:, cat_cols + ordinal_cols] = simple_imputer.fit_transform(train_df[cat_cols + ordinal_cols])\n",
    "test_df.loc[:, cat_cols + ordinal_cols] = simple_imputer.transform(test_df[cat_cols + ordinal_cols])"
   ]
  },
  {
   "cell_type": "code",
   "execution_count": 193,
   "id": "c3d7bd48",
   "metadata": {
    "tags": []
   },
   "outputs": [],
   "source": [
    "# filling numerical nulls and scaling\n",
    "\n",
    "numeric_pipe = Pipeline([\n",
    "    (\"impute\", KNNImputer()),\n",
    "    (\"scale\", RobustScaler())\n",
    "])\n",
    "\n",
    "train_df.loc[:, num_cols] = numeric_pipe.fit_transform(train_df[num_cols])\n",
    "test_df.loc[:, num_cols] = numeric_pipe.transform(test_df[num_cols])"
   ]
  },
  {
   "cell_type": "code",
   "execution_count": 194,
   "id": "c2535eb7",
   "metadata": {
    "tags": []
   },
   "outputs": [
    {
     "data": {
      "text/plain": [
       "(0, 0)"
      ]
     },
     "execution_count": 194,
     "metadata": {},
     "output_type": "execute_result"
    }
   ],
   "source": [
    "train_df.isna().sum().sum(), test_df.isna().sum().sum()"
   ]
  },
  {
   "cell_type": "markdown",
   "id": "1429a1ef",
   "metadata": {},
   "source": [
    "## Ordinal category ordering\n",
    "* Ordinal columns have certain ordering to the values it has.<br>\n",
    "* For example, LotShape has four values which can be ordered mathematically Irregular(IR3) < Moderately Irregular(IR2) < Slightly Irregular(IR1) < Regular(Reg)<br>\n",
    "* We can pass the ordering while applying ordinal transformation"
   ]
  },
  {
   "cell_type": "code",
   "execution_count": 195,
   "id": "0aab87ca",
   "metadata": {
    "tags": []
   },
   "outputs": [],
   "source": [
    "ordinal_cols_order = {\n",
    "    \"MSSubClass\": [20, 30, 40, 45, 50, 60, 70, 75, 80, 85, 90, 120, 150, 160, 180, 190],\n",
    "    \"LotShape\": [\"Reg\", \"IR1\", \"IR2\", \"IR3\"],\n",
    "    \"LandSlope\": [\"Gtl\", \"Mod\", \"Sev\"],\n",
    "    \"ExterQual\": [\"Ex\", \"Gd\", \"TA\", \"Fa\", \"Po\"],\n",
    "    \"ExterCond\": [\"Ex\", \"Gd\", \"TA\", \"Fa\", \"Po\"],\n",
    "    \"HeatingQC\": [\"Ex\", \"Gd\", \"TA\", \"Fa\", \"Po\"],\n",
    "    \"KitchenQual\": [\"Ex\", \"Gd\", \"TA\", \"Fa\", \"Po\"],\n",
    "    \"Functional\": [\"Typ\", \"Min1\", \"Min2\", \"Maj1\", \"Maj2\", \"Sev\", \"Sal\"],\n",
    "    # \"FireplaceQu\": [\"Ex\", \"Gd\", \"TA\", \"Fa\", \"Po\", \"NA\"],\n",
    "    \"GarageFinish\": [\"Fin\", \"RFn\", \"Unf\", \"NA\"],\n",
    "    \"GarageCond\": [\"Ex\", \"Gd\", \"TA\", \"Fa\", \"Po\", \"NA\"],\n",
    "    \"GarageQual\": [\"Ex\", \"Gd\", \"TA\", \"Fa\", \"Po\", \"NA\"],\n",
    "    \"BsmtExposure\": [\"Gd\", \"Av\", \"Mn\", \"No\", \"NA\"],\n",
    "    \"BsmtFinType2\": [\"GLQ\", \"ALQ\", \"BLQ\", \"Rec\", \"LwQ\", \"Unf\", \"NA\"],\n",
    "    \"BsmtFinType1\": [\"GLQ\", \"ALQ\", \"BLQ\", \"Rec\", \"LwQ\", \"Unf\", \"NA\"],\n",
    "    \"BsmtCond\": [\"Ex\", \"Gd\", \"TA\", \"Fa\", \"Po\", \"NA\"],\n",
    "    \"BsmtQual\": [\"Ex\", \"Gd\", \"TA\", \"Fa\", \"Po\", \"NA\"],\n",
    "    # \"PoolQC\": [\"Ex\", \"Gd\", \"TA\", \"Fa\", \"NA\"],\n",
    "    # \"Fence\": [\"GdPrv\", \"MnPrv\", \"GdWo\", \"MnWw\", \"NA\"],\n",
    "}"
   ]
  },
  {
   "cell_type": "code",
   "execution_count": 196,
   "id": "86cec00e",
   "metadata": {
    "tags": []
   },
   "outputs": [],
   "source": [
    "class OrdinalTransformer(BaseEstimator, TransformerMixin):\n",
    "    def __init__(self):\n",
    "        self.ord_encoders = dict()\n",
    "\n",
    "    def fit(self, X, y=None):\n",
    "        for col in X.columns:\n",
    "            categories_order = ordinal_cols_order.get(col, None)\n",
    "            categories_order = (\n",
    "                \"auto\" if categories_order is None else [categories_order]\n",
    "            )\n",
    "            encoder = OrdinalEncoder(\n",
    "                categories=categories_order,\n",
    "                handle_unknown=\"use_encoded_value\",\n",
    "                unknown_value=-1,\n",
    "            )\n",
    "            encoder.fit(X[[col]])\n",
    "            self.ord_encoders[col] = encoder\n",
    "        return self\n",
    "\n",
    "    def transform(self, X, y=None):\n",
    "        for col in X.columns:\n",
    "            encoder = self.ord_encoders[col]\n",
    "            X.loc[:, col] = encoder.transform(X[[col]])\n",
    "        return X"
   ]
  },
  {
   "cell_type": "code",
   "execution_count": 197,
   "id": "1fee5e4e",
   "metadata": {
    "tags": []
   },
   "outputs": [],
   "source": [
    "# transform the train and test ordinal columns\n",
    "ot = OrdinalTransformer()\n",
    "train_df.loc[:, ordinal_cols] = ot.fit_transform(train_df[ordinal_cols])\n",
    "test_df.loc[:, ordinal_cols] = ot.transform(test_df[ordinal_cols])"
   ]
  },
  {
   "cell_type": "code",
   "execution_count": 198,
   "id": "7e945a10-5efd-46c3-9e54-de3803e7e7e3",
   "metadata": {},
   "outputs": [],
   "source": [
    "train_df.to_csv(result_path / \"train_v1_wo_ohe.csv\", index=False)\n",
    "test_df.to_csv(result_path / \"test_v1_wo_ohe.csv\", index=False)"
   ]
  },
  {
   "cell_type": "markdown",
   "id": "54200024",
   "metadata": {
    "execution": {
     "iopub.status.busy": "2022-09-23T05:56:22.657655Z",
     "iopub.status.idle": "2022-09-23T05:56:22.658067Z",
     "shell.execute_reply": "2022-09-23T05:56:22.657881Z",
     "shell.execute_reply.started": "2022-09-23T05:56:22.657863Z"
    }
   },
   "source": [
    "## Onehot encoding of categorical columns"
   ]
  },
  {
   "cell_type": "code",
   "execution_count": 216,
   "id": "d2448855-1b14-41f4-b4c9-7d93ce2b3453",
   "metadata": {},
   "outputs": [],
   "source": [
    "from sklearn.preprocessing import LabelEncoder"
   ]
  },
  {
   "cell_type": "code",
   "execution_count": 217,
   "id": "6a3a26fd",
   "metadata": {
    "tags": []
   },
   "outputs": [
    {
     "data": {
      "text/plain": [
       "((1460, 83), (1459, 80))"
      ]
     },
     "execution_count": 217,
     "metadata": {},
     "output_type": "execute_result"
    }
   ],
   "source": [
    "encoding = \"Label\"  # OneHot\n",
    "\n",
    "if encoding == \"OneHot\":\n",
    "    ohe = OneHotEncoder(drop=\"if_binary\", sparse=False, handle_unknown=\"ignore\")\n",
    "    train_df_encoded = pd.DataFrame(ohe.fit_transform(train_df[cat_cols]), columns=ohe.get_feature_names_out())\n",
    "    test_df_encoded = pd.DataFrame(ohe.transform(test_df[cat_cols]), columns=ohe.get_feature_names_out())\n",
    "    \n",
    "    # drop orginal cat cols\n",
    "    try:\n",
    "        train_df.drop(cat_cols, axis=1, inplace=True)\n",
    "        test_df.drop(cat_cols, axis=1, inplace=True)\n",
    "    except:\n",
    "        pass\n",
    "\n",
    "    # concatenate with one hot encoded dataframe\n",
    "    train_df = pd.concat([train_df, train_df_encoded], axis=1)\n",
    "    test_df = pd.concat([test_df, test_df_encoded], axis=1)\n",
    "else:\n",
    "    label_encoders = {}\n",
    "    for col in cat_cols:\n",
    "        label_encoders[col] = LabelEncoder()\n",
    "        train_df.loc[:, col] = train_df[[col]].apply(lambda x: label_encoders[col].fit_transform(train_df.loc[:, col]))\n",
    "        test_df.loc[:, col] = test_df[[col]].apply(lambda x: label_encoders[col].transform(test_df.loc[:, col]))\n",
    "\n",
    "train_df.shape, test_df.shape"
   ]
  },
  {
   "cell_type": "code",
   "execution_count": 218,
   "id": "b967f5c6",
   "metadata": {
    "tags": []
   },
   "outputs": [],
   "source": [
    "train_df.to_csv(result_path / \"train_v2_le.csv\", index=False)\n",
    "test_df.to_csv(result_path / \"test_v2_le.csv\", index=False)"
   ]
  },
  {
   "cell_type": "markdown",
   "id": "aef6d5ad",
   "metadata": {},
   "source": [
    "# Model building"
   ]
  },
  {
   "cell_type": "code",
   "execution_count": 219,
   "id": "a3b9da15",
   "metadata": {
    "tags": []
   },
   "outputs": [],
   "source": [
    "from xgboost import XGBRegressor, DMatrix\n",
    "from sklearn.model_selection import train_test_split"
   ]
  },
  {
   "cell_type": "code",
   "execution_count": 220,
   "id": "b76735d3-97dd-46cc-b17d-8973ca996e4a",
   "metadata": {},
   "outputs": [
    {
     "name": "stdout",
     "output_type": "stream",
     "text": [
      "79\n"
     ]
    }
   ],
   "source": [
    "useful_cols = [col for col in train_df.columns if col not in [\"Id\", \"SalePrice\", \"log_SalePrice\", \"fold_no\"]]\n",
    "print(len(useful_cols))"
   ]
  },
  {
   "cell_type": "code",
   "execution_count": 222,
   "id": "d15fad11",
   "metadata": {
    "tags": []
   },
   "outputs": [
    {
     "name": "stdout",
     "output_type": "stream",
     "text": [
      "(1168, 83) (292, 83)\n",
      "rmse score: 0.17804317343952392\n"
     ]
    }
   ],
   "source": [
    "X_train, X_test = train_test_split(train_df, shuffle=True, random_state=13, test_size=0.2)\n",
    "print(X_train.shape, X_test.shape)\n",
    "\n",
    "model = XGBRegressor(random_state=13)\n",
    "# model = CatBoostRegressor(random_state=random_seed)\n",
    "model.fit(X_train.loc[:, useful_cols], X_train.log_SalePrice, eval_set=[(X_test.loc[:, useful_cols], X_test.log_SalePrice)], verbose=0)\n",
    "\n",
    "preds = model.predict(X_test[useful_cols])\n",
    "preds = [np.expm1(x) for x in preds]\n",
    "\n",
    "print(f\"rmse score: {mean_squared_log_error(X_test.SalePrice, preds, squared=False)}\")"
   ]
  },
  {
   "cell_type": "code",
   "execution_count": 223,
   "id": "521f3eaa",
   "metadata": {
    "tags": []
   },
   "outputs": [],
   "source": [
    "test_preds = [np.expm1(_) for _ in model.predict(test_df[useful_cols])]\n",
    "sample_subm_df[\"SalePrice\"] = test_preds\n",
    "sample_subm_df.to_csv(result_path/\"xgb_baseline.csv\", index=False)"
   ]
  },
  {
   "cell_type": "code",
   "execution_count": 224,
   "id": "62075bb9",
   "metadata": {
    "tags": []
   },
   "outputs": [
    {
     "data": {
      "image/png": "[encoded data removed]",
      "text/plain": [
       "<Figure size 800x400 with 1 Axes>"
      ]
     },
     "metadata": {},
     "output_type": "display_data"
    }
   ],
   "source": [
    "feature_df = pd.DataFrame.from_dict({\"feature\": model.feature_names_in_, \"importance\": model.feature_importances_}).sort_values(by=\"importance\", ascending=False)\n",
    "feature_df[:10].plot(kind=\"barh\", y=\"importance\", x=\"feature\", figsize=(8, 4), legend=False)\n",
    "plt.show()"
   ]
  },
  {
   "cell_type": "markdown",
   "id": "70f6b176",
   "metadata": {},
   "source": [
    "# Hyper-parameter tuning"
   ]
  },
  {
   "cell_type": "code",
   "execution_count": 225,
   "id": "3570cc2c",
   "metadata": {
    "tags": []
   },
   "outputs": [],
   "source": [
    "def objective(trial):\n",
    "    params = {\n",
    "        \"tree_method\": trial.suggest_categorical(\"tree_method\", [\"gpu_hist\"]),\n",
    "        \"lambda\": trial.suggest_loguniform(\"lambda\", 1e-3, 10),\n",
    "        \"alpha\": trial.suggest_loguniform(\"alpha\", 1e-3, 10),\n",
    "        \"colsample_bytree\": trial.suggest_uniform(\"colsample_bytree\", 0.3, 1.),\n",
    "        \"subsample\": trial.suggest_uniform(\"subsample\", 0.4, 1.0),\n",
    "        \"learning_rate\": trial.suggest_loguniform(\"learning_rate\", 0.001, 0.1),\n",
    "        \"max_depth\": trial.suggest_categorical(\"max_depth\", np.arange(3, 21, 2)),\n",
    "        \"min_child_weight\": trial.suggest_int(\"min_child_weight\", 1, 300),\n",
    "    }\n",
    "    \n",
    "    fold_scores = []\n",
    "    \n",
    "    for fold in range(N_SPLITS):\n",
    "        xtrain = train_df.loc[train_df.fold_no != fold, :]\n",
    "        xvalid = train_df.loc[train_df.fold_no == fold, :]\n",
    "        ytrain = xtrain.log_SalePrice\n",
    "        yvalid = xvalid.log_SalePrice\n",
    "        yvalid_original = xvalid.SalePrice\n",
    "        \n",
    "        xtrain = xtrain[useful_cols]\n",
    "        xvalid = xvalid[useful_cols]\n",
    "        \n",
    "        booster = XGBRegressor(**params, n_estimators=1000, random_state=random_seed)\n",
    "        booster.fit(xtrain, ytrain, eval_set=[(xvalid, yvalid)], verbose=0)\n",
    "        \n",
    "        valid_preds = booster.predict(xvalid)\n",
    "        valid_preds = [np.expm1(_) for _ in valid_preds]\n",
    "        # print(f\"fold: {fold}, rmse: {mean_squared_log_error(yvalid, valid_preds, squared=False)}\")\n",
    "        fold_scores.append(mean_squared_log_error(yvalid_original, valid_preds, squared=False))\n",
    "    mean_fold_score = np.mean(fold_scores)\n",
    "    return mean_fold_score   "
   ]
  },
  {
   "cell_type": "code",
   "execution_count": 226,
   "id": "41b7fd78",
   "metadata": {
    "collapsed": true,
    "jupyter": {
     "outputs_hidden": true
    },
    "tags": []
   },
   "outputs": [
    {
     "name": "stderr",
     "output_type": "stream",
     "text": [
      "\u001b[32m[I 2022-09-24 19:02:53,051]\u001b[0m A new study created in memory with name: no-name-95902001-1f45-4ce2-94f5-8c7ae616ecf7\u001b[0m\n",
      "\u001b[32m[I 2022-09-24 19:02:58,963]\u001b[0m Trial 0 finished with value: 0.20233431507900582 and parameters: {'tree_method': 'gpu_hist', 'lambda': 0.36564043708099936, 'alpha': 4.24572595128603, 'colsample_bytree': 0.8163896785677012, 'subsample': 0.767197445838842, 'learning_rate': 0.005103302836508774, 'max_depth': 15, 'min_child_weight': 181}. Best is trial 0 with value: 0.20233431507900582.\u001b[0m\n",
      "\u001b[32m[I 2022-09-24 19:03:09,800]\u001b[0m Trial 1 finished with value: 0.12987450286615607 and parameters: {'tree_method': 'gpu_hist', 'lambda': 4.17446878142214, 'alpha': 0.01761854094898811, 'colsample_bytree': 0.6211970015531743, 'subsample': 0.46430909273387655, 'learning_rate': 0.008042410966073395, 'max_depth': 15, 'min_child_weight': 26}. Best is trial 1 with value: 0.12987450286615607.\u001b[0m\n",
      "\u001b[32m[I 2022-09-24 19:03:26,901]\u001b[0m Trial 2 finished with value: 0.24158107131553538 and parameters: {'tree_method': 'gpu_hist', 'lambda': 0.5108374068706498, 'alpha': 0.016157519447593745, 'colsample_bytree': 0.3441676542290689, 'subsample': 0.9277737506192354, 'learning_rate': 0.004092716066260953, 'max_depth': 19, 'min_child_weight': 53}. Best is trial 1 with value: 0.12987450286615607.\u001b[0m\n",
      "\u001b[32m[I 2022-09-24 19:03:32,028]\u001b[0m Trial 3 finished with value: 0.5461043351976408 and parameters: {'tree_method': 'gpu_hist', 'lambda': 0.04427169094908369, 'alpha': 0.024857810312891575, 'colsample_bytree': 0.3404112612400578, 'subsample': 0.5351641611109591, 'learning_rate': 0.003122169382624737, 'max_depth': 7, 'min_child_weight': 192}. Best is trial 1 with value: 0.12987450286615607.\u001b[0m\n",
      "\u001b[32m[I 2022-09-24 19:03:38,220]\u001b[0m Trial 4 finished with value: 2.5207733414109477 and parameters: {'tree_method': 'gpu_hist', 'lambda': 0.5653613450587567, 'alpha': 0.00837928389900357, 'colsample_bytree': 0.9686735863505169, 'subsample': 0.7440986531124871, 'learning_rate': 0.0015259923484713628, 'max_depth': 15, 'min_child_weight': 208}. Best is trial 1 with value: 0.12987450286615607.\u001b[0m\n",
      "\u001b[32m[I 2022-09-24 19:03:45,992]\u001b[0m Trial 5 finished with value: 0.1386972543144549 and parameters: {'tree_method': 'gpu_hist', 'lambda': 0.08897721428839685, 'alpha': 0.5210038420102239, 'colsample_bytree': 0.713377349331335, 'subsample': 0.5273725827211289, 'learning_rate': 0.025650900801477635, 'max_depth': 9, 'min_child_weight': 75}. Best is trial 1 with value: 0.12987450286615607.\u001b[0m\n",
      "\u001b[32m[I 2022-09-24 19:03:51,827]\u001b[0m Trial 6 finished with value: 3.1132888850487292 and parameters: {'tree_method': 'gpu_hist', 'lambda': 0.2299097926164489, 'alpha': 0.07935194015823369, 'colsample_bytree': 0.30192140988122584, 'subsample': 0.7395676986057563, 'learning_rate': 0.0013124616633428928, 'max_depth': 15, 'min_child_weight': 294}. Best is trial 1 with value: 0.12987450286615607.\u001b[0m\n",
      "\u001b[32m[I 2022-09-24 19:03:57,224]\u001b[0m Trial 7 finished with value: 0.17191349445996007 and parameters: {'tree_method': 'gpu_hist', 'lambda': 0.4959681360331624, 'alpha': 0.00646132272619043, 'colsample_bytree': 0.6398438114287992, 'subsample': 0.7035712513029762, 'learning_rate': 0.03657088404744684, 'max_depth': 3, 'min_child_weight': 219}. Best is trial 1 with value: 0.12987450286615607.\u001b[0m\n",
      "\u001b[32m[I 2022-09-24 19:04:01,940]\u001b[0m Trial 8 finished with value: 2.545065939627708 and parameters: {'tree_method': 'gpu_hist', 'lambda': 0.0036981583807307174, 'alpha': 2.7332738933071496, 'colsample_bytree': 0.35728179328881926, 'subsample': 0.4835098157141662, 'learning_rate': 0.001519585549149564, 'max_depth': 3, 'min_child_weight': 279}. Best is trial 1 with value: 0.12987450286615607.\u001b[0m\n",
      "\u001b[32m[I 2022-09-24 19:04:09,007]\u001b[0m Trial 9 finished with value: 3.755311085174338 and parameters: {'tree_method': 'gpu_hist', 'lambda': 0.9100531291153369, 'alpha': 0.01182010611681033, 'colsample_bytree': 0.8028290311828736, 'subsample': 0.654846703302222, 'learning_rate': 0.0011261898911390385, 'max_depth': 17, 'min_child_weight': 139}. Best is trial 1 with value: 0.12987450286615607.\u001b[0m\n",
      "\u001b[32m[I 2022-09-24 19:04:31,558]\u001b[0m Trial 10 finished with value: 0.1306517156787472 and parameters: {'tree_method': 'gpu_hist', 'lambda': 8.375531210476026, 'alpha': 0.0019425692978916062, 'colsample_bytree': 0.558804141426331, 'subsample': 0.42790947167414617, 'learning_rate': 0.09184763562075035, 'max_depth': 11, 'min_child_weight': 10}. Best is trial 1 with value: 0.12987450286615607.\u001b[0m\n",
      "\u001b[32m[I 2022-09-24 19:04:58,315]\u001b[0m Trial 11 finished with value: 0.13072864617644725 and parameters: {'tree_method': 'gpu_hist', 'lambda': 9.507741208385223, 'alpha': 0.0012523863344391943, 'colsample_bytree': 0.5401918103761791, 'subsample': 0.4205546649496921, 'learning_rate': 0.0848326958625384, 'max_depth': 11, 'min_child_weight': 7}. Best is trial 1 with value: 0.12987450286615607.\u001b[0m\n",
      "\u001b[32m[I 2022-09-24 19:05:25,454]\u001b[0m Trial 12 finished with value: 0.1240208116540092 and parameters: {'tree_method': 'gpu_hist', 'lambda': 9.389300430871108, 'alpha': 0.0012048267608698896, 'colsample_bytree': 0.5124265224039863, 'subsample': 0.5852208027212237, 'learning_rate': 0.01261821402911002, 'max_depth': 11, 'min_child_weight': 5}. Best is trial 12 with value: 0.1240208116540092.\u001b[0m\n",
      "\u001b[32m[I 2022-09-24 19:05:32,949]\u001b[0m Trial 13 finished with value: 0.14241010544765806 and parameters: {'tree_method': 'gpu_hist', 'lambda': 2.8762320623426594, 'alpha': 0.23713911917196848, 'colsample_bytree': 0.46909782764424146, 'subsample': 0.6061849832010766, 'learning_rate': 0.010726280113831674, 'max_depth': 13, 'min_child_weight': 76}. Best is trial 12 with value: 0.1240208116540092.\u001b[0m\n",
      "\u001b[32m[I 2022-09-24 19:05:39,272]\u001b[0m Trial 14 finished with value: 0.15476439486803234 and parameters: {'tree_method': 'gpu_hist', 'lambda': 2.8652103270308213, 'alpha': 0.002552774839187126, 'colsample_bytree': 0.4613576121229536, 'subsample': 0.5930750245665105, 'learning_rate': 0.010991190606711727, 'max_depth': 5, 'min_child_weight': 109}. Best is trial 12 with value: 0.1240208116540092.\u001b[0m\n",
      "\u001b[32m[I 2022-09-24 19:05:55,058]\u001b[0m Trial 15 finished with value: 0.1297134118065537 and parameters: {'tree_method': 'gpu_hist', 'lambda': 0.013221410564119343, 'alpha': 0.05775851337240994, 'colsample_bytree': 0.6640931151428006, 'subsample': 0.8555601973172589, 'learning_rate': 0.018685805776313274, 'max_depth': 11, 'min_child_weight': 38}. Best is trial 12 with value: 0.1240208116540092.\u001b[0m\n",
      "\u001b[32m[I 2022-09-24 19:06:09,794]\u001b[0m Trial 16 finished with value: 0.1318195834365106 and parameters: {'tree_method': 'gpu_hist', 'lambda': 0.010215066195388202, 'alpha': 0.058608379586599334, 'colsample_bytree': 0.7465917472889059, 'subsample': 0.9277604326606972, 'learning_rate': 0.0250169311975186, 'max_depth': 11, 'min_child_weight': 49}. Best is trial 12 with value: 0.1240208116540092.\u001b[0m\n",
      "\u001b[32m[I 2022-09-24 19:06:17,740]\u001b[0m Trial 17 finished with value: 0.1428528912096143 and parameters: {'tree_method': 'gpu_hist', 'lambda': 0.0010180828088071968, 'alpha': 0.9929205774426314, 'colsample_bytree': 0.8864664044797854, 'subsample': 0.8260775023191094, 'learning_rate': 0.01673642383582872, 'max_depth': 11, 'min_child_weight': 115}. Best is trial 12 with value: 0.1240208116540092.\u001b[0m\n",
      "\u001b[32m[I 2022-09-24 19:06:28,486]\u001b[0m Trial 18 finished with value: 0.13333281513078124 and parameters: {'tree_method': 'gpu_hist', 'lambda': 0.01885540459084491, 'alpha': 0.266092764519354, 'colsample_bytree': 0.459789163362433, 'subsample': 0.9955631869085174, 'learning_rate': 0.045808355350800335, 'max_depth': 11, 'min_child_weight': 85}. Best is trial 12 with value: 0.1240208116540092.\u001b[0m\n",
      "\u001b[32m[I 2022-09-24 19:06:34,687]\u001b[0m Trial 19 finished with value: 0.1447447197655596 and parameters: {'tree_method': 'gpu_hist', 'lambda': 0.005254285323524152, 'alpha': 8.127622005886662, 'colsample_bytree': 0.5731285067046719, 'subsample': 0.8331000441783338, 'learning_rate': 0.016227815954700943, 'max_depth': 5, 'min_child_weight': 39}. Best is trial 12 with value: 0.1240208116540092.\u001b[0m\n",
      "\u001b[32m[I 2022-09-24 19:07:49,309]\u001b[0m Trial 20 finished with value: 0.12682106517486397 and parameters: {'tree_method': 'gpu_hist', 'lambda': 0.03327686841599485, 'alpha': 0.003994747623477779, 'colsample_bytree': 0.7008627313894259, 'subsample': 0.8238671044688467, 'learning_rate': 0.007009348688100255, 'max_depth': 19, 'min_child_weight': 3}. Best is trial 12 with value: 0.1240208116540092.\u001b[0m\n",
      "\u001b[32m[I 2022-09-24 19:08:46,541]\u001b[0m Trial 21 finished with value: 0.12536520915751034 and parameters: {'tree_method': 'gpu_hist', 'lambda': 0.03931756870961965, 'alpha': 0.003880149016839598, 'colsample_bytree': 0.7046395703262933, 'subsample': 0.8246966899689043, 'learning_rate': 0.00798456713810615, 'max_depth': 19, 'min_child_weight': 6}. Best is trial 12 with value: 0.1240208116540092.\u001b[0m\n",
      "\u001b[32m[I 2022-09-24 19:09:43,210]\u001b[0m Trial 22 finished with value: 0.12680164185424617 and parameters: {'tree_method': 'gpu_hist', 'lambda': 0.044963499373216795, 'alpha': 0.0033319769927142784, 'colsample_bytree': 0.7130784897351382, 'subsample': 0.8002498049297518, 'learning_rate': 0.006333635341651419, 'max_depth': 19, 'min_child_weight': 5}. Best is trial 12 with value: 0.1240208116540092.\u001b[0m\n",
      "\u001b[32m[I 2022-09-24 19:09:58,684]\u001b[0m Trial 23 finished with value: 0.7389327447253604 and parameters: {'tree_method': 'gpu_hist', 'lambda': 0.12300389726978692, 'alpha': 0.0012292470542840913, 'colsample_bytree': 0.7823485864263927, 'subsample': 0.647592048114974, 'learning_rate': 0.002766980307721895, 'max_depth': 19, 'min_child_weight': 29}. Best is trial 12 with value: 0.1240208116540092.\u001b[0m\n",
      "\u001b[32m[I 2022-09-24 19:10:16,147]\u001b[0m Trial 24 finished with value: 0.13685738999493763 and parameters: {'tree_method': 'gpu_hist', 'lambda': 0.07208467675219886, 'alpha': 0.004183761954359521, 'colsample_bytree': 0.8851449736992933, 'subsample': 0.7777016971885459, 'learning_rate': 0.006014850406779348, 'max_depth': 19, 'min_child_weight': 63}. Best is trial 12 with value: 0.1240208116540092.\u001b[0m\n",
      "\u001b[32m[I 2022-09-24 19:10:31,380]\u001b[0m Trial 25 finished with value: 0.13928332186733844 and parameters: {'tree_method': 'gpu_hist', 'lambda': 1.3101920675513208, 'alpha': 0.003218709510161901, 'colsample_bytree': 0.49339616102368766, 'subsample': 0.8922075991667382, 'learning_rate': 0.011272414447419903, 'max_depth': 19, 'min_child_weight': 96}. Best is trial 12 with value: 0.1240208116540092.\u001b[0m\n",
      "\u001b[32m[I 2022-09-24 19:10:39,243]\u001b[0m Trial 26 finished with value: 1.4934317319639654 and parameters: {'tree_method': 'gpu_hist', 'lambda': 0.1927127049233565, 'alpha': 0.001027641020583884, 'colsample_bytree': 0.6279999724365034, 'subsample': 0.6892769631340193, 'learning_rate': 0.002052749647625877, 'max_depth': 17, 'min_child_weight': 147}. Best is trial 12 with value: 0.1240208116540092.\u001b[0m\n",
      "\u001b[32m[I 2022-09-24 19:10:53,474]\u001b[0m Trial 27 finished with value: 0.18067200983358894 and parameters: {'tree_method': 'gpu_hist', 'lambda': 0.03644307281756657, 'alpha': 0.026899822553737858, 'colsample_bytree': 0.4047419878250647, 'subsample': 0.792089042993657, 'learning_rate': 0.004507600801830753, 'max_depth': 13, 'min_child_weight': 15}. Best is trial 12 with value: 0.1240208116540092.\u001b[0m\n",
      "\u001b[32m[I 2022-09-24 19:11:21,066]\u001b[0m Trial 28 finished with value: 0.49244128118701935 and parameters: {'tree_method': 'gpu_hist', 'lambda': 0.005375763290830939, 'alpha': 0.006492654558938336, 'colsample_bytree': 0.8489419126366511, 'subsample': 0.5803693273745427, 'learning_rate': 0.003183342326887563, 'max_depth': 9, 'min_child_weight': 3}. Best is trial 12 with value: 0.1240208116540092.\u001b[0m\n",
      "\u001b[32m[I 2022-09-24 19:11:26,932]\u001b[0m Trial 29 finished with value: 0.17223402790675446 and parameters: {'tree_method': 'gpu_hist', 'lambda': 0.2160377367967822, 'alpha': 0.002166688102881976, 'colsample_bytree': 0.6951209606451368, 'subsample': 0.8873162575695513, 'learning_rate': 0.008336313714269187, 'max_depth': 7, 'min_child_weight': 238}. Best is trial 12 with value: 0.1240208116540092.\u001b[0m\n",
      "\u001b[32m[I 2022-09-24 19:11:41,519]\u001b[0m Trial 30 finished with value: 0.17731988214992359 and parameters: {'tree_method': 'gpu_hist', 'lambda': 0.0017628885078023904, 'alpha': 0.03499536937249277, 'colsample_bytree': 0.5298491589151841, 'subsample': 0.9975839958664362, 'learning_rate': 0.005063286946715324, 'max_depth': 19, 'min_child_weight': 162}. Best is trial 12 with value: 0.1240208116540092.\u001b[0m\n",
      "\u001b[32m[I 2022-09-24 19:12:55,543]\u001b[0m Trial 31 finished with value: 0.1266913813847745 and parameters: {'tree_method': 'gpu_hist', 'lambda': 0.03130066860080728, 'alpha': 0.004181213893062647, 'colsample_bytree': 0.7318604295966089, 'subsample': 0.818037251475663, 'learning_rate': 0.0070163247218337065, 'max_depth': 19, 'min_child_weight': 3}. Best is trial 12 with value: 0.1240208116540092.\u001b[0m\n"
     ]
    }
   ],
   "source": [
    "study = optuna.create_study(direction=\"minimize\")\n",
    "study.optimize(objective, n_trials=50, timeout=600)"
   ]
  },
  {
   "cell_type": "code",
   "execution_count": 227,
   "id": "872380cc-7ba8-4606-90b5-b4e608227fe6",
   "metadata": {},
   "outputs": [
    {
     "name": "stdout",
     "output_type": "stream",
     "text": [
      "{'tree_method': 'gpu_hist', 'lambda': 9.389300430871108, 'alpha': 0.0012048267608698896, 'colsample_bytree': 0.5124265224039863, 'subsample': 0.5852208027212237, 'learning_rate': 0.01261821402911002, 'max_depth': 11, 'min_child_weight': 5}\n"
     ]
    }
   ],
   "source": [
    "print(study.best_params)"
   ]
  },
  {
   "cell_type": "code",
   "execution_count": 228,
   "id": "b297eb4b-d0b0-4eee-b387-6c79477087eb",
   "metadata": {},
   "outputs": [],
   "source": [
    "best_params = {\n",
    "    'tree_method': 'gpu_hist', \n",
    "    'lambda': 0.4299117446427323, \n",
    "    'alpha': 0.0010395037326707312, \n",
    "    'colsample_bytree': 0.48727717279413846, \n",
    "    'subsample': 0.7591218807139135, \n",
    "    'learning_rate': 0.012206670519716328, \n",
    "    'max_depth': 7, \n",
    "    'min_child_weight': 3\n",
    "}\n",
    "\n",
    "best_params2 = {\n",
    "    'tree_method': 'gpu_hist', \n",
    "    'lambda': 9.389300430871108, \n",
    "    'alpha': 0.0012048267608698896, \n",
    "    'colsample_bytree': 0.5124265224039863, \n",
    "    'subsample': 0.5852208027212237, \n",
    "    'learning_rate': 0.01261821402911002, \n",
    "    'max_depth': 11, \n",
    "    'min_child_weight': 5}"
   ]
  },
  {
   "cell_type": "code",
   "execution_count": 229,
   "id": "bc9935c2-28b6-417c-82c7-432a9f9aae64",
   "metadata": {
    "tags": []
   },
   "outputs": [],
   "source": [
    "model = XGBRegressor(**best_params2, n_estimators=1000, random_state=random_seed)\n",
    "model.fit(train_df[useful_cols], train_df.log_SalePrice, verbose=0)\n",
    "\n",
    "preds = model.predict(test_df[useful_cols])\n",
    "preds = [np.expm1(_) for _ in preds]\n",
    "\n",
    "sample_subm_df[\"SalePrice\"] = preds\n",
    "sample_subm_df.to_csv(\"xgb_tuned.csv\", index=False)"
   ]
  },
  {
   "cell_type": "markdown",
   "id": "884c0ffc",
   "metadata": {
    "tags": []
   },
   "source": [
    "**Score: 0.12202** after this sumission at the public leaderboard. In top 9%<br>"
   ]
  },
  {
   "cell_type": "code",
   "execution_count": 230,
   "id": "9aa710b6-fea2-4a4c-a62a-402200ff7c26",
   "metadata": {},
   "outputs": [],
   "source": [
    "import joblib"
   ]
  },
  {
   "cell_type": "code",
   "execution_count": 232,
   "id": "94e42991-3a0d-4cb9-ba8e-72a1fb55bbab",
   "metadata": {},
   "outputs": [],
   "source": [
    "joblib.dump(model, open(result_path / \"xgb_model_baseline.gz\", \"wb\"))"
   ]
  },
  {
   "cell_type": "markdown",
   "id": "ad02f64a-ee81-47af-adfc-2d78365c0d20",
   "metadata": {},
   "source": [
    "# Shap interpretation"
   ]
  },
  {
   "cell_type": "code",
   "execution_count": 241,
   "id": "efa38264-4c9c-4b7a-822f-7c75f2f802bc",
   "metadata": {},
   "outputs": [
    {
     "ename": "ImportError",
     "evalue": "Numba needs NumPy 1.21 or less",
     "output_type": "error",
     "traceback": [
      "\u001b[0;31m---------------------------------------------------------------------------\u001b[0m",
      "\u001b[0;31mImportError\u001b[0m                               Traceback (most recent call last)",
      "Cell \u001b[0;32mIn [241], line 1\u001b[0m\n\u001b[0;32m----> 1\u001b[0m \u001b[38;5;28;01mimport\u001b[39;00m \u001b[38;5;21;01mshap\u001b[39;00m\n",
      "File \u001b[0;32m~/.conda/envs/torch/lib/python3.10/site-packages/shap/__init__.py:12\u001b[0m\n\u001b[1;32m      9\u001b[0m \u001b[38;5;28;01mif\u001b[39;00m (sys\u001b[38;5;241m.\u001b[39mversion_info \u001b[38;5;241m<\u001b[39m (\u001b[38;5;241m3\u001b[39m, \u001b[38;5;241m0\u001b[39m)):\n\u001b[1;32m     10\u001b[0m     warnings\u001b[38;5;241m.\u001b[39mwarn(\u001b[38;5;124m\"\u001b[39m\u001b[38;5;124mAs of version 0.29.0 shap only supports Python 3 (not 2)!\u001b[39m\u001b[38;5;124m\"\u001b[39m)\n\u001b[0;32m---> 12\u001b[0m \u001b[38;5;28;01mfrom\u001b[39;00m \u001b[38;5;21;01m.\u001b[39;00m\u001b[38;5;21;01m_explanation\u001b[39;00m \u001b[38;5;28;01mimport\u001b[39;00m Explanation, Cohorts\n\u001b[1;32m     14\u001b[0m \u001b[38;5;66;03m# explainers\u001b[39;00m\n\u001b[1;32m     15\u001b[0m \u001b[38;5;28;01mfrom\u001b[39;00m \u001b[38;5;21;01m.\u001b[39;00m\u001b[38;5;21;01mexplainers\u001b[39;00m\u001b[38;5;21;01m.\u001b[39;00m\u001b[38;5;21;01m_explainer\u001b[39;00m \u001b[38;5;28;01mimport\u001b[39;00m Explainer\n",
      "File \u001b[0;32m~/.conda/envs/torch/lib/python3.10/site-packages/shap/_explanation.py:12\u001b[0m\n\u001b[1;32m     10\u001b[0m \u001b[38;5;28;01mfrom\u001b[39;00m \u001b[38;5;21;01mslicer\u001b[39;00m \u001b[38;5;28;01mimport\u001b[39;00m Slicer, Alias, Obj\n\u001b[1;32m     11\u001b[0m \u001b[38;5;66;03m# from ._order import Order\u001b[39;00m\n\u001b[0;32m---> 12\u001b[0m \u001b[38;5;28;01mfrom\u001b[39;00m \u001b[38;5;21;01m.\u001b[39;00m\u001b[38;5;21;01mutils\u001b[39;00m\u001b[38;5;21;01m.\u001b[39;00m\u001b[38;5;21;01m_general\u001b[39;00m \u001b[38;5;28;01mimport\u001b[39;00m OpChain\n\u001b[1;32m     14\u001b[0m \u001b[38;5;66;03m# slicer confuses pylint...\u001b[39;00m\n\u001b[1;32m     15\u001b[0m \u001b[38;5;66;03m# pylint: disable=no-member\u001b[39;00m\n\u001b[1;32m     18\u001b[0m op_chain_root \u001b[38;5;241m=\u001b[39m OpChain(\u001b[38;5;124m\"\u001b[39m\u001b[38;5;124mshap.Explanation\u001b[39m\u001b[38;5;124m\"\u001b[39m)\n",
      "File \u001b[0;32m~/.conda/envs/torch/lib/python3.10/site-packages/shap/utils/__init__.py:1\u001b[0m\n\u001b[0;32m----> 1\u001b[0m \u001b[38;5;28;01mfrom\u001b[39;00m \u001b[38;5;21;01m.\u001b[39;00m\u001b[38;5;21;01m_clustering\u001b[39;00m \u001b[38;5;28;01mimport\u001b[39;00m hclust_ordering, partition_tree, partition_tree_shuffle, delta_minimization_order, hclust\n\u001b[1;32m      2\u001b[0m \u001b[38;5;28;01mfrom\u001b[39;00m \u001b[38;5;21;01m.\u001b[39;00m\u001b[38;5;21;01m_general\u001b[39;00m \u001b[38;5;28;01mimport\u001b[39;00m approximate_interactions, potential_interactions, sample, safe_isinstance, assert_import, record_import_error\n\u001b[1;32m      3\u001b[0m \u001b[38;5;28;01mfrom\u001b[39;00m \u001b[38;5;21;01m.\u001b[39;00m\u001b[38;5;21;01m_general\u001b[39;00m \u001b[38;5;28;01mimport\u001b[39;00m shapley_coefficients, convert_name, format_value, ordinal_str, OpChain, suppress_stderr\n",
      "File \u001b[0;32m~/.conda/envs/torch/lib/python3.10/site-packages/shap/utils/_clustering.py:4\u001b[0m\n\u001b[1;32m      2\u001b[0m \u001b[38;5;28;01mimport\u001b[39;00m \u001b[38;5;21;01mscipy\u001b[39;00m \u001b[38;5;28;01mas\u001b[39;00m \u001b[38;5;21;01msp\u001b[39;00m\n\u001b[1;32m      3\u001b[0m \u001b[38;5;28;01mfrom\u001b[39;00m \u001b[38;5;21;01mscipy\u001b[39;00m\u001b[38;5;21;01m.\u001b[39;00m\u001b[38;5;21;01mspatial\u001b[39;00m\u001b[38;5;21;01m.\u001b[39;00m\u001b[38;5;21;01mdistance\u001b[39;00m \u001b[38;5;28;01mimport\u001b[39;00m pdist\n\u001b[0;32m----> 4\u001b[0m \u001b[38;5;28;01mfrom\u001b[39;00m \u001b[38;5;21;01mnumba\u001b[39;00m \u001b[38;5;28;01mimport\u001b[39;00m jit\n\u001b[1;32m      5\u001b[0m \u001b[38;5;28;01mimport\u001b[39;00m \u001b[38;5;21;01msklearn\u001b[39;00m\n\u001b[1;32m      6\u001b[0m \u001b[38;5;28;01mimport\u001b[39;00m \u001b[38;5;21;01mwarnings\u001b[39;00m\n",
      "File \u001b[0;32m~/.conda/envs/torch/lib/python3.10/site-packages/numba/__init__.py:200\u001b[0m\n\u001b[1;32m    197\u001b[0m     \u001b[38;5;28;01mreturn\u001b[39;00m \u001b[38;5;28;01mFalse\u001b[39;00m\n\u001b[1;32m    199\u001b[0m _ensure_llvm()\n\u001b[0;32m--> 200\u001b[0m \u001b[43m_ensure_critical_deps\u001b[49m\u001b[43m(\u001b[49m\u001b[43m)\u001b[49m\n\u001b[1;32m    202\u001b[0m \u001b[38;5;66;03m# we know llvmlite is working as the above tests passed, import it now as SVML\u001b[39;00m\n\u001b[1;32m    203\u001b[0m \u001b[38;5;66;03m# needs to mutate runtime options (sets the `-vector-library`).\u001b[39;00m\n\u001b[1;32m    204\u001b[0m \u001b[38;5;28;01mimport\u001b[39;00m \u001b[38;5;21;01mllvmlite\u001b[39;00m\n",
      "File \u001b[0;32m~/.conda/envs/torch/lib/python3.10/site-packages/numba/__init__.py:140\u001b[0m, in \u001b[0;36m_ensure_critical_deps\u001b[0;34m()\u001b[0m\n\u001b[1;32m    138\u001b[0m     \u001b[38;5;28;01mraise\u001b[39;00m \u001b[38;5;167;01mImportError\u001b[39;00m(\u001b[38;5;124m\"\u001b[39m\u001b[38;5;124mNumba needs NumPy 1.18 or greater\u001b[39m\u001b[38;5;124m\"\u001b[39m)\n\u001b[1;32m    139\u001b[0m \u001b[38;5;28;01melif\u001b[39;00m numpy_version \u001b[38;5;241m>\u001b[39m (\u001b[38;5;241m1\u001b[39m, \u001b[38;5;241m21\u001b[39m):\n\u001b[0;32m--> 140\u001b[0m     \u001b[38;5;28;01mraise\u001b[39;00m \u001b[38;5;167;01mImportError\u001b[39;00m(\u001b[38;5;124m\"\u001b[39m\u001b[38;5;124mNumba needs NumPy 1.21 or less\u001b[39m\u001b[38;5;124m\"\u001b[39m)\n\u001b[1;32m    142\u001b[0m \u001b[38;5;28;01mtry\u001b[39;00m:\n\u001b[1;32m    143\u001b[0m     \u001b[38;5;28;01mimport\u001b[39;00m \u001b[38;5;21;01mscipy\u001b[39;00m\n",
      "\u001b[0;31mImportError\u001b[0m: Numba needs NumPy 1.21 or less"
     ]
    }
   ],
   "source": [
    "import shap"
   ]
  },
  {
   "cell_type": "code",
   "execution_count": null,
   "id": "37b41b42-c916-4371-b0bd-34ca5ef84566",
   "metadata": {},
   "outputs": [],
   "source": [
    "explainer = shap.Explainer(model)"
   ]
  },
  {
   "cell_type": "code",
   "execution_count": null,
   "id": "6bd76ba6-ee58-4ebc-8d1b-4e5b0fee2e4c",
   "metadata": {},
   "outputs": [],
   "source": []
  }
 ],
 "metadata": {
  "kernelspec": {
   "display_name": "Python 3 (ipykernel)",
   "language": "python",
   "name": "python3"
  },
  "language_info": {
   "codemirror_mode": {
    "name": "ipython",
    "version": 3
   },
   "file_extension": ".py",
   "mimetype": "text/x-python",
   "name": "python",
   "nbconvert_exporter": "python",
   "pygments_lexer": "ipython3",
   "version": "3.10.4"
  },
  "vscode": {
   "interpreter": {
    "hash": "0230d8c58de4a83519dad700d573a709baa020ca76aac9fb80b365d3bd5f04b1"
   }
  }
 },
 "nbformat": 4,
 "nbformat_minor": 5
}
