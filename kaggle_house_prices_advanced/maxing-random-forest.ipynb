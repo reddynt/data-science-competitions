{
 "cells": [
  {
   "cell_type": "code",
   "execution_count": 153,
   "id": "32f077c3-e842-4ad7-bf47-d13460513912",
   "metadata": {
    "tags": []
   },
   "outputs": [
    {
     "data": {
      "text/html": [
       "<h1 style=\"text-align: center; font-size: 8rem\">Act-II</h1>\n",
       "<h2>Steps:</h2>\n",
       "<ol>\n",
       "    <li>Feature engineering</li>\n",
       "    <li>Hyperparameter tuning</li>\n",
       "    <li>Feature selection(feature importances, shap)</li>\n",
       "    <li>More hyperparameter tuning and building final model</li>\n",
       "    <li>submit & check the score</li>\n",
       "</ol>\n"
      ],
      "text/plain": [
       "<IPython.core.display.HTML object>"
      ]
     },
     "metadata": {},
     "output_type": "display_data"
    }
   ],
   "source": [
    "%%html\n",
    "<h1 style=\"text-align: center; font-size: 8rem\">Act-II</h1>\n",
    "<h2>Steps:</h2>\n",
    "<ol>\n",
    "    <li>Feature engineering</li>\n",
    "    <li>Hyperparameter tuning</li>\n",
    "    <li>Feature selection(feature importances, shap)</li>\n",
    "    <li>More hyperparameter tuning and building final model</li>\n",
    "    <li>submit & check the score</li>\n",
    "</ol>"
   ]
  },
  {
   "cell_type": "code",
   "execution_count": 154,
   "id": "adcdf53a-ce14-441e-a56b-8e095739f8fe",
   "metadata": {},
   "outputs": [
    {
     "name": "stdout",
     "output_type": "stream",
     "text": [
      "The autoreload extension is already loaded. To reload it, use:\n",
      "  %reload_ext autoreload\n"
     ]
    }
   ],
   "source": [
    "%load_ext autoreload\n",
    "%autoreload 2"
   ]
  },
  {
   "cell_type": "markdown",
   "id": "ab50553e",
   "metadata": {},
   "source": [
    "## Imports & Config"
   ]
  },
  {
   "cell_type": "code",
   "execution_count": 155,
   "id": "8a814ab3",
   "metadata": {},
   "outputs": [],
   "source": [
    "from utils import *"
   ]
  },
  {
   "cell_type": "code",
   "execution_count": 156,
   "id": "8c23394a",
   "metadata": {},
   "outputs": [
    {
     "name": "stdout",
     "output_type": "stream",
     "text": [
      "setting no. of rows displayed: 1000\n",
      "setting no. of columns displayed: 1000\n",
      "setting warnings to be ignored.\n",
      "\n",
      "\n",
      "['data_description.txt', 'train.csv', '.ipynb_checkpoints', 'test_ftrs_added.csv', 'train_with_folds.csv', 'test.csv', 'sample_submission.csv', 'test_with_folds.csv', 'train_ftrs_added.csv']\n"
     ]
    }
   ],
   "source": [
    "dataset_path, result_path = get_paths()\n",
    "config_output()\n",
    "list_files(dataset_path)"
   ]
  },
  {
   "cell_type": "code",
   "execution_count": 157,
   "id": "c5235e1b-5e90-457f-884e-3bd04aa39353",
   "metadata": {},
   "outputs": [
    {
     "name": "stdout",
     "output_type": "stream",
     "text": [
      "(1460, 82) (1459, 80)\n"
     ]
    }
   ],
   "source": [
    "train_df = pd.read_csv(dataset_path / \"train_with_folds.csv\")\n",
    "test_df = pd.read_csv(dataset_path / \"test_with_folds.csv\")\n",
    "sample_subm_df = pd.read_csv(dataset_path / \"sample_submission.csv\")\n",
    "\n",
    "print(train_df.shape, test_df.shape)"
   ]
  },
  {
   "cell_type": "markdown",
   "id": "c0b830b8-a078-4942-af83-e191dd93652e",
   "metadata": {},
   "source": [
    "## Feature engineering"
   ]
  },
  {
   "cell_type": "markdown",
   "id": "6e3ee0c3-ff7f-48c7-9a86-1f1f48f355ae",
   "metadata": {},
   "source": [
    "### Target skewness correction"
   ]
  },
  {
   "cell_type": "code",
   "execution_count": 158,
   "id": "4e25b9a9-75fe-4432-99de-c9f78367d148",
   "metadata": {},
   "outputs": [
    {
     "data": {
      "image/png": "[encoded data removed]",
      "text/plain": [
       "<Figure size 640x480 with 1 Axes>"
      ]
     },
     "metadata": {},
     "output_type": "display_data"
    }
   ],
   "source": [
    "train_df[\"log_SalePrice\"] = train_df.SalePrice.apply(np.log1p)\n",
    "train_df.log_SalePrice.hist(bins=30)\n",
    "plt.grid(False)\n",
    "plt.show()"
   ]
  },
  {
   "cell_type": "markdown",
   "id": "8759218d",
   "metadata": {},
   "source": [
    "### Identifying different type of columns"
   ]
  },
  {
   "cell_type": "code",
   "execution_count": 159,
   "id": "c7051794",
   "metadata": {},
   "outputs": [
    {
     "data": {
      "text/plain": [
       "79"
      ]
     },
     "execution_count": 159,
     "metadata": {},
     "output_type": "execute_result"
    }
   ],
   "source": [
    "useful_cols = [col for col in train_df.columns if col not in [\"SalePrice\", \"log_SalePrice\", \"Id\", \"fold\"]]\n",
    "len(useful_cols)"
   ]
  },
  {
   "cell_type": "code",
   "execution_count": 160,
   "id": "e2c64b84",
   "metadata": {},
   "outputs": [],
   "source": [
    "ordinal_cols = [\n",
    "    \"MSSubClass\",\n",
    "    \"LotShape\",\n",
    "    \"LandSlope\",\n",
    "    \"OverallQual\",\n",
    "    \"OverallCond\",\n",
    "    \"ExterQual\",\n",
    "    \"ExterCond\",\n",
    "    \"BsmtQual\",\n",
    "    \"BsmtCond\",\n",
    "    \"BsmtExposure\",\n",
    "    \"BsmtFinType1\",\n",
    "    \"BsmtFinType2\",\n",
    "    \"HeatingQC\",\n",
    "    \"KitchenQual\",\n",
    "    \"Functional\",\n",
    "    \"FireplaceQu\",\n",
    "    \"GarageQual\",\n",
    "    \"GarageFinish\",\n",
    "    \"GarageCond\",\n",
    "    \"PoolQC\",\n",
    "    \"Fence\",\n",
    "]\n",
    "\n",
    "num_cols = [\n",
    "    \"LotFrontage\",\n",
    "    \"LotArea\",\n",
    "    \"BsmtFinSF1\",\n",
    "    \"BsmtFinSF2\",\n",
    "    \"BsmtUnfSF\",\n",
    "    \"TotalBsmtSF\",\n",
    "    \"1stFlrSF\",\n",
    "    \"2ndFlrSF\",\n",
    "    \"LowQualFinSF\",\n",
    "    \"GrLivArea\",\n",
    "    # can they be ordinal columns\n",
    "    \"BsmtFullBath\",\n",
    "    \"BsmtHalfBath\",\n",
    "    \"FullBath\",\n",
    "    \"HalfBath\",\n",
    "    #\n",
    "    \"BedroomAbvGr\",\n",
    "    \"KitchenAbvGr\",\n",
    "    \"TotRmsAbvGrd\",\n",
    "    \"Fireplaces\",\n",
    "    \"GarageCars\",\n",
    "    \"GarageArea\",\n",
    "    \"WoodDeckSF\",\n",
    "    \"OpenPorchSF\",\n",
    "    \"EnclosedPorch\",\n",
    "    \"3SsnPorch\",\n",
    "    \"ScreenPorch\",\n",
    "    \"PoolArea\",\n",
    "    \"MiscVal\",\n",
    "    \"MasVnrArea\",\n",
    "]\n",
    "\n",
    "cat_cols = [\n",
    "    \"MSZoning\",\n",
    "    \"Street\",\n",
    "    \"Alley\",\n",
    "    \"LandContour\",  # can it be an ordinal variable\n",
    "    \"Utilities\",\n",
    "    \"LotConfig\",\n",
    "    \"Neighborhood\",\n",
    "    \"Condition1\",\n",
    "    \"Condition2\",\n",
    "    \"BldgType\",\n",
    "    \"HouseStyle\",\n",
    "    \"RoofStyle\",\n",
    "    \"RoofMatl\",\n",
    "    \"Exterior1st\",\n",
    "    \"Exterior2nd\",\n",
    "    \"MasVnrType\",\n",
    "    \"Foundation\",\n",
    "    \"Heating\",\n",
    "    \"CentralAir\",\n",
    "    \"Electrical\",\n",
    "    \"GarageType\",\n",
    "    \"PavedDrive\",\n",
    "    \"MiscFeature\",\n",
    "    \"MoSold\",\n",
    "    \"SaleType\",\n",
    "    \"SaleCondition\",\n",
    "]\n",
    "\n",
    "year_cols = [\n",
    "    \"GarageYrBlt\",\n",
    "    \"YearBuilt\",\n",
    "    \"YrSold\",\n",
    "    \"YearRemodAdd\",\n",
    "]\n"
   ]
  },
  {
   "cell_type": "markdown",
   "id": "894982cb",
   "metadata": {},
   "source": [
    "### Fill nulls"
   ]
  },
  {
   "cell_type": "code",
   "execution_count": 161,
   "id": "ae8e452f",
   "metadata": {},
   "outputs": [
    {
     "data": {
      "image/png": "[encoded data removed]",
      "text/plain": [
       "<Figure size 640x480 with 1 Axes>"
      ]
     },
     "metadata": {},
     "output_type": "display_data"
    }
   ],
   "source": [
    "train_na_df = (\n",
    "    train_df.isnull()\n",
    "    .sum()\n",
    "    .where(lambda x: x > 0)\n",
    "    .dropna()\n",
    "    .sort_values(ascending=False)\n",
    "    .reset_index()\n",
    ")\n",
    "train_na_df.columns = [\"col_name\", \"value\"]\n",
    "train_na_df[\"pct\"] = train_na_df.value * 100 / len(train_df)\n",
    "\n",
    "plt.barh(y=train_na_df.col_name, width=train_na_df.pct)\n",
    "for ix, row in train_na_df.iterrows():\n",
    "    plt.text(row[\"pct\"], ix - 0.3, f'{row[\"pct\"]:.2f}')\n",
    "\n",
    "plt.grid(False)\n",
    "plt.margins(x=0.15)\n",
    "plt.tight_layout()\n",
    "plt.show()"
   ]
  },
  {
   "cell_type": "code",
   "execution_count": 162,
   "id": "ade384f9-f678-4cbe-acb7-154df64bbf8d",
   "metadata": {},
   "outputs": [
    {
     "name": "stdout",
     "output_type": "stream",
     "text": [
      "['PoolQC', 'MiscFeature', 'Alley', 'Fence', 'FireplaceQu']\n"
     ]
    },
    {
     "data": {
      "text/plain": [
       "((1460, 78), (1459, 75))"
      ]
     },
     "execution_count": 162,
     "metadata": {},
     "output_type": "execute_result"
    }
   ],
   "source": [
    "# remove features with null percentage > 40\n",
    "\n",
    "null_cols = train_na_df[train_na_df.pct > 40].col_name.tolist()\n",
    "print(null_cols)\n",
    "useful_cols = [col for col in useful_cols if col not in null_cols]\n",
    "\n",
    "ordinal_cols = list(set(ordinal_cols).intersection(useful_cols))\n",
    "cat_cols = list(set(cat_cols).intersection(useful_cols))\n",
    "num_cols = list(set(num_cols).intersection(useful_cols))\n",
    "year_cols = list(set(year_cols).intersection(useful_cols))\n",
    "\n",
    "try:\n",
    "    train_df.drop(null_cols, axis=1, inplace=True)\n",
    "    test_df.drop(null_cols, axis=1, inplace=True)\n",
    "except:\n",
    "    pass\n",
    "\n",
    "train_df.shape, test_df.shape"
   ]
  },
  {
   "cell_type": "markdown",
   "id": "b677f3c4-7e1b-4066-b8e2-57fbc1acea39",
   "metadata": {},
   "source": [
    "> **Observations**\n",
    "\n",
    "1. PoolQC, MiscFeature, Alley, Fence - we can fill these values based on data_description given, assuming that null value mean pool/alley/fence not present in the given house.\n",
    "2. Null values in GarageType, GarageFinish, GarageYrBlt, GarageQual, GarageCond could be becuase of \"No Garage\" in the house. We can fill \"NA\" in those columns.\n",
    "3. Same with with basement columns; BsmtExposure, BsmtFinType1, BsmtFinType2, BsmtQual, BsmtCond"
   ]
  },
  {
   "cell_type": "code",
   "execution_count": 163,
   "id": "68ebd2ad-debf-438e-a2d4-bd9a3ec6e57b",
   "metadata": {},
   "outputs": [],
   "source": [
    "na_fill_values = {\n",
    "    \"PoolQC\": \"NA\",\n",
    "    \"MiscFeature\": \"NA\",\n",
    "    \"Alley\": \"NA\",\n",
    "    \"Fence\": \"NA\",\n",
    "    \"BsmtExposure\": \"NA\",\n",
    "    \"BsmtFinType2\": \"NA\",\n",
    "    \"BsmtFinType1\": \"NA\",\n",
    "    \"BsmtQual\": \"NA\",\n",
    "    \"BsmtCond\": \"NA\",\n",
    "    \"GarageType\": \"NA\",\n",
    "    \"GarageFinish\": \"NA\",\n",
    "    \"GarageQual\": \"NA\",\n",
    "    \"GarageCond\": \"NA\",\n",
    "    \"FireplaceQu\": \"NA\",\n",
    "}"
   ]
  },
  {
   "cell_type": "code",
   "execution_count": 164,
   "id": "279b6e3e-9e17-4c62-b229-ca4d2ad9d755",
   "metadata": {},
   "outputs": [
    {
     "data": {
      "text/plain": [
       "(2919, 74)"
      ]
     },
     "execution_count": 164,
     "metadata": {},
     "output_type": "execute_result"
    }
   ],
   "source": [
    "# merge train and test for filling null values\n",
    "train_test_df = pd.concat([train_df[useful_cols], test_df[useful_cols]])\n",
    "train_test_df.shape"
   ]
  },
  {
   "cell_type": "markdown",
   "id": "92a57529-0037-46bd-939b-7a5c3513cb5e",
   "metadata": {},
   "source": [
    "lets drop GarageYrBlt - why?\n",
    "1. It's a non-measurable column\n",
    "1. wherever it is null, it means garage is not present in the house\n",
    "\n",
    "So, let's create a new feature whether there is a garage in the house"
   ]
  },
  {
   "cell_type": "code",
   "execution_count": 165,
   "id": "753749fb-97d7-4417-b1e3-efefb0aeb11b",
   "metadata": {},
   "outputs": [],
   "source": [
    "train_test_df[\"GaragePresent\"] = ~train_test_df[\"GarageYrBlt\"].isnull()\n",
    "try:\n",
    "    train_test_df.drop(\"GarageYrBlt\", axis=1, inplace=True)\n",
    "    year_cols.remove(\"GarageYrBlt\")\n",
    "except:\n",
    "    pass"
   ]
  },
  {
   "cell_type": "code",
   "execution_count": 166,
   "id": "8da1a84f-08ab-4928-88d5-b810b23f385f",
   "metadata": {},
   "outputs": [],
   "source": [
    "# fill the nulls\n",
    "train_test_df.fillna(value=na_fill_values, inplace=True)"
   ]
  },
  {
   "cell_type": "code",
   "execution_count": 167,
   "id": "4565a7b0-f6dd-4069-b3a8-e0e4c09065be",
   "metadata": {
    "tags": []
   },
   "outputs": [],
   "source": [
    "for col, nulls in train_test_na_sum.items():\n",
    "    if col in cat_cols or col in ordinal_cols:\n",
    "        most_freq_val = train_test_df[col].mode().values[0]\n",
    "        train_test_df[col].fillna(most_freq_val, inplace=True)\n",
    "    elif col in num_cols:\n",
    "        knn = KNNImputer()\n",
    "        train_test_df.loc[:, num_cols] = knn.fit_transform(train_test_df[num_cols])"
   ]
  },
  {
   "cell_type": "markdown",
   "id": "c41cda3f-40d9-47e5-8535-6af4558b187f",
   "metadata": {
    "tags": []
   },
   "source": [
    "### Creating new features"
   ]
  },
  {
   "cell_type": "code",
   "execution_count": 174,
   "id": "9db4b2a8-9a7f-498e-8fb0-a73c2e244cb9",
   "metadata": {},
   "outputs": [],
   "source": [
    "def add_features_to_df(df):\n",
    "    df[\"SqFtPerRoom\"] = df[\"GrLivArea\"] / (df[\"TotRmsAbvGrd\"] +\n",
    "                                           df[\"FullBath\"] +\n",
    "                                           df[\"HalfBath\"] +\n",
    "                                           df[\"KitchenAbvGr\"])\n",
    "    df[\"TotalHomeQual\"] = df[\"OverallQual\"] + df[\"OverallCond\"]\n",
    "    df[\"TotalBathrooms\"] = df[\"FullBath\"] + 0.5 * df[\"HalfBath\"] + df[\"BsmtFullBath\"] + 0.5 * df[\"BsmtHalfBath\"]\n",
    "    df[\"HighQualSF\"] = df[\"1stFlrSF\"] + df[\"2ndFlrSF\"]\n",
    "    # YearRemodAdd - convert to bool value to represent whether house is renovated or not\n",
    "    df[\"IsRenovated\"] = ~(df[\"YearBuilt\"] == df[\"YearRemodAdd\"])\n",
    "    df[\"Age\"] = df[\"YrSold\"] - df[\"YearBuilt\"]\n",
    "    \n",
    "add_features_to_df(train_test_df)\n",
    "\n",
    "# add new columns to useful cols\n",
    "useful_cols += [\"SqFtPerRoom\", \"TotalHomeQual\", \"TotalBathrooms\", \"HighQualSF\"]\n",
    "num_cols += [\"SqFtPerRoom\", \"TotalHomeQual\", \"TotalBathrooms\", \"HighQualSF\", \"Age\"]\n",
    "cat_cols += [\"IsRenovated\"]\n",
    "\n",
    "cols_to_drop = [\"YearRemodAdd\"]\n",
    "try:\n",
    "    train_test_df.drop(cols_to_drop, axis=1, inplace=True)\n",
    "except:\n",
    "    pass"
   ]
  },
  {
   "cell_type": "code",
   "execution_count": 196,
   "id": "df53070b-32a8-469f-a756-b60e4eec6fb9",
   "metadata": {},
   "outputs": [
    {
     "ename": "KeyError",
     "evalue": "'Id'",
     "output_type": "error",
     "traceback": [
      "\u001b[0;31m---------------------------------------------------------------------------\u001b[0m",
      "\u001b[0;31mKeyError\u001b[0m                                  Traceback (most recent call last)",
      "Cell \u001b[0;32mIn [196], line 2\u001b[0m\n\u001b[1;32m      1\u001b[0m \u001b[38;5;66;03m# split train_test_df to train & test\u001b[39;00m\n\u001b[0;32m----> 2\u001b[0m \u001b[43mpd\u001b[49m\u001b[38;5;241;43m.\u001b[39;49m\u001b[43mmerge\u001b[49m\u001b[43m(\u001b[49m\u001b[43mtrain_df\u001b[49m\u001b[43m,\u001b[49m\u001b[43m \u001b[49m\u001b[43mtrain_test_df\u001b[49m\u001b[43m,\u001b[49m\u001b[43m \u001b[49m\u001b[43mhow\u001b[49m\u001b[38;5;241;43m=\u001b[39;49m\u001b[38;5;124;43m\"\u001b[39;49m\u001b[38;5;124;43minner\u001b[39;49m\u001b[38;5;124;43m\"\u001b[39;49m\u001b[43m,\u001b[49m\u001b[43m \u001b[49m\u001b[43mon\u001b[49m\u001b[38;5;241;43m=\u001b[39;49m\u001b[38;5;124;43m\"\u001b[39;49m\u001b[38;5;124;43mId\u001b[39;49m\u001b[38;5;124;43m\"\u001b[39;49m\u001b[43m)\u001b[49m\n",
      "File \u001b[0;32m~/.conda/envs/torch/lib/python3.10/site-packages/pandas/core/reshape/merge.py:107\u001b[0m, in \u001b[0;36mmerge\u001b[0;34m(left, right, how, on, left_on, right_on, left_index, right_index, sort, suffixes, copy, indicator, validate)\u001b[0m\n\u001b[1;32m     90\u001b[0m \u001b[38;5;129m@Substitution\u001b[39m(\u001b[38;5;124m\"\u001b[39m\u001b[38;5;130;01m\\n\u001b[39;00m\u001b[38;5;124mleft : DataFrame or named Series\u001b[39m\u001b[38;5;124m\"\u001b[39m)\n\u001b[1;32m     91\u001b[0m \u001b[38;5;129m@Appender\u001b[39m(_merge_doc, indents\u001b[38;5;241m=\u001b[39m\u001b[38;5;241m0\u001b[39m)\n\u001b[1;32m     92\u001b[0m \u001b[38;5;28;01mdef\u001b[39;00m \u001b[38;5;21mmerge\u001b[39m(\n\u001b[0;32m   (...)\u001b[0m\n\u001b[1;32m    105\u001b[0m     validate: \u001b[38;5;28mstr\u001b[39m \u001b[38;5;241m|\u001b[39m \u001b[38;5;28;01mNone\u001b[39;00m \u001b[38;5;241m=\u001b[39m \u001b[38;5;28;01mNone\u001b[39;00m,\n\u001b[1;32m    106\u001b[0m ) \u001b[38;5;241m-\u001b[39m\u001b[38;5;241m>\u001b[39m DataFrame:\n\u001b[0;32m--> 107\u001b[0m     op \u001b[38;5;241m=\u001b[39m \u001b[43m_MergeOperation\u001b[49m\u001b[43m(\u001b[49m\n\u001b[1;32m    108\u001b[0m \u001b[43m        \u001b[49m\u001b[43mleft\u001b[49m\u001b[43m,\u001b[49m\n\u001b[1;32m    109\u001b[0m \u001b[43m        \u001b[49m\u001b[43mright\u001b[49m\u001b[43m,\u001b[49m\n\u001b[1;32m    110\u001b[0m \u001b[43m        \u001b[49m\u001b[43mhow\u001b[49m\u001b[38;5;241;43m=\u001b[39;49m\u001b[43mhow\u001b[49m\u001b[43m,\u001b[49m\n\u001b[1;32m    111\u001b[0m \u001b[43m        \u001b[49m\u001b[43mon\u001b[49m\u001b[38;5;241;43m=\u001b[39;49m\u001b[43mon\u001b[49m\u001b[43m,\u001b[49m\n\u001b[1;32m    112\u001b[0m \u001b[43m        \u001b[49m\u001b[43mleft_on\u001b[49m\u001b[38;5;241;43m=\u001b[39;49m\u001b[43mleft_on\u001b[49m\u001b[43m,\u001b[49m\n\u001b[1;32m    113\u001b[0m \u001b[43m        \u001b[49m\u001b[43mright_on\u001b[49m\u001b[38;5;241;43m=\u001b[39;49m\u001b[43mright_on\u001b[49m\u001b[43m,\u001b[49m\n\u001b[1;32m    114\u001b[0m \u001b[43m        \u001b[49m\u001b[43mleft_index\u001b[49m\u001b[38;5;241;43m=\u001b[39;49m\u001b[43mleft_index\u001b[49m\u001b[43m,\u001b[49m\n\u001b[1;32m    115\u001b[0m \u001b[43m        \u001b[49m\u001b[43mright_index\u001b[49m\u001b[38;5;241;43m=\u001b[39;49m\u001b[43mright_index\u001b[49m\u001b[43m,\u001b[49m\n\u001b[1;32m    116\u001b[0m \u001b[43m        \u001b[49m\u001b[43msort\u001b[49m\u001b[38;5;241;43m=\u001b[39;49m\u001b[43msort\u001b[49m\u001b[43m,\u001b[49m\n\u001b[1;32m    117\u001b[0m \u001b[43m        \u001b[49m\u001b[43msuffixes\u001b[49m\u001b[38;5;241;43m=\u001b[39;49m\u001b[43msuffixes\u001b[49m\u001b[43m,\u001b[49m\n\u001b[1;32m    118\u001b[0m \u001b[43m        \u001b[49m\u001b[43mcopy\u001b[49m\u001b[38;5;241;43m=\u001b[39;49m\u001b[43mcopy\u001b[49m\u001b[43m,\u001b[49m\n\u001b[1;32m    119\u001b[0m \u001b[43m        \u001b[49m\u001b[43mindicator\u001b[49m\u001b[38;5;241;43m=\u001b[39;49m\u001b[43mindicator\u001b[49m\u001b[43m,\u001b[49m\n\u001b[1;32m    120\u001b[0m \u001b[43m        \u001b[49m\u001b[43mvalidate\u001b[49m\u001b[38;5;241;43m=\u001b[39;49m\u001b[43mvalidate\u001b[49m\u001b[43m,\u001b[49m\n\u001b[1;32m    121\u001b[0m \u001b[43m    \u001b[49m\u001b[43m)\u001b[49m\n\u001b[1;32m    122\u001b[0m     \u001b[38;5;28;01mreturn\u001b[39;00m op\u001b[38;5;241m.\u001b[39mget_result()\n",
      "File \u001b[0;32m~/.conda/envs/torch/lib/python3.10/site-packages/pandas/core/reshape/merge.py:700\u001b[0m, in \u001b[0;36m_MergeOperation.__init__\u001b[0;34m(self, left, right, how, on, left_on, right_on, axis, left_index, right_index, sort, suffixes, copy, indicator, validate)\u001b[0m\n\u001b[1;32m    693\u001b[0m \u001b[38;5;28mself\u001b[39m\u001b[38;5;241m.\u001b[39m_cross \u001b[38;5;241m=\u001b[39m cross_col\n\u001b[1;32m    695\u001b[0m \u001b[38;5;66;03m# note this function has side effects\u001b[39;00m\n\u001b[1;32m    696\u001b[0m (\n\u001b[1;32m    697\u001b[0m     \u001b[38;5;28mself\u001b[39m\u001b[38;5;241m.\u001b[39mleft_join_keys,\n\u001b[1;32m    698\u001b[0m     \u001b[38;5;28mself\u001b[39m\u001b[38;5;241m.\u001b[39mright_join_keys,\n\u001b[1;32m    699\u001b[0m     \u001b[38;5;28mself\u001b[39m\u001b[38;5;241m.\u001b[39mjoin_names,\n\u001b[0;32m--> 700\u001b[0m ) \u001b[38;5;241m=\u001b[39m \u001b[38;5;28;43mself\u001b[39;49m\u001b[38;5;241;43m.\u001b[39;49m\u001b[43m_get_merge_keys\u001b[49m\u001b[43m(\u001b[49m\u001b[43m)\u001b[49m\n\u001b[1;32m    702\u001b[0m \u001b[38;5;66;03m# validate the merge keys dtypes. We may need to coerce\u001b[39;00m\n\u001b[1;32m    703\u001b[0m \u001b[38;5;66;03m# to avoid incompatible dtypes\u001b[39;00m\n\u001b[1;32m    704\u001b[0m \u001b[38;5;28mself\u001b[39m\u001b[38;5;241m.\u001b[39m_maybe_coerce_merge_keys()\n",
      "File \u001b[0;32m~/.conda/envs/torch/lib/python3.10/site-packages/pandas/core/reshape/merge.py:1097\u001b[0m, in \u001b[0;36m_MergeOperation._get_merge_keys\u001b[0;34m(self)\u001b[0m\n\u001b[1;32m   1095\u001b[0m \u001b[38;5;28;01mif\u001b[39;00m \u001b[38;5;129;01mnot\u001b[39;00m is_rkey(rk):\n\u001b[1;32m   1096\u001b[0m     \u001b[38;5;28;01mif\u001b[39;00m rk \u001b[38;5;129;01mis\u001b[39;00m \u001b[38;5;129;01mnot\u001b[39;00m \u001b[38;5;28;01mNone\u001b[39;00m:\n\u001b[0;32m-> 1097\u001b[0m         right_keys\u001b[38;5;241m.\u001b[39mappend(\u001b[43mright\u001b[49m\u001b[38;5;241;43m.\u001b[39;49m\u001b[43m_get_label_or_level_values\u001b[49m\u001b[43m(\u001b[49m\u001b[43mrk\u001b[49m\u001b[43m)\u001b[49m)\n\u001b[1;32m   1098\u001b[0m     \u001b[38;5;28;01melse\u001b[39;00m:\n\u001b[1;32m   1099\u001b[0m         \u001b[38;5;66;03m# work-around for merge_asof(right_index=True)\u001b[39;00m\n\u001b[1;32m   1100\u001b[0m         right_keys\u001b[38;5;241m.\u001b[39mappend(right\u001b[38;5;241m.\u001b[39mindex)\n",
      "File \u001b[0;32m~/.conda/envs/torch/lib/python3.10/site-packages/pandas/core/generic.py:1840\u001b[0m, in \u001b[0;36mNDFrame._get_label_or_level_values\u001b[0;34m(self, key, axis)\u001b[0m\n\u001b[1;32m   1838\u001b[0m     values \u001b[38;5;241m=\u001b[39m \u001b[38;5;28mself\u001b[39m\u001b[38;5;241m.\u001b[39maxes[axis]\u001b[38;5;241m.\u001b[39mget_level_values(key)\u001b[38;5;241m.\u001b[39m_values\n\u001b[1;32m   1839\u001b[0m \u001b[38;5;28;01melse\u001b[39;00m:\n\u001b[0;32m-> 1840\u001b[0m     \u001b[38;5;28;01mraise\u001b[39;00m \u001b[38;5;167;01mKeyError\u001b[39;00m(key)\n\u001b[1;32m   1842\u001b[0m \u001b[38;5;66;03m# Check for duplicates\u001b[39;00m\n\u001b[1;32m   1843\u001b[0m \u001b[38;5;28;01mif\u001b[39;00m values\u001b[38;5;241m.\u001b[39mndim \u001b[38;5;241m>\u001b[39m \u001b[38;5;241m1\u001b[39m:\n",
      "\u001b[0;31mKeyError\u001b[0m: 'Id'"
     ]
    }
   ],
   "source": [
    "# split train_test_df to train & test\n",
    "pd.merge(train_df, train_test_df, how=\"inner\", on=\"Id\")"
   ]
  },
  {
   "cell_type": "markdown",
   "id": "2b03a966-643b-4f63-854d-f30a0740e2a2",
   "metadata": {},
   "source": [
    "### Ordinal category ordering\n",
    "* Ordinal columns have certain ordering to the values it has.<br>\n",
    "* For example, LotShape has four values which can be ordered mathematically Irregular(IR3) < Moderately Irregular(IR2) < Slightly Irregular(IR1) < Regular(Reg)<br>\n",
    "* We can pass the ordering while applying ordinal transformation"
   ]
  },
  {
   "cell_type": "code",
   "execution_count": 168,
   "id": "c7b98e04-76e4-47c3-b806-9058596df15d",
   "metadata": {},
   "outputs": [],
   "source": [
    "ordinal_cols_order = {\n",
    "    \"MSSubClass\": [20, 30, 40, 45, 50, 60, 70, 75, 80, 85, 90, 120, 150, 160, 180, 190],\n",
    "    \"LotShape\": [\"Reg\", \"IR1\", \"IR2\", \"IR3\"],\n",
    "    \"LandSlope\": [\"Gtl\", \"Mod\", \"Sev\"],\n",
    "    \"ExterQual\": [\"Ex\", \"Gd\", \"TA\", \"Fa\", \"Po\"],\n",
    "    \"ExterCond\": [\"Ex\", \"Gd\", \"TA\", \"Fa\", \"Po\"],\n",
    "    \"HeatingQC\": [\"Ex\", \"Gd\", \"TA\", \"Fa\", \"Po\"],\n",
    "    \"KitchenQual\": [\"Ex\", \"Gd\", \"TA\", \"Fa\", \"Po\"],\n",
    "    \"Functional\": [\"Typ\", \"Min1\", \"Min2\", \"Maj1\", \"Maj2\", \"Sev\", \"Sal\"],\n",
    "    # \"FireplaceQu\": [\"Ex\", \"Gd\", \"TA\", \"Fa\", \"Po\", \"NA\"],\n",
    "    \"GarageFinish\": [\"Fin\", \"RFn\", \"Unf\", \"NA\"],\n",
    "    \"GarageCond\": [\"Ex\", \"Gd\", \"TA\", \"Fa\", \"Po\", \"NA\"],\n",
    "    \"GarageQual\": [\"Ex\", \"Gd\", \"TA\", \"Fa\", \"Po\", \"NA\"],\n",
    "    \"BsmtExposure\": [\"Gd\", \"Av\", \"Mn\", \"No\", \"NA\"],\n",
    "    \"BsmtFinType2\": [\"GLQ\", \"ALQ\", \"BLQ\", \"Rec\", \"LwQ\", \"Unf\", \"NA\"],\n",
    "    \"BsmtFinType1\": [\"GLQ\", \"ALQ\", \"BLQ\", \"Rec\", \"LwQ\", \"Unf\", \"NA\"],\n",
    "    \"BsmtCond\": [\"Ex\", \"Gd\", \"TA\", \"Fa\", \"Po\", \"NA\"],\n",
    "    \"BsmtQual\": [\"Ex\", \"Gd\", \"TA\", \"Fa\", \"Po\", \"NA\"],\n",
    "    # \"PoolQC\": [\"Ex\", \"Gd\", \"TA\", \"Fa\", \"NA\"],\n",
    "    # \"Fence\": [\"GdPrv\", \"MnPrv\", \"GdWo\", \"MnWw\", \"NA\"],\n",
    "}"
   ]
  },
  {
   "cell_type": "code",
   "execution_count": 169,
   "id": "eaa413ab-cc1e-417c-a47f-a0bfecafedd8",
   "metadata": {},
   "outputs": [],
   "source": [
    "# transform the train and test ordinal columns\n",
    "ot = OrdinalTransformer()\n",
    "train_test_df.loc[:, ordinal_cols] = ot.fit_transform(train_test_df[ordinal_cols])"
   ]
  },
  {
   "cell_type": "code",
   "execution_count": 191,
   "id": "f9245d53-15a4-4ad7-9245-3a39ccecb94d",
   "metadata": {},
   "outputs": [
    {
     "data": {
      "text/plain": [
       "array([[1., 0., 0., ..., 0., 0., 0.],\n",
       "       [1., 0., 0., ..., 0., 0., 0.],\n",
       "       [1., 0., 0., ..., 0., 0., 1.],\n",
       "       ...,\n",
       "       [1., 0., 0., ..., 0., 0., 1.],\n",
       "       [1., 0., 0., ..., 0., 0., 0.],\n",
       "       [1., 0., 0., ..., 0., 0., 1.]])"
      ]
     },
     "execution_count": 191,
     "metadata": {},
     "output_type": "execute_result"
    }
   ],
   "source": [
    "ohe = OneHotEncoder(sparse=False, drop=\"if_binary\")\n",
    "ohe.fit_transform(train_test_df[cat_cols])\n"
   ]
  },
  {
   "cell_type": "code",
   "execution_count": 193,
   "id": "c24fa755-c58e-4cfd-b5c2-00493c9ca50a",
   "metadata": {
    "collapsed": true,
    "jupyter": {
     "outputs_hidden": true
    },
    "tags": []
   },
   "outputs": [
    {
     "data": {
      "text/plain": [
       "array(['Street_Pave', 'Neighborhood_Blmngtn', 'Neighborhood_Blueste',\n",
       "       'Neighborhood_BrDale', 'Neighborhood_BrkSide',\n",
       "       'Neighborhood_ClearCr', 'Neighborhood_CollgCr',\n",
       "       'Neighborhood_Crawfor', 'Neighborhood_Edwards',\n",
       "       'Neighborhood_Gilbert', 'Neighborhood_IDOTRR',\n",
       "       'Neighborhood_MeadowV', 'Neighborhood_Mitchel',\n",
       "       'Neighborhood_NAmes', 'Neighborhood_NPkVill',\n",
       "       'Neighborhood_NWAmes', 'Neighborhood_NoRidge',\n",
       "       'Neighborhood_NridgHt', 'Neighborhood_OldTown',\n",
       "       'Neighborhood_SWISU', 'Neighborhood_Sawyer',\n",
       "       'Neighborhood_SawyerW', 'Neighborhood_Somerst',\n",
       "       'Neighborhood_StoneBr', 'Neighborhood_Timber',\n",
       "       'Neighborhood_Veenker', 'Exterior1st_AsbShng',\n",
       "       'Exterior1st_AsphShn', 'Exterior1st_BrkComm',\n",
       "       'Exterior1st_BrkFace', 'Exterior1st_CBlock', 'Exterior1st_CemntBd',\n",
       "       'Exterior1st_HdBoard', 'Exterior1st_ImStucc',\n",
       "       'Exterior1st_MetalSd', 'Exterior1st_Plywood', 'Exterior1st_Stone',\n",
       "       'Exterior1st_Stucco', 'Exterior1st_VinylSd', 'Exterior1st_Wd Sdng',\n",
       "       'Exterior1st_WdShing', 'MasVnrType_BrkCmn', 'MasVnrType_BrkFace',\n",
       "       'MasVnrType_None', 'MasVnrType_Stone', 'Electrical_FuseA',\n",
       "       'Electrical_FuseF', 'Electrical_FuseP', 'Electrical_Mix',\n",
       "       'Electrical_SBrkr', 'Condition2_Artery', 'Condition2_Feedr',\n",
       "       'Condition2_Norm', 'Condition2_PosA', 'Condition2_PosN',\n",
       "       'Condition2_RRAe', 'Condition2_RRAn', 'Condition2_RRNn',\n",
       "       'LandContour_Bnk', 'LandContour_HLS', 'LandContour_Low',\n",
       "       'LandContour_Lvl', 'RoofMatl_ClyTile', 'RoofMatl_CompShg',\n",
       "       'RoofMatl_Membran', 'RoofMatl_Metal', 'RoofMatl_Roll',\n",
       "       'RoofMatl_Tar&Grv', 'RoofMatl_WdShake', 'RoofMatl_WdShngl',\n",
       "       'CentralAir_Y', 'GarageType_2Types', 'GarageType_Attchd',\n",
       "       'GarageType_Basment', 'GarageType_BuiltIn', 'GarageType_CarPort',\n",
       "       'GarageType_Detchd', 'GarageType_NA', 'MoSold_1', 'MoSold_2',\n",
       "       'MoSold_3', 'MoSold_4', 'MoSold_5', 'MoSold_6', 'MoSold_7',\n",
       "       'MoSold_8', 'MoSold_9', 'MoSold_10', 'MoSold_11', 'MoSold_12',\n",
       "       'SaleCondition_Abnorml', 'SaleCondition_AdjLand',\n",
       "       'SaleCondition_Alloca', 'SaleCondition_Family',\n",
       "       'SaleCondition_Normal', 'SaleCondition_Partial',\n",
       "       'LotConfig_Corner', 'LotConfig_CulDSac', 'LotConfig_FR2',\n",
       "       'LotConfig_FR3', 'LotConfig_Inside', 'MSZoning_C (all)',\n",
       "       'MSZoning_FV', 'MSZoning_RH', 'MSZoning_RL', 'MSZoning_RM',\n",
       "       'HouseStyle_1.5Fin', 'HouseStyle_1.5Unf', 'HouseStyle_1Story',\n",
       "       'HouseStyle_2.5Fin', 'HouseStyle_2.5Unf', 'HouseStyle_2Story',\n",
       "       'HouseStyle_SFoyer', 'HouseStyle_SLvl', 'Exterior2nd_AsbShng',\n",
       "       'Exterior2nd_AsphShn', 'Exterior2nd_Brk Cmn',\n",
       "       'Exterior2nd_BrkFace', 'Exterior2nd_CBlock', 'Exterior2nd_CmentBd',\n",
       "       'Exterior2nd_HdBoard', 'Exterior2nd_ImStucc',\n",
       "       'Exterior2nd_MetalSd', 'Exterior2nd_Other', 'Exterior2nd_Plywood',\n",
       "       'Exterior2nd_Stone', 'Exterior2nd_Stucco', 'Exterior2nd_VinylSd',\n",
       "       'Exterior2nd_Wd Sdng', 'Exterior2nd_Wd Shng', 'Foundation_BrkTil',\n",
       "       'Foundation_CBlock', 'Foundation_PConc', 'Foundation_Slab',\n",
       "       'Foundation_Stone', 'Foundation_Wood', 'PavedDrive_N',\n",
       "       'PavedDrive_P', 'PavedDrive_Y', 'SaleType_COD', 'SaleType_CWD',\n",
       "       'SaleType_Con', 'SaleType_ConLD', 'SaleType_ConLI',\n",
       "       'SaleType_ConLw', 'SaleType_New', 'SaleType_Oth', 'SaleType_WD',\n",
       "       'BldgType_1Fam', 'BldgType_2fmCon', 'BldgType_Duplex',\n",
       "       'BldgType_Twnhs', 'BldgType_TwnhsE', 'Utilities_NoSeWa',\n",
       "       'Condition1_Artery', 'Condition1_Feedr', 'Condition1_Norm',\n",
       "       'Condition1_PosA', 'Condition1_PosN', 'Condition1_RRAe',\n",
       "       'Condition1_RRAn', 'Condition1_RRNe', 'Condition1_RRNn',\n",
       "       'Heating_Floor', 'Heating_GasA', 'Heating_GasW', 'Heating_Grav',\n",
       "       'Heating_OthW', 'Heating_Wall', 'RoofStyle_Flat',\n",
       "       'RoofStyle_Gable', 'RoofStyle_Gambrel', 'RoofStyle_Hip',\n",
       "       'RoofStyle_Mansard', 'RoofStyle_Shed', 'IsRenovated_True'],\n",
       "      dtype=object)"
      ]
     },
     "execution_count": 193,
     "metadata": {},
     "output_type": "execute_result"
    }
   ],
   "source": [
    "ohe.get_feature_names_out()"
   ]
  },
  {
   "cell_type": "code",
   "execution_count": 183,
   "id": "006eb6ae-ce88-49e8-81c0-ffcae669d262",
   "metadata": {
    "collapsed": true,
    "jupyter": {
     "outputs_hidden": true
    },
    "tags": []
   },
   "outputs": [
    {
     "ename": "AttributeError",
     "evalue": "'DataFrame' object has no attribute 'IsRenovated'",
     "output_type": "error",
     "traceback": [
      "\u001b[0;31m---------------------------------------------------------------------------\u001b[0m",
      "\u001b[0;31mAttributeError\u001b[0m                            Traceback (most recent call last)",
      "Cell \u001b[0;32mIn [183], line 1\u001b[0m\n\u001b[0;32m----> 1\u001b[0m \u001b[43mpd\u001b[49m\u001b[38;5;241;43m.\u001b[39;49m\u001b[43mget_dummies\u001b[49m\u001b[43m(\u001b[49m\u001b[43mtrain_test_df\u001b[49m\u001b[43m,\u001b[49m\u001b[43m \u001b[49m\u001b[43mcolumns\u001b[49m\u001b[38;5;241;43m=\u001b[39;49m\u001b[43mcat_cols\u001b[49m\u001b[43m,\u001b[49m\u001b[43m \u001b[49m\u001b[43mdrop_first\u001b[49m\u001b[38;5;241;43m=\u001b[39;49m\u001b[38;5;28;43;01mTrue\u001b[39;49;00m\u001b[43m)\u001b[49m\u001b[38;5;241;43m.\u001b[39;49m\u001b[43mIsRenovated\u001b[49m\n",
      "File \u001b[0;32m~/.conda/envs/torch/lib/python3.10/site-packages/pandas/core/generic.py:5575\u001b[0m, in \u001b[0;36mNDFrame.__getattr__\u001b[0;34m(self, name)\u001b[0m\n\u001b[1;32m   5568\u001b[0m \u001b[38;5;28;01mif\u001b[39;00m (\n\u001b[1;32m   5569\u001b[0m     name \u001b[38;5;129;01mnot\u001b[39;00m \u001b[38;5;129;01min\u001b[39;00m \u001b[38;5;28mself\u001b[39m\u001b[38;5;241m.\u001b[39m_internal_names_set\n\u001b[1;32m   5570\u001b[0m     \u001b[38;5;129;01mand\u001b[39;00m name \u001b[38;5;129;01mnot\u001b[39;00m \u001b[38;5;129;01min\u001b[39;00m \u001b[38;5;28mself\u001b[39m\u001b[38;5;241m.\u001b[39m_metadata\n\u001b[1;32m   5571\u001b[0m     \u001b[38;5;129;01mand\u001b[39;00m name \u001b[38;5;129;01mnot\u001b[39;00m \u001b[38;5;129;01min\u001b[39;00m \u001b[38;5;28mself\u001b[39m\u001b[38;5;241m.\u001b[39m_accessors\n\u001b[1;32m   5572\u001b[0m     \u001b[38;5;129;01mand\u001b[39;00m \u001b[38;5;28mself\u001b[39m\u001b[38;5;241m.\u001b[39m_info_axis\u001b[38;5;241m.\u001b[39m_can_hold_identifiers_and_holds_name(name)\n\u001b[1;32m   5573\u001b[0m ):\n\u001b[1;32m   5574\u001b[0m     \u001b[38;5;28;01mreturn\u001b[39;00m \u001b[38;5;28mself\u001b[39m[name]\n\u001b[0;32m-> 5575\u001b[0m \u001b[38;5;28;01mreturn\u001b[39;00m \u001b[38;5;28;43mobject\u001b[39;49m\u001b[38;5;241;43m.\u001b[39;49m\u001b[38;5;21;43m__getattribute__\u001b[39;49m\u001b[43m(\u001b[49m\u001b[38;5;28;43mself\u001b[39;49m\u001b[43m,\u001b[49m\u001b[43m \u001b[49m\u001b[43mname\u001b[49m\u001b[43m)\u001b[49m\n",
      "\u001b[0;31mAttributeError\u001b[0m: 'DataFrame' object has no attribute 'IsRenovated'"
     ]
    }
   ],
   "source": [
    "# convert categorical variables to dummies\n",
    "train_test_df = pd.get_dummies(train_test_df, columns=cat_cols, drop_first=True)"
   ]
  },
  {
   "cell_type": "code",
   "execution_count": 129,
   "id": "f0713eeb-acb6-49bd-8db6-0eda1b80bc3a",
   "metadata": {},
   "outputs": [],
   "source": [
    "train_df.to_csv(dataset_path / \"train_ftrs_added.csv\", index=False)\n",
    "test_df.to_csv(dataset_path / \"test_ftrs_added.csv\", index=False)"
   ]
  },
  {
   "cell_type": "markdown",
   "id": "1ab74a37",
   "metadata": {},
   "source": [
    "### Preprocessing pipeline"
   ]
  },
  {
   "cell_type": "code",
   "execution_count": 124,
   "id": "4b60ae64",
   "metadata": {},
   "outputs": [],
   "source": [
    "def get_preprocessing_pipe(ordinal_cols=None, cat_cols=None, year_cols=None, num_cols=None):\n",
    "        preprocess_pipeline = Pipeline([\n",
    "                (\"fill_na\", FillNulls()),\n",
    "                (\"cols_transformer\", ColumnTransformer([\n",
    "                        (\"ord_pipe\", Pipeline([\n",
    "                                        # (\"select_cols\", ColumnSelector(ordinal_cols)),\n",
    "                                        (\"inorder\", OrdinalTransformer()),\n",
    "                                ]), ordinal_cols),\n",
    "                        (\"cat_pipe\", Pipeline([\n",
    "                                        # (\"select_cols\", ColumnSelector(cat_cols)),\n",
    "                                        (\"dummies\", OneHotEncoder(handle_unknown=\"ignore\")),\n",
    "                                ]), cat_cols),\n",
    "                        (\"year_pipe\", Pipeline([\n",
    "                                        # (\"select_cols\", ColumnSelector(year_cols)),\n",
    "                                        (\"calc_age\", TransformDate()),\n",
    "                                        (\"scale\", RobustScaler()),\n",
    "                                ]), year_cols),\n",
    "                        (\"num_pipe\", Pipeline([\n",
    "                                        # (\"select_cols\", ColumnSelector(num_cols)),\n",
    "                                        (\"scale\", RobustScaler()),\n",
    "                                ]), num_cols),\n",
    "                        ])\n",
    "                )]\n",
    "        )\n",
    "        return preprocess_pipeline"
   ]
  },
  {
   "cell_type": "code",
   "execution_count": 125,
   "id": "3e95e07b-a567-4b42-b723-5dacd5ed5d7b",
   "metadata": {
    "tags": []
   },
   "outputs": [],
   "source": [
    "ordinal_cols = [col for col in ordinal_cols if col in useful_cols]\n",
    "cat_cols = [col for col in cat_cols if col in useful_cols]\n",
    "year_cols = [col for col in year_cols if col in useful_cols]\n",
    "num_cols = [col for col in num_cols if col in useful_cols]"
   ]
  },
  {
   "cell_type": "code",
   "execution_count": 126,
   "id": "893e6152-f42f-4e02-8772-5fe2bceb41d1",
   "metadata": {
    "tags": []
   },
   "outputs": [
    {
     "name": "stdout",
     "output_type": "stream",
     "text": [
      "fold: 1; rmse: 0.1597\n",
      "fold: 2; rmse: 0.1622\n",
      "fold: 3; rmse: 0.1166\n",
      "fold: 4; rmse: 0.1314\n",
      "fold: 5; rmse: 0.1368\n",
      "fold: 6; rmse: 0.1351\n",
      "fold: 7; rmse: 0.1414\n",
      "\n",
      "Average fold score: 0.1405\n"
     ]
    }
   ],
   "source": [
    "fold_scores = []\n",
    "for fold in range(N_SPLITS):\n",
    "    xtrain = train_df.loc[train_df.fold != fold, useful_cols]\n",
    "    xtest = train_df.loc[train_df.fold == fold, useful_cols]\n",
    "    ytrain = train_df.loc[train_df.fold != fold, \"log_SalePrice\"]\n",
    "    ytest = train_df.loc[train_df.fold == fold, \"SalePrice\"]\n",
    "\n",
    "    preprocess_pipeline = get_preprocessing_pipe(ordinal_cols=ordinal_cols,\n",
    "                                                 cat_cols=cat_cols,\n",
    "                                                 year_cols=year_cols,\n",
    "                                                 num_cols=num_cols)\n",
    "\n",
    "    xtrain = preprocess_pipeline.fit_transform(xtrain)\n",
    "    xtest = preprocess_pipeline.transform(xtest)\n",
    "\n",
    "    model = RandomForestRegressor(n_estimators=500, random_state=13)\n",
    "    model.fit(xtrain, ytrain)\n",
    "    ypreds = model.predict(xtest)\n",
    "    ypreds = np.expm1(ypreds)\n",
    "    fold_rmse = mean_squared_log_error(ytest, ypreds, squared=False)\n",
    "    fold_scores.append(fold_rmse)\n",
    "    print(f\"fold: {fold+1}; rmse: {fold_rmse:.4f}\")\n",
    "\n",
    "print(f\"\\nAverage fold score: {np.mean(fold_scores):.4f}\")"
   ]
  },
  {
   "cell_type": "code",
   "execution_count": 127,
   "id": "88dded06-48e5-4210-a0a0-1eec20af0883",
   "metadata": {
    "tags": []
   },
   "outputs": [
    {
     "name": "stdout",
     "output_type": "stream",
     "text": [
      "(1460, 235) (1459, 235)\n"
     ]
    }
   ],
   "source": [
    "xtrain = preprocess_pipeline.fit_transform(train_df[useful_cols])\n",
    "xtest = preprocess_pipeline.transform(test_df[useful_cols])\n",
    "\n",
    "print(xtrain.shape, xtest.shape)\n",
    "\n",
    "model = RandomForestRegressor(n_estimators=500, random_state=13)\n",
    "model.fit(xtrain, train_df.log_SalePrice)\n",
    "\n",
    "preds = model.predict(xtest)\n",
    "preds = [np.expm1(x) for x in preds]\n",
    "\n",
    "sample_subm_df[\"SalePrice\"] = preds\n",
    "sample_subm_df.to_csv(result_path / \"subm1.csv\", index=False)"
   ]
  },
  {
   "cell_type": "markdown",
   "id": "adab1dab-bf20-4c8b-9843-0d20d3352952",
   "metadata": {
    "tags": []
   },
   "source": [
    "**Score: 0.14323** after this sumission at the public leaderboard. Small improvement of 0.3 from previous baseline model<br>\n",
    "Let's perform feature selection and see if we can improve our score"
   ]
  },
  {
   "cell_type": "markdown",
   "id": "c6785da0-eaa7-4b4d-96e2-cd0761586318",
   "metadata": {
    "tags": []
   },
   "source": [
    "### Feature selection"
   ]
  },
  {
   "cell_type": "code",
   "execution_count": 130,
   "id": "3ab4905c-5de7-45fc-ad7b-5eda78b43796",
   "metadata": {
    "tags": []
   },
   "outputs": [],
   "source": [
    "def pipeline_features_out(pipeline):\n",
    "    col_transformer = pipeline.named_steps[\"cols_transformer\"]\n",
    "    feature_names = []\n",
    "    for key, value in col_transformer.named_transformers_.items():\n",
    "        step_cols_out = value[-1].get_feature_names_out().tolist()\n",
    "        feature_names += step_cols_out\n",
    "    return feature_names"
   ]
  },
  {
   "cell_type": "code",
   "execution_count": 131,
   "id": "07772cc5-c386-4cfa-b09f-4a09a7b1f7da",
   "metadata": {
    "tags": []
   },
   "outputs": [],
   "source": [
    "feature_cols_out = pipeline_features_out(preprocess_pipeline)\n",
    "assert len(feature_cols_out) == xtrain.shape[1]"
   ]
  },
  {
   "cell_type": "code",
   "execution_count": 132,
   "id": "6a65fb29-4875-4fa7-94cd-7523db9e3461",
   "metadata": {
    "tags": []
   },
   "outputs": [
    {
     "data": {
      "text/html": [
       "<div>\n",
       "<style scoped>\n",
       "    .dataframe tbody tr th:only-of-type {\n",
       "        vertical-align: middle;\n",
       "    }\n",
       "\n",
       "    .dataframe tbody tr th {\n",
       "        vertical-align: top;\n",
       "    }\n",
       "\n",
       "    .dataframe thead th {\n",
       "        text-align: right;\n",
       "    }\n",
       "</style>\n",
       "<table border=\"1\" class=\"dataframe\">\n",
       "  <thead>\n",
       "    <tr style=\"text-align: right;\">\n",
       "      <th></th>\n",
       "      <th>col</th>\n",
       "      <th>importance</th>\n",
       "    </tr>\n",
       "  </thead>\n",
       "  <tbody>\n",
       "    <tr>\n",
       "      <th>0</th>\n",
       "      <td>MSSubClass</td>\n",
       "      <td>0.001600</td>\n",
       "    </tr>\n",
       "    <tr>\n",
       "      <th>1</th>\n",
       "      <td>LotShape</td>\n",
       "      <td>0.001622</td>\n",
       "    </tr>\n",
       "    <tr>\n",
       "      <th>2</th>\n",
       "      <td>LandSlope</td>\n",
       "      <td>0.000519</td>\n",
       "    </tr>\n",
       "    <tr>\n",
       "      <th>3</th>\n",
       "      <td>OverallQual</td>\n",
       "      <td>0.537005</td>\n",
       "    </tr>\n",
       "    <tr>\n",
       "      <th>4</th>\n",
       "      <td>OverallCond</td>\n",
       "      <td>0.003627</td>\n",
       "    </tr>\n",
       "  </tbody>\n",
       "</table>\n",
       "</div>"
      ],
      "text/plain": [
       "           col  importance\n",
       "0   MSSubClass    0.001600\n",
       "1     LotShape    0.001622\n",
       "2    LandSlope    0.000519\n",
       "3  OverallQual    0.537005\n",
       "4  OverallCond    0.003627"
      ]
     },
     "execution_count": 132,
     "metadata": {},
     "output_type": "execute_result"
    }
   ],
   "source": [
    "ftr_imp_df = pd.DataFrame.from_dict(\n",
    "    {\"col\": feature_cols_out, \"importance\": model.feature_importances_}\n",
    ")\n",
    "ftr_imp_df.head()\n"
   ]
  },
  {
   "cell_type": "code",
   "execution_count": 133,
   "id": "7494e33a",
   "metadata": {},
   "outputs": [
    {
     "data": {
      "image/png": "[encoded data removed]",
      "text/plain": [
       "<Figure size 1000x800 with 1 Axes>"
      ]
     },
     "metadata": {},
     "output_type": "display_data"
    }
   ],
   "source": [
    "ftr_imp_df.sort_values(by=\"importance\", ascending=False)[:20].plot(kind=\"barh\", x=\"col\", y=\"importance\", figsize=(10, 8), log=True, legend=False)\n",
    "plt.title(\"Feature importance, top 20 important features\")\n",
    "plt.show()"
   ]
  },
  {
   "cell_type": "markdown",
   "id": "14a013a3",
   "metadata": {},
   "source": [
    "Let's consider top 50 features for model building and see the performance difference"
   ]
  },
  {
   "cell_type": "code",
   "execution_count": 134,
   "id": "a011307f",
   "metadata": {},
   "outputs": [
    {
     "name": "stdout",
     "output_type": "stream",
     "text": [
      "no of selected important cols: 46\n"
     ]
    }
   ],
   "source": [
    "\n",
    "top_n = 50\n",
    "imp_cols = np.unique(\n",
    "    ftr_imp_df.sort_values(by=\"importance\", ascending=False)[:top_n].col.apply(\n",
    "        lambda x: x.split(\"_\")[0]\n",
    "    )\n",
    ")\n",
    "\n",
    "imp_cols = [col for col in imp_cols if col in useful_cols]\n",
    "print(f\"no of selected important cols: {len(imp_cols)}\")\n",
    "\n",
    "ordinal_cols_imp = list(set(ordinal_cols).intersection(imp_cols))\n",
    "cat_cols_imp = list(set(cat_cols).intersection(imp_cols))\n",
    "year_cols_imp = list(set(year_cols).intersection(imp_cols))\n",
    "num_cols_imp = list(set(num_cols).intersection(imp_cols))\n",
    "\n",
    "assert len(imp_cols) == len(ordinal_cols_imp + cat_cols_imp + year_cols_imp + num_cols_imp)\n",
    "\n"
   ]
  },
  {
   "cell_type": "code",
   "execution_count": 135,
   "id": "40328a88-42e5-434e-8f64-a8043fbbf116",
   "metadata": {
    "tags": []
   },
   "outputs": [
    {
     "name": "stdout",
     "output_type": "stream",
     "text": [
      "fold: 1; rmse: 0.1558\n",
      "fold: 2; rmse: 0.1624\n",
      "fold: 3; rmse: 0.1170\n",
      "fold: 4; rmse: 0.1314\n",
      "fold: 5; rmse: 0.1348\n",
      "fold: 6; rmse: 0.1321\n",
      "fold: 7; rmse: 0.1409\n",
      "\n",
      "Average fold score: 0.1392\n"
     ]
    }
   ],
   "source": [
    "fold_scores = []\n",
    "for fold in range(N_SPLITS):\n",
    "    xtrain = train_df.loc[train_df.fold != fold, imp_cols]\n",
    "    xtest = train_df.loc[train_df.fold == fold, imp_cols]\n",
    "    ytrain = train_df.loc[train_df.fold != fold, \"log_SalePrice\"]\n",
    "    ytest = train_df.loc[train_df.fold == fold, \"SalePrice\"]\n",
    "\n",
    "    preprocess_pipeline = get_preprocessing_pipe(ordinal_cols=ordinal_cols_imp,\n",
    "                                                 cat_cols=cat_cols_imp,\n",
    "                                                 year_cols=year_cols_imp,\n",
    "                                                 num_cols=num_cols_imp)\n",
    "\n",
    "    xtrain = preprocess_pipeline.fit_transform(xtrain)\n",
    "    xtest = preprocess_pipeline.transform(xtest)\n",
    "\n",
    "    model = RandomForestRegressor(n_estimators=500, random_state=13)\n",
    "    model.fit(xtrain, ytrain)\n",
    "    ypreds = model.predict(xtest)\n",
    "    ypreds = [np.expm1(i) for i in ypreds]\n",
    "    fold_rmse = mean_squared_log_error(ytest, ypreds, squared=False)\n",
    "    fold_scores.append(fold_rmse)\n",
    "    print(f\"fold: {fold+1}; rmse: {fold_rmse:.4f}\")\n",
    "\n",
    "print(f\"\\nAverage fold score: {np.mean(fold_scores):.4f}\")\n"
   ]
  },
  {
   "cell_type": "code",
   "execution_count": 136,
   "id": "7f7a4207-743d-4593-82b6-1117a1d4b17e",
   "metadata": {
    "tags": []
   },
   "outputs": [
    {
     "name": "stdout",
     "output_type": "stream",
     "text": [
      "(1460, 65) (1459, 65)\n"
     ]
    }
   ],
   "source": [
    "useful_cols_imp = [col for col in useful_cols if col in imp_cols]\n",
    "\n",
    "xtrain = preprocess_pipeline.fit_transform(train_df[useful_cols_imp])\n",
    "xtest = preprocess_pipeline.transform(test_df[useful_cols_imp])\n",
    "\n",
    "print(xtrain.shape, xtest.shape)\n",
    "\n",
    "model = RandomForestRegressor(n_estimators=500, random_state=13)\n",
    "model.fit(xtrain, train_df.log_SalePrice)\n",
    "\n",
    "preds = model.predict(xtest)\n",
    "preds = [np.expm1(x) for x in preds]\n",
    "\n",
    "sample_subm_df[\"SalePrice\"] = preds\n",
    "sample_subm_df.to_csv(result_path / \"subm1_with_imp_ftrs.csv\", index=False)"
   ]
  },
  {
   "cell_type": "markdown",
   "id": "d18d5821-fecb-404c-80e0-fb9c3e71bddd",
   "metadata": {},
   "source": [
    "**Score: 0.14303** after this sumission at the public leaderboard. Small improvement of 0.03 from previous model with **less number of features (top 50)**<br>\n",
    "As we are not seeing any performance impact with selecting subset of features, I think we are good to go with hyperparameter tuning with above features."
   ]
  },
  {
   "cell_type": "markdown",
   "id": "1fae765a",
   "metadata": {},
   "source": [
    "## Hyperparameter tuning"
   ]
  },
  {
   "cell_type": "code",
   "execution_count": 84,
   "id": "b501de28",
   "metadata": {},
   "outputs": [
    {
     "data": {
      "text/plain": [
       "{'n_estimators': 728,\n",
       " 'criterion': 'squared_error',\n",
       " 'min_samples_split': 4,\n",
       " 'max_depth': 11,\n",
       " 'max_features': 'log2',\n",
       " 'bootstrap': False}"
      ]
     },
     "execution_count": 84,
     "metadata": {},
     "output_type": "execute_result"
    }
   ],
   "source": [
    "best_params = json.load(open(result_path / \"rfr_best_params.json\", \"r\"))\n",
    "best_params"
   ]
  },
  {
   "cell_type": "markdown",
   "id": "f27ba443",
   "metadata": {},
   "source": [
    "# Final model with best parameters"
   ]
  },
  {
   "cell_type": "code",
   "execution_count": 88,
   "id": "7e45f9ca",
   "metadata": {},
   "outputs": [],
   "source": [
    "xtrain = preprocess_pipeline.fit_transform(train_df[useful_cols_imp])\n",
    "xtest = preprocess_pipeline.transform(test_df[useful_cols_imp])\n",
    "\n",
    "model = RandomForestRegressor(**best_params, random_state=13)\n",
    "\n",
    "model.fit(xtrain, train_df.log_SalePrice)\n",
    "preds = model.predict(xtest)\n",
    "\n",
    "preds = [np.expm1(_) for _ in preds]\n",
    "\n",
    "sample_subm_df[\"SalePrice\"] = preds\n",
    "sample_subm_df.to_csv(result_path / \"rfr_best_params.csv\", index=False)"
   ]
  },
  {
   "cell_type": "code",
   "execution_count": 36,
   "id": "0c7ca00d",
   "metadata": {},
   "outputs": [],
   "source": [
    "# model = load(result_path / \"rfr_best_params.z\")\n",
    "# dump(model, result_path / \"rfr_best_params.z\")"
   ]
  },
  {
   "cell_type": "markdown",
   "id": "f3fd70fb",
   "metadata": {},
   "source": [
    "## Blending preds for built model"
   ]
  },
  {
   "cell_type": "code",
   "execution_count": 97,
   "id": "8e14500c",
   "metadata": {},
   "outputs": [
    {
     "data": {
      "text/plain": [
       "<utils.Blending at 0x7f1279c279a0>"
      ]
     },
     "execution_count": 97,
     "metadata": {},
     "output_type": "execute_result"
    }
   ],
   "source": [
    "from utils import *\n",
    "\n",
    "rfr_blend = Blending(\"rfr\", train_df[useful_cols_imp+[\"fold\"]+[\"SalePrice\"]], test_df[useful_cols_imp], \"SalePrice\", preprocess_pipeline, fold_col=\"fold\")\n",
    "rfr_blend"
   ]
  },
  {
   "cell_type": "code",
   "execution_count": 98,
   "id": "1325270d",
   "metadata": {},
   "outputs": [
    {
     "name": "stderr",
     "output_type": "stream",
     "text": [
      "\u001b[32m[I 2022-09-22 00:52:09,346]\u001b[0m A new study created in memory with name: no-name-02c17e03-2984-4090-8739-c9e0078d30f2\u001b[0m\n",
      "\u001b[32m[I 2022-09-22 00:53:12,802]\u001b[0m Trial 0 finished with value: 0.1437808315453937 and parameters: {'n_estimators': 433, 'criterion': 'absolute_error', 'min_samples_split': 5, 'max_depth': 9, 'max_features': 'log2', 'boostrap': False}. Best is trial 0 with value: 0.1437808315453937.\u001b[0m\n",
      "\u001b[32m[I 2022-09-22 00:53:16,894]\u001b[0m Trial 1 finished with value: 0.15732939230767268 and parameters: {'n_estimators': 547, 'criterion': 'squared_error', 'min_samples_split': 4, 'max_depth': 6, 'max_features': 'log2', 'boostrap': False}. Best is trial 0 with value: 0.1437808315453937.\u001b[0m\n"
     ]
    }
   ],
   "source": [
    "rfr_blend.optimize(direction=\"minimize\", n_trials=2)"
   ]
  }
 ],
 "metadata": {
  "kernelspec": {
   "display_name": "Python 3 (ipykernel)",
   "language": "python",
   "name": "python3"
  },
  "language_info": {
   "codemirror_mode": {
    "name": "ipython",
    "version": 3
   },
   "file_extension": ".py",
   "mimetype": "text/x-python",
   "name": "python",
   "nbconvert_exporter": "python",
   "pygments_lexer": "ipython3",
   "version": "3.10.4"
  },
  "vscode": {
   "interpreter": {
    "hash": "0230d8c58de4a83519dad700d573a709baa020ca76aac9fb80b365d3bd5f04b1"
   }
  }
 },
 "nbformat": 4,
 "nbformat_minor": 5
}
