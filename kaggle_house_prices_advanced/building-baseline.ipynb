{
 "cells": [
  {
   "cell_type": "markdown",
   "metadata": {
    "tags": []
   },
   "source": [
    "<!-- # The three acts of building a ultimate ML model\n",
    "\n",
    "## Start with a baseline model, understand the dataset, evaluation function\n",
    "## Build a robust model with RandomForest/XGB/LGBM/CatBoost etc., \n",
    "        a. hyperparameter tuning\n",
    "        b. feature engineering\n",
    "        c. feature selection\n",
    "## Apply step 2 & 2.a for multiple models. Stack them -->"
   ]
  },
  {
   "cell_type": "code",
   "execution_count": 1,
   "metadata": {
    "tags": [],
    "toc-hr-collapsed": true
   },
   "outputs": [
    {
     "data": {
      "text/html": [
       "<h1 style=\"text-align: center; font-size: 8rem\">Act-I</h1>\n",
       "<h2>Steps:</h2>\n",
       "<ol>\n",
       "    <li>read data</li>\n",
       "    <li>variable study</li>\n",
       "    <li>prepare training dataset (fill nulls, transform numerical, categorical & ordinal columns)</li>\n",
       "    <li>train a base model</li>\n",
       "    <li>submit & check the score</li>\n",
       "</ol>\n"
      ],
      "text/plain": [
       "<IPython.core.display.HTML object>"
      ]
     },
     "metadata": {},
     "output_type": "display_data"
    }
   ],
   "source": [
    "%%html\n",
    "<h1 style=\"text-align: center; font-size: 8rem\">Act-I</h1>\n",
    "<h2>Steps:</h2>\n",
    "<ol>\n",
    "    <li>read data</li>\n",
    "    <li>variable study</li>\n",
    "    <li>prepare training dataset (fill nulls, transform numerical, categorical & ordinal columns)</li>\n",
    "    <li>train a base model</li>\n",
    "    <li>submit & check the score</li>\n",
    "</ol>"
   ]
  },
  {
   "cell_type": "code",
   "execution_count": 11,
   "metadata": {},
   "outputs": [],
   "source": [
    "%load_ext autoreload\n",
    "%autoreload 2"
   ]
  },
  {
   "cell_type": "code",
   "execution_count": 12,
   "metadata": {
    "tags": []
   },
   "outputs": [],
   "source": [
    "# imports\n",
    "from utils import *\n"
   ]
  },
  {
   "cell_type": "code",
   "execution_count": 15,
   "metadata": {
    "tags": []
   },
   "outputs": [
    {
     "name": "stdout",
     "output_type": "stream",
     "text": [
      "setting no. of rows displayed: 1000\n",
      "setting no. of columns displayed: 1000\n",
      "setting warnings to be ignored.\n",
      "\n",
      "\n",
      "['data_description.txt', 'train.csv', '.ipynb_checkpoints', 'train_with_folds.csv', 'test.csv', 'sample_submission.csv', 'test_with_folds.csv']\n"
     ]
    }
   ],
   "source": [
    "# config\n",
    "\n",
    "dataset_path, result_path = get_paths()\n",
    "config_output()\n",
    "\n",
    "print([_.name for _ in dataset_path.iterdir()])"
   ]
  },
  {
   "cell_type": "markdown",
   "metadata": {
    "tags": []
   },
   "source": [
    "### read data"
   ]
  },
  {
   "cell_type": "code",
   "execution_count": 4,
   "metadata": {
    "tags": []
   },
   "outputs": [
    {
     "name": "stdout",
     "output_type": "stream",
     "text": [
      "(1460, 81) (1459, 80)\n"
     ]
    }
   ],
   "source": [
    "train_df = pd.read_csv(dataset_path/\"train.csv\")\n",
    "test_df = pd.read_csv(dataset_path/\"test.csv\")\n",
    "sample_subm_df = pd.read_csv(dataset_path/\"sample_submission.csv\")\n",
    "\n",
    "print(train_df.shape, test_df.shape)"
   ]
  },
  {
   "cell_type": "markdown",
   "metadata": {},
   "source": [
    "### variable study"
   ]
  },
  {
   "cell_type": "code",
   "execution_count": 5,
   "metadata": {
    "tags": []
   },
   "outputs": [
    {
     "data": {
      "text/plain": [
       "Index(['Id', 'MSSubClass', 'MSZoning', 'LotFrontage', 'LotArea', 'Street',\n",
       "       'Alley', 'LotShape', 'LandContour', 'Utilities', 'LotConfig',\n",
       "       'LandSlope', 'Neighborhood', 'Condition1', 'Condition2', 'BldgType',\n",
       "       'HouseStyle', 'OverallQual', 'OverallCond', 'YearBuilt', 'YearRemodAdd',\n",
       "       'RoofStyle', 'RoofMatl', 'Exterior1st', 'Exterior2nd', 'MasVnrType',\n",
       "       'MasVnrArea', 'ExterQual', 'ExterCond', 'Foundation', 'BsmtQual',\n",
       "       'BsmtCond', 'BsmtExposure', 'BsmtFinType1', 'BsmtFinSF1',\n",
       "       'BsmtFinType2', 'BsmtFinSF2', 'BsmtUnfSF', 'TotalBsmtSF', 'Heating',\n",
       "       'HeatingQC', 'CentralAir', 'Electrical', '1stFlrSF', '2ndFlrSF',\n",
       "       'LowQualFinSF', 'GrLivArea', 'BsmtFullBath', 'BsmtHalfBath', 'FullBath',\n",
       "       'HalfBath', 'BedroomAbvGr', 'KitchenAbvGr', 'KitchenQual',\n",
       "       'TotRmsAbvGrd', 'Functional', 'Fireplaces', 'FireplaceQu', 'GarageType',\n",
       "       'GarageYrBlt', 'GarageFinish', 'GarageCars', 'GarageArea', 'GarageQual',\n",
       "       'GarageCond', 'PavedDrive', 'WoodDeckSF', 'OpenPorchSF',\n",
       "       'EnclosedPorch', '3SsnPorch', 'ScreenPorch', 'PoolArea', 'PoolQC',\n",
       "       'Fence', 'MiscFeature', 'MiscVal', 'MoSold', 'YrSold', 'SaleType',\n",
       "       'SaleCondition', 'SalePrice'],\n",
       "      dtype='object')"
      ]
     },
     "execution_count": 5,
     "metadata": {},
     "output_type": "execute_result"
    }
   ],
   "source": [
    "train_df.columns"
   ]
  },
  {
   "cell_type": "markdown",
   "metadata": {
    "tags": []
   },
   "source": [
    "#### Identify numerical and categorical columns"
   ]
  },
  {
   "cell_type": "code",
   "execution_count": 6,
   "metadata": {
    "tags": []
   },
   "outputs": [],
   "source": [
    "ordinal_cols = [\n",
    "    \"MSSubClass\",\n",
    "    \"LotShape\",\n",
    "    \"LandSlope\",\n",
    "    \"OverallQual\",\n",
    "    \"OverallCond\",\n",
    "    \"ExterQual\",\n",
    "    \"ExterCond\",\n",
    "    \"BsmtQual\",\n",
    "    \"BsmtCond\",\n",
    "    \"BsmtExposure\",\n",
    "    \"BsmtFinType1\",\n",
    "    \"BsmtFinType2\",\n",
    "    \"HeatingQC\",\n",
    "    \"KitchenQual\",\n",
    "    \"Functional\",\n",
    "    \"FireplaceQu\",\n",
    "    \"GarageQual\",\n",
    "    \"GarageFinish\",\n",
    "    \"GarageCond\",\n",
    "    \"PoolQC\",\n",
    "    \"Fence\",\n",
    "]\n",
    "\n",
    "num_cols = [\n",
    "    \"LotFrontage\",\n",
    "    \"LotArea\",\n",
    "    \"BsmtFinSF1\",\n",
    "    \"BsmtFinSF2\",\n",
    "    \"BsmtUnfSF\",\n",
    "    \"TotalBsmtSF\",\n",
    "    \"1stFlrSF\",\n",
    "    \"2ndFlrSF\",\n",
    "    \"LowQualFinSF\",\n",
    "    \"GrLivArea\",\n",
    "    # can they be ordinal columns\n",
    "    \"BsmtFullBath\",\n",
    "    \"BsmtHalfBath\",\n",
    "    \"FullBath\",\n",
    "    \"HalfBath\",\n",
    "    #\n",
    "    \"BedroomAbvGr\",\n",
    "    \"KitchenAbvGr\",\n",
    "    \"TotRmsAbvGrd\",\n",
    "    \"Fireplaces\",\n",
    "    \"GarageCars\",\n",
    "    \"GarageArea\",\n",
    "    \"WoodDeckSF\",\n",
    "    \"OpenPorchSF\",\n",
    "    \"EnclosedPorch\",\n",
    "    \"3SsnPorch\",\n",
    "    \"ScreenPorch\",\n",
    "    \"PoolArea\",\n",
    "    \"MiscVal\",\n",
    "    \"MasVnrArea\",\n",
    "]\n",
    "\n",
    "cat_cols = [\n",
    "    \"MSZoning\",\n",
    "    \"Street\",\n",
    "    \"Alley\",\n",
    "    \"LandContour\",  # can it be an ordinal variable\n",
    "    \"Utilities\",\n",
    "    \"LotConfig\",\n",
    "    \"Neighborhood\",\n",
    "    \"Condition1\",\n",
    "    \"Condition2\",\n",
    "    \"BldgType\",\n",
    "    \"HouseStyle\",\n",
    "    \"RoofStyle\",\n",
    "    \"RoofMatl\",\n",
    "    \"Exterior1st\",\n",
    "    \"Exterior2nd\",\n",
    "    \"MasVnrType\",\n",
    "    \"Foundation\",\n",
    "    \"Heating\",\n",
    "    \"CentralAir\",\n",
    "    \"Electrical\",\n",
    "    \"GarageType\",\n",
    "    \"PavedDrive\",\n",
    "    \"MiscFeature\",\n",
    "    \"MoSold\",\n",
    "    \"SaleType\",\n",
    "    \"SaleCondition\",\n",
    "]\n",
    "\n",
    "year_cols = [\n",
    "    \"GarageYrBlt\",\n",
    "    \"YearBuilt\",\n",
    "    \"YrSold\",\n",
    "    \"YearRemodAdd\",\n",
    "]"
   ]
  },
  {
   "cell_type": "markdown",
   "metadata": {
    "tags": []
   },
   "source": [
    "#### target variable study\n",
    "1. Continuous variable\n",
    "2. As we can see below, target variable is heavily skewed to the right. \n",
    "3. One thing we can do to make it normal is to apply log transform, as we can see in the right plot below"
   ]
  },
  {
   "cell_type": "code",
   "execution_count": 7,
   "metadata": {
    "tags": []
   },
   "outputs": [
    {
     "data": {
      "image/png": "[encoded data removed]",
      "text/plain": [
       "<Figure size 800x400 with 2 Axes>"
      ]
     },
     "metadata": {},
     "output_type": "display_data"
    }
   ],
   "source": [
    "target = train_df.SalePrice\n",
    "fig, ax = plt.subplots(ncols=2, figsize=(8, 4))\n",
    "ax[0].hist(target, bins=50)\n",
    "ax[1].hist(np.log1p(target), bins=50)\n",
    "ax[0].set_title(\"actual y\")\n",
    "ax[1].set_title(\"log transformed y\")\n",
    "plt.show()"
   ]
  },
  {
   "cell_type": "markdown",
   "metadata": {},
   "source": [
    "### prepare training dataset\n",
    "1. creating pipeline\n",
    "    1. imputing nulls\n",
    "        1. most_frequent for ordinal & categorical\n",
    "        2. mean for numerical columns\n",
    "    2. transform\n",
    "        1. categorical to one-hot-encoding\n",
    "        2. apply nomalization on numerical columns"
   ]
  },
  {
   "cell_type": "code",
   "execution_count": 8,
   "metadata": {
    "tags": []
   },
   "outputs": [],
   "source": [
    "def get_null_pct_df(df, threshold=None):\n",
    "    null_cols = df.columns[df.isnull().sum() != 0]\n",
    "    null_val_pct = df[null_cols].isnull().sum() * 100 / len(df)\n",
    "    null_val_pct = null_val_pct.sort_values(ascending=False)\n",
    "    null_val_pct = null_val_pct.to_frame().reset_index()\n",
    "    null_val_pct.columns = [\"feature_name\", \"null_pct\"]\n",
    "    null_val_pct[\"_type\"] = None\n",
    "    for idx, row in null_val_pct.iterrows():\n",
    "        feature_name =  row[\"feature_name\"]\n",
    "        if feature_name in ordinal_cols:\n",
    "            null_val_pct.loc[idx, \"_type\"] = \"ordinal\"\n",
    "        elif feature_name in num_cols:\n",
    "            null_val_pct.loc[idx, \"_type\"] = \"numeric\"\n",
    "        elif feature_name in cat_cols:\n",
    "            null_val_pct.loc[idx, \"_type\"] = \"categorical\"\n",
    "        elif feature_name in year_cols:\n",
    "            null_val_pct.loc[idx, \"_type\"] = \"year\"\n",
    "            \n",
    "    if threshold:\n",
    "        null_val_pct = null_val_pct[null_val_pct.null_pct < threshold]\n",
    "    return null_val_pct"
   ]
  },
  {
   "cell_type": "code",
   "execution_count": 9,
   "metadata": {
    "tags": []
   },
   "outputs": [
    {
     "data": {
      "image/png": "[encoded data removed]",
      "text/plain": [
       "<Figure size 640x480 with 1 Axes>"
      ]
     },
     "metadata": {},
     "output_type": "display_data"
    }
   ],
   "source": [
    "train_null_pct_df = get_null_pct_df(train_df)\n",
    "test_null_pct_df = get_null_pct_df(test_df, threshold=80)\n",
    "train_null_pct_df.plot(kind=\"bar\", x=\"feature_name\", y=\"null_pct\", title=\"Null percentage in train set\", legend=False)\n",
    "plt.show()"
   ]
  },
  {
   "cell_type": "code",
   "execution_count": 10,
   "metadata": {
    "tags": []
   },
   "outputs": [],
   "source": [
    "not_useful_cols = [\"Id\", \"SalePrice\"]\n",
    "\n",
    "ordinal_cols = [col for col in ordinal_cols if col not in not_useful_cols]\n",
    "num_cols = [col for col in num_cols if col not in not_useful_cols]\n",
    "cat_cols = [col for col in cat_cols if col not in not_useful_cols]\n",
    "year_cols = [col for col in year_cols if col not in not_useful_cols]\n",
    "\n",
    "useful_cols = ordinal_cols + num_cols + cat_cols + year_cols"
   ]
  },
  {
   "cell_type": "code",
   "execution_count": 11,
   "metadata": {
    "tags": []
   },
   "outputs": [],
   "source": [
    "from sklearn.preprocessing import OrdinalEncoder, RobustScaler, OneHotEncoder, FunctionTransformer\n",
    "from sklearn.impute import SimpleImputer\n",
    "from sklearn.base import BaseEstimator, TransformerMixin\n",
    "from sklearn.pipeline import Pipeline\n",
    "from sklearn.compose import ColumnTransformer"
   ]
  },
  {
   "cell_type": "code",
   "execution_count": 12,
   "metadata": {
    "tags": []
   },
   "outputs": [],
   "source": [
    "class ColumnSelector(BaseEstimator, TransformerMixin):\n",
    "    \n",
    "    def __init__(self, cols):\n",
    "        self.cols = cols\n",
    "    \n",
    "    def fit(self, X, y=None):\n",
    "        return self\n",
    "    \n",
    "    def transform(self, X, y=None):\n",
    "        return X[self.cols]"
   ]
  },
  {
   "cell_type": "code",
   "execution_count": 13,
   "metadata": {
    "tags": []
   },
   "outputs": [],
   "source": [
    "cat_pipe_cols = cat_cols\n",
    "cat_pipe = Pipeline([\n",
    "    (\"select_cols\", ColumnSelector(cat_pipe_cols)),\n",
    "    (\"impute\", SimpleImputer(strategy=\"most_frequent\")),\n",
    "    (\"dummies\", OneHotEncoder(handle_unknown=\"ignore\"))\n",
    "])\n",
    "\n",
    "num_pipe_cols = num_cols + year_cols  # we will apply same transformations to num & year columns\n",
    "num_pipe = Pipeline([\n",
    "    (\"select_cols\", ColumnSelector(num_pipe_cols)),\n",
    "    (\"impute\", SimpleImputer(strategy=\"mean\")),\n",
    "    (\"scale\", RobustScaler()),\n",
    "])\n",
    "\n",
    "ord_pipe_cols = ordinal_cols\n",
    "ord_pipe = Pipeline([\n",
    "    (\"select_cols\", ColumnSelector(ord_pipe_cols)),\n",
    "    (\"impute\", SimpleImputer(strategy=\"most_frequent\")),\n",
    "    (\"inorder\", OrdinalEncoder(handle_unknown=\"use_encoded_value\", unknown_value=-1)),\n",
    "])"
   ]
  },
  {
   "cell_type": "markdown",
   "metadata": {
    "execution": {
     "iopub.execute_input": "2022-09-08T16:25:25.413795Z",
     "iopub.status.busy": "2022-09-08T16:25:25.413336Z",
     "iopub.status.idle": "2022-09-08T16:25:25.441520Z",
     "shell.execute_reply": "2022-09-08T16:25:25.440202Z",
     "shell.execute_reply.started": "2022-09-08T16:25:25.413758Z"
    }
   },
   "source": [
    "### Model building"
   ]
  },
  {
   "cell_type": "code",
   "execution_count": 14,
   "metadata": {
    "tags": []
   },
   "outputs": [],
   "source": [
    "from sklearn.model_selection import KFold\n",
    "from sklearn.linear_model import LinearRegression\n",
    "from sklearn.ensemble import RandomForestRegressor\n",
    "from sklearn.metrics import mean_squared_error, mean_squared_log_error"
   ]
  },
  {
   "cell_type": "code",
   "execution_count": 15,
   "metadata": {
    "tags": []
   },
   "outputs": [
    {
     "data": {
      "text/plain": [
       "1    209\n",
       "0    209\n",
       "3    209\n",
       "2    209\n",
       "6    208\n",
       "4    208\n",
       "5    208\n",
       "Name: fold, dtype: int64"
      ]
     },
     "execution_count": 15,
     "metadata": {},
     "output_type": "execute_result"
    }
   ],
   "source": [
    "n_splits = 7\n",
    "train_df[\"fold\"] = None\n",
    "kfold = KFold(n_splits=n_splits, shuffle=True, random_state=13)\n",
    "for fold_no, (train_ix, test_ix) in enumerate(kfold.split(train_df)):\n",
    "    train_df.loc[test_ix, \"fold\"] = fold_no\n",
    "\n",
    "# save dataframes with folds for later use\n",
    "train_df.to_csv(dataset_path/\"train_with_folds.csv\", index=False)\n",
    "test_df.to_csv(dataset_path/\"test_with_folds.csv\", index=False)\n",
    "\n",
    "train_df.fold.value_counts()"
   ]
  },
  {
   "cell_type": "code",
   "execution_count": 16,
   "metadata": {
    "tags": []
   },
   "outputs": [
    {
     "name": "stdout",
     "output_type": "stream",
     "text": [
      "fold: 1; rmse: 0.1667\n",
      "fold: 2; rmse: 0.1636\n",
      "fold: 3; rmse: 0.1223\n",
      "fold: 4; rmse: 0.1359\n",
      "fold: 5; rmse: 0.1460\n",
      "fold: 6; rmse: 0.1296\n",
      "fold: 7; rmse: 0.1456\n",
      "\n",
      "Average fold score: 0.1442\n"
     ]
    }
   ],
   "source": [
    "fold_scores = []\n",
    "for fold in range(n_splits):\n",
    "    xtrain = train_df.loc[train_df.fold != fold, useful_cols]\n",
    "    xtest = train_df.loc[train_df.fold == fold, useful_cols]\n",
    "    ytrain = train_df.loc[train_df.fold != fold, \"SalePrice\"]\n",
    "    ytest = train_df.loc[train_df.fold == fold, \"SalePrice\"]\n",
    "    \n",
    "    feature_transformer = ColumnTransformer([\n",
    "                                    (\"cat\", cat_pipe, cat_cols),\n",
    "                                    (\"num\", num_pipe, num_cols + year_cols),\n",
    "                                    (\"ord\", ord_pipe, ordinal_cols),\n",
    "                                ])\n",
    "    \n",
    "    xtrain = feature_transformer.fit_transform(xtrain)\n",
    "    xtest = feature_transformer.transform(xtest)\n",
    "    \n",
    "    model = RandomForestRegressor(n_estimators=500, random_state=13)\n",
    "    model.fit(xtrain, ytrain)\n",
    "    ypreds = model.predict(xtest)\n",
    "    fold_rmse = mean_squared_log_error(ytest, ypreds, squared=False)\n",
    "    fold_scores.append(fold_rmse)\n",
    "    print(f\"fold: {fold+1}; rmse: {fold_rmse:.4f}\")\n",
    "\n",
    "print(f\"\\nAverage fold score: {np.mean(fold_scores):.4f}\")"
   ]
  },
  {
   "cell_type": "markdown",
   "metadata": {},
   "source": [
    "> Pretty good average score for a cross-validation. Lets go ahead and build model on the full dataset and submit"
   ]
  },
  {
   "cell_type": "code",
   "execution_count": 17,
   "metadata": {
    "tags": []
   },
   "outputs": [],
   "source": [
    "xtrain = feature_transformer.fit_transform(train_df[useful_cols])\n",
    "xtest = feature_transformer.transform(test_df[useful_cols])\n",
    "model = RandomForestRegressor(n_estimators=500, random_state=13)\n",
    "\n",
    "model.fit(xtrain, train_df.SalePrice)\n",
    "preds = model.predict(xtest)\n",
    "\n",
    "sample_subm_df[\"SalePrice\"] = preds\n",
    "\n",
    "sample_subm_df.to_csv(result_path/\"submission.csv\", index=False)"
   ]
  },
  {
   "cell_type": "markdown",
   "metadata": {},
   "source": [
    "> I got a score of \"0.14614\" on kaggle submission, which is okayish for a simple model without any feature engineering and model tuning. Lets dive into Act-II to perform these steps"
   ]
  }
 ],
 "metadata": {
  "kernelspec": {
   "display_name": "Python 3 (ipykernel)",
   "language": "python",
   "name": "python3"
  },
  "language_info": {
   "codemirror_mode": {
    "name": "ipython",
    "version": 3
   },
   "file_extension": ".py",
   "mimetype": "text/x-python",
   "name": "python",
   "nbconvert_exporter": "python",
   "pygments_lexer": "ipython3",
   "version": "3.10.4"
  },
  "toc-autonumbering": false,
  "toc-showcode": false,
  "toc-showmarkdowntxt": false,
  "toc-showtags": false,
  "vscode": {
   "interpreter": {
    "hash": "0230d8c58de4a83519dad700d573a709baa020ca76aac9fb80b365d3bd5f04b1"
   }
  }
 },
 "nbformat": 4,
 "nbformat_minor": 4
}
