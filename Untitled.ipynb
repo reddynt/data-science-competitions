{
 "cells": [
  {
   "cell_type": "code",
   "execution_count": 1,
   "id": "75989eaa",
   "metadata": {},
   "outputs": [],
   "source": [
    "import numpy as np"
   ]
  },
  {
   "cell_type": "code",
   "execution_count": 64,
   "id": "4198919c",
   "metadata": {},
   "outputs": [],
   "source": [
    "def step_gradient(x1, x2, y, m1, m2, c, lr):\n",
    "    n = len(x1)\n",
    "    loss_diff_m1 = 0\n",
    "    loss_diff_m2 = 0\n",
    "    loss_diff_c = 0\n",
    "    for i in range(n):\n",
    "        y_out = y[i]\n",
    "        x_out_1 = x1[i]\n",
    "        x_out_2 = x2[i]\n",
    "        \n",
    "        y_hat = m1 * x_out_1 + m2 * x_out_2 + c\n",
    "\n",
    "        loss_diff_m1 += (2 * (y_out - y_hat) * x_out_1) / n\n",
    "        loss_diff_m2 += (2 * (y_out - y_hat) * x_out_2) / n\n",
    "        loss_diff_c += (2 * (y_out - y_hat)) / n\n",
    "#         print(f\"loss: {(y_out - y_hat)*2/n}\")\n",
    "\n",
    "    # recalculate m & c\n",
    "    m1 = m1 - lr * (loss_diff_m1)\n",
    "    m2 = m2 - lr * (loss_diff_m2)\n",
    "    c = c - lr * (loss_diff_c)\n",
    "    return m1, m2, c"
   ]
  },
  {
   "cell_type": "code",
   "execution_count": 80,
   "id": "033be246",
   "metadata": {},
   "outputs": [
    {
     "name": "stdout",
     "output_type": "stream",
     "text": [
      "inital values, m1: 482.75; m2: -189.03; c: -352.88\n",
      "final values, m1: 482.75; m2: -189.03; c: -352.88\n"
     ]
    }
   ],
   "source": [
    "lr = 1e-1\n",
    "\n",
    "# equation\n",
    "x1 = np.random.randint(0, 100, 800)\n",
    "x2 = np.random.randint(-100, 0, 800)\n",
    "\n",
    "m1, m2, c = np.random.uniform(-500, 500, 3)\n",
    "y = [m1 * x1[i] + m2 * x2[i] + c for i in range(len(x1))]\n",
    "print(f\"inital values, m1: {m1:.2f}; m2: {m2:.2f}; c: {c:.2f}\")\n",
    "\n",
    "for i in range(10):\n",
    "    m1, m2, c = step_gradient(x1, x2, y, m1, m2, c, lr)\n",
    "#     print(f\"{m1:.2f}, {m2:.2f}, {c:.2f}\")\n",
    "\n",
    "print(f\"final values, m1: {m1:.2f}; m2: {m2:.2f}; c: {c:.2f}\")"
   ]
  },
  {
   "cell_type": "code",
   "execution_count": 393,
   "id": "357c5111",
   "metadata": {},
   "outputs": [],
   "source": [
    "import torch"
   ]
  },
  {
   "cell_type": "code",
   "execution_count": 397,
   "id": "27bb020b",
   "metadata": {},
   "outputs": [],
   "source": [
    "x = torch.tensor(3.5, requires_grad=True)"
   ]
  },
  {
   "cell_type": "code",
   "execution_count": 398,
   "id": "d9d660c4",
   "metadata": {},
   "outputs": [],
   "source": [
    "y = 3.5 * x**2 + 5."
   ]
  },
  {
   "cell_type": "code",
   "execution_count": 404,
   "id": "2fbb28f3",
   "metadata": {},
   "outputs": [],
   "source": [
    "y.backward()"
   ]
  },
  {
   "cell_type": "code",
   "execution_count": 405,
   "id": "bd90f0b6",
   "metadata": {},
   "outputs": [
    {
     "data": {
      "text/plain": [
       "tensor(24.5000)"
      ]
     },
     "execution_count": 405,
     "metadata": {},
     "output_type": "execute_result"
    }
   ],
   "source": [
    "x.grad"
   ]
  }
 ],
 "metadata": {
  "kernelspec": {
   "display_name": "Python 3 (ipykernel)",
   "language": "python",
   "name": "python3"
  },
  "language_info": {
   "codemirror_mode": {
    "name": "ipython",
    "version": 3
   },
   "file_extension": ".py",
   "mimetype": "text/x-python",
   "name": "python",
   "nbconvert_exporter": "python",
   "pygments_lexer": "ipython3",
   "version": "3.10.4"
  },
  "toc": {
   "base_numbering": 1,
   "nav_menu": {},
   "number_sections": true,
   "sideBar": true,
   "skip_h1_title": false,
   "title_cell": "Table of Contents",
   "title_sidebar": "Contents",
   "toc_cell": false,
   "toc_position": {},
   "toc_section_display": true,
   "toc_window_display": false
  }
 },
 "nbformat": 4,
 "nbformat_minor": 5
}
